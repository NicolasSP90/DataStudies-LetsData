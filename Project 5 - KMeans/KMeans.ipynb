{
 "cells": [
  {
   "cell_type": "markdown",
   "metadata": {},
   "source": [
    "<h1 style=\"color:cornflowerblue\">Objectives</h1>\n",
    "<p>For this case, consider that the current company is releasing a new vehicle (minivan), the company wants to get information on its best target public.</p>\n",
    "<p>This study aims on the segmentation of the clients database for personalized marketing campaigns.</p>\n",
    "<p>The segmentation seeks to obtain the \"desires and needs\" of these groups of customers.</p>\n",
    "<p>Also, checking the if the evaluation of the product is related do demographic information, and if so, what group of clients should be the target of this product.</p>\n"
   ]
  },
  {
   "cell_type": "markdown",
   "metadata": {},
   "source": [
    "<h1 style=\"color:cornflowerblue\">Importing Libraries</h1>"
   ]
  },
  {
   "cell_type": "code",
   "execution_count": 1,
   "metadata": {},
   "outputs": [],
   "source": [
    "# System\n",
    "import os\n",
    "\n",
    "# Data Manipulation\n",
    "import pandas as pd\n",
    "import numpy as np\n",
    "from sklearn.decomposition import PCA\n",
    "from sklearn.cluster import KMeans\n",
    "\n",
    "# Data Visualization\n",
    "import matplotlib.pyplot as plt\n",
    "import seaborn as sns\n",
    "import matplotlib.cm as cm\n",
    "import plotly.express as px"
   ]
  },
  {
   "cell_type": "code",
   "execution_count": 2,
   "metadata": {},
   "outputs": [],
   "source": [
    "# Configuring Pandas\n",
    "pd.set_option(\"display.max_rows\", None)\n",
    "pd.set_option(\"display.max_columns\", None)\n",
    "pd.set_option('display.float_format', lambda x: '%.2f' % x) # Cientific notation to float."
   ]
  },
  {
   "cell_type": "markdown",
   "metadata": {},
   "source": [
    "<h1 style=\"color:cornflowerblue\">Dataframe</h1>"
   ]
  },
  {
   "cell_type": "code",
   "execution_count": 3,
   "metadata": {},
   "outputs": [
    {
     "data": {
      "text/html": [
       "<div>\n",
       "<style scoped>\n",
       "    .dataframe tbody tr th:only-of-type {\n",
       "        vertical-align: middle;\n",
       "    }\n",
       "\n",
       "    .dataframe tbody tr th {\n",
       "        vertical-align: top;\n",
       "    }\n",
       "\n",
       "    .dataframe thead th {\n",
       "        text-align: right;\n",
       "    }\n",
       "</style>\n",
       "<table border=\"1\" class=\"dataframe\">\n",
       "  <thead>\n",
       "    <tr style=\"text-align: right;\">\n",
       "      <th></th>\n",
       "      <th>subjnumb</th>\n",
       "      <th>mvliking</th>\n",
       "      <th>kidtrans</th>\n",
       "      <th>miniboxy</th>\n",
       "      <th>lthrbetr</th>\n",
       "      <th>secbiggr</th>\n",
       "      <th>safeimpt</th>\n",
       "      <th>buyhghnd</th>\n",
       "      <th>pricqual</th>\n",
       "      <th>prmsound</th>\n",
       "      <th>perfimpt</th>\n",
       "      <th>tkvacatn</th>\n",
       "      <th>noparkrm</th>\n",
       "      <th>homlrgst</th>\n",
       "      <th>envrminr</th>\n",
       "      <th>needbetw</th>\n",
       "      <th>suvcmpct</th>\n",
       "      <th>next2str</th>\n",
       "      <th>carefmny</th>\n",
       "      <th>shdcarpl</th>\n",
       "      <th>imprtapp</th>\n",
       "      <th>lk4whldr</th>\n",
       "      <th>kidsbulk</th>\n",
       "      <th>wntguzlr</th>\n",
       "      <th>nordtrps</th>\n",
       "      <th>stylclth</th>\n",
       "      <th>strngwrn</th>\n",
       "      <th>passnimp</th>\n",
       "      <th>twoincom</th>\n",
       "      <th>nohummer</th>\n",
       "      <th>aftrschl</th>\n",
       "      <th>accesfun</th>\n",
       "      <th>age</th>\n",
       "      <th>income</th>\n",
       "      <th>miles</th>\n",
       "      <th>numkids</th>\n",
       "      <th>female</th>\n",
       "      <th>educ</th>\n",
       "      <th>recycle</th>\n",
       "    </tr>\n",
       "  </thead>\n",
       "  <tbody>\n",
       "    <tr>\n",
       "      <th>0</th>\n",
       "      <td>1</td>\n",
       "      <td>4</td>\n",
       "      <td>6</td>\n",
       "      <td>5</td>\n",
       "      <td>2</td>\n",
       "      <td>5</td>\n",
       "      <td>3</td>\n",
       "      <td>4</td>\n",
       "      <td>3</td>\n",
       "      <td>4</td>\n",
       "      <td>7</td>\n",
       "      <td>3</td>\n",
       "      <td>6</td>\n",
       "      <td>4</td>\n",
       "      <td>6</td>\n",
       "      <td>5</td>\n",
       "      <td>6</td>\n",
       "      <td>9</td>\n",
       "      <td>6</td>\n",
       "      <td>3</td>\n",
       "      <td>2</td>\n",
       "      <td>3</td>\n",
       "      <td>5</td>\n",
       "      <td>7</td>\n",
       "      <td>6</td>\n",
       "      <td>5</td>\n",
       "      <td>3</td>\n",
       "      <td>6</td>\n",
       "      <td>2</td>\n",
       "      <td>6</td>\n",
       "      <td>4</td>\n",
       "      <td>4</td>\n",
       "      <td>34</td>\n",
       "      <td>59</td>\n",
       "      <td>14</td>\n",
       "      <td>1</td>\n",
       "      <td>0</td>\n",
       "      <td>1</td>\n",
       "      <td>3</td>\n",
       "    </tr>\n",
       "    <tr>\n",
       "      <th>1</th>\n",
       "      <td>2</td>\n",
       "      <td>6</td>\n",
       "      <td>3</td>\n",
       "      <td>5</td>\n",
       "      <td>3</td>\n",
       "      <td>7</td>\n",
       "      <td>5</td>\n",
       "      <td>5</td>\n",
       "      <td>4</td>\n",
       "      <td>6</td>\n",
       "      <td>4</td>\n",
       "      <td>5</td>\n",
       "      <td>7</td>\n",
       "      <td>4</td>\n",
       "      <td>4</td>\n",
       "      <td>7</td>\n",
       "      <td>6</td>\n",
       "      <td>3</td>\n",
       "      <td>5</td>\n",
       "      <td>6</td>\n",
       "      <td>6</td>\n",
       "      <td>6</td>\n",
       "      <td>2</td>\n",
       "      <td>4</td>\n",
       "      <td>6</td>\n",
       "      <td>6</td>\n",
       "      <td>4</td>\n",
       "      <td>6</td>\n",
       "      <td>7</td>\n",
       "      <td>6</td>\n",
       "      <td>3</td>\n",
       "      <td>5</td>\n",
       "      <td>36</td>\n",
       "      <td>79</td>\n",
       "      <td>16</td>\n",
       "      <td>1</td>\n",
       "      <td>0</td>\n",
       "      <td>3</td>\n",
       "      <td>4</td>\n",
       "    </tr>\n",
       "    <tr>\n",
       "      <th>2</th>\n",
       "      <td>3</td>\n",
       "      <td>3</td>\n",
       "      <td>7</td>\n",
       "      <td>1</td>\n",
       "      <td>5</td>\n",
       "      <td>2</td>\n",
       "      <td>5</td>\n",
       "      <td>4</td>\n",
       "      <td>5</td>\n",
       "      <td>5</td>\n",
       "      <td>5</td>\n",
       "      <td>6</td>\n",
       "      <td>3</td>\n",
       "      <td>8</td>\n",
       "      <td>5</td>\n",
       "      <td>6</td>\n",
       "      <td>4</td>\n",
       "      <td>7</td>\n",
       "      <td>4</td>\n",
       "      <td>6</td>\n",
       "      <td>5</td>\n",
       "      <td>6</td>\n",
       "      <td>7</td>\n",
       "      <td>3</td>\n",
       "      <td>4</td>\n",
       "      <td>5</td>\n",
       "      <td>7</td>\n",
       "      <td>4</td>\n",
       "      <td>4</td>\n",
       "      <td>2</td>\n",
       "      <td>7</td>\n",
       "      <td>6</td>\n",
       "      <td>51</td>\n",
       "      <td>72</td>\n",
       "      <td>22</td>\n",
       "      <td>2</td>\n",
       "      <td>1</td>\n",
       "      <td>3</td>\n",
       "      <td>3</td>\n",
       "    </tr>\n",
       "    <tr>\n",
       "      <th>3</th>\n",
       "      <td>4</td>\n",
       "      <td>3</td>\n",
       "      <td>3</td>\n",
       "      <td>5</td>\n",
       "      <td>3</td>\n",
       "      <td>6</td>\n",
       "      <td>6</td>\n",
       "      <td>6</td>\n",
       "      <td>6</td>\n",
       "      <td>4</td>\n",
       "      <td>5</td>\n",
       "      <td>4</td>\n",
       "      <td>6</td>\n",
       "      <td>5</td>\n",
       "      <td>7</td>\n",
       "      <td>6</td>\n",
       "      <td>4</td>\n",
       "      <td>3</td>\n",
       "      <td>6</td>\n",
       "      <td>4</td>\n",
       "      <td>3</td>\n",
       "      <td>6</td>\n",
       "      <td>2</td>\n",
       "      <td>7</td>\n",
       "      <td>7</td>\n",
       "      <td>1</td>\n",
       "      <td>6</td>\n",
       "      <td>8</td>\n",
       "      <td>6</td>\n",
       "      <td>4</td>\n",
       "      <td>2</td>\n",
       "      <td>3</td>\n",
       "      <td>32</td>\n",
       "      <td>42</td>\n",
       "      <td>12</td>\n",
       "      <td>0</td>\n",
       "      <td>0</td>\n",
       "      <td>3</td>\n",
       "      <td>2</td>\n",
       "    </tr>\n",
       "    <tr>\n",
       "      <th>4</th>\n",
       "      <td>5</td>\n",
       "      <td>1</td>\n",
       "      <td>4</td>\n",
       "      <td>3</td>\n",
       "      <td>6</td>\n",
       "      <td>3</td>\n",
       "      <td>4</td>\n",
       "      <td>6</td>\n",
       "      <td>6</td>\n",
       "      <td>6</td>\n",
       "      <td>5</td>\n",
       "      <td>5</td>\n",
       "      <td>3</td>\n",
       "      <td>7</td>\n",
       "      <td>5</td>\n",
       "      <td>3</td>\n",
       "      <td>3</td>\n",
       "      <td>6</td>\n",
       "      <td>9</td>\n",
       "      <td>7</td>\n",
       "      <td>6</td>\n",
       "      <td>5</td>\n",
       "      <td>5</td>\n",
       "      <td>4</td>\n",
       "      <td>6</td>\n",
       "      <td>1</td>\n",
       "      <td>5</td>\n",
       "      <td>6</td>\n",
       "      <td>4</td>\n",
       "      <td>4</td>\n",
       "      <td>5</td>\n",
       "      <td>5</td>\n",
       "      <td>40</td>\n",
       "      <td>75</td>\n",
       "      <td>17</td>\n",
       "      <td>1</td>\n",
       "      <td>1</td>\n",
       "      <td>3</td>\n",
       "      <td>4</td>\n",
       "    </tr>\n",
       "  </tbody>\n",
       "</table>\n",
       "</div>"
      ],
      "text/plain": [
       "   subjnumb  mvliking  kidtrans  miniboxy  lthrbetr  secbiggr  safeimpt  \\\n",
       "0         1         4         6         5         2         5         3   \n",
       "1         2         6         3         5         3         7         5   \n",
       "2         3         3         7         1         5         2         5   \n",
       "3         4         3         3         5         3         6         6   \n",
       "4         5         1         4         3         6         3         4   \n",
       "\n",
       "   buyhghnd  pricqual  prmsound  perfimpt  tkvacatn  noparkrm  homlrgst  \\\n",
       "0         4         3         4         7         3         6         4   \n",
       "1         5         4         6         4         5         7         4   \n",
       "2         4         5         5         5         6         3         8   \n",
       "3         6         6         4         5         4         6         5   \n",
       "4         6         6         6         5         5         3         7   \n",
       "\n",
       "   envrminr  needbetw  suvcmpct  next2str  carefmny  shdcarpl  imprtapp  \\\n",
       "0         6         5         6         9         6         3         2   \n",
       "1         4         7         6         3         5         6         6   \n",
       "2         5         6         4         7         4         6         5   \n",
       "3         7         6         4         3         6         4         3   \n",
       "4         5         3         3         6         9         7         6   \n",
       "\n",
       "   lk4whldr  kidsbulk  wntguzlr  nordtrps  stylclth  strngwrn  passnimp  \\\n",
       "0         3         5         7         6         5         3         6   \n",
       "1         6         2         4         6         6         4         6   \n",
       "2         6         7         3         4         5         7         4   \n",
       "3         6         2         7         7         1         6         8   \n",
       "4         5         5         4         6         1         5         6   \n",
       "\n",
       "   twoincom  nohummer  aftrschl  accesfun  age  income  miles  numkids  \\\n",
       "0         2         6         4         4   34      59     14        1   \n",
       "1         7         6         3         5   36      79     16        1   \n",
       "2         4         2         7         6   51      72     22        2   \n",
       "3         6         4         2         3   32      42     12        0   \n",
       "4         4         4         5         5   40      75     17        1   \n",
       "\n",
       "   female  educ  recycle  \n",
       "0       0     1        3  \n",
       "1       0     3        4  \n",
       "2       1     3        3  \n",
       "3       0     3        2  \n",
       "4       1     3        4  "
      ]
     },
     "execution_count": 3,
     "metadata": {},
     "output_type": "execute_result"
    }
   ],
   "source": [
    "# Importing data\n",
    "df0 = pd.read_csv(\"./data/microvan.csv\")\n",
    "df0.head()"
   ]
  },
  {
   "cell_type": "code",
   "execution_count": 4,
   "metadata": {},
   "outputs": [
    {
     "data": {
      "text/plain": [
       "Index(['subjnumb', 'mvliking', 'kidtrans', 'miniboxy', 'lthrbetr', 'secbiggr',\n",
       "       'safeimpt', 'buyhghnd', 'pricqual', 'prmsound', 'perfimpt', 'tkvacatn',\n",
       "       'noparkrm', 'homlrgst', 'envrminr', 'needbetw', 'suvcmpct', 'next2str',\n",
       "       'carefmny', 'shdcarpl', 'imprtapp', 'lk4whldr', 'kidsbulk', 'wntguzlr',\n",
       "       'nordtrps', 'stylclth', 'strngwrn', 'passnimp', 'twoincom', 'nohummer',\n",
       "       'aftrschl', 'accesfun', 'age', 'income', 'miles', 'numkids', 'female',\n",
       "       'educ', 'recycle'],\n",
       "      dtype='object')"
      ]
     },
     "execution_count": 4,
     "metadata": {},
     "output_type": "execute_result"
    }
   ],
   "source": [
    "# Checking Columns\n",
    "df0.columns"
   ]
  },
  {
   "cell_type": "code",
   "execution_count": 5,
   "metadata": {},
   "outputs": [
    {
     "data": {
      "text/plain": [
       "(400, 39)"
      ]
     },
     "execution_count": 5,
     "metadata": {},
     "output_type": "execute_result"
    }
   ],
   "source": [
    "# Checking Dataframe shape\n",
    "df0.shape"
   ]
  },
  {
   "cell_type": "code",
   "execution_count": 6,
   "metadata": {},
   "outputs": [
    {
     "name": "stdout",
     "output_type": "stream",
     "text": [
      "subjnumb\n",
      "1      1\n",
      "264    1\n",
      "274    1\n",
      "273    1\n",
      "272    1\n",
      "271    1\n",
      "270    1\n",
      "269    1\n",
      "268    1\n",
      "267    1\n",
      "266    1\n",
      "265    1\n",
      "263    1\n",
      "2      1\n",
      "262    1\n",
      "261    1\n",
      "260    1\n",
      "259    1\n",
      "258    1\n",
      "257    1\n",
      "256    1\n",
      "255    1\n",
      "254    1\n",
      "253    1\n",
      "275    1\n",
      "276    1\n",
      "277    1\n",
      "278    1\n",
      "299    1\n",
      "298    1\n",
      "297    1\n",
      "296    1\n",
      "295    1\n",
      "294    1\n",
      "293    1\n",
      "292    1\n",
      "291    1\n",
      "290    1\n",
      "289    1\n",
      "288    1\n",
      "287    1\n",
      "286    1\n",
      "285    1\n",
      "284    1\n",
      "283    1\n",
      "282    1\n",
      "281    1\n",
      "280    1\n",
      "279    1\n",
      "252    1\n",
      "251    1\n",
      "250    1\n",
      "225    1\n",
      "223    1\n",
      "222    1\n",
      "221    1\n",
      "220    1\n",
      "219    1\n",
      "218    1\n",
      "217    1\n",
      "216    1\n",
      "215    1\n",
      "214    1\n",
      "213    1\n",
      "212    1\n",
      "211    1\n",
      "210    1\n",
      "209    1\n",
      "208    1\n",
      "207    1\n",
      "206    1\n",
      "205    1\n",
      "204    1\n",
      "203    1\n",
      "224    1\n",
      "226    1\n",
      "249    1\n",
      "227    1\n",
      "248    1\n",
      "247    1\n",
      "246    1\n",
      "245    1\n",
      "244    1\n",
      "243    1\n",
      "242    1\n",
      "241    1\n",
      "240    1\n",
      "239    1\n",
      "238    1\n",
      "237    1\n",
      "236    1\n",
      "235    1\n",
      "234    1\n",
      "233    1\n",
      "232    1\n",
      "231    1\n",
      "230    1\n",
      "229    1\n",
      "228    1\n",
      "300    1\n",
      "301    1\n",
      "302    1\n",
      "376    1\n",
      "374    1\n",
      "373    1\n",
      "372    1\n",
      "371    1\n",
      "370    1\n",
      "369    1\n",
      "368    1\n",
      "367    1\n",
      "366    1\n",
      "365    1\n",
      "364    1\n",
      "363    1\n",
      "362    1\n",
      "361    1\n",
      "360    1\n",
      "359    1\n",
      "358    1\n",
      "357    1\n",
      "356    1\n",
      "355    1\n",
      "354    1\n",
      "375    1\n",
      "377    1\n",
      "352    1\n",
      "378    1\n",
      "399    1\n",
      "398    1\n",
      "397    1\n",
      "396    1\n",
      "395    1\n",
      "394    1\n",
      "393    1\n",
      "392    1\n",
      "391    1\n",
      "390    1\n",
      "389    1\n",
      "388    1\n",
      "387    1\n",
      "386    1\n",
      "385    1\n",
      "384    1\n",
      "383    1\n",
      "382    1\n",
      "381    1\n",
      "380    1\n",
      "379    1\n",
      "353    1\n",
      "351    1\n",
      "303    1\n",
      "326    1\n",
      "324    1\n",
      "323    1\n",
      "322    1\n",
      "321    1\n",
      "320    1\n",
      "319    1\n",
      "318    1\n",
      "317    1\n",
      "316    1\n",
      "315    1\n",
      "314    1\n",
      "313    1\n",
      "312    1\n",
      "311    1\n",
      "310    1\n",
      "309    1\n",
      "308    1\n",
      "307    1\n",
      "306    1\n",
      "305    1\n",
      "304    1\n",
      "325    1\n",
      "327    1\n",
      "350    1\n",
      "328    1\n",
      "349    1\n",
      "348    1\n",
      "347    1\n",
      "346    1\n",
      "345    1\n",
      "344    1\n",
      "343    1\n",
      "342    1\n",
      "341    1\n",
      "340    1\n",
      "339    1\n",
      "338    1\n",
      "337    1\n",
      "336    1\n",
      "335    1\n",
      "334    1\n",
      "333    1\n",
      "332    1\n",
      "331    1\n",
      "330    1\n",
      "329    1\n",
      "202    1\n",
      "201    1\n",
      "200    1\n",
      "75     1\n",
      "73     1\n",
      "72     1\n",
      "71     1\n",
      "70     1\n",
      "69     1\n",
      "68     1\n",
      "67     1\n",
      "66     1\n",
      "65     1\n",
      "64     1\n",
      "63     1\n",
      "62     1\n",
      "61     1\n",
      "60     1\n",
      "59     1\n",
      "58     1\n",
      "57     1\n",
      "56     1\n",
      "55     1\n",
      "54     1\n",
      "53     1\n",
      "74     1\n",
      "76     1\n",
      "51     1\n",
      "77     1\n",
      "98     1\n",
      "97     1\n",
      "96     1\n",
      "95     1\n",
      "94     1\n",
      "93     1\n",
      "92     1\n",
      "91     1\n",
      "90     1\n",
      "89     1\n",
      "88     1\n",
      "87     1\n",
      "86     1\n",
      "85     1\n",
      "84     1\n",
      "83     1\n",
      "82     1\n",
      "81     1\n",
      "80     1\n",
      "79     1\n",
      "78     1\n",
      "52     1\n",
      "50     1\n",
      "100    1\n",
      "25     1\n",
      "23     1\n",
      "22     1\n",
      "21     1\n",
      "20     1\n",
      "19     1\n",
      "18     1\n",
      "17     1\n",
      "16     1\n",
      "15     1\n",
      "14     1\n",
      "13     1\n",
      "12     1\n",
      "11     1\n",
      "10     1\n",
      "9      1\n",
      "8      1\n",
      "7      1\n",
      "6      1\n",
      "5      1\n",
      "4      1\n",
      "3      1\n",
      "24     1\n",
      "26     1\n",
      "49     1\n",
      "27     1\n",
      "48     1\n",
      "47     1\n",
      "46     1\n",
      "45     1\n",
      "44     1\n",
      "43     1\n",
      "42     1\n",
      "41     1\n",
      "40     1\n",
      "39     1\n",
      "38     1\n",
      "37     1\n",
      "36     1\n",
      "35     1\n",
      "34     1\n",
      "33     1\n",
      "32     1\n",
      "31     1\n",
      "30     1\n",
      "29     1\n",
      "28     1\n",
      "99     1\n",
      "101    1\n",
      "199    1\n",
      "175    1\n",
      "173    1\n",
      "172    1\n",
      "171    1\n",
      "170    1\n",
      "169    1\n",
      "168    1\n",
      "167    1\n",
      "166    1\n",
      "165    1\n",
      "164    1\n",
      "163    1\n",
      "162    1\n",
      "161    1\n",
      "160    1\n",
      "159    1\n",
      "158    1\n",
      "157    1\n",
      "156    1\n",
      "155    1\n",
      "154    1\n",
      "153    1\n",
      "174    1\n",
      "176    1\n",
      "151    1\n",
      "177    1\n",
      "198    1\n",
      "197    1\n",
      "196    1\n",
      "195    1\n",
      "194    1\n",
      "193    1\n",
      "192    1\n",
      "191    1\n",
      "190    1\n",
      "189    1\n",
      "188    1\n",
      "187    1\n",
      "186    1\n",
      "185    1\n",
      "184    1\n",
      "183    1\n",
      "182    1\n",
      "181    1\n",
      "180    1\n",
      "179    1\n",
      "178    1\n",
      "152    1\n",
      "150    1\n",
      "102    1\n",
      "125    1\n",
      "123    1\n",
      "122    1\n",
      "121    1\n",
      "120    1\n",
      "119    1\n",
      "118    1\n",
      "117    1\n",
      "116    1\n",
      "115    1\n",
      "114    1\n",
      "113    1\n",
      "112    1\n",
      "111    1\n",
      "110    1\n",
      "109    1\n",
      "108    1\n",
      "107    1\n",
      "106    1\n",
      "105    1\n",
      "104    1\n",
      "103    1\n",
      "124    1\n",
      "126    1\n",
      "149    1\n",
      "127    1\n",
      "148    1\n",
      "147    1\n",
      "146    1\n",
      "145    1\n",
      "144    1\n",
      "143    1\n",
      "142    1\n",
      "141    1\n",
      "140    1\n",
      "139    1\n",
      "138    1\n",
      "137    1\n",
      "136    1\n",
      "135    1\n",
      "134    1\n",
      "133    1\n",
      "132    1\n",
      "131    1\n",
      "130    1\n",
      "129    1\n",
      "128    1\n",
      "400    1\n",
      "Name: count, dtype: int64\n",
      "\n",
      "\n",
      "mvliking\n",
      "1    69\n",
      "9    55\n",
      "5    52\n",
      "4    49\n",
      "6    42\n",
      "3    42\n",
      "7    33\n",
      "8    32\n",
      "2    26\n",
      "Name: count, dtype: int64\n",
      "\n",
      "\n",
      "kidtrans\n",
      "4    112\n",
      "5     89\n",
      "6     66\n",
      "3     53\n",
      "7     50\n",
      "2     13\n",
      "8      7\n",
      "9      5\n",
      "1      5\n",
      "Name: count, dtype: int64\n",
      "\n",
      "\n",
      "miniboxy\n",
      "4    106\n",
      "5     88\n",
      "3     73\n",
      "6     70\n",
      "7     35\n",
      "2     15\n",
      "8      5\n",
      "9      5\n",
      "1      3\n",
      "Name: count, dtype: int64\n",
      "\n",
      "\n",
      "lthrbetr\n",
      "5    108\n",
      "4     81\n",
      "3     71\n",
      "6     67\n",
      "2     55\n",
      "9      5\n",
      "8      5\n",
      "1      5\n",
      "7      3\n",
      "Name: count, dtype: int64\n",
      "\n",
      "\n",
      "secbiggr\n",
      "6    108\n",
      "5     92\n",
      "4     66\n",
      "7     57\n",
      "3     46\n",
      "8     15\n",
      "2      6\n",
      "9      5\n",
      "1      5\n",
      "Name: count, dtype: int64\n",
      "\n",
      "\n",
      "safeimpt\n",
      "5    99\n",
      "4    96\n",
      "6    87\n",
      "3    46\n",
      "7    33\n",
      "8    20\n",
      "2    10\n",
      "9     5\n",
      "1     4\n",
      "Name: count, dtype: int64\n",
      "\n",
      "\n",
      "buyhghnd\n",
      "6    102\n",
      "5     86\n",
      "4     81\n",
      "7     59\n",
      "3     31\n",
      "8     21\n",
      "2     10\n",
      "9      5\n",
      "1      5\n",
      "Name: count, dtype: int64\n",
      "\n",
      "\n",
      "pricqual\n",
      "4    98\n",
      "5    94\n",
      "6    82\n",
      "7    47\n",
      "3    46\n",
      "2    12\n",
      "8    11\n",
      "9     5\n",
      "1     5\n",
      "Name: count, dtype: int64\n",
      "\n",
      "\n",
      "prmsound\n",
      "5    103\n",
      "6     87\n",
      "4     77\n",
      "3     68\n",
      "7     31\n",
      "2     20\n",
      "9      5\n",
      "1      5\n",
      "8      4\n",
      "Name: count, dtype: int64\n",
      "\n",
      "\n",
      "perfimpt\n",
      "5    105\n",
      "4     93\n",
      "6     92\n",
      "3     41\n",
      "7     29\n",
      "8     19\n",
      "2     12\n",
      "9      5\n",
      "1      4\n",
      "Name: count, dtype: int64\n",
      "\n",
      "\n",
      "tkvacatn\n",
      "5    104\n",
      "4     80\n",
      "6     77\n",
      "3     71\n",
      "2     40\n",
      "7     13\n",
      "9      5\n",
      "1      5\n",
      "8      5\n",
      "Name: count, dtype: int64\n",
      "\n",
      "\n",
      "noparkrm\n",
      "4    105\n",
      "3     86\n",
      "5     76\n",
      "6     68\n",
      "7     36\n",
      "2     15\n",
      "9      5\n",
      "1      5\n",
      "8      4\n",
      "Name: count, dtype: int64\n",
      "\n",
      "\n",
      "homlrgst\n",
      "5    134\n",
      "4     70\n",
      "7     66\n",
      "6     66\n",
      "8     34\n",
      "3     13\n",
      "9      7\n",
      "2      5\n",
      "1      5\n",
      "Name: count, dtype: int64\n",
      "\n",
      "\n",
      "envrminr\n",
      "5    104\n",
      "6     93\n",
      "7     75\n",
      "4     59\n",
      "8     28\n",
      "3     24\n",
      "9      7\n",
      "1      5\n",
      "2      5\n",
      "Name: count, dtype: int64\n",
      "\n",
      "\n",
      "needbetw\n",
      "5    98\n",
      "4    89\n",
      "6    77\n",
      "3    56\n",
      "7    44\n",
      "8    15\n",
      "2    11\n",
      "1     5\n",
      "9     5\n",
      "Name: count, dtype: int64\n",
      "\n",
      "\n",
      "suvcmpct\n",
      "4    106\n",
      "5     98\n",
      "6     64\n",
      "3     61\n",
      "7     40\n",
      "2     11\n",
      "8     10\n",
      "1      5\n",
      "9      5\n",
      "Name: count, dtype: int64\n",
      "\n",
      "\n",
      "next2str\n",
      "4    112\n",
      "3     84\n",
      "5     75\n",
      "6     53\n",
      "7     38\n",
      "2     23\n",
      "9      5\n",
      "1      5\n",
      "8      5\n",
      "Name: count, dtype: int64\n",
      "\n",
      "\n",
      "carefmny\n",
      "4    116\n",
      "5     82\n",
      "7     82\n",
      "6     64\n",
      "3     26\n",
      "8     15\n",
      "9      5\n",
      "1      5\n",
      "2      5\n",
      "Name: count, dtype: int64\n",
      "\n",
      "\n",
      "shdcarpl\n",
      "5    104\n",
      "6     97\n",
      "4     78\n",
      "7     51\n",
      "3     33\n",
      "8     16\n",
      "2     11\n",
      "1      5\n",
      "9      5\n",
      "Name: count, dtype: int64\n",
      "\n",
      "\n",
      "imprtapp\n",
      "5    107\n",
      "6     82\n",
      "4     81\n",
      "3     68\n",
      "2     30\n",
      "7     17\n",
      "8      5\n",
      "9      5\n",
      "1      5\n",
      "Name: count, dtype: int64\n",
      "\n",
      "\n",
      "lk4whldr\n",
      "5    117\n",
      "6    103\n",
      "4     67\n",
      "7     47\n",
      "3     30\n",
      "8     17\n",
      "2      9\n",
      "1      5\n",
      "9      5\n",
      "Name: count, dtype: int64\n",
      "\n",
      "\n",
      "kidsbulk\n",
      "4    123\n",
      "5     81\n",
      "3     71\n",
      "6     60\n",
      "7     26\n",
      "2     25\n",
      "9      5\n",
      "8      5\n",
      "1      4\n",
      "Name: count, dtype: int64\n",
      "\n",
      "\n",
      "wntguzlr\n",
      "5    99\n",
      "6    92\n",
      "4    86\n",
      "7    46\n",
      "3    43\n",
      "8    14\n",
      "2    10\n",
      "1     5\n",
      "9     5\n",
      "Name: count, dtype: int64\n",
      "\n",
      "\n",
      "nordtrps\n",
      "5    107\n",
      "6     97\n",
      "4     65\n",
      "7     64\n",
      "3     34\n",
      "8     16\n",
      "9      6\n",
      "2      6\n",
      "1      5\n",
      "Name: count, dtype: int64\n",
      "\n",
      "\n",
      "stylclth\n",
      "5    98\n",
      "6    91\n",
      "7    70\n",
      "4    69\n",
      "3    36\n",
      "8    21\n",
      "1     5\n",
      "2     5\n",
      "9     5\n",
      "Name: count, dtype: int64\n",
      "\n",
      "\n",
      "strngwrn\n",
      "5    115\n",
      "6     87\n",
      "4     72\n",
      "7     48\n",
      "3     44\n",
      "2     13\n",
      "8     11\n",
      "1      5\n",
      "9      5\n",
      "Name: count, dtype: int64\n",
      "\n",
      "\n",
      "passnimp\n",
      "5    102\n",
      "6     91\n",
      "7     82\n",
      "4     63\n",
      "8     29\n",
      "3     15\n",
      "9      8\n",
      "2      5\n",
      "1      5\n",
      "Name: count, dtype: int64\n",
      "\n",
      "\n",
      "twoincom\n",
      "5    99\n",
      "6    91\n",
      "4    83\n",
      "3    49\n",
      "7    33\n",
      "2    22\n",
      "8    13\n",
      "1     5\n",
      "9     5\n",
      "Name: count, dtype: int64\n",
      "\n",
      "\n",
      "nohummer\n",
      "5    108\n",
      "4     86\n",
      "6     69\n",
      "3     59\n",
      "7     39\n",
      "2     16\n",
      "8     14\n",
      "9      5\n",
      "1      4\n",
      "Name: count, dtype: int64\n",
      "\n",
      "\n",
      "aftrschl\n",
      "4    104\n",
      "3     95\n",
      "5     80\n",
      "6     59\n",
      "2     24\n",
      "7     23\n",
      "1      5\n",
      "9      5\n",
      "8      5\n",
      "Name: count, dtype: int64\n",
      "\n",
      "\n",
      "accesfun\n",
      "5    103\n",
      "6    102\n",
      "3     83\n",
      "4     56\n",
      "2     24\n",
      "7     17\n",
      "8      5\n",
      "1      5\n",
      "9      5\n",
      "Name: count, dtype: int64\n",
      "\n",
      "\n",
      "age\n",
      "46    23\n",
      "43    22\n",
      "37    19\n",
      "36    19\n",
      "41    18\n",
      "35    17\n",
      "47    17\n",
      "44    15\n",
      "39    14\n",
      "30    14\n",
      "31    13\n",
      "38    13\n",
      "42    13\n",
      "28    13\n",
      "50    13\n",
      "40    12\n",
      "32    12\n",
      "45    12\n",
      "52    11\n",
      "48    11\n",
      "53    10\n",
      "33     9\n",
      "34     9\n",
      "29     9\n",
      "27     6\n",
      "23     6\n",
      "51     6\n",
      "26     6\n",
      "55     6\n",
      "49     6\n",
      "54     5\n",
      "56     5\n",
      "24     5\n",
      "58     2\n",
      "25     2\n",
      "57     2\n",
      "60     2\n",
      "22     1\n",
      "19     1\n",
      "21     1\n",
      "Name: count, dtype: int64\n",
      "\n",
      "\n",
      "income\n",
      "31     9\n",
      "22     9\n",
      "24     8\n",
      "80     8\n",
      "70     8\n",
      "27     8\n",
      "35     7\n",
      "32     7\n",
      "26     6\n",
      "49     6\n",
      "21     6\n",
      "61     6\n",
      "73     6\n",
      "29     6\n",
      "38     6\n",
      "41     5\n",
      "36     5\n",
      "59     5\n",
      "23     5\n",
      "39     5\n",
      "47     5\n",
      "78     5\n",
      "53     5\n",
      "51     4\n",
      "72     4\n",
      "37     4\n",
      "40     4\n",
      "125    4\n",
      "77     4\n",
      "42     4\n",
      "30     4\n",
      "68     4\n",
      "66     4\n",
      "93     4\n",
      "34     4\n",
      "46     4\n",
      "55     4\n",
      "113    4\n",
      "100    4\n",
      "25     3\n",
      "69     3\n",
      "105    3\n",
      "89     3\n",
      "86     3\n",
      "96     3\n",
      "82     3\n",
      "45     3\n",
      "79     3\n",
      "81     3\n",
      "18     3\n",
      "92     3\n",
      "44     3\n",
      "128    3\n",
      "104    3\n",
      "50     3\n",
      "28     3\n",
      "124    3\n",
      "58     3\n",
      "142    3\n",
      "57     3\n",
      "33     3\n",
      "122    3\n",
      "48     3\n",
      "108    3\n",
      "138    3\n",
      "83     3\n",
      "112    3\n",
      "52     3\n",
      "102    2\n",
      "43     2\n",
      "15     2\n",
      "120    2\n",
      "56     2\n",
      "158    2\n",
      "131    2\n",
      "84     2\n",
      "19     2\n",
      "71     2\n",
      "98     2\n",
      "133    2\n",
      "126    2\n",
      "111    2\n",
      "65     2\n",
      "129    2\n",
      "20     2\n",
      "63     2\n",
      "110    2\n",
      "75     2\n",
      "147    2\n",
      "62     2\n",
      "91     2\n",
      "64     2\n",
      "97     2\n",
      "109    2\n",
      "74     2\n",
      "88     2\n",
      "130    2\n",
      "87     2\n",
      "60     2\n",
      "67     2\n",
      "164    2\n",
      "117    1\n",
      "171    1\n",
      "167    1\n",
      "132    1\n",
      "85     1\n",
      "101    1\n",
      "115    1\n",
      "143    1\n",
      "107    1\n",
      "139    1\n",
      "186    1\n",
      "95     1\n",
      "152    1\n",
      "94     1\n",
      "90     1\n",
      "170    1\n",
      "17     1\n",
      "168    1\n",
      "229    1\n",
      "121    1\n",
      "273    1\n",
      "134    1\n",
      "181    1\n",
      "103    1\n",
      "140    1\n",
      "76     1\n",
      "189    1\n",
      "99     1\n",
      "54     1\n",
      "226    1\n",
      "123    1\n",
      "214    1\n",
      "166    1\n",
      "119    1\n",
      "136    1\n",
      "200    1\n",
      "236    1\n",
      "Name: count, dtype: int64\n",
      "\n",
      "\n",
      "miles\n",
      "16    38\n",
      "18    38\n",
      "17    36\n",
      "20    28\n",
      "13    27\n",
      "21    25\n",
      "22    23\n",
      "15    23\n",
      "14    21\n",
      "19    20\n",
      "23    17\n",
      "12    16\n",
      "24    15\n",
      "11    10\n",
      "25    10\n",
      "26     9\n",
      "27     8\n",
      "9      7\n",
      "10     7\n",
      "28     6\n",
      "29     5\n",
      "8      5\n",
      "7      3\n",
      "30     2\n",
      "32     1\n",
      "Name: count, dtype: int64\n",
      "\n",
      "\n",
      "numkids\n",
      "1    148\n",
      "0    116\n",
      "2     84\n",
      "3     36\n",
      "4     16\n",
      "Name: count, dtype: int64\n",
      "\n",
      "\n",
      "female\n",
      "1    216\n",
      "0    184\n",
      "Name: count, dtype: int64\n",
      "\n",
      "\n",
      "educ\n",
      "3    170\n",
      "4     98\n",
      "2     88\n",
      "1     44\n",
      "Name: count, dtype: int64\n",
      "\n",
      "\n",
      "recycle\n",
      "3    124\n",
      "4     96\n",
      "2     88\n",
      "5     48\n",
      "1     44\n",
      "Name: count, dtype: int64\n",
      "\n",
      "\n"
     ]
    }
   ],
   "source": [
    "for i in df0.columns:\n",
    "    print(df0[i].value_counts(dropna=False))\n",
    "    print(\"\\n\")"
   ]
  },
  {
   "cell_type": "markdown",
   "metadata": {},
   "source": [
    "<h2 style=\"color:cornflowerblue\">Columns and Stored Data</h2>\n",
    "<p>The Dataframe is based on the answers of possible clients on the concept of a new product.</p>\n",
    "<p>The subjnumb columns refers to the subjected answer and will become the index of the dataframe;</p>\n",
    "<p>Except for the demographic columns (age, income, miles, numkids, female, educ and recycle), they all are ordinal answers from 1 to 9. For the sake of understanding what each column represents, a dictionary of values will be created.</p>"
   ]
  },
  {
   "cell_type": "code",
   "execution_count": 7,
   "metadata": {},
   "outputs": [],
   "source": [
    "# Dictionary of data\n",
    "data_dict = {\n",
    "    \"subjnumb\": \"Respondee Identifier\",\n",
    "    \"mvliking\": \"General evaluation of the product concept. From 1 to 9\",\n",
    "    \"kidtrans\": \"Evaluation of the need to transport kids. From 1 to 9\",\n",
    "    \"miniboxy\": \"Evaluation of space and design. From 1 to 9\",\n",
    "    \"lthrbetr\": \"Evaluation of leather over cloth materials. From 1 to 9\",\n",
    "    \"secbiggr\": \"Evaluation of the need of vehicle bigger than a regular SUV. From 1 to 9\",\n",
    "    \"safeimpt\": \"Evaluation of the importance of safety. From 1 to 9\",\n",
    "    \"buyhghnd\": \"Evaluation of the need of more sophisticated vehicle. From 1 to 9\",\n",
    "    \"pricqual\": \"Evaluation of price on quality. From 1 to 9\",\n",
    "    \"prmsound\": \"Evaluation of the need of premmium sound/entertainment systems on cars. From 1 to 9\",\n",
    "    \"perfimpt\": \"Evaluation of the performance impact. From 1 to 9\",\n",
    "    \"tkvacatn\": \"Evaluation of importance of vacations. From 1 to 9\",\n",
    "    \"noparkrm\": \"Evaluation of residential area for parking. From 1 to 9\",\n",
    "    \"homlrgst\": \"Evaluation of how big the house is in the neighborhood. From 1 to 9\",\n",
    "    \"envrminr\": \"Evaluation of lesser enviromental impact of vehicles. From 1 to 9\",\n",
    "    \"needbetw\": \"Evaluation of the need for something between SUV and Minivan. From 1 to 9\",\n",
    "    \"suvcmpct\": \"Evaluation of how much better SUVs are from Minivans. From 1 to 9\",\n",
    "    \"next2str\": \"Evaluation of those that want their next car with only 2 seats. From 1 to 9\",\n",
    "    \"carefmny\": \"Evaluation of how careful with spending money. From 1 to 9\",\n",
    "    \"shdcarpl\": \"Evaluation of how much public transportation or lifts should be used. From 1 to 9\",\n",
    "    \"imprtapp\": \"Evaluation of the number of imported products. From 1 to 9\",\n",
    "    \"lk4whldr\": \"Evaluation of the desire for 4x4. From 1 to 9\",\n",
    "    \"kidsbulk\": \"Evaluation of the necessity of carrying volume. From 1 to 9\",\n",
    "    \"wntguzlr\": \"Evaluation of how much is bought out of desire. From 1 to 9\",\n",
    "    \"nordtrps\": \"Evaluation of how often family trips are made. From 1 to 9\",\n",
    "    \"stylclth\": \"Evaluation of how great the expenses with cloths are. From 1 to 9\",\n",
    "    \"strngwrn\": \"Evaluation of guarantee, with a new car. From 1 to 9\",\n",
    "    \"passnimp\": \"Evaluation of passion for the job is greater than the paycheck. From 1 to 9\",\n",
    "    \"twoincom\": \"Evaluation of the necessity of more than 1 sorce of income. From 1 to 9\",\n",
    "    \"nohummer\": \"Evaluation of not interested in SUV. From 1 to 9\",\n",
    "    \"aftrschl\": \"Evaluation of after school activities. From 1 to 9\",\n",
    "    \"accesfun\": \"Evaluation of the importance of accessories . From 1 to 9\",\n",
    "    \"age\": \"Age of the respondent\",\n",
    "    \"income\": \"Annual family income\",\n",
    "    \"miles\": \"Annual miles driven\",\n",
    "    \"numkids\": \"Number of children in the house (0-18 years)\",\n",
    "    \"female\": \"If is female (0:No, 1:Yes)\",\n",
    "    \"educ\": \"Educational level: 1=High School, 2=University, 3=Graduation, 4=Post-Graduation\",\n",
    "    \"recycle\": \"Average recycling (1=Much Less, 2=Little Less, 3=Average, 4=Littel More, 5=Lot More)\"\n",
    "}"
   ]
  },
  {
   "cell_type": "code",
   "execution_count": 8,
   "metadata": {},
   "outputs": [
    {
     "data": {
      "text/html": [
       "<div>\n",
       "<style scoped>\n",
       "    .dataframe tbody tr th:only-of-type {\n",
       "        vertical-align: middle;\n",
       "    }\n",
       "\n",
       "    .dataframe tbody tr th {\n",
       "        vertical-align: top;\n",
       "    }\n",
       "\n",
       "    .dataframe thead th {\n",
       "        text-align: right;\n",
       "    }\n",
       "</style>\n",
       "<table border=\"1\" class=\"dataframe\">\n",
       "  <thead>\n",
       "    <tr style=\"text-align: right;\">\n",
       "      <th></th>\n",
       "      <th>mvliking</th>\n",
       "      <th>kidtrans</th>\n",
       "      <th>miniboxy</th>\n",
       "      <th>lthrbetr</th>\n",
       "      <th>secbiggr</th>\n",
       "      <th>safeimpt</th>\n",
       "      <th>buyhghnd</th>\n",
       "      <th>pricqual</th>\n",
       "      <th>prmsound</th>\n",
       "      <th>perfimpt</th>\n",
       "      <th>tkvacatn</th>\n",
       "      <th>noparkrm</th>\n",
       "      <th>homlrgst</th>\n",
       "      <th>envrminr</th>\n",
       "      <th>needbetw</th>\n",
       "      <th>suvcmpct</th>\n",
       "      <th>next2str</th>\n",
       "      <th>carefmny</th>\n",
       "      <th>shdcarpl</th>\n",
       "      <th>imprtapp</th>\n",
       "      <th>lk4whldr</th>\n",
       "      <th>kidsbulk</th>\n",
       "      <th>wntguzlr</th>\n",
       "      <th>nordtrps</th>\n",
       "      <th>stylclth</th>\n",
       "      <th>strngwrn</th>\n",
       "      <th>passnimp</th>\n",
       "      <th>twoincom</th>\n",
       "      <th>nohummer</th>\n",
       "      <th>aftrschl</th>\n",
       "      <th>accesfun</th>\n",
       "      <th>age</th>\n",
       "      <th>income</th>\n",
       "      <th>miles</th>\n",
       "      <th>numkids</th>\n",
       "      <th>female</th>\n",
       "      <th>educ</th>\n",
       "      <th>recycle</th>\n",
       "    </tr>\n",
       "    <tr>\n",
       "      <th>subjnumb</th>\n",
       "      <th></th>\n",
       "      <th></th>\n",
       "      <th></th>\n",
       "      <th></th>\n",
       "      <th></th>\n",
       "      <th></th>\n",
       "      <th></th>\n",
       "      <th></th>\n",
       "      <th></th>\n",
       "      <th></th>\n",
       "      <th></th>\n",
       "      <th></th>\n",
       "      <th></th>\n",
       "      <th></th>\n",
       "      <th></th>\n",
       "      <th></th>\n",
       "      <th></th>\n",
       "      <th></th>\n",
       "      <th></th>\n",
       "      <th></th>\n",
       "      <th></th>\n",
       "      <th></th>\n",
       "      <th></th>\n",
       "      <th></th>\n",
       "      <th></th>\n",
       "      <th></th>\n",
       "      <th></th>\n",
       "      <th></th>\n",
       "      <th></th>\n",
       "      <th></th>\n",
       "      <th></th>\n",
       "      <th></th>\n",
       "      <th></th>\n",
       "      <th></th>\n",
       "      <th></th>\n",
       "      <th></th>\n",
       "      <th></th>\n",
       "      <th></th>\n",
       "    </tr>\n",
       "  </thead>\n",
       "  <tbody>\n",
       "    <tr>\n",
       "      <th>1</th>\n",
       "      <td>4</td>\n",
       "      <td>6</td>\n",
       "      <td>5</td>\n",
       "      <td>2</td>\n",
       "      <td>5</td>\n",
       "      <td>3</td>\n",
       "      <td>4</td>\n",
       "      <td>3</td>\n",
       "      <td>4</td>\n",
       "      <td>7</td>\n",
       "      <td>3</td>\n",
       "      <td>6</td>\n",
       "      <td>4</td>\n",
       "      <td>6</td>\n",
       "      <td>5</td>\n",
       "      <td>6</td>\n",
       "      <td>9</td>\n",
       "      <td>6</td>\n",
       "      <td>3</td>\n",
       "      <td>2</td>\n",
       "      <td>3</td>\n",
       "      <td>5</td>\n",
       "      <td>7</td>\n",
       "      <td>6</td>\n",
       "      <td>5</td>\n",
       "      <td>3</td>\n",
       "      <td>6</td>\n",
       "      <td>2</td>\n",
       "      <td>6</td>\n",
       "      <td>4</td>\n",
       "      <td>4</td>\n",
       "      <td>34</td>\n",
       "      <td>59</td>\n",
       "      <td>14</td>\n",
       "      <td>1</td>\n",
       "      <td>0</td>\n",
       "      <td>1</td>\n",
       "      <td>3</td>\n",
       "    </tr>\n",
       "    <tr>\n",
       "      <th>2</th>\n",
       "      <td>6</td>\n",
       "      <td>3</td>\n",
       "      <td>5</td>\n",
       "      <td>3</td>\n",
       "      <td>7</td>\n",
       "      <td>5</td>\n",
       "      <td>5</td>\n",
       "      <td>4</td>\n",
       "      <td>6</td>\n",
       "      <td>4</td>\n",
       "      <td>5</td>\n",
       "      <td>7</td>\n",
       "      <td>4</td>\n",
       "      <td>4</td>\n",
       "      <td>7</td>\n",
       "      <td>6</td>\n",
       "      <td>3</td>\n",
       "      <td>5</td>\n",
       "      <td>6</td>\n",
       "      <td>6</td>\n",
       "      <td>6</td>\n",
       "      <td>2</td>\n",
       "      <td>4</td>\n",
       "      <td>6</td>\n",
       "      <td>6</td>\n",
       "      <td>4</td>\n",
       "      <td>6</td>\n",
       "      <td>7</td>\n",
       "      <td>6</td>\n",
       "      <td>3</td>\n",
       "      <td>5</td>\n",
       "      <td>36</td>\n",
       "      <td>79</td>\n",
       "      <td>16</td>\n",
       "      <td>1</td>\n",
       "      <td>0</td>\n",
       "      <td>3</td>\n",
       "      <td>4</td>\n",
       "    </tr>\n",
       "    <tr>\n",
       "      <th>3</th>\n",
       "      <td>3</td>\n",
       "      <td>7</td>\n",
       "      <td>1</td>\n",
       "      <td>5</td>\n",
       "      <td>2</td>\n",
       "      <td>5</td>\n",
       "      <td>4</td>\n",
       "      <td>5</td>\n",
       "      <td>5</td>\n",
       "      <td>5</td>\n",
       "      <td>6</td>\n",
       "      <td>3</td>\n",
       "      <td>8</td>\n",
       "      <td>5</td>\n",
       "      <td>6</td>\n",
       "      <td>4</td>\n",
       "      <td>7</td>\n",
       "      <td>4</td>\n",
       "      <td>6</td>\n",
       "      <td>5</td>\n",
       "      <td>6</td>\n",
       "      <td>7</td>\n",
       "      <td>3</td>\n",
       "      <td>4</td>\n",
       "      <td>5</td>\n",
       "      <td>7</td>\n",
       "      <td>4</td>\n",
       "      <td>4</td>\n",
       "      <td>2</td>\n",
       "      <td>7</td>\n",
       "      <td>6</td>\n",
       "      <td>51</td>\n",
       "      <td>72</td>\n",
       "      <td>22</td>\n",
       "      <td>2</td>\n",
       "      <td>1</td>\n",
       "      <td>3</td>\n",
       "      <td>3</td>\n",
       "    </tr>\n",
       "    <tr>\n",
       "      <th>4</th>\n",
       "      <td>3</td>\n",
       "      <td>3</td>\n",
       "      <td>5</td>\n",
       "      <td>3</td>\n",
       "      <td>6</td>\n",
       "      <td>6</td>\n",
       "      <td>6</td>\n",
       "      <td>6</td>\n",
       "      <td>4</td>\n",
       "      <td>5</td>\n",
       "      <td>4</td>\n",
       "      <td>6</td>\n",
       "      <td>5</td>\n",
       "      <td>7</td>\n",
       "      <td>6</td>\n",
       "      <td>4</td>\n",
       "      <td>3</td>\n",
       "      <td>6</td>\n",
       "      <td>4</td>\n",
       "      <td>3</td>\n",
       "      <td>6</td>\n",
       "      <td>2</td>\n",
       "      <td>7</td>\n",
       "      <td>7</td>\n",
       "      <td>1</td>\n",
       "      <td>6</td>\n",
       "      <td>8</td>\n",
       "      <td>6</td>\n",
       "      <td>4</td>\n",
       "      <td>2</td>\n",
       "      <td>3</td>\n",
       "      <td>32</td>\n",
       "      <td>42</td>\n",
       "      <td>12</td>\n",
       "      <td>0</td>\n",
       "      <td>0</td>\n",
       "      <td>3</td>\n",
       "      <td>2</td>\n",
       "    </tr>\n",
       "    <tr>\n",
       "      <th>5</th>\n",
       "      <td>1</td>\n",
       "      <td>4</td>\n",
       "      <td>3</td>\n",
       "      <td>6</td>\n",
       "      <td>3</td>\n",
       "      <td>4</td>\n",
       "      <td>6</td>\n",
       "      <td>6</td>\n",
       "      <td>6</td>\n",
       "      <td>5</td>\n",
       "      <td>5</td>\n",
       "      <td>3</td>\n",
       "      <td>7</td>\n",
       "      <td>5</td>\n",
       "      <td>3</td>\n",
       "      <td>3</td>\n",
       "      <td>6</td>\n",
       "      <td>9</td>\n",
       "      <td>7</td>\n",
       "      <td>6</td>\n",
       "      <td>5</td>\n",
       "      <td>5</td>\n",
       "      <td>4</td>\n",
       "      <td>6</td>\n",
       "      <td>1</td>\n",
       "      <td>5</td>\n",
       "      <td>6</td>\n",
       "      <td>4</td>\n",
       "      <td>4</td>\n",
       "      <td>5</td>\n",
       "      <td>5</td>\n",
       "      <td>40</td>\n",
       "      <td>75</td>\n",
       "      <td>17</td>\n",
       "      <td>1</td>\n",
       "      <td>1</td>\n",
       "      <td>3</td>\n",
       "      <td>4</td>\n",
       "    </tr>\n",
       "  </tbody>\n",
       "</table>\n",
       "</div>"
      ],
      "text/plain": [
       "          mvliking  kidtrans  miniboxy  lthrbetr  secbiggr  safeimpt  \\\n",
       "subjnumb                                                               \n",
       "1                4         6         5         2         5         3   \n",
       "2                6         3         5         3         7         5   \n",
       "3                3         7         1         5         2         5   \n",
       "4                3         3         5         3         6         6   \n",
       "5                1         4         3         6         3         4   \n",
       "\n",
       "          buyhghnd  pricqual  prmsound  perfimpt  tkvacatn  noparkrm  \\\n",
       "subjnumb                                                               \n",
       "1                4         3         4         7         3         6   \n",
       "2                5         4         6         4         5         7   \n",
       "3                4         5         5         5         6         3   \n",
       "4                6         6         4         5         4         6   \n",
       "5                6         6         6         5         5         3   \n",
       "\n",
       "          homlrgst  envrminr  needbetw  suvcmpct  next2str  carefmny  \\\n",
       "subjnumb                                                               \n",
       "1                4         6         5         6         9         6   \n",
       "2                4         4         7         6         3         5   \n",
       "3                8         5         6         4         7         4   \n",
       "4                5         7         6         4         3         6   \n",
       "5                7         5         3         3         6         9   \n",
       "\n",
       "          shdcarpl  imprtapp  lk4whldr  kidsbulk  wntguzlr  nordtrps  \\\n",
       "subjnumb                                                               \n",
       "1                3         2         3         5         7         6   \n",
       "2                6         6         6         2         4         6   \n",
       "3                6         5         6         7         3         4   \n",
       "4                4         3         6         2         7         7   \n",
       "5                7         6         5         5         4         6   \n",
       "\n",
       "          stylclth  strngwrn  passnimp  twoincom  nohummer  aftrschl  \\\n",
       "subjnumb                                                               \n",
       "1                5         3         6         2         6         4   \n",
       "2                6         4         6         7         6         3   \n",
       "3                5         7         4         4         2         7   \n",
       "4                1         6         8         6         4         2   \n",
       "5                1         5         6         4         4         5   \n",
       "\n",
       "          accesfun  age  income  miles  numkids  female  educ  recycle  \n",
       "subjnumb                                                                \n",
       "1                4   34      59     14        1       0     1        3  \n",
       "2                5   36      79     16        1       0     3        4  \n",
       "3                6   51      72     22        2       1     3        3  \n",
       "4                3   32      42     12        0       0     3        2  \n",
       "5                5   40      75     17        1       1     3        4  "
      ]
     },
     "execution_count": 8,
     "metadata": {},
     "output_type": "execute_result"
    }
   ],
   "source": [
    "# Setting the subjnumb column as the index\n",
    "df0 = df0.set_index(\"subjnumb\")\n",
    "df0.head()"
   ]
  },
  {
   "cell_type": "code",
   "execution_count": 9,
   "metadata": {},
   "outputs": [
    {
     "data": {
      "text/plain": [
       "['mvliking',\n",
       " 'kidtrans',\n",
       " 'miniboxy',\n",
       " 'lthrbetr',\n",
       " 'secbiggr',\n",
       " 'safeimpt',\n",
       " 'buyhghnd',\n",
       " 'pricqual',\n",
       " 'prmsound',\n",
       " 'perfimpt',\n",
       " 'tkvacatn',\n",
       " 'noparkrm',\n",
       " 'homlrgst',\n",
       " 'envrminr',\n",
       " 'needbetw',\n",
       " 'suvcmpct',\n",
       " 'next2str',\n",
       " 'carefmny',\n",
       " 'shdcarpl',\n",
       " 'imprtapp',\n",
       " 'lk4whldr',\n",
       " 'kidsbulk',\n",
       " 'wntguzlr',\n",
       " 'nordtrps',\n",
       " 'stylclth',\n",
       " 'strngwrn',\n",
       " 'passnimp',\n",
       " 'twoincom',\n",
       " 'nohummer',\n",
       " 'aftrschl',\n",
       " 'accesfun']"
      ]
     },
     "execution_count": 9,
     "metadata": {},
     "output_type": "execute_result"
    }
   ],
   "source": [
    "# Demographic keys list\n",
    "dem_keys_list = [\"age\", \"income\", \"miles\", \"numkids\", \"female\", \"educ\", \"recycle\"]\n",
    "\n",
    "\n",
    "# Product keys list\n",
    "product_keys_list = [keys for keys in data_dict.keys() if keys not in dem_keys_list]\n",
    "product_keys_list.remove(\"subjnumb\")\n",
    "product_keys_list"
   ]
  },
  {
   "cell_type": "code",
   "execution_count": 10,
   "metadata": {},
   "outputs": [
    {
     "data": {
      "text/plain": [
       "mvliking    int64\n",
       "kidtrans    int64\n",
       "miniboxy    int64\n",
       "lthrbetr    int64\n",
       "secbiggr    int64\n",
       "safeimpt    int64\n",
       "buyhghnd    int64\n",
       "pricqual    int64\n",
       "prmsound    int64\n",
       "perfimpt    int64\n",
       "tkvacatn    int64\n",
       "noparkrm    int64\n",
       "homlrgst    int64\n",
       "envrminr    int64\n",
       "needbetw    int64\n",
       "suvcmpct    int64\n",
       "next2str    int64\n",
       "carefmny    int64\n",
       "shdcarpl    int64\n",
       "imprtapp    int64\n",
       "lk4whldr    int64\n",
       "kidsbulk    int64\n",
       "wntguzlr    int64\n",
       "nordtrps    int64\n",
       "stylclth    int64\n",
       "strngwrn    int64\n",
       "passnimp    int64\n",
       "twoincom    int64\n",
       "nohummer    int64\n",
       "aftrschl    int64\n",
       "accesfun    int64\n",
       "age         int64\n",
       "income      int64\n",
       "miles       int64\n",
       "numkids     int64\n",
       "female      int64\n",
       "educ        int64\n",
       "recycle     int64\n",
       "dtype: object"
      ]
     },
     "execution_count": 10,
     "metadata": {},
     "output_type": "execute_result"
    }
   ],
   "source": [
    "# Dataframe data types\n",
    "df0.dtypes"
   ]
  },
  {
   "cell_type": "code",
   "execution_count": 11,
   "metadata": {},
   "outputs": [
    {
     "name": "stdout",
     "output_type": "stream",
     "text": [
      "<class 'pandas.core.frame.DataFrame'>\n",
      "Index: 400 entries, 1 to 400\n",
      "Data columns (total 38 columns):\n",
      " #   Column    Non-Null Count  Dtype\n",
      "---  ------    --------------  -----\n",
      " 0   mvliking  400 non-null    int64\n",
      " 1   kidtrans  400 non-null    int64\n",
      " 2   miniboxy  400 non-null    int64\n",
      " 3   lthrbetr  400 non-null    int64\n",
      " 4   secbiggr  400 non-null    int64\n",
      " 5   safeimpt  400 non-null    int64\n",
      " 6   buyhghnd  400 non-null    int64\n",
      " 7   pricqual  400 non-null    int64\n",
      " 8   prmsound  400 non-null    int64\n",
      " 9   perfimpt  400 non-null    int64\n",
      " 10  tkvacatn  400 non-null    int64\n",
      " 11  noparkrm  400 non-null    int64\n",
      " 12  homlrgst  400 non-null    int64\n",
      " 13  envrminr  400 non-null    int64\n",
      " 14  needbetw  400 non-null    int64\n",
      " 15  suvcmpct  400 non-null    int64\n",
      " 16  next2str  400 non-null    int64\n",
      " 17  carefmny  400 non-null    int64\n",
      " 18  shdcarpl  400 non-null    int64\n",
      " 19  imprtapp  400 non-null    int64\n",
      " 20  lk4whldr  400 non-null    int64\n",
      " 21  kidsbulk  400 non-null    int64\n",
      " 22  wntguzlr  400 non-null    int64\n",
      " 23  nordtrps  400 non-null    int64\n",
      " 24  stylclth  400 non-null    int64\n",
      " 25  strngwrn  400 non-null    int64\n",
      " 26  passnimp  400 non-null    int64\n",
      " 27  twoincom  400 non-null    int64\n",
      " 28  nohummer  400 non-null    int64\n",
      " 29  aftrschl  400 non-null    int64\n",
      " 30  accesfun  400 non-null    int64\n",
      " 31  age       400 non-null    int64\n",
      " 32  income    400 non-null    int64\n",
      " 33  miles     400 non-null    int64\n",
      " 34  numkids   400 non-null    int64\n",
      " 35  female    400 non-null    int64\n",
      " 36  educ      400 non-null    int64\n",
      " 37  recycle   400 non-null    int64\n",
      "dtypes: int64(38)\n",
      "memory usage: 121.9 KB\n"
     ]
    }
   ],
   "source": [
    "# Checking for missing data\n",
    "df0.info()"
   ]
  },
  {
   "cell_type": "markdown",
   "metadata": {},
   "source": [
    "<h1 style=\"color:cornflowerblue\">Basic Statistics</h1>"
   ]
  },
  {
   "cell_type": "code",
   "execution_count": 12,
   "metadata": {},
   "outputs": [
    {
     "data": {
      "text/html": [
       "<div>\n",
       "<style scoped>\n",
       "    .dataframe tbody tr th:only-of-type {\n",
       "        vertical-align: middle;\n",
       "    }\n",
       "\n",
       "    .dataframe tbody tr th {\n",
       "        vertical-align: top;\n",
       "    }\n",
       "\n",
       "    .dataframe thead th {\n",
       "        text-align: right;\n",
       "    }\n",
       "</style>\n",
       "<table border=\"1\" class=\"dataframe\">\n",
       "  <thead>\n",
       "    <tr style=\"text-align: right;\">\n",
       "      <th></th>\n",
       "      <th>mvliking</th>\n",
       "      <th>kidtrans</th>\n",
       "      <th>miniboxy</th>\n",
       "      <th>lthrbetr</th>\n",
       "      <th>secbiggr</th>\n",
       "      <th>safeimpt</th>\n",
       "      <th>buyhghnd</th>\n",
       "      <th>pricqual</th>\n",
       "      <th>prmsound</th>\n",
       "      <th>perfimpt</th>\n",
       "      <th>tkvacatn</th>\n",
       "      <th>noparkrm</th>\n",
       "      <th>homlrgst</th>\n",
       "      <th>envrminr</th>\n",
       "      <th>needbetw</th>\n",
       "      <th>suvcmpct</th>\n",
       "      <th>next2str</th>\n",
       "      <th>carefmny</th>\n",
       "      <th>shdcarpl</th>\n",
       "      <th>imprtapp</th>\n",
       "      <th>lk4whldr</th>\n",
       "      <th>kidsbulk</th>\n",
       "      <th>wntguzlr</th>\n",
       "      <th>nordtrps</th>\n",
       "      <th>stylclth</th>\n",
       "      <th>strngwrn</th>\n",
       "      <th>passnimp</th>\n",
       "      <th>twoincom</th>\n",
       "      <th>nohummer</th>\n",
       "      <th>aftrschl</th>\n",
       "      <th>accesfun</th>\n",
       "      <th>age</th>\n",
       "      <th>income</th>\n",
       "      <th>miles</th>\n",
       "      <th>numkids</th>\n",
       "      <th>female</th>\n",
       "      <th>educ</th>\n",
       "      <th>recycle</th>\n",
       "    </tr>\n",
       "  </thead>\n",
       "  <tbody>\n",
       "    <tr>\n",
       "      <th>count</th>\n",
       "      <td>400.00</td>\n",
       "      <td>400.00</td>\n",
       "      <td>400.00</td>\n",
       "      <td>400.00</td>\n",
       "      <td>400.00</td>\n",
       "      <td>400.00</td>\n",
       "      <td>400.00</td>\n",
       "      <td>400.00</td>\n",
       "      <td>400.00</td>\n",
       "      <td>400.00</td>\n",
       "      <td>400.00</td>\n",
       "      <td>400.00</td>\n",
       "      <td>400.00</td>\n",
       "      <td>400.00</td>\n",
       "      <td>400.00</td>\n",
       "      <td>400.00</td>\n",
       "      <td>400.00</td>\n",
       "      <td>400.00</td>\n",
       "      <td>400.00</td>\n",
       "      <td>400.00</td>\n",
       "      <td>400.00</td>\n",
       "      <td>400.00</td>\n",
       "      <td>400.00</td>\n",
       "      <td>400.00</td>\n",
       "      <td>400.00</td>\n",
       "      <td>400.00</td>\n",
       "      <td>400.00</td>\n",
       "      <td>400.00</td>\n",
       "      <td>400.00</td>\n",
       "      <td>400.00</td>\n",
       "      <td>400.00</td>\n",
       "      <td>400.00</td>\n",
       "      <td>400.00</td>\n",
       "      <td>400.00</td>\n",
       "      <td>400.00</td>\n",
       "      <td>400.00</td>\n",
       "      <td>400.00</td>\n",
       "      <td>400.00</td>\n",
       "    </tr>\n",
       "    <tr>\n",
       "      <th>mean</th>\n",
       "      <td>4.84</td>\n",
       "      <td>4.83</td>\n",
       "      <td>4.67</td>\n",
       "      <td>4.25</td>\n",
       "      <td>5.23</td>\n",
       "      <td>5.00</td>\n",
       "      <td>5.28</td>\n",
       "      <td>4.96</td>\n",
       "      <td>4.72</td>\n",
       "      <td>5.00</td>\n",
       "      <td>4.44</td>\n",
       "      <td>4.58</td>\n",
       "      <td>5.49</td>\n",
       "      <td>5.53</td>\n",
       "      <td>4.94</td>\n",
       "      <td>4.78</td>\n",
       "      <td>4.49</td>\n",
       "      <td>5.22</td>\n",
       "      <td>5.17</td>\n",
       "      <td>4.56</td>\n",
       "      <td>5.24</td>\n",
       "      <td>4.48</td>\n",
       "      <td>5.06</td>\n",
       "      <td>5.32</td>\n",
       "      <td>5.34</td>\n",
       "      <td>5.04</td>\n",
       "      <td>5.62</td>\n",
       "      <td>4.87</td>\n",
       "      <td>4.85</td>\n",
       "      <td>4.38</td>\n",
       "      <td>4.64</td>\n",
       "      <td>40.05</td>\n",
       "      <td>71.28</td>\n",
       "      <td>18.04</td>\n",
       "      <td>1.22</td>\n",
       "      <td>0.54</td>\n",
       "      <td>2.81</td>\n",
       "      <td>3.04</td>\n",
       "    </tr>\n",
       "    <tr>\n",
       "      <th>std</th>\n",
       "      <td>2.69</td>\n",
       "      <td>1.52</td>\n",
       "      <td>1.48</td>\n",
       "      <td>1.52</td>\n",
       "      <td>1.51</td>\n",
       "      <td>1.51</td>\n",
       "      <td>1.54</td>\n",
       "      <td>1.52</td>\n",
       "      <td>1.51</td>\n",
       "      <td>1.49</td>\n",
       "      <td>1.53</td>\n",
       "      <td>1.52</td>\n",
       "      <td>1.50</td>\n",
       "      <td>1.52</td>\n",
       "      <td>1.55</td>\n",
       "      <td>1.51</td>\n",
       "      <td>1.55</td>\n",
       "      <td>1.53</td>\n",
       "      <td>1.50</td>\n",
       "      <td>1.50</td>\n",
       "      <td>1.46</td>\n",
       "      <td>1.48</td>\n",
       "      <td>1.51</td>\n",
       "      <td>1.49</td>\n",
       "      <td>1.53</td>\n",
       "      <td>1.50</td>\n",
       "      <td>1.51</td>\n",
       "      <td>1.56</td>\n",
       "      <td>1.54</td>\n",
       "      <td>1.51</td>\n",
       "      <td>1.52</td>\n",
       "      <td>8.57</td>\n",
       "      <td>43.28</td>\n",
       "      <td>4.86</td>\n",
       "      <td>1.08</td>\n",
       "      <td>0.50</td>\n",
       "      <td>0.93</td>\n",
       "      <td>1.18</td>\n",
       "    </tr>\n",
       "    <tr>\n",
       "      <th>min</th>\n",
       "      <td>1.00</td>\n",
       "      <td>1.00</td>\n",
       "      <td>1.00</td>\n",
       "      <td>1.00</td>\n",
       "      <td>1.00</td>\n",
       "      <td>1.00</td>\n",
       "      <td>1.00</td>\n",
       "      <td>1.00</td>\n",
       "      <td>1.00</td>\n",
       "      <td>1.00</td>\n",
       "      <td>1.00</td>\n",
       "      <td>1.00</td>\n",
       "      <td>1.00</td>\n",
       "      <td>1.00</td>\n",
       "      <td>1.00</td>\n",
       "      <td>1.00</td>\n",
       "      <td>1.00</td>\n",
       "      <td>1.00</td>\n",
       "      <td>1.00</td>\n",
       "      <td>1.00</td>\n",
       "      <td>1.00</td>\n",
       "      <td>1.00</td>\n",
       "      <td>1.00</td>\n",
       "      <td>1.00</td>\n",
       "      <td>1.00</td>\n",
       "      <td>1.00</td>\n",
       "      <td>1.00</td>\n",
       "      <td>1.00</td>\n",
       "      <td>1.00</td>\n",
       "      <td>1.00</td>\n",
       "      <td>1.00</td>\n",
       "      <td>19.00</td>\n",
       "      <td>15.00</td>\n",
       "      <td>7.00</td>\n",
       "      <td>0.00</td>\n",
       "      <td>0.00</td>\n",
       "      <td>1.00</td>\n",
       "      <td>1.00</td>\n",
       "    </tr>\n",
       "    <tr>\n",
       "      <th>25%</th>\n",
       "      <td>3.00</td>\n",
       "      <td>4.00</td>\n",
       "      <td>4.00</td>\n",
       "      <td>3.00</td>\n",
       "      <td>4.00</td>\n",
       "      <td>4.00</td>\n",
       "      <td>4.00</td>\n",
       "      <td>4.00</td>\n",
       "      <td>4.00</td>\n",
       "      <td>4.00</td>\n",
       "      <td>3.00</td>\n",
       "      <td>3.00</td>\n",
       "      <td>5.00</td>\n",
       "      <td>5.00</td>\n",
       "      <td>4.00</td>\n",
       "      <td>4.00</td>\n",
       "      <td>3.00</td>\n",
       "      <td>4.00</td>\n",
       "      <td>4.00</td>\n",
       "      <td>3.00</td>\n",
       "      <td>4.00</td>\n",
       "      <td>3.75</td>\n",
       "      <td>4.00</td>\n",
       "      <td>4.00</td>\n",
       "      <td>4.00</td>\n",
       "      <td>4.00</td>\n",
       "      <td>5.00</td>\n",
       "      <td>4.00</td>\n",
       "      <td>4.00</td>\n",
       "      <td>3.00</td>\n",
       "      <td>3.00</td>\n",
       "      <td>34.00</td>\n",
       "      <td>36.00</td>\n",
       "      <td>15.00</td>\n",
       "      <td>0.00</td>\n",
       "      <td>0.00</td>\n",
       "      <td>2.00</td>\n",
       "      <td>2.00</td>\n",
       "    </tr>\n",
       "    <tr>\n",
       "      <th>50%</th>\n",
       "      <td>5.00</td>\n",
       "      <td>5.00</td>\n",
       "      <td>5.00</td>\n",
       "      <td>4.00</td>\n",
       "      <td>5.00</td>\n",
       "      <td>5.00</td>\n",
       "      <td>5.00</td>\n",
       "      <td>5.00</td>\n",
       "      <td>5.00</td>\n",
       "      <td>5.00</td>\n",
       "      <td>5.00</td>\n",
       "      <td>4.00</td>\n",
       "      <td>5.00</td>\n",
       "      <td>6.00</td>\n",
       "      <td>5.00</td>\n",
       "      <td>5.00</td>\n",
       "      <td>4.00</td>\n",
       "      <td>5.00</td>\n",
       "      <td>5.00</td>\n",
       "      <td>5.00</td>\n",
       "      <td>5.00</td>\n",
       "      <td>4.00</td>\n",
       "      <td>5.00</td>\n",
       "      <td>5.00</td>\n",
       "      <td>5.00</td>\n",
       "      <td>5.00</td>\n",
       "      <td>6.00</td>\n",
       "      <td>5.00</td>\n",
       "      <td>5.00</td>\n",
       "      <td>4.00</td>\n",
       "      <td>5.00</td>\n",
       "      <td>40.00</td>\n",
       "      <td>62.50</td>\n",
       "      <td>18.00</td>\n",
       "      <td>1.00</td>\n",
       "      <td>1.00</td>\n",
       "      <td>3.00</td>\n",
       "      <td>3.00</td>\n",
       "    </tr>\n",
       "    <tr>\n",
       "      <th>75%</th>\n",
       "      <td>7.00</td>\n",
       "      <td>6.00</td>\n",
       "      <td>6.00</td>\n",
       "      <td>5.00</td>\n",
       "      <td>6.00</td>\n",
       "      <td>6.00</td>\n",
       "      <td>6.00</td>\n",
       "      <td>6.00</td>\n",
       "      <td>6.00</td>\n",
       "      <td>6.00</td>\n",
       "      <td>5.25</td>\n",
       "      <td>6.00</td>\n",
       "      <td>7.00</td>\n",
       "      <td>7.00</td>\n",
       "      <td>6.00</td>\n",
       "      <td>6.00</td>\n",
       "      <td>6.00</td>\n",
       "      <td>7.00</td>\n",
       "      <td>6.00</td>\n",
       "      <td>6.00</td>\n",
       "      <td>6.00</td>\n",
       "      <td>5.00</td>\n",
       "      <td>6.00</td>\n",
       "      <td>6.00</td>\n",
       "      <td>6.00</td>\n",
       "      <td>6.00</td>\n",
       "      <td>7.00</td>\n",
       "      <td>6.00</td>\n",
       "      <td>6.00</td>\n",
       "      <td>5.00</td>\n",
       "      <td>6.00</td>\n",
       "      <td>46.00</td>\n",
       "      <td>96.00</td>\n",
       "      <td>21.00</td>\n",
       "      <td>2.00</td>\n",
       "      <td>1.00</td>\n",
       "      <td>3.00</td>\n",
       "      <td>4.00</td>\n",
       "    </tr>\n",
       "    <tr>\n",
       "      <th>max</th>\n",
       "      <td>9.00</td>\n",
       "      <td>9.00</td>\n",
       "      <td>9.00</td>\n",
       "      <td>9.00</td>\n",
       "      <td>9.00</td>\n",
       "      <td>9.00</td>\n",
       "      <td>9.00</td>\n",
       "      <td>9.00</td>\n",
       "      <td>9.00</td>\n",
       "      <td>9.00</td>\n",
       "      <td>9.00</td>\n",
       "      <td>9.00</td>\n",
       "      <td>9.00</td>\n",
       "      <td>9.00</td>\n",
       "      <td>9.00</td>\n",
       "      <td>9.00</td>\n",
       "      <td>9.00</td>\n",
       "      <td>9.00</td>\n",
       "      <td>9.00</td>\n",
       "      <td>9.00</td>\n",
       "      <td>9.00</td>\n",
       "      <td>9.00</td>\n",
       "      <td>9.00</td>\n",
       "      <td>9.00</td>\n",
       "      <td>9.00</td>\n",
       "      <td>9.00</td>\n",
       "      <td>9.00</td>\n",
       "      <td>9.00</td>\n",
       "      <td>9.00</td>\n",
       "      <td>9.00</td>\n",
       "      <td>9.00</td>\n",
       "      <td>60.00</td>\n",
       "      <td>273.00</td>\n",
       "      <td>32.00</td>\n",
       "      <td>4.00</td>\n",
       "      <td>1.00</td>\n",
       "      <td>4.00</td>\n",
       "      <td>5.00</td>\n",
       "    </tr>\n",
       "  </tbody>\n",
       "</table>\n",
       "</div>"
      ],
      "text/plain": [
       "       mvliking  kidtrans  miniboxy  lthrbetr  secbiggr  safeimpt  buyhghnd  \\\n",
       "count    400.00    400.00    400.00    400.00    400.00    400.00    400.00   \n",
       "mean       4.84      4.83      4.67      4.25      5.23      5.00      5.28   \n",
       "std        2.69      1.52      1.48      1.52      1.51      1.51      1.54   \n",
       "min        1.00      1.00      1.00      1.00      1.00      1.00      1.00   \n",
       "25%        3.00      4.00      4.00      3.00      4.00      4.00      4.00   \n",
       "50%        5.00      5.00      5.00      4.00      5.00      5.00      5.00   \n",
       "75%        7.00      6.00      6.00      5.00      6.00      6.00      6.00   \n",
       "max        9.00      9.00      9.00      9.00      9.00      9.00      9.00   \n",
       "\n",
       "       pricqual  prmsound  perfimpt  tkvacatn  noparkrm  homlrgst  envrminr  \\\n",
       "count    400.00    400.00    400.00    400.00    400.00    400.00    400.00   \n",
       "mean       4.96      4.72      5.00      4.44      4.58      5.49      5.53   \n",
       "std        1.52      1.51      1.49      1.53      1.52      1.50      1.52   \n",
       "min        1.00      1.00      1.00      1.00      1.00      1.00      1.00   \n",
       "25%        4.00      4.00      4.00      3.00      3.00      5.00      5.00   \n",
       "50%        5.00      5.00      5.00      5.00      4.00      5.00      6.00   \n",
       "75%        6.00      6.00      6.00      5.25      6.00      7.00      7.00   \n",
       "max        9.00      9.00      9.00      9.00      9.00      9.00      9.00   \n",
       "\n",
       "       needbetw  suvcmpct  next2str  carefmny  shdcarpl  imprtapp  lk4whldr  \\\n",
       "count    400.00    400.00    400.00    400.00    400.00    400.00    400.00   \n",
       "mean       4.94      4.78      4.49      5.22      5.17      4.56      5.24   \n",
       "std        1.55      1.51      1.55      1.53      1.50      1.50      1.46   \n",
       "min        1.00      1.00      1.00      1.00      1.00      1.00      1.00   \n",
       "25%        4.00      4.00      3.00      4.00      4.00      3.00      4.00   \n",
       "50%        5.00      5.00      4.00      5.00      5.00      5.00      5.00   \n",
       "75%        6.00      6.00      6.00      7.00      6.00      6.00      6.00   \n",
       "max        9.00      9.00      9.00      9.00      9.00      9.00      9.00   \n",
       "\n",
       "       kidsbulk  wntguzlr  nordtrps  stylclth  strngwrn  passnimp  twoincom  \\\n",
       "count    400.00    400.00    400.00    400.00    400.00    400.00    400.00   \n",
       "mean       4.48      5.06      5.32      5.34      5.04      5.62      4.87   \n",
       "std        1.48      1.51      1.49      1.53      1.50      1.51      1.56   \n",
       "min        1.00      1.00      1.00      1.00      1.00      1.00      1.00   \n",
       "25%        3.75      4.00      4.00      4.00      4.00      5.00      4.00   \n",
       "50%        4.00      5.00      5.00      5.00      5.00      6.00      5.00   \n",
       "75%        5.00      6.00      6.00      6.00      6.00      7.00      6.00   \n",
       "max        9.00      9.00      9.00      9.00      9.00      9.00      9.00   \n",
       "\n",
       "       nohummer  aftrschl  accesfun    age  income  miles  numkids  female  \\\n",
       "count    400.00    400.00    400.00 400.00  400.00 400.00   400.00  400.00   \n",
       "mean       4.85      4.38      4.64  40.05   71.28  18.04     1.22    0.54   \n",
       "std        1.54      1.51      1.52   8.57   43.28   4.86     1.08    0.50   \n",
       "min        1.00      1.00      1.00  19.00   15.00   7.00     0.00    0.00   \n",
       "25%        4.00      3.00      3.00  34.00   36.00  15.00     0.00    0.00   \n",
       "50%        5.00      4.00      5.00  40.00   62.50  18.00     1.00    1.00   \n",
       "75%        6.00      5.00      6.00  46.00   96.00  21.00     2.00    1.00   \n",
       "max        9.00      9.00      9.00  60.00  273.00  32.00     4.00    1.00   \n",
       "\n",
       "        educ  recycle  \n",
       "count 400.00   400.00  \n",
       "mean    2.81     3.04  \n",
       "std     0.93     1.18  \n",
       "min     1.00     1.00  \n",
       "25%     2.00     2.00  \n",
       "50%     3.00     3.00  \n",
       "75%     3.00     4.00  \n",
       "max     4.00     5.00  "
      ]
     },
     "execution_count": 12,
     "metadata": {},
     "output_type": "execute_result"
    }
   ],
   "source": [
    "# Dataframe Basic Statistics\n",
    "df0.describe()"
   ]
  },
  {
   "cell_type": "markdown",
   "metadata": {},
   "source": [
    "<h1 style=\"color:cornflowerblue\">Dimension Reduction - PCA</h1>\n",
    "<p>Must verify how many components will be used (the smallst amount of features that will explaing most of the variance)</p>"
   ]
  },
  {
   "cell_type": "code",
   "execution_count": 13,
   "metadata": {},
   "outputs": [
    {
     "name": "stdout",
     "output_type": "stream",
     "text": [
      "1 components with total variance explanied as: 0.27696709879672443: [0.2769671]\n",
      "2 components with total variance explanied as: 0.4445767750017478: [0.2769671  0.16760968]\n",
      "3 components with total variance explanied as: 0.5459459552274873: [0.2769671  0.16760968 0.10136918]\n",
      "4 components with total variance explanied as: 0.6342464490894245: [0.2769671  0.16760968 0.10136918 0.08830049]\n",
      "5 components with total variance explanied as: 0.6949209280291696: [0.2769671  0.16760968 0.10136918 0.08830049 0.06067448]\n",
      "6 components with total variance explanied as: 0.7163695796236542: [0.2769671  0.16760968 0.10136918 0.08830049 0.06067448 0.02144865]\n",
      "7 components with total variance explanied as: 0.7356422840632016: [0.2769671  0.16760968 0.10136918 0.08830049 0.06067448 0.02144865\n",
      " 0.0192727 ]\n",
      "8 components with total variance explanied as: 0.7538737884378808: [0.2769671  0.16760968 0.10136918 0.08830049 0.06067448 0.02144865\n",
      " 0.0192727  0.0182315 ]\n",
      "9 components with total variance explanied as: 0.7715039823284859: [0.2769671  0.16760968 0.10136918 0.08830049 0.06067448 0.02144865\n",
      " 0.0192727  0.0182315  0.01763019]\n"
     ]
    }
   ],
   "source": [
    "# checking for number of features\n",
    "for i in range(1,10):\n",
    "    pca = PCA(n_components=i, random_state=42).fit(df0.drop(dem_keys_list+[\"mvliking\"], axis=1))\n",
    "    print(f'{i} components with total variance explanied as: {sum(pca.explained_variance_ratio_)}: {pca.explained_variance_ratio_}')\n"
   ]
  },
  {
   "cell_type": "markdown",
   "metadata": {},
   "source": [
    "<h2 style=\"color:cornflowerblue\">PCA - Results</h2>\n",
    "<p>5 components will be used, as they explains around 70% of all data.</p>"
   ]
  },
  {
   "cell_type": "code",
   "execution_count": 14,
   "metadata": {},
   "outputs": [
    {
     "name": "stdout",
     "output_type": "stream",
     "text": [
      "5 components with total variance explanied as: 0.6949209280291696: [0.2769671  0.16760968 0.10136918 0.08830049 0.06067448]\n"
     ]
    }
   ],
   "source": [
    "# Instancing PCA with the chosen components\n",
    "pca = PCA(n_components=5, random_state=42).fit(df0.drop(dem_keys_list+[\"mvliking\"], axis=1))\n",
    "print(f'5 components with total variance explanied as: {sum(pca.explained_variance_ratio_)}: {pca.explained_variance_ratio_}')"
   ]
  },
  {
   "cell_type": "code",
   "execution_count": 15,
   "metadata": {},
   "outputs": [
    {
     "data": {
      "text/html": [
       "<div>\n",
       "<style scoped>\n",
       "    .dataframe tbody tr th:only-of-type {\n",
       "        vertical-align: middle;\n",
       "    }\n",
       "\n",
       "    .dataframe tbody tr th {\n",
       "        vertical-align: top;\n",
       "    }\n",
       "\n",
       "    .dataframe thead th {\n",
       "        text-align: right;\n",
       "    }\n",
       "</style>\n",
       "<table border=\"1\" class=\"dataframe\">\n",
       "  <thead>\n",
       "    <tr style=\"text-align: right;\">\n",
       "      <th></th>\n",
       "      <th>kidtrans</th>\n",
       "      <th>miniboxy</th>\n",
       "      <th>lthrbetr</th>\n",
       "      <th>secbiggr</th>\n",
       "      <th>safeimpt</th>\n",
       "      <th>buyhghnd</th>\n",
       "      <th>pricqual</th>\n",
       "      <th>prmsound</th>\n",
       "      <th>perfimpt</th>\n",
       "      <th>tkvacatn</th>\n",
       "      <th>noparkrm</th>\n",
       "      <th>homlrgst</th>\n",
       "      <th>envrminr</th>\n",
       "      <th>needbetw</th>\n",
       "      <th>suvcmpct</th>\n",
       "      <th>next2str</th>\n",
       "      <th>carefmny</th>\n",
       "      <th>shdcarpl</th>\n",
       "      <th>imprtapp</th>\n",
       "      <th>lk4whldr</th>\n",
       "      <th>kidsbulk</th>\n",
       "      <th>wntguzlr</th>\n",
       "      <th>nordtrps</th>\n",
       "      <th>stylclth</th>\n",
       "      <th>strngwrn</th>\n",
       "      <th>passnimp</th>\n",
       "      <th>twoincom</th>\n",
       "      <th>nohummer</th>\n",
       "      <th>aftrschl</th>\n",
       "      <th>accesfun</th>\n",
       "    </tr>\n",
       "  </thead>\n",
       "  <tbody>\n",
       "    <tr>\n",
       "      <th>0</th>\n",
       "      <td>-0.15</td>\n",
       "      <td>-0.03</td>\n",
       "      <td>-0.28</td>\n",
       "      <td>0.01</td>\n",
       "      <td>-0.07</td>\n",
       "      <td>-0.25</td>\n",
       "      <td>-0.19</td>\n",
       "      <td>-0.26</td>\n",
       "      <td>0.03</td>\n",
       "      <td>-0.29</td>\n",
       "      <td>-0.04</td>\n",
       "      <td>-0.16</td>\n",
       "      <td>0.17</td>\n",
       "      <td>-0.04</td>\n",
       "      <td>-0.06</td>\n",
       "      <td>-0.07</td>\n",
       "      <td>0.29</td>\n",
       "      <td>-0.17</td>\n",
       "      <td>-0.25</td>\n",
       "      <td>-0.11</td>\n",
       "      <td>-0.16</td>\n",
       "      <td>0.21</td>\n",
       "      <td>0.13</td>\n",
       "      <td>-0.26</td>\n",
       "      <td>-0.14</td>\n",
       "      <td>0.27</td>\n",
       "      <td>-0.20</td>\n",
       "      <td>-0.02</td>\n",
       "      <td>-0.15</td>\n",
       "      <td>-0.29</td>\n",
       "    </tr>\n",
       "    <tr>\n",
       "      <th>1</th>\n",
       "      <td>0.00</td>\n",
       "      <td>-0.36</td>\n",
       "      <td>0.08</td>\n",
       "      <td>-0.34</td>\n",
       "      <td>-0.00</td>\n",
       "      <td>-0.08</td>\n",
       "      <td>0.08</td>\n",
       "      <td>0.01</td>\n",
       "      <td>0.01</td>\n",
       "      <td>0.01</td>\n",
       "      <td>-0.36</td>\n",
       "      <td>0.30</td>\n",
       "      <td>0.02</td>\n",
       "      <td>-0.35</td>\n",
       "      <td>-0.36</td>\n",
       "      <td>0.34</td>\n",
       "      <td>0.07</td>\n",
       "      <td>0.01</td>\n",
       "      <td>0.01</td>\n",
       "      <td>0.01</td>\n",
       "      <td>-0.01</td>\n",
       "      <td>-0.01</td>\n",
       "      <td>0.04</td>\n",
       "      <td>-0.11</td>\n",
       "      <td>0.13</td>\n",
       "      <td>0.01</td>\n",
       "      <td>-0.06</td>\n",
       "      <td>-0.32</td>\n",
       "      <td>0.05</td>\n",
       "      <td>0.01</td>\n",
       "    </tr>\n",
       "    <tr>\n",
       "      <th>2</th>\n",
       "      <td>0.37</td>\n",
       "      <td>-0.05</td>\n",
       "      <td>-0.04</td>\n",
       "      <td>0.01</td>\n",
       "      <td>0.30</td>\n",
       "      <td>-0.07</td>\n",
       "      <td>-0.10</td>\n",
       "      <td>-0.06</td>\n",
       "      <td>-0.31</td>\n",
       "      <td>-0.08</td>\n",
       "      <td>0.02</td>\n",
       "      <td>-0.04</td>\n",
       "      <td>0.27</td>\n",
       "      <td>-0.00</td>\n",
       "      <td>0.08</td>\n",
       "      <td>0.02</td>\n",
       "      <td>0.06</td>\n",
       "      <td>-0.23</td>\n",
       "      <td>0.05</td>\n",
       "      <td>0.22</td>\n",
       "      <td>0.29</td>\n",
       "      <td>0.23</td>\n",
       "      <td>-0.34</td>\n",
       "      <td>-0.11</td>\n",
       "      <td>0.20</td>\n",
       "      <td>-0.01</td>\n",
       "      <td>-0.08</td>\n",
       "      <td>0.05</td>\n",
       "      <td>0.37</td>\n",
       "      <td>-0.05</td>\n",
       "    </tr>\n",
       "    <tr>\n",
       "      <th>3</th>\n",
       "      <td>0.31</td>\n",
       "      <td>-0.07</td>\n",
       "      <td>0.03</td>\n",
       "      <td>0.04</td>\n",
       "      <td>-0.44</td>\n",
       "      <td>-0.06</td>\n",
       "      <td>-0.02</td>\n",
       "      <td>-0.01</td>\n",
       "      <td>0.42</td>\n",
       "      <td>0.04</td>\n",
       "      <td>-0.00</td>\n",
       "      <td>-0.00</td>\n",
       "      <td>0.11</td>\n",
       "      <td>-0.05</td>\n",
       "      <td>0.05</td>\n",
       "      <td>0.07</td>\n",
       "      <td>0.01</td>\n",
       "      <td>-0.13</td>\n",
       "      <td>-0.02</td>\n",
       "      <td>-0.42</td>\n",
       "      <td>0.25</td>\n",
       "      <td>0.05</td>\n",
       "      <td>-0.26</td>\n",
       "      <td>0.03</td>\n",
       "      <td>-0.34</td>\n",
       "      <td>-0.11</td>\n",
       "      <td>-0.08</td>\n",
       "      <td>-0.02</td>\n",
       "      <td>0.18</td>\n",
       "      <td>0.07</td>\n",
       "    </tr>\n",
       "    <tr>\n",
       "      <th>4</th>\n",
       "      <td>-0.13</td>\n",
       "      <td>0.03</td>\n",
       "      <td>0.08</td>\n",
       "      <td>-0.07</td>\n",
       "      <td>-0.03</td>\n",
       "      <td>0.30</td>\n",
       "      <td>0.42</td>\n",
       "      <td>0.08</td>\n",
       "      <td>0.08</td>\n",
       "      <td>-0.05</td>\n",
       "      <td>0.11</td>\n",
       "      <td>-0.07</td>\n",
       "      <td>0.41</td>\n",
       "      <td>0.02</td>\n",
       "      <td>-0.04</td>\n",
       "      <td>0.17</td>\n",
       "      <td>-0.09</td>\n",
       "      <td>-0.42</td>\n",
       "      <td>-0.07</td>\n",
       "      <td>-0.03</td>\n",
       "      <td>-0.12</td>\n",
       "      <td>0.29</td>\n",
       "      <td>0.16</td>\n",
       "      <td>-0.04</td>\n",
       "      <td>0.03</td>\n",
       "      <td>-0.03</td>\n",
       "      <td>0.39</td>\n",
       "      <td>0.03</td>\n",
       "      <td>-0.02</td>\n",
       "      <td>0.01</td>\n",
       "    </tr>\n",
       "  </tbody>\n",
       "</table>\n",
       "</div>"
      ],
      "text/plain": [
       "   kidtrans  miniboxy  lthrbetr  secbiggr  safeimpt  buyhghnd  pricqual  \\\n",
       "0     -0.15     -0.03     -0.28      0.01     -0.07     -0.25     -0.19   \n",
       "1      0.00     -0.36      0.08     -0.34     -0.00     -0.08      0.08   \n",
       "2      0.37     -0.05     -0.04      0.01      0.30     -0.07     -0.10   \n",
       "3      0.31     -0.07      0.03      0.04     -0.44     -0.06     -0.02   \n",
       "4     -0.13      0.03      0.08     -0.07     -0.03      0.30      0.42   \n",
       "\n",
       "   prmsound  perfimpt  tkvacatn  noparkrm  homlrgst  envrminr  needbetw  \\\n",
       "0     -0.26      0.03     -0.29     -0.04     -0.16      0.17     -0.04   \n",
       "1      0.01      0.01      0.01     -0.36      0.30      0.02     -0.35   \n",
       "2     -0.06     -0.31     -0.08      0.02     -0.04      0.27     -0.00   \n",
       "3     -0.01      0.42      0.04     -0.00     -0.00      0.11     -0.05   \n",
       "4      0.08      0.08     -0.05      0.11     -0.07      0.41      0.02   \n",
       "\n",
       "   suvcmpct  next2str  carefmny  shdcarpl  imprtapp  lk4whldr  kidsbulk  \\\n",
       "0     -0.06     -0.07      0.29     -0.17     -0.25     -0.11     -0.16   \n",
       "1     -0.36      0.34      0.07      0.01      0.01      0.01     -0.01   \n",
       "2      0.08      0.02      0.06     -0.23      0.05      0.22      0.29   \n",
       "3      0.05      0.07      0.01     -0.13     -0.02     -0.42      0.25   \n",
       "4     -0.04      0.17     -0.09     -0.42     -0.07     -0.03     -0.12   \n",
       "\n",
       "   wntguzlr  nordtrps  stylclth  strngwrn  passnimp  twoincom  nohummer  \\\n",
       "0      0.21      0.13     -0.26     -0.14      0.27     -0.20     -0.02   \n",
       "1     -0.01      0.04     -0.11      0.13      0.01     -0.06     -0.32   \n",
       "2      0.23     -0.34     -0.11      0.20     -0.01     -0.08      0.05   \n",
       "3      0.05     -0.26      0.03     -0.34     -0.11     -0.08     -0.02   \n",
       "4      0.29      0.16     -0.04      0.03     -0.03      0.39      0.03   \n",
       "\n",
       "   aftrschl  accesfun  \n",
       "0     -0.15     -0.29  \n",
       "1      0.05      0.01  \n",
       "2      0.37     -0.05  \n",
       "3      0.18      0.07  \n",
       "4     -0.02      0.01  "
      ]
     },
     "execution_count": 15,
     "metadata": {},
     "output_type": "execute_result"
    }
   ],
   "source": [
    "# Dataframe of the chosen componentes with the respective values for each feature\n",
    "df_components = pd.DataFrame(columns=df0.drop(columns = dem_keys_list+[\"mvliking\"], axis = 1).columns)\n",
    "\n",
    "for i in range(5):\n",
    "    df_components.loc[i] = pca.components_[i]\n",
    "\n",
    "df_components"
   ]
  },
  {
   "cell_type": "code",
   "execution_count": 16,
   "metadata": {},
   "outputs": [
    {
     "name": "stdout",
     "output_type": "stream",
     "text": [
      "Component 0:\n",
      "Evaluation of how careful with spending money. From 1 to 9: 0.2919282078756143\n",
      "Evaluation of importance of vacations. From 1 to 9: -0.2881680286409768\n",
      "\n",
      "\n",
      "Component 1:\n",
      "Evaluation of those that want their next car with only 2 seats. From 1 to 9: 0.338353633018781\n",
      "Evaluation of space and design. From 1 to 9: -0.364988113753255\n",
      "\n",
      "\n",
      "Component 2:\n",
      "Evaluation of after school activities. From 1 to 9: 0.36654076139075287\n",
      "Evaluation of how often family trips are made. From 1 to 9: -0.3442915373005918\n",
      "\n",
      "\n",
      "Component 3:\n",
      "Evaluation of the performance impact. From 1 to 9: 0.41713691281116394\n",
      "Evaluation of the importance of safety. From 1 to 9: -0.44377414255703856\n",
      "\n",
      "\n",
      "Component 4:\n",
      "Evaluation of price on quality. From 1 to 9: 0.41954349228728416\n",
      "Evaluation of how much public transportation or lifts should be used. From 1 to 9: -0.41988733417793583\n",
      "\n",
      "\n"
     ]
    }
   ],
   "source": [
    "# Min / Max values of each component\n",
    "for i in range(df_components.shape[0]):\n",
    "    print(f\"Component {i}:\")\n",
    "    print(f\"{data_dict[df_components.columns[df_components.loc[i].argmax()]]}: {df_components.loc[i].max()}\")\n",
    "    print(f\"{data_dict[df_components.columns[df_components.loc[i].argmin()]]}: {df_components.loc[i].min()}\")\n",
    "    print(\"\\n\")"
   ]
  },
  {
   "cell_type": "code",
   "execution_count": 17,
   "metadata": {},
   "outputs": [
    {
     "data": {
      "text/html": [
       "<div>\n",
       "<style scoped>\n",
       "    .dataframe tbody tr th:only-of-type {\n",
       "        vertical-align: middle;\n",
       "    }\n",
       "\n",
       "    .dataframe tbody tr th {\n",
       "        vertical-align: top;\n",
       "    }\n",
       "\n",
       "    .dataframe thead th {\n",
       "        text-align: right;\n",
       "    }\n",
       "</style>\n",
       "<table border=\"1\" class=\"dataframe\">\n",
       "  <thead>\n",
       "    <tr style=\"text-align: right;\">\n",
       "      <th></th>\n",
       "      <th>component</th>\n",
       "      <th>feature</th>\n",
       "      <th>correlation</th>\n",
       "      <th>abs_correlation</th>\n",
       "    </tr>\n",
       "  </thead>\n",
       "  <tbody>\n",
       "    <tr>\n",
       "      <th>0</th>\n",
       "      <td>0</td>\n",
       "      <td>kidtrans</td>\n",
       "      <td>-0.15</td>\n",
       "      <td>0.15</td>\n",
       "    </tr>\n",
       "    <tr>\n",
       "      <th>1</th>\n",
       "      <td>0</td>\n",
       "      <td>miniboxy</td>\n",
       "      <td>-0.03</td>\n",
       "      <td>0.03</td>\n",
       "    </tr>\n",
       "    <tr>\n",
       "      <th>2</th>\n",
       "      <td>0</td>\n",
       "      <td>lthrbetr</td>\n",
       "      <td>-0.28</td>\n",
       "      <td>0.28</td>\n",
       "    </tr>\n",
       "    <tr>\n",
       "      <th>3</th>\n",
       "      <td>0</td>\n",
       "      <td>secbiggr</td>\n",
       "      <td>0.01</td>\n",
       "      <td>0.01</td>\n",
       "    </tr>\n",
       "    <tr>\n",
       "      <th>4</th>\n",
       "      <td>0</td>\n",
       "      <td>safeimpt</td>\n",
       "      <td>-0.07</td>\n",
       "      <td>0.07</td>\n",
       "    </tr>\n",
       "  </tbody>\n",
       "</table>\n",
       "</div>"
      ],
      "text/plain": [
       "  component   feature  correlation  abs_correlation\n",
       "0         0  kidtrans        -0.15             0.15\n",
       "1         0  miniboxy        -0.03             0.03\n",
       "2         0  lthrbetr        -0.28             0.28\n",
       "3         0  secbiggr         0.01             0.01\n",
       "4         0  safeimpt        -0.07             0.07"
      ]
     },
     "execution_count": 17,
     "metadata": {},
     "output_type": "execute_result"
    }
   ],
   "source": [
    "# Dataframe for the correlation of components\n",
    "corr_mat = df_components.stack().reset_index()\n",
    "corr_mat.columns=[\"component\", \"feature\", \"correlation\"]\n",
    "corr_mat[\"component\"] = corr_mat[\"component\"].astype(str)\n",
    "\n",
    "corr_mat[\"abs_correlation\"] = abs(corr_mat[\"correlation\"])\n",
    "corr_mat.head()"
   ]
  },
  {
   "cell_type": "code",
   "execution_count": 18,
   "metadata": {},
   "outputs": [
    {
     "name": "stderr",
     "output_type": "stream",
     "text": [
      "C:\\Users\\nicol\\AppData\\Local\\Temp\\ipykernel_10420\\2050287799.py:13: UserWarning: set_ticklabels() should only be used with a fixed number of ticks, i.e. after set_ticks() or using a FixedLocator.\n",
      "  i.set_xticklabels(i.get_xticklabels(), rotation=90)\n"
     ]
    },
    {
     "data": {
      "image/png": "[encoded data removed]",
      "text/plain": [
       "<Figure size 1159.62x500 with 1 Axes>"
      ]
     },
     "metadata": {},
     "output_type": "display_data"
    }
   ],
   "source": [
    "# Heatmap for graphic analysis of Principal Components\n",
    "sns.set_theme(style=\"whitegrid\")\n",
    "heatm = sns.relplot(data=corr_mat,\n",
    "    x=\"feature\", y=\"component\", hue=\"correlation\", size=\"abs_correlation\",\n",
    "    palette=\"coolwarm_r\", hue_norm=(-1,1), edgecolor=\".7\", height=5, aspect=2,\n",
    "    sizes=(0,500),\n",
    "    )\n",
    "\n",
    "heatm.set(xlabel=\"\", ylabel=\"\", )\n",
    "heatm.despine(left=True, bottom=True)\n",
    "for i in heatm.axes.flat:\n",
    "    i.set_xticklabels(i.get_xticklabels(), rotation=90)"
   ]
  },
  {
   "cell_type": "code",
   "execution_count": 19,
   "metadata": {},
   "outputs": [
    {
     "data": {
      "text/plain": [
       "'Evaluation of the necessity of more than 1 sorce of income. From 1 to 9'"
      ]
     },
     "execution_count": 19,
     "metadata": {},
     "output_type": "execute_result"
    }
   ],
   "source": [
    "data_dict[\"twoincom\"]"
   ]
  },
  {
   "cell_type": "markdown",
   "metadata": {},
   "source": [
    "<h2 style=\"color:cornflowerblue\">Naming Components</h2>\n",
    "<p> for better separation of components, each will have a specific name that better reflects on the correlation of the features</p>\n",
    "<p>\n",
    "    <ul type=\"disc\">\n",
    "    <li>Component 0: Vacationless Cheapskate\n",
    "    <li>Component 1: Small & New\n",
    "    <li>Component 2: Family Guy\n",
    "    <li>Component 3: FastnFurious\n",
    "    <li>Component 4: High End\n",
    "    </ul></p>\n",
    "<p>Naming is just an example of how to proper identify the groups of clients and their needs.</p>"
   ]
  },
  {
   "cell_type": "markdown",
   "metadata": {},
   "source": [
    "<h2 style=\"color:cornflowerblue\">PCA Storing</h2>"
   ]
  },
  {
   "cell_type": "code",
   "execution_count": 20,
   "metadata": {},
   "outputs": [
    {
     "data": {
      "text/plain": [
       "array([[ 4.95739724, -0.630778  ,  0.25397408,  4.53413096,  0.4787577 ],\n",
       "       [-0.42529226, -4.57730748, -2.68257259, -2.62292284, -0.50422577],\n",
       "       [-4.20223653,  5.99835902,  2.46455968,  1.54782301, -2.41202492],\n",
       "       ...,\n",
       "       [-6.4115679 , -4.47822563, -6.6555251 , -0.29161379, -1.62472682],\n",
       "       [-3.57270499, -5.5292335 ,  0.25267482,  2.61167859, -1.04362801],\n",
       "       [ 4.05034892,  2.45977589,  3.75878157, -0.49039215,  0.74268315]])"
      ]
     },
     "execution_count": 20,
     "metadata": {},
     "output_type": "execute_result"
    }
   ],
   "source": [
    "# Creating a dataframe of the Principal Components\n",
    "df_PCA = pca.transform(df0.drop(dem_keys_list+[\"mvliking\"], axis=1))\n",
    "\n",
    "df_PCA"
   ]
  },
  {
   "cell_type": "code",
   "execution_count": 21,
   "metadata": {},
   "outputs": [
    {
     "data": {
      "text/plain": [
       "(400, 5)"
      ]
     },
     "execution_count": 21,
     "metadata": {},
     "output_type": "execute_result"
    }
   ],
   "source": [
    "df_PCA.shape"
   ]
  },
  {
   "cell_type": "code",
   "execution_count": 22,
   "metadata": {},
   "outputs": [
    {
     "data": {
      "text/html": [
       "<div>\n",
       "<style scoped>\n",
       "    .dataframe tbody tr th:only-of-type {\n",
       "        vertical-align: middle;\n",
       "    }\n",
       "\n",
       "    .dataframe tbody tr th {\n",
       "        vertical-align: top;\n",
       "    }\n",
       "\n",
       "    .dataframe thead th {\n",
       "        text-align: right;\n",
       "    }\n",
       "</style>\n",
       "<table border=\"1\" class=\"dataframe\">\n",
       "  <thead>\n",
       "    <tr style=\"text-align: right;\">\n",
       "      <th></th>\n",
       "      <th>VacationlessCheapskate</th>\n",
       "      <th>Small&amp;New</th>\n",
       "      <th>FamilyGuy</th>\n",
       "      <th>FastnFurious</th>\n",
       "      <th>HighEnd</th>\n",
       "    </tr>\n",
       "    <tr>\n",
       "      <th>subjnumb</th>\n",
       "      <th></th>\n",
       "      <th></th>\n",
       "      <th></th>\n",
       "      <th></th>\n",
       "      <th></th>\n",
       "    </tr>\n",
       "  </thead>\n",
       "  <tbody>\n",
       "    <tr>\n",
       "      <th>1</th>\n",
       "      <td>4.96</td>\n",
       "      <td>-0.63</td>\n",
       "      <td>0.25</td>\n",
       "      <td>4.53</td>\n",
       "      <td>0.48</td>\n",
       "    </tr>\n",
       "    <tr>\n",
       "      <th>2</th>\n",
       "      <td>-0.43</td>\n",
       "      <td>-4.58</td>\n",
       "      <td>-2.68</td>\n",
       "      <td>-2.62</td>\n",
       "      <td>-0.50</td>\n",
       "    </tr>\n",
       "    <tr>\n",
       "      <th>3</th>\n",
       "      <td>-4.20</td>\n",
       "      <td>6.00</td>\n",
       "      <td>2.46</td>\n",
       "      <td>1.55</td>\n",
       "      <td>-2.41</td>\n",
       "    </tr>\n",
       "    <tr>\n",
       "      <th>4</th>\n",
       "      <td>4.89</td>\n",
       "      <td>-0.93</td>\n",
       "      <td>-0.76</td>\n",
       "      <td>-3.58</td>\n",
       "      <td>3.52</td>\n",
       "    </tr>\n",
       "    <tr>\n",
       "      <th>5</th>\n",
       "      <td>0.12</td>\n",
       "      <td>5.55</td>\n",
       "      <td>-1.02</td>\n",
       "      <td>0.07</td>\n",
       "      <td>-0.84</td>\n",
       "    </tr>\n",
       "  </tbody>\n",
       "</table>\n",
       "</div>"
      ],
      "text/plain": [
       "          VacationlessCheapskate  Small&New  FamilyGuy  FastnFurious  HighEnd\n",
       "subjnumb                                                                     \n",
       "1                           4.96      -0.63       0.25          4.53     0.48\n",
       "2                          -0.43      -4.58      -2.68         -2.62    -0.50\n",
       "3                          -4.20       6.00       2.46          1.55    -2.41\n",
       "4                           4.89      -0.93      -0.76         -3.58     3.52\n",
       "5                           0.12       5.55      -1.02          0.07    -0.84"
      ]
     },
     "execution_count": 22,
     "metadata": {},
     "output_type": "execute_result"
    }
   ],
   "source": [
    "# Dataframe of the PCA with the components names\n",
    "names_PCA = [\"VacationlessCheapskate\",\"Small&New\",\"FamilyGuy\",\"FastnFurious\",\"HighEnd\"]\n",
    "\n",
    "df_PCA = pd.DataFrame(data=df_PCA, columns = names_PCA, index=df0.index)\n",
    "\n",
    "df_PCA.head()"
   ]
  },
  {
   "cell_type": "code",
   "execution_count": 23,
   "metadata": {},
   "outputs": [
    {
     "data": {
      "text/html": [
       "<div>\n",
       "<style scoped>\n",
       "    .dataframe tbody tr th:only-of-type {\n",
       "        vertical-align: middle;\n",
       "    }\n",
       "\n",
       "    .dataframe tbody tr th {\n",
       "        vertical-align: top;\n",
       "    }\n",
       "\n",
       "    .dataframe thead th {\n",
       "        text-align: right;\n",
       "    }\n",
       "</style>\n",
       "<table border=\"1\" class=\"dataframe\">\n",
       "  <thead>\n",
       "    <tr style=\"text-align: right;\">\n",
       "      <th></th>\n",
       "      <th>VacationlessCheapskate</th>\n",
       "      <th>Small&amp;New</th>\n",
       "      <th>FamilyGuy</th>\n",
       "      <th>FastnFurious</th>\n",
       "      <th>HighEnd</th>\n",
       "      <th>age</th>\n",
       "      <th>income</th>\n",
       "      <th>miles</th>\n",
       "      <th>numkids</th>\n",
       "      <th>female</th>\n",
       "      <th>educ</th>\n",
       "      <th>recycle</th>\n",
       "      <th>mvliking</th>\n",
       "    </tr>\n",
       "    <tr>\n",
       "      <th>subjnumb</th>\n",
       "      <th></th>\n",
       "      <th></th>\n",
       "      <th></th>\n",
       "      <th></th>\n",
       "      <th></th>\n",
       "      <th></th>\n",
       "      <th></th>\n",
       "      <th></th>\n",
       "      <th></th>\n",
       "      <th></th>\n",
       "      <th></th>\n",
       "      <th></th>\n",
       "      <th></th>\n",
       "    </tr>\n",
       "  </thead>\n",
       "  <tbody>\n",
       "    <tr>\n",
       "      <th>1</th>\n",
       "      <td>4.96</td>\n",
       "      <td>-0.63</td>\n",
       "      <td>0.25</td>\n",
       "      <td>4.53</td>\n",
       "      <td>0.48</td>\n",
       "      <td>34</td>\n",
       "      <td>59</td>\n",
       "      <td>14</td>\n",
       "      <td>1</td>\n",
       "      <td>0</td>\n",
       "      <td>1</td>\n",
       "      <td>3</td>\n",
       "      <td>4</td>\n",
       "    </tr>\n",
       "    <tr>\n",
       "      <th>2</th>\n",
       "      <td>-0.43</td>\n",
       "      <td>-4.58</td>\n",
       "      <td>-2.68</td>\n",
       "      <td>-2.62</td>\n",
       "      <td>-0.50</td>\n",
       "      <td>36</td>\n",
       "      <td>79</td>\n",
       "      <td>16</td>\n",
       "      <td>1</td>\n",
       "      <td>0</td>\n",
       "      <td>3</td>\n",
       "      <td>4</td>\n",
       "      <td>6</td>\n",
       "    </tr>\n",
       "    <tr>\n",
       "      <th>3</th>\n",
       "      <td>-4.20</td>\n",
       "      <td>6.00</td>\n",
       "      <td>2.46</td>\n",
       "      <td>1.55</td>\n",
       "      <td>-2.41</td>\n",
       "      <td>51</td>\n",
       "      <td>72</td>\n",
       "      <td>22</td>\n",
       "      <td>2</td>\n",
       "      <td>1</td>\n",
       "      <td>3</td>\n",
       "      <td>3</td>\n",
       "      <td>3</td>\n",
       "    </tr>\n",
       "    <tr>\n",
       "      <th>4</th>\n",
       "      <td>4.89</td>\n",
       "      <td>-0.93</td>\n",
       "      <td>-0.76</td>\n",
       "      <td>-3.58</td>\n",
       "      <td>3.52</td>\n",
       "      <td>32</td>\n",
       "      <td>42</td>\n",
       "      <td>12</td>\n",
       "      <td>0</td>\n",
       "      <td>0</td>\n",
       "      <td>3</td>\n",
       "      <td>2</td>\n",
       "      <td>3</td>\n",
       "    </tr>\n",
       "    <tr>\n",
       "      <th>5</th>\n",
       "      <td>0.12</td>\n",
       "      <td>5.55</td>\n",
       "      <td>-1.02</td>\n",
       "      <td>0.07</td>\n",
       "      <td>-0.84</td>\n",
       "      <td>40</td>\n",
       "      <td>75</td>\n",
       "      <td>17</td>\n",
       "      <td>1</td>\n",
       "      <td>1</td>\n",
       "      <td>3</td>\n",
       "      <td>4</td>\n",
       "      <td>1</td>\n",
       "    </tr>\n",
       "  </tbody>\n",
       "</table>\n",
       "</div>"
      ],
      "text/plain": [
       "          VacationlessCheapskate  Small&New  FamilyGuy  FastnFurious  HighEnd  \\\n",
       "subjnumb                                                                        \n",
       "1                           4.96      -0.63       0.25          4.53     0.48   \n",
       "2                          -0.43      -4.58      -2.68         -2.62    -0.50   \n",
       "3                          -4.20       6.00       2.46          1.55    -2.41   \n",
       "4                           4.89      -0.93      -0.76         -3.58     3.52   \n",
       "5                           0.12       5.55      -1.02          0.07    -0.84   \n",
       "\n",
       "          age  income  miles  numkids  female  educ  recycle  mvliking  \n",
       "subjnumb                                                                \n",
       "1          34      59     14        1       0     1        3         4  \n",
       "2          36      79     16        1       0     3        4         6  \n",
       "3          51      72     22        2       1     3        3         3  \n",
       "4          32      42     12        0       0     3        2         3  \n",
       "5          40      75     17        1       1     3        4         1  "
      ]
     },
     "execution_count": 23,
     "metadata": {},
     "output_type": "execute_result"
    }
   ],
   "source": [
    "# Dataframe with the demographic information added\n",
    "dfcomp = pd.concat([df_PCA, df0.loc[:, dem_keys_list+[\"mvliking\"]]], axis=1)\n",
    "dfcomp.head()"
   ]
  },
  {
   "cell_type": "markdown",
   "metadata": {},
   "source": [
    "<h2 style=\"color:cornflowerblue\">PCA Conclusion</h2>\n",
    "<p>After replacing the features with 5 principal components that explain about 70% of the data, the new features were named and a new dataframe was created.</p>\n",
    "<p>The new dataframe contains the 5 new features (as results from PCA) and the demographic information of each client.</p>"
   ]
  },
  {
   "cell_type": "markdown",
   "metadata": {},
   "source": [
    "<h1 style=\"color:cornflowerblue\">Clustering Client Base</h1>\n",
    "<p>The goal is to create clusters of clients, based on the new features.</p>"
   ]
  },
  {
   "cell_type": "markdown",
   "metadata": {},
   "source": [
    "<h2 style=\"color:cornflowerblue\">Clustering - Elbow Method</h2>"
   ]
  },
  {
   "cell_type": "code",
   "execution_count": 24,
   "metadata": {},
   "outputs": [
    {
     "data": {
      "image/png": "[encoded data removed]",
      "text/plain": [
       "<Figure size 640x480 with 1 Axes>"
      ]
     },
     "metadata": {},
     "output_type": "display_data"
    }
   ],
   "source": [
    "# Using the Sum of Squared Error as metric to choose the number of clusters\n",
    "sse = {}\n",
    "\n",
    "for k in range(1,10):\n",
    "    # Separating the base in clusters\n",
    "    kmeans = KMeans(n_clusters=k, max_iter=1000, random_state=42, n_init=10).fit(dfcomp.loc[:, names_PCA])\n",
    "\n",
    "    # Sum of the distances between observations\n",
    "    sse[k] = kmeans.inertia_\n",
    "\n",
    "# Creating plot for visualization of clusters for the elbow method\n",
    "plt.figure()\n",
    "plt.plot(list(sse.keys()), list(sse.values()))\n",
    "plt.xlabel(\"Clusters\")\n",
    "plt.ylabel(\"SSE\")\n",
    "plt.show()"
   ]
  },
  {
   "cell_type": "code",
   "execution_count": 25,
   "metadata": {},
   "outputs": [
    {
     "data": {
      "text/html": [
       "<div>\n",
       "<style scoped>\n",
       "    .dataframe tbody tr th:only-of-type {\n",
       "        vertical-align: middle;\n",
       "    }\n",
       "\n",
       "    .dataframe tbody tr th {\n",
       "        vertical-align: top;\n",
       "    }\n",
       "\n",
       "    .dataframe thead th {\n",
       "        text-align: right;\n",
       "    }\n",
       "</style>\n",
       "<table border=\"1\" class=\"dataframe\">\n",
       "  <thead>\n",
       "    <tr style=\"text-align: right;\">\n",
       "      <th></th>\n",
       "      <th>VacationlessCheapskate</th>\n",
       "      <th>Small&amp;New</th>\n",
       "      <th>FamilyGuy</th>\n",
       "      <th>FastnFurious</th>\n",
       "      <th>HighEnd</th>\n",
       "      <th>age</th>\n",
       "      <th>income</th>\n",
       "      <th>miles</th>\n",
       "      <th>numkids</th>\n",
       "      <th>female</th>\n",
       "      <th>educ</th>\n",
       "      <th>recycle</th>\n",
       "      <th>mvliking</th>\n",
       "      <th>cluster</th>\n",
       "    </tr>\n",
       "    <tr>\n",
       "      <th>subjnumb</th>\n",
       "      <th></th>\n",
       "      <th></th>\n",
       "      <th></th>\n",
       "      <th></th>\n",
       "      <th></th>\n",
       "      <th></th>\n",
       "      <th></th>\n",
       "      <th></th>\n",
       "      <th></th>\n",
       "      <th></th>\n",
       "      <th></th>\n",
       "      <th></th>\n",
       "      <th></th>\n",
       "      <th></th>\n",
       "    </tr>\n",
       "  </thead>\n",
       "  <tbody>\n",
       "    <tr>\n",
       "      <th>1</th>\n",
       "      <td>4.96</td>\n",
       "      <td>-0.63</td>\n",
       "      <td>0.25</td>\n",
       "      <td>4.53</td>\n",
       "      <td>0.48</td>\n",
       "      <td>34</td>\n",
       "      <td>59</td>\n",
       "      <td>14</td>\n",
       "      <td>1</td>\n",
       "      <td>0</td>\n",
       "      <td>1</td>\n",
       "      <td>3</td>\n",
       "      <td>4</td>\n",
       "      <td>0</td>\n",
       "    </tr>\n",
       "    <tr>\n",
       "      <th>2</th>\n",
       "      <td>-0.43</td>\n",
       "      <td>-4.58</td>\n",
       "      <td>-2.68</td>\n",
       "      <td>-2.62</td>\n",
       "      <td>-0.50</td>\n",
       "      <td>36</td>\n",
       "      <td>79</td>\n",
       "      <td>16</td>\n",
       "      <td>1</td>\n",
       "      <td>0</td>\n",
       "      <td>3</td>\n",
       "      <td>4</td>\n",
       "      <td>6</td>\n",
       "      <td>2</td>\n",
       "    </tr>\n",
       "    <tr>\n",
       "      <th>3</th>\n",
       "      <td>-4.20</td>\n",
       "      <td>6.00</td>\n",
       "      <td>2.46</td>\n",
       "      <td>1.55</td>\n",
       "      <td>-2.41</td>\n",
       "      <td>51</td>\n",
       "      <td>72</td>\n",
       "      <td>22</td>\n",
       "      <td>2</td>\n",
       "      <td>1</td>\n",
       "      <td>3</td>\n",
       "      <td>3</td>\n",
       "      <td>3</td>\n",
       "      <td>1</td>\n",
       "    </tr>\n",
       "    <tr>\n",
       "      <th>4</th>\n",
       "      <td>4.89</td>\n",
       "      <td>-0.93</td>\n",
       "      <td>-0.76</td>\n",
       "      <td>-3.58</td>\n",
       "      <td>3.52</td>\n",
       "      <td>32</td>\n",
       "      <td>42</td>\n",
       "      <td>12</td>\n",
       "      <td>0</td>\n",
       "      <td>0</td>\n",
       "      <td>3</td>\n",
       "      <td>2</td>\n",
       "      <td>3</td>\n",
       "      <td>0</td>\n",
       "    </tr>\n",
       "    <tr>\n",
       "      <th>5</th>\n",
       "      <td>0.12</td>\n",
       "      <td>5.55</td>\n",
       "      <td>-1.02</td>\n",
       "      <td>0.07</td>\n",
       "      <td>-0.84</td>\n",
       "      <td>40</td>\n",
       "      <td>75</td>\n",
       "      <td>17</td>\n",
       "      <td>1</td>\n",
       "      <td>1</td>\n",
       "      <td>3</td>\n",
       "      <td>4</td>\n",
       "      <td>1</td>\n",
       "      <td>1</td>\n",
       "    </tr>\n",
       "  </tbody>\n",
       "</table>\n",
       "</div>"
      ],
      "text/plain": [
       "          VacationlessCheapskate  Small&New  FamilyGuy  FastnFurious  HighEnd  \\\n",
       "subjnumb                                                                        \n",
       "1                           4.96      -0.63       0.25          4.53     0.48   \n",
       "2                          -0.43      -4.58      -2.68         -2.62    -0.50   \n",
       "3                          -4.20       6.00       2.46          1.55    -2.41   \n",
       "4                           4.89      -0.93      -0.76         -3.58     3.52   \n",
       "5                           0.12       5.55      -1.02          0.07    -0.84   \n",
       "\n",
       "          age  income  miles  numkids  female  educ  recycle  mvliking  \\\n",
       "subjnumb                                                                 \n",
       "1          34      59     14        1       0     1        3         4   \n",
       "2          36      79     16        1       0     3        4         6   \n",
       "3          51      72     22        2       1     3        3         3   \n",
       "4          32      42     12        0       0     3        2         3   \n",
       "5          40      75     17        1       1     3        4         1   \n",
       "\n",
       "          cluster  \n",
       "subjnumb           \n",
       "1               0  \n",
       "2               2  \n",
       "3               1  \n",
       "4               0  \n",
       "5               1  "
      ]
     },
     "execution_count": 25,
     "metadata": {},
     "output_type": "execute_result"
    }
   ],
   "source": [
    "# Using 3 clusters as seen in the previous graphic\n",
    "kmeans = KMeans(n_clusters=3, max_iter=1000, random_state=42, n_init=10).fit(dfcomp.loc[:, names_PCA])\n",
    "\n",
    "\n",
    "# Adding a column with to inform the cluster of each client\n",
    "dfcomp[\"cluster\"] = kmeans.labels_\n",
    "\n",
    "dfcomp.head()"
   ]
  },
  {
   "cell_type": "code",
   "execution_count": 26,
   "metadata": {},
   "outputs": [
    {
     "data": {
      "text/html": [
       "<div>\n",
       "<style scoped>\n",
       "    .dataframe tbody tr th:only-of-type {\n",
       "        vertical-align: middle;\n",
       "    }\n",
       "\n",
       "    .dataframe tbody tr th {\n",
       "        vertical-align: top;\n",
       "    }\n",
       "\n",
       "    .dataframe thead th {\n",
       "        text-align: right;\n",
       "    }\n",
       "</style>\n",
       "<table border=\"1\" class=\"dataframe\">\n",
       "  <thead>\n",
       "    <tr style=\"text-align: right;\">\n",
       "      <th></th>\n",
       "      <th>VacationlessCheapskate</th>\n",
       "      <th>Small&amp;New</th>\n",
       "      <th>FamilyGuy</th>\n",
       "      <th>FastnFurious</th>\n",
       "      <th>HighEnd</th>\n",
       "    </tr>\n",
       "  </thead>\n",
       "  <tbody>\n",
       "    <tr>\n",
       "      <th>0</th>\n",
       "      <td>4.82</td>\n",
       "      <td>-0.17</td>\n",
       "      <td>0.26</td>\n",
       "      <td>-0.08</td>\n",
       "      <td>-0.04</td>\n",
       "    </tr>\n",
       "    <tr>\n",
       "      <th>1</th>\n",
       "      <td>-2.91</td>\n",
       "      <td>3.73</td>\n",
       "      <td>-0.33</td>\n",
       "      <td>0.13</td>\n",
       "      <td>0.14</td>\n",
       "    </tr>\n",
       "    <tr>\n",
       "      <th>2</th>\n",
       "      <td>-3.49</td>\n",
       "      <td>-3.91</td>\n",
       "      <td>0.00</td>\n",
       "      <td>-0.03</td>\n",
       "      <td>-0.10</td>\n",
       "    </tr>\n",
       "  </tbody>\n",
       "</table>\n",
       "</div>"
      ],
      "text/plain": [
       "   VacationlessCheapskate  Small&New  FamilyGuy  FastnFurious  HighEnd\n",
       "0                    4.82      -0.17       0.26         -0.08    -0.04\n",
       "1                   -2.91       3.73      -0.33          0.13     0.14\n",
       "2                   -3.49      -3.91       0.00         -0.03    -0.10"
      ]
     },
     "execution_count": 26,
     "metadata": {},
     "output_type": "execute_result"
    }
   ],
   "source": [
    "# Dataframe of each cluster centroid\n",
    "df_kcentroid = pd.DataFrame(data=kmeans.cluster_centers_, columns=names_PCA)\n",
    "df_kcentroid"
   ]
  },
  {
   "cell_type": "code",
   "execution_count": 27,
   "metadata": {},
   "outputs": [
    {
     "data": {
      "text/html": [
       "<div>\n",
       "<style scoped>\n",
       "    .dataframe tbody tr th:only-of-type {\n",
       "        vertical-align: middle;\n",
       "    }\n",
       "\n",
       "    .dataframe tbody tr th {\n",
       "        vertical-align: top;\n",
       "    }\n",
       "\n",
       "    .dataframe thead th {\n",
       "        text-align: right;\n",
       "    }\n",
       "</style>\n",
       "<table border=\"1\" class=\"dataframe\">\n",
       "  <thead>\n",
       "    <tr style=\"text-align: right;\">\n",
       "      <th></th>\n",
       "      <th>VacationlessCheapskate</th>\n",
       "      <th>Small&amp;New</th>\n",
       "      <th>FamilyGuy</th>\n",
       "      <th>FastnFurious</th>\n",
       "      <th>HighEnd</th>\n",
       "      <th>age</th>\n",
       "      <th>income</th>\n",
       "      <th>miles</th>\n",
       "      <th>numkids</th>\n",
       "      <th>female</th>\n",
       "      <th>educ</th>\n",
       "      <th>recycle</th>\n",
       "      <th>mvliking</th>\n",
       "      <th>cluster</th>\n",
       "    </tr>\n",
       "    <tr>\n",
       "      <th>subjnumb</th>\n",
       "      <th></th>\n",
       "      <th></th>\n",
       "      <th></th>\n",
       "      <th></th>\n",
       "      <th></th>\n",
       "      <th></th>\n",
       "      <th></th>\n",
       "      <th></th>\n",
       "      <th></th>\n",
       "      <th></th>\n",
       "      <th></th>\n",
       "      <th></th>\n",
       "      <th></th>\n",
       "      <th></th>\n",
       "    </tr>\n",
       "  </thead>\n",
       "  <tbody>\n",
       "    <tr>\n",
       "      <th>1</th>\n",
       "      <td>4.96</td>\n",
       "      <td>-0.63</td>\n",
       "      <td>0.25</td>\n",
       "      <td>4.53</td>\n",
       "      <td>0.48</td>\n",
       "      <td>34</td>\n",
       "      <td>59</td>\n",
       "      <td>14</td>\n",
       "      <td>1</td>\n",
       "      <td>0</td>\n",
       "      <td>1</td>\n",
       "      <td>3</td>\n",
       "      <td>4</td>\n",
       "      <td>0</td>\n",
       "    </tr>\n",
       "    <tr>\n",
       "      <th>4</th>\n",
       "      <td>4.89</td>\n",
       "      <td>-0.93</td>\n",
       "      <td>-0.76</td>\n",
       "      <td>-3.58</td>\n",
       "      <td>3.52</td>\n",
       "      <td>32</td>\n",
       "      <td>42</td>\n",
       "      <td>12</td>\n",
       "      <td>0</td>\n",
       "      <td>0</td>\n",
       "      <td>3</td>\n",
       "      <td>2</td>\n",
       "      <td>3</td>\n",
       "      <td>0</td>\n",
       "    </tr>\n",
       "    <tr>\n",
       "      <th>8</th>\n",
       "      <td>4.29</td>\n",
       "      <td>-1.27</td>\n",
       "      <td>2.10</td>\n",
       "      <td>-2.66</td>\n",
       "      <td>0.53</td>\n",
       "      <td>29</td>\n",
       "      <td>39</td>\n",
       "      <td>16</td>\n",
       "      <td>1</td>\n",
       "      <td>0</td>\n",
       "      <td>2</td>\n",
       "      <td>2</td>\n",
       "      <td>4</td>\n",
       "      <td>0</td>\n",
       "    </tr>\n",
       "    <tr>\n",
       "      <th>10</th>\n",
       "      <td>8.11</td>\n",
       "      <td>1.87</td>\n",
       "      <td>-1.86</td>\n",
       "      <td>-1.12</td>\n",
       "      <td>-0.59</td>\n",
       "      <td>26</td>\n",
       "      <td>26</td>\n",
       "      <td>11</td>\n",
       "      <td>0</td>\n",
       "      <td>0</td>\n",
       "      <td>2</td>\n",
       "      <td>3</td>\n",
       "      <td>3</td>\n",
       "      <td>0</td>\n",
       "    </tr>\n",
       "    <tr>\n",
       "      <th>11</th>\n",
       "      <td>5.16</td>\n",
       "      <td>-2.38</td>\n",
       "      <td>2.59</td>\n",
       "      <td>-3.28</td>\n",
       "      <td>0.27</td>\n",
       "      <td>31</td>\n",
       "      <td>20</td>\n",
       "      <td>12</td>\n",
       "      <td>0</td>\n",
       "      <td>1</td>\n",
       "      <td>3</td>\n",
       "      <td>3</td>\n",
       "      <td>1</td>\n",
       "      <td>0</td>\n",
       "    </tr>\n",
       "  </tbody>\n",
       "</table>\n",
       "</div>"
      ],
      "text/plain": [
       "          VacationlessCheapskate  Small&New  FamilyGuy  FastnFurious  HighEnd  \\\n",
       "subjnumb                                                                        \n",
       "1                           4.96      -0.63       0.25          4.53     0.48   \n",
       "4                           4.89      -0.93      -0.76         -3.58     3.52   \n",
       "8                           4.29      -1.27       2.10         -2.66     0.53   \n",
       "10                          8.11       1.87      -1.86         -1.12    -0.59   \n",
       "11                          5.16      -2.38       2.59         -3.28     0.27   \n",
       "\n",
       "          age  income  miles  numkids  female  educ  recycle  mvliking  \\\n",
       "subjnumb                                                                 \n",
       "1          34      59     14        1       0     1        3         4   \n",
       "4          32      42     12        0       0     3        2         3   \n",
       "8          29      39     16        1       0     2        2         4   \n",
       "10         26      26     11        0       0     2        3         3   \n",
       "11         31      20     12        0       1     3        3         1   \n",
       "\n",
       "          cluster  \n",
       "subjnumb           \n",
       "1               0  \n",
       "4               0  \n",
       "8               0  \n",
       "10              0  \n",
       "11              0  "
      ]
     },
     "execution_count": 27,
     "metadata": {},
     "output_type": "execute_result"
    }
   ],
   "source": [
    "# Checking cluster 0\n",
    "cluster0 = dfcomp.loc[dfcomp[\"cluster\"] == 0]\n",
    "cluster0.head()"
   ]
  },
  {
   "cell_type": "code",
   "execution_count": 28,
   "metadata": {},
   "outputs": [
    {
     "data": {
      "text/html": [
       "<div>\n",
       "<style scoped>\n",
       "    .dataframe tbody tr th:only-of-type {\n",
       "        vertical-align: middle;\n",
       "    }\n",
       "\n",
       "    .dataframe tbody tr th {\n",
       "        vertical-align: top;\n",
       "    }\n",
       "\n",
       "    .dataframe thead th {\n",
       "        text-align: right;\n",
       "    }\n",
       "</style>\n",
       "<table border=\"1\" class=\"dataframe\">\n",
       "  <thead>\n",
       "    <tr style=\"text-align: right;\">\n",
       "      <th></th>\n",
       "      <th>VacationlessCheapskate</th>\n",
       "      <th>Small&amp;New</th>\n",
       "      <th>FamilyGuy</th>\n",
       "      <th>FastnFurious</th>\n",
       "      <th>HighEnd</th>\n",
       "      <th>age</th>\n",
       "      <th>income</th>\n",
       "      <th>miles</th>\n",
       "      <th>numkids</th>\n",
       "      <th>female</th>\n",
       "      <th>educ</th>\n",
       "      <th>recycle</th>\n",
       "      <th>mvliking</th>\n",
       "      <th>cluster</th>\n",
       "    </tr>\n",
       "  </thead>\n",
       "  <tbody>\n",
       "    <tr>\n",
       "      <th>count</th>\n",
       "      <td>159.00</td>\n",
       "      <td>159.00</td>\n",
       "      <td>159.00</td>\n",
       "      <td>159.00</td>\n",
       "      <td>159.00</td>\n",
       "      <td>159.00</td>\n",
       "      <td>159.00</td>\n",
       "      <td>159.00</td>\n",
       "      <td>159.00</td>\n",
       "      <td>159.00</td>\n",
       "      <td>159.00</td>\n",
       "      <td>159.00</td>\n",
       "      <td>159.00</td>\n",
       "      <td>159.00</td>\n",
       "    </tr>\n",
       "    <tr>\n",
       "      <th>mean</th>\n",
       "      <td>4.82</td>\n",
       "      <td>-0.17</td>\n",
       "      <td>0.26</td>\n",
       "      <td>-0.08</td>\n",
       "      <td>-0.04</td>\n",
       "      <td>32.15</td>\n",
       "      <td>36.65</td>\n",
       "      <td>14.61</td>\n",
       "      <td>0.67</td>\n",
       "      <td>0.48</td>\n",
       "      <td>2.05</td>\n",
       "      <td>2.99</td>\n",
       "      <td>3.91</td>\n",
       "      <td>0.00</td>\n",
       "    </tr>\n",
       "    <tr>\n",
       "      <th>std</th>\n",
       "      <td>1.90</td>\n",
       "      <td>1.77</td>\n",
       "      <td>2.54</td>\n",
       "      <td>2.47</td>\n",
       "      <td>2.17</td>\n",
       "      <td>5.30</td>\n",
       "      <td>16.33</td>\n",
       "      <td>3.56</td>\n",
       "      <td>0.76</td>\n",
       "      <td>0.50</td>\n",
       "      <td>0.77</td>\n",
       "      <td>1.13</td>\n",
       "      <td>2.48</td>\n",
       "      <td>0.00</td>\n",
       "    </tr>\n",
       "    <tr>\n",
       "      <th>min</th>\n",
       "      <td>1.20</td>\n",
       "      <td>-5.24</td>\n",
       "      <td>-5.78</td>\n",
       "      <td>-5.29</td>\n",
       "      <td>-5.83</td>\n",
       "      <td>19.00</td>\n",
       "      <td>15.00</td>\n",
       "      <td>7.00</td>\n",
       "      <td>0.00</td>\n",
       "      <td>0.00</td>\n",
       "      <td>1.00</td>\n",
       "      <td>1.00</td>\n",
       "      <td>1.00</td>\n",
       "      <td>0.00</td>\n",
       "    </tr>\n",
       "    <tr>\n",
       "      <th>25%</th>\n",
       "      <td>3.52</td>\n",
       "      <td>-1.24</td>\n",
       "      <td>-1.47</td>\n",
       "      <td>-1.79</td>\n",
       "      <td>-1.50</td>\n",
       "      <td>28.00</td>\n",
       "      <td>25.00</td>\n",
       "      <td>12.00</td>\n",
       "      <td>0.00</td>\n",
       "      <td>0.00</td>\n",
       "      <td>1.00</td>\n",
       "      <td>2.00</td>\n",
       "      <td>2.00</td>\n",
       "      <td>0.00</td>\n",
       "    </tr>\n",
       "    <tr>\n",
       "      <th>50%</th>\n",
       "      <td>4.60</td>\n",
       "      <td>-0.32</td>\n",
       "      <td>0.27</td>\n",
       "      <td>-0.22</td>\n",
       "      <td>-0.07</td>\n",
       "      <td>32.00</td>\n",
       "      <td>32.00</td>\n",
       "      <td>15.00</td>\n",
       "      <td>1.00</td>\n",
       "      <td>0.00</td>\n",
       "      <td>2.00</td>\n",
       "      <td>3.00</td>\n",
       "      <td>4.00</td>\n",
       "      <td>0.00</td>\n",
       "    </tr>\n",
       "    <tr>\n",
       "      <th>75%</th>\n",
       "      <td>5.97</td>\n",
       "      <td>1.06</td>\n",
       "      <td>2.05</td>\n",
       "      <td>1.45</td>\n",
       "      <td>1.51</td>\n",
       "      <td>36.00</td>\n",
       "      <td>45.00</td>\n",
       "      <td>17.00</td>\n",
       "      <td>1.00</td>\n",
       "      <td>1.00</td>\n",
       "      <td>3.00</td>\n",
       "      <td>4.00</td>\n",
       "      <td>6.00</td>\n",
       "      <td>0.00</td>\n",
       "    </tr>\n",
       "    <tr>\n",
       "      <th>max</th>\n",
       "      <td>10.33</td>\n",
       "      <td>4.33</td>\n",
       "      <td>6.87</td>\n",
       "      <td>5.90</td>\n",
       "      <td>5.45</td>\n",
       "      <td>48.00</td>\n",
       "      <td>131.00</td>\n",
       "      <td>24.00</td>\n",
       "      <td>4.00</td>\n",
       "      <td>1.00</td>\n",
       "      <td>3.00</td>\n",
       "      <td>5.00</td>\n",
       "      <td>9.00</td>\n",
       "      <td>0.00</td>\n",
       "    </tr>\n",
       "  </tbody>\n",
       "</table>\n",
       "</div>"
      ],
      "text/plain": [
       "       VacationlessCheapskate  Small&New  FamilyGuy  FastnFurious  HighEnd  \\\n",
       "count                  159.00     159.00     159.00        159.00   159.00   \n",
       "mean                     4.82      -0.17       0.26         -0.08    -0.04   \n",
       "std                      1.90       1.77       2.54          2.47     2.17   \n",
       "min                      1.20      -5.24      -5.78         -5.29    -5.83   \n",
       "25%                      3.52      -1.24      -1.47         -1.79    -1.50   \n",
       "50%                      4.60      -0.32       0.27         -0.22    -0.07   \n",
       "75%                      5.97       1.06       2.05          1.45     1.51   \n",
       "max                     10.33       4.33       6.87          5.90     5.45   \n",
       "\n",
       "         age  income  miles  numkids  female   educ  recycle  mvliking  \\\n",
       "count 159.00  159.00 159.00   159.00  159.00 159.00   159.00    159.00   \n",
       "mean   32.15   36.65  14.61     0.67    0.48   2.05     2.99      3.91   \n",
       "std     5.30   16.33   3.56     0.76    0.50   0.77     1.13      2.48   \n",
       "min    19.00   15.00   7.00     0.00    0.00   1.00     1.00      1.00   \n",
       "25%    28.00   25.00  12.00     0.00    0.00   1.00     2.00      2.00   \n",
       "50%    32.00   32.00  15.00     1.00    0.00   2.00     3.00      4.00   \n",
       "75%    36.00   45.00  17.00     1.00    1.00   3.00     4.00      6.00   \n",
       "max    48.00  131.00  24.00     4.00    1.00   3.00     5.00      9.00   \n",
       "\n",
       "       cluster  \n",
       "count   159.00  \n",
       "mean      0.00  \n",
       "std       0.00  \n",
       "min       0.00  \n",
       "25%       0.00  \n",
       "50%       0.00  \n",
       "75%       0.00  \n",
       "max       0.00  "
      ]
     },
     "execution_count": 28,
     "metadata": {},
     "output_type": "execute_result"
    }
   ],
   "source": [
    "# Checking cluster 0 Statistics\n",
    "cluster0.describe()"
   ]
  },
  {
   "cell_type": "code",
   "execution_count": 29,
   "metadata": {},
   "outputs": [
    {
     "data": {
      "text/html": [
       "<div>\n",
       "<style scoped>\n",
       "    .dataframe tbody tr th:only-of-type {\n",
       "        vertical-align: middle;\n",
       "    }\n",
       "\n",
       "    .dataframe tbody tr th {\n",
       "        vertical-align: top;\n",
       "    }\n",
       "\n",
       "    .dataframe thead th {\n",
       "        text-align: right;\n",
       "    }\n",
       "</style>\n",
       "<table border=\"1\" class=\"dataframe\">\n",
       "  <thead>\n",
       "    <tr style=\"text-align: right;\">\n",
       "      <th></th>\n",
       "      <th>VacationlessCheapskate</th>\n",
       "      <th>Small&amp;New</th>\n",
       "      <th>FamilyGuy</th>\n",
       "      <th>FastnFurious</th>\n",
       "      <th>HighEnd</th>\n",
       "      <th>age</th>\n",
       "      <th>income</th>\n",
       "      <th>miles</th>\n",
       "      <th>numkids</th>\n",
       "      <th>female</th>\n",
       "      <th>educ</th>\n",
       "      <th>recycle</th>\n",
       "      <th>mvliking</th>\n",
       "      <th>cluster</th>\n",
       "    </tr>\n",
       "    <tr>\n",
       "      <th>subjnumb</th>\n",
       "      <th></th>\n",
       "      <th></th>\n",
       "      <th></th>\n",
       "      <th></th>\n",
       "      <th></th>\n",
       "      <th></th>\n",
       "      <th></th>\n",
       "      <th></th>\n",
       "      <th></th>\n",
       "      <th></th>\n",
       "      <th></th>\n",
       "      <th></th>\n",
       "      <th></th>\n",
       "      <th></th>\n",
       "    </tr>\n",
       "  </thead>\n",
       "  <tbody>\n",
       "    <tr>\n",
       "      <th>3</th>\n",
       "      <td>-4.20</td>\n",
       "      <td>6.00</td>\n",
       "      <td>2.46</td>\n",
       "      <td>1.55</td>\n",
       "      <td>-2.41</td>\n",
       "      <td>51</td>\n",
       "      <td>72</td>\n",
       "      <td>22</td>\n",
       "      <td>2</td>\n",
       "      <td>1</td>\n",
       "      <td>3</td>\n",
       "      <td>3</td>\n",
       "      <td>3</td>\n",
       "      <td>1</td>\n",
       "    </tr>\n",
       "    <tr>\n",
       "      <th>5</th>\n",
       "      <td>0.12</td>\n",
       "      <td>5.55</td>\n",
       "      <td>-1.02</td>\n",
       "      <td>0.07</td>\n",
       "      <td>-0.84</td>\n",
       "      <td>40</td>\n",
       "      <td>75</td>\n",
       "      <td>17</td>\n",
       "      <td>1</td>\n",
       "      <td>1</td>\n",
       "      <td>3</td>\n",
       "      <td>4</td>\n",
       "      <td>1</td>\n",
       "      <td>1</td>\n",
       "    </tr>\n",
       "    <tr>\n",
       "      <th>6</th>\n",
       "      <td>-3.41</td>\n",
       "      <td>8.46</td>\n",
       "      <td>-3.38</td>\n",
       "      <td>-1.64</td>\n",
       "      <td>-1.34</td>\n",
       "      <td>43</td>\n",
       "      <td>94</td>\n",
       "      <td>16</td>\n",
       "      <td>0</td>\n",
       "      <td>0</td>\n",
       "      <td>3</td>\n",
       "      <td>5</td>\n",
       "      <td>2</td>\n",
       "      <td>1</td>\n",
       "    </tr>\n",
       "    <tr>\n",
       "      <th>9</th>\n",
       "      <td>-3.82</td>\n",
       "      <td>4.41</td>\n",
       "      <td>-0.15</td>\n",
       "      <td>1.17</td>\n",
       "      <td>1.07</td>\n",
       "      <td>38</td>\n",
       "      <td>129</td>\n",
       "      <td>20</td>\n",
       "      <td>1</td>\n",
       "      <td>0</td>\n",
       "      <td>3</td>\n",
       "      <td>2</td>\n",
       "      <td>5</td>\n",
       "      <td>1</td>\n",
       "    </tr>\n",
       "    <tr>\n",
       "      <th>12</th>\n",
       "      <td>-2.17</td>\n",
       "      <td>4.27</td>\n",
       "      <td>0.15</td>\n",
       "      <td>1.24</td>\n",
       "      <td>2.22</td>\n",
       "      <td>43</td>\n",
       "      <td>136</td>\n",
       "      <td>17</td>\n",
       "      <td>0</td>\n",
       "      <td>0</td>\n",
       "      <td>3</td>\n",
       "      <td>1</td>\n",
       "      <td>3</td>\n",
       "      <td>1</td>\n",
       "    </tr>\n",
       "  </tbody>\n",
       "</table>\n",
       "</div>"
      ],
      "text/plain": [
       "          VacationlessCheapskate  Small&New  FamilyGuy  FastnFurious  HighEnd  \\\n",
       "subjnumb                                                                        \n",
       "3                          -4.20       6.00       2.46          1.55    -2.41   \n",
       "5                           0.12       5.55      -1.02          0.07    -0.84   \n",
       "6                          -3.41       8.46      -3.38         -1.64    -1.34   \n",
       "9                          -3.82       4.41      -0.15          1.17     1.07   \n",
       "12                         -2.17       4.27       0.15          1.24     2.22   \n",
       "\n",
       "          age  income  miles  numkids  female  educ  recycle  mvliking  \\\n",
       "subjnumb                                                                 \n",
       "3          51      72     22        2       1     3        3         3   \n",
       "5          40      75     17        1       1     3        4         1   \n",
       "6          43      94     16        0       0     3        5         2   \n",
       "9          38     129     20        1       0     3        2         5   \n",
       "12         43     136     17        0       0     3        1         3   \n",
       "\n",
       "          cluster  \n",
       "subjnumb           \n",
       "3               1  \n",
       "5               1  \n",
       "6               1  \n",
       "9               1  \n",
       "12              1  "
      ]
     },
     "execution_count": 29,
     "metadata": {},
     "output_type": "execute_result"
    }
   ],
   "source": [
    "# Checking cluster 1\n",
    "cluster1 = dfcomp.loc[dfcomp[\"cluster\"] == 1]\n",
    "cluster1.head()"
   ]
  },
  {
   "cell_type": "code",
   "execution_count": 30,
   "metadata": {},
   "outputs": [
    {
     "data": {
      "text/html": [
       "<div>\n",
       "<style scoped>\n",
       "    .dataframe tbody tr th:only-of-type {\n",
       "        vertical-align: middle;\n",
       "    }\n",
       "\n",
       "    .dataframe tbody tr th {\n",
       "        vertical-align: top;\n",
       "    }\n",
       "\n",
       "    .dataframe thead th {\n",
       "        text-align: right;\n",
       "    }\n",
       "</style>\n",
       "<table border=\"1\" class=\"dataframe\">\n",
       "  <thead>\n",
       "    <tr style=\"text-align: right;\">\n",
       "      <th></th>\n",
       "      <th>VacationlessCheapskate</th>\n",
       "      <th>Small&amp;New</th>\n",
       "      <th>FamilyGuy</th>\n",
       "      <th>FastnFurious</th>\n",
       "      <th>HighEnd</th>\n",
       "      <th>age</th>\n",
       "      <th>income</th>\n",
       "      <th>miles</th>\n",
       "      <th>numkids</th>\n",
       "      <th>female</th>\n",
       "      <th>educ</th>\n",
       "      <th>recycle</th>\n",
       "      <th>mvliking</th>\n",
       "      <th>cluster</th>\n",
       "    </tr>\n",
       "  </thead>\n",
       "  <tbody>\n",
       "    <tr>\n",
       "      <th>count</th>\n",
       "      <td>127.00</td>\n",
       "      <td>127.00</td>\n",
       "      <td>127.00</td>\n",
       "      <td>127.00</td>\n",
       "      <td>127.00</td>\n",
       "      <td>127.00</td>\n",
       "      <td>127.00</td>\n",
       "      <td>127.00</td>\n",
       "      <td>127.00</td>\n",
       "      <td>127.00</td>\n",
       "      <td>127.00</td>\n",
       "      <td>127.00</td>\n",
       "      <td>127.00</td>\n",
       "      <td>127.00</td>\n",
       "    </tr>\n",
       "    <tr>\n",
       "      <th>mean</th>\n",
       "      <td>-2.91</td>\n",
       "      <td>3.73</td>\n",
       "      <td>-0.33</td>\n",
       "      <td>0.13</td>\n",
       "      <td>0.14</td>\n",
       "      <td>46.10</td>\n",
       "      <td>103.57</td>\n",
       "      <td>18.46</td>\n",
       "      <td>1.22</td>\n",
       "      <td>0.56</td>\n",
       "      <td>3.26</td>\n",
       "      <td>3.06</td>\n",
       "      <td>4.39</td>\n",
       "      <td>1.00</td>\n",
       "    </tr>\n",
       "    <tr>\n",
       "      <th>std</th>\n",
       "      <td>1.85</td>\n",
       "      <td>1.58</td>\n",
       "      <td>2.64</td>\n",
       "      <td>2.41</td>\n",
       "      <td>2.02</td>\n",
       "      <td>6.00</td>\n",
       "      <td>43.61</td>\n",
       "      <td>3.53</td>\n",
       "      <td>0.99</td>\n",
       "      <td>0.50</td>\n",
       "      <td>0.66</td>\n",
       "      <td>1.19</td>\n",
       "      <td>2.54</td>\n",
       "      <td>0.00</td>\n",
       "    </tr>\n",
       "    <tr>\n",
       "      <th>min</th>\n",
       "      <td>-7.44</td>\n",
       "      <td>-0.22</td>\n",
       "      <td>-6.20</td>\n",
       "      <td>-6.34</td>\n",
       "      <td>-4.31</td>\n",
       "      <td>31.00</td>\n",
       "      <td>41.00</td>\n",
       "      <td>10.00</td>\n",
       "      <td>0.00</td>\n",
       "      <td>0.00</td>\n",
       "      <td>1.00</td>\n",
       "      <td>1.00</td>\n",
       "      <td>1.00</td>\n",
       "      <td>1.00</td>\n",
       "    </tr>\n",
       "    <tr>\n",
       "      <th>25%</th>\n",
       "      <td>-4.12</td>\n",
       "      <td>2.77</td>\n",
       "      <td>-2.31</td>\n",
       "      <td>-1.62</td>\n",
       "      <td>-1.28</td>\n",
       "      <td>42.00</td>\n",
       "      <td>73.00</td>\n",
       "      <td>16.00</td>\n",
       "      <td>0.50</td>\n",
       "      <td>0.00</td>\n",
       "      <td>3.00</td>\n",
       "      <td>2.00</td>\n",
       "      <td>2.00</td>\n",
       "      <td>1.00</td>\n",
       "    </tr>\n",
       "    <tr>\n",
       "      <th>50%</th>\n",
       "      <td>-2.67</td>\n",
       "      <td>3.68</td>\n",
       "      <td>-0.11</td>\n",
       "      <td>0.30</td>\n",
       "      <td>-0.03</td>\n",
       "      <td>46.00</td>\n",
       "      <td>95.00</td>\n",
       "      <td>18.00</td>\n",
       "      <td>1.00</td>\n",
       "      <td>1.00</td>\n",
       "      <td>3.00</td>\n",
       "      <td>3.00</td>\n",
       "      <td>4.00</td>\n",
       "      <td>1.00</td>\n",
       "    </tr>\n",
       "    <tr>\n",
       "      <th>75%</th>\n",
       "      <td>-1.79</td>\n",
       "      <td>4.74</td>\n",
       "      <td>1.47</td>\n",
       "      <td>1.55</td>\n",
       "      <td>1.28</td>\n",
       "      <td>51.00</td>\n",
       "      <td>127.00</td>\n",
       "      <td>21.00</td>\n",
       "      <td>2.00</td>\n",
       "      <td>1.00</td>\n",
       "      <td>4.00</td>\n",
       "      <td>4.00</td>\n",
       "      <td>6.00</td>\n",
       "      <td>1.00</td>\n",
       "    </tr>\n",
       "    <tr>\n",
       "      <th>max</th>\n",
       "      <td>1.28</td>\n",
       "      <td>8.46</td>\n",
       "      <td>5.46</td>\n",
       "      <td>7.34</td>\n",
       "      <td>6.33</td>\n",
       "      <td>60.00</td>\n",
       "      <td>273.00</td>\n",
       "      <td>27.00</td>\n",
       "      <td>4.00</td>\n",
       "      <td>1.00</td>\n",
       "      <td>4.00</td>\n",
       "      <td>5.00</td>\n",
       "      <td>9.00</td>\n",
       "      <td>1.00</td>\n",
       "    </tr>\n",
       "  </tbody>\n",
       "</table>\n",
       "</div>"
      ],
      "text/plain": [
       "       VacationlessCheapskate  Small&New  FamilyGuy  FastnFurious  HighEnd  \\\n",
       "count                  127.00     127.00     127.00        127.00   127.00   \n",
       "mean                    -2.91       3.73      -0.33          0.13     0.14   \n",
       "std                      1.85       1.58       2.64          2.41     2.02   \n",
       "min                     -7.44      -0.22      -6.20         -6.34    -4.31   \n",
       "25%                     -4.12       2.77      -2.31         -1.62    -1.28   \n",
       "50%                     -2.67       3.68      -0.11          0.30    -0.03   \n",
       "75%                     -1.79       4.74       1.47          1.55     1.28   \n",
       "max                      1.28       8.46       5.46          7.34     6.33   \n",
       "\n",
       "         age  income  miles  numkids  female   educ  recycle  mvliking  \\\n",
       "count 127.00  127.00 127.00   127.00  127.00 127.00   127.00    127.00   \n",
       "mean   46.10  103.57  18.46     1.22    0.56   3.26     3.06      4.39   \n",
       "std     6.00   43.61   3.53     0.99    0.50   0.66     1.19      2.54   \n",
       "min    31.00   41.00  10.00     0.00    0.00   1.00     1.00      1.00   \n",
       "25%    42.00   73.00  16.00     0.50    0.00   3.00     2.00      2.00   \n",
       "50%    46.00   95.00  18.00     1.00    1.00   3.00     3.00      4.00   \n",
       "75%    51.00  127.00  21.00     2.00    1.00   4.00     4.00      6.00   \n",
       "max    60.00  273.00  27.00     4.00    1.00   4.00     5.00      9.00   \n",
       "\n",
       "       cluster  \n",
       "count   127.00  \n",
       "mean      1.00  \n",
       "std       0.00  \n",
       "min       1.00  \n",
       "25%       1.00  \n",
       "50%       1.00  \n",
       "75%       1.00  \n",
       "max       1.00  "
      ]
     },
     "execution_count": 30,
     "metadata": {},
     "output_type": "execute_result"
    }
   ],
   "source": [
    "# Checking cluster 1 Statistics\n",
    "cluster1.describe()"
   ]
  },
  {
   "cell_type": "code",
   "execution_count": 31,
   "metadata": {},
   "outputs": [
    {
     "data": {
      "text/html": [
       "<div>\n",
       "<style scoped>\n",
       "    .dataframe tbody tr th:only-of-type {\n",
       "        vertical-align: middle;\n",
       "    }\n",
       "\n",
       "    .dataframe tbody tr th {\n",
       "        vertical-align: top;\n",
       "    }\n",
       "\n",
       "    .dataframe thead th {\n",
       "        text-align: right;\n",
       "    }\n",
       "</style>\n",
       "<table border=\"1\" class=\"dataframe\">\n",
       "  <thead>\n",
       "    <tr style=\"text-align: right;\">\n",
       "      <th></th>\n",
       "      <th>VacationlessCheapskate</th>\n",
       "      <th>Small&amp;New</th>\n",
       "      <th>FamilyGuy</th>\n",
       "      <th>FastnFurious</th>\n",
       "      <th>HighEnd</th>\n",
       "      <th>age</th>\n",
       "      <th>income</th>\n",
       "      <th>miles</th>\n",
       "      <th>numkids</th>\n",
       "      <th>female</th>\n",
       "      <th>educ</th>\n",
       "      <th>recycle</th>\n",
       "      <th>mvliking</th>\n",
       "      <th>cluster</th>\n",
       "    </tr>\n",
       "    <tr>\n",
       "      <th>subjnumb</th>\n",
       "      <th></th>\n",
       "      <th></th>\n",
       "      <th></th>\n",
       "      <th></th>\n",
       "      <th></th>\n",
       "      <th></th>\n",
       "      <th></th>\n",
       "      <th></th>\n",
       "      <th></th>\n",
       "      <th></th>\n",
       "      <th></th>\n",
       "      <th></th>\n",
       "      <th></th>\n",
       "      <th></th>\n",
       "    </tr>\n",
       "  </thead>\n",
       "  <tbody>\n",
       "    <tr>\n",
       "      <th>2</th>\n",
       "      <td>-0.43</td>\n",
       "      <td>-4.58</td>\n",
       "      <td>-2.68</td>\n",
       "      <td>-2.62</td>\n",
       "      <td>-0.50</td>\n",
       "      <td>36</td>\n",
       "      <td>79</td>\n",
       "      <td>16</td>\n",
       "      <td>1</td>\n",
       "      <td>0</td>\n",
       "      <td>3</td>\n",
       "      <td>4</td>\n",
       "      <td>6</td>\n",
       "      <td>2</td>\n",
       "    </tr>\n",
       "    <tr>\n",
       "      <th>7</th>\n",
       "      <td>-3.95</td>\n",
       "      <td>-4.49</td>\n",
       "      <td>2.79</td>\n",
       "      <td>-0.14</td>\n",
       "      <td>-0.11</td>\n",
       "      <td>47</td>\n",
       "      <td>38</td>\n",
       "      <td>26</td>\n",
       "      <td>2</td>\n",
       "      <td>1</td>\n",
       "      <td>4</td>\n",
       "      <td>3</td>\n",
       "      <td>8</td>\n",
       "      <td>2</td>\n",
       "    </tr>\n",
       "    <tr>\n",
       "      <th>15</th>\n",
       "      <td>-6.21</td>\n",
       "      <td>-5.45</td>\n",
       "      <td>1.31</td>\n",
       "      <td>-0.02</td>\n",
       "      <td>-0.12</td>\n",
       "      <td>52</td>\n",
       "      <td>119</td>\n",
       "      <td>28</td>\n",
       "      <td>3</td>\n",
       "      <td>1</td>\n",
       "      <td>3</td>\n",
       "      <td>3</td>\n",
       "      <td>6</td>\n",
       "      <td>2</td>\n",
       "    </tr>\n",
       "    <tr>\n",
       "      <th>16</th>\n",
       "      <td>-3.66</td>\n",
       "      <td>-4.64</td>\n",
       "      <td>4.12</td>\n",
       "      <td>-2.77</td>\n",
       "      <td>-2.56</td>\n",
       "      <td>39</td>\n",
       "      <td>28</td>\n",
       "      <td>29</td>\n",
       "      <td>2</td>\n",
       "      <td>1</td>\n",
       "      <td>4</td>\n",
       "      <td>3</td>\n",
       "      <td>6</td>\n",
       "      <td>2</td>\n",
       "    </tr>\n",
       "    <tr>\n",
       "      <th>17</th>\n",
       "      <td>-4.10</td>\n",
       "      <td>-4.96</td>\n",
       "      <td>-5.54</td>\n",
       "      <td>-2.71</td>\n",
       "      <td>2.03</td>\n",
       "      <td>43</td>\n",
       "      <td>113</td>\n",
       "      <td>17</td>\n",
       "      <td>0</td>\n",
       "      <td>0</td>\n",
       "      <td>4</td>\n",
       "      <td>4</td>\n",
       "      <td>9</td>\n",
       "      <td>2</td>\n",
       "    </tr>\n",
       "  </tbody>\n",
       "</table>\n",
       "</div>"
      ],
      "text/plain": [
       "          VacationlessCheapskate  Small&New  FamilyGuy  FastnFurious  HighEnd  \\\n",
       "subjnumb                                                                        \n",
       "2                          -0.43      -4.58      -2.68         -2.62    -0.50   \n",
       "7                          -3.95      -4.49       2.79         -0.14    -0.11   \n",
       "15                         -6.21      -5.45       1.31         -0.02    -0.12   \n",
       "16                         -3.66      -4.64       4.12         -2.77    -2.56   \n",
       "17                         -4.10      -4.96      -5.54         -2.71     2.03   \n",
       "\n",
       "          age  income  miles  numkids  female  educ  recycle  mvliking  \\\n",
       "subjnumb                                                                 \n",
       "2          36      79     16        1       0     3        4         6   \n",
       "7          47      38     26        2       1     4        3         8   \n",
       "15         52     119     28        3       1     3        3         6   \n",
       "16         39      28     29        2       1     4        3         6   \n",
       "17         43     113     17        0       0     4        4         9   \n",
       "\n",
       "          cluster  \n",
       "subjnumb           \n",
       "2               2  \n",
       "7               2  \n",
       "15              2  \n",
       "16              2  \n",
       "17              2  "
      ]
     },
     "execution_count": 31,
     "metadata": {},
     "output_type": "execute_result"
    }
   ],
   "source": [
    "# Checking cluster 2\n",
    "cluster2 = dfcomp.loc[dfcomp[\"cluster\"] == 2]\n",
    "cluster2.head()"
   ]
  },
  {
   "cell_type": "code",
   "execution_count": 32,
   "metadata": {},
   "outputs": [
    {
     "data": {
      "text/html": [
       "<div>\n",
       "<style scoped>\n",
       "    .dataframe tbody tr th:only-of-type {\n",
       "        vertical-align: middle;\n",
       "    }\n",
       "\n",
       "    .dataframe tbody tr th {\n",
       "        vertical-align: top;\n",
       "    }\n",
       "\n",
       "    .dataframe thead th {\n",
       "        text-align: right;\n",
       "    }\n",
       "</style>\n",
       "<table border=\"1\" class=\"dataframe\">\n",
       "  <thead>\n",
       "    <tr style=\"text-align: right;\">\n",
       "      <th></th>\n",
       "      <th>VacationlessCheapskate</th>\n",
       "      <th>Small&amp;New</th>\n",
       "      <th>FamilyGuy</th>\n",
       "      <th>FastnFurious</th>\n",
       "      <th>HighEnd</th>\n",
       "      <th>age</th>\n",
       "      <th>income</th>\n",
       "      <th>miles</th>\n",
       "      <th>numkids</th>\n",
       "      <th>female</th>\n",
       "      <th>educ</th>\n",
       "      <th>recycle</th>\n",
       "      <th>mvliking</th>\n",
       "      <th>cluster</th>\n",
       "    </tr>\n",
       "  </thead>\n",
       "  <tbody>\n",
       "    <tr>\n",
       "      <th>count</th>\n",
       "      <td>114.00</td>\n",
       "      <td>114.00</td>\n",
       "      <td>114.00</td>\n",
       "      <td>114.00</td>\n",
       "      <td>114.00</td>\n",
       "      <td>114.00</td>\n",
       "      <td>114.00</td>\n",
       "      <td>114.00</td>\n",
       "      <td>114.00</td>\n",
       "      <td>114.00</td>\n",
       "      <td>114.00</td>\n",
       "      <td>114.00</td>\n",
       "      <td>114.00</td>\n",
       "      <td>114.00</td>\n",
       "    </tr>\n",
       "    <tr>\n",
       "      <th>mean</th>\n",
       "      <td>-3.49</td>\n",
       "      <td>-3.91</td>\n",
       "      <td>0.00</td>\n",
       "      <td>-0.03</td>\n",
       "      <td>-0.10</td>\n",
       "      <td>44.34</td>\n",
       "      <td>83.61</td>\n",
       "      <td>22.37</td>\n",
       "      <td>1.98</td>\n",
       "      <td>0.60</td>\n",
       "      <td>3.35</td>\n",
       "      <td>3.09</td>\n",
       "      <td>6.65</td>\n",
       "      <td>2.00</td>\n",
       "    </tr>\n",
       "    <tr>\n",
       "      <th>std</th>\n",
       "      <td>1.97</td>\n",
       "      <td>1.56</td>\n",
       "      <td>2.77</td>\n",
       "      <td>2.54</td>\n",
       "      <td>1.90</td>\n",
       "      <td>5.68</td>\n",
       "      <td>33.32</td>\n",
       "      <td>4.04</td>\n",
       "      <td>1.11</td>\n",
       "      <td>0.49</td>\n",
       "      <td>0.65</td>\n",
       "      <td>1.23</td>\n",
       "      <td>2.23</td>\n",
       "      <td>0.00</td>\n",
       "    </tr>\n",
       "    <tr>\n",
       "      <th>min</th>\n",
       "      <td>-9.12</td>\n",
       "      <td>-7.18</td>\n",
       "      <td>-6.66</td>\n",
       "      <td>-7.18</td>\n",
       "      <td>-4.86</td>\n",
       "      <td>31.00</td>\n",
       "      <td>28.00</td>\n",
       "      <td>14.00</td>\n",
       "      <td>0.00</td>\n",
       "      <td>0.00</td>\n",
       "      <td>2.00</td>\n",
       "      <td>1.00</td>\n",
       "      <td>1.00</td>\n",
       "      <td>2.00</td>\n",
       "    </tr>\n",
       "    <tr>\n",
       "      <th>25%</th>\n",
       "      <td>-4.80</td>\n",
       "      <td>-5.18</td>\n",
       "      <td>-1.79</td>\n",
       "      <td>-1.64</td>\n",
       "      <td>-1.48</td>\n",
       "      <td>40.25</td>\n",
       "      <td>59.25</td>\n",
       "      <td>19.25</td>\n",
       "      <td>1.00</td>\n",
       "      <td>0.00</td>\n",
       "      <td>3.00</td>\n",
       "      <td>2.00</td>\n",
       "      <td>5.00</td>\n",
       "      <td>2.00</td>\n",
       "    </tr>\n",
       "    <tr>\n",
       "      <th>50%</th>\n",
       "      <td>-3.33</td>\n",
       "      <td>-3.93</td>\n",
       "      <td>-0.13</td>\n",
       "      <td>-0.01</td>\n",
       "      <td>-0.15</td>\n",
       "      <td>44.00</td>\n",
       "      <td>79.00</td>\n",
       "      <td>22.00</td>\n",
       "      <td>2.00</td>\n",
       "      <td>1.00</td>\n",
       "      <td>3.00</td>\n",
       "      <td>3.00</td>\n",
       "      <td>7.00</td>\n",
       "      <td>2.00</td>\n",
       "    </tr>\n",
       "    <tr>\n",
       "      <th>75%</th>\n",
       "      <td>-2.08</td>\n",
       "      <td>-2.84</td>\n",
       "      <td>2.08</td>\n",
       "      <td>1.38</td>\n",
       "      <td>0.99</td>\n",
       "      <td>48.00</td>\n",
       "      <td>107.25</td>\n",
       "      <td>25.75</td>\n",
       "      <td>3.00</td>\n",
       "      <td>1.00</td>\n",
       "      <td>4.00</td>\n",
       "      <td>4.00</td>\n",
       "      <td>9.00</td>\n",
       "      <td>2.00</td>\n",
       "    </tr>\n",
       "    <tr>\n",
       "      <th>max</th>\n",
       "      <td>0.72</td>\n",
       "      <td>-0.04</td>\n",
       "      <td>7.07</td>\n",
       "      <td>6.62</td>\n",
       "      <td>5.26</td>\n",
       "      <td>58.00</td>\n",
       "      <td>168.00</td>\n",
       "      <td>32.00</td>\n",
       "      <td>4.00</td>\n",
       "      <td>1.00</td>\n",
       "      <td>4.00</td>\n",
       "      <td>5.00</td>\n",
       "      <td>9.00</td>\n",
       "      <td>2.00</td>\n",
       "    </tr>\n",
       "  </tbody>\n",
       "</table>\n",
       "</div>"
      ],
      "text/plain": [
       "       VacationlessCheapskate  Small&New  FamilyGuy  FastnFurious  HighEnd  \\\n",
       "count                  114.00     114.00     114.00        114.00   114.00   \n",
       "mean                    -3.49      -3.91       0.00         -0.03    -0.10   \n",
       "std                      1.97       1.56       2.77          2.54     1.90   \n",
       "min                     -9.12      -7.18      -6.66         -7.18    -4.86   \n",
       "25%                     -4.80      -5.18      -1.79         -1.64    -1.48   \n",
       "50%                     -3.33      -3.93      -0.13         -0.01    -0.15   \n",
       "75%                     -2.08      -2.84       2.08          1.38     0.99   \n",
       "max                      0.72      -0.04       7.07          6.62     5.26   \n",
       "\n",
       "         age  income  miles  numkids  female   educ  recycle  mvliking  \\\n",
       "count 114.00  114.00 114.00   114.00  114.00 114.00   114.00    114.00   \n",
       "mean   44.34   83.61  22.37     1.98    0.60   3.35     3.09      6.65   \n",
       "std     5.68   33.32   4.04     1.11    0.49   0.65     1.23      2.23   \n",
       "min    31.00   28.00  14.00     0.00    0.00   2.00     1.00      1.00   \n",
       "25%    40.25   59.25  19.25     1.00    0.00   3.00     2.00      5.00   \n",
       "50%    44.00   79.00  22.00     2.00    1.00   3.00     3.00      7.00   \n",
       "75%    48.00  107.25  25.75     3.00    1.00   4.00     4.00      9.00   \n",
       "max    58.00  168.00  32.00     4.00    1.00   4.00     5.00      9.00   \n",
       "\n",
       "       cluster  \n",
       "count   114.00  \n",
       "mean      2.00  \n",
       "std       0.00  \n",
       "min       2.00  \n",
       "25%       2.00  \n",
       "50%       2.00  \n",
       "75%       2.00  \n",
       "max       2.00  "
      ]
     },
     "execution_count": 32,
     "metadata": {},
     "output_type": "execute_result"
    }
   ],
   "source": [
    "# Checking cluster 2 Statistics\n",
    "cluster2.describe()"
   ]
  },
  {
   "cell_type": "markdown",
   "metadata": {},
   "source": [
    "<h3 style=\"color:cornflowerblue\">Cluster Visualization</h3>\n",
    "<p>Visualization of the division and clusterization of client base</p>"
   ]
  },
  {
   "cell_type": "code",
   "execution_count": 33,
   "metadata": {},
   "outputs": [
    {
     "data": {
      "application/vnd.plotly.v1+json": {
       "config": {
        "plotlyServerURL": "https://plot.ly"
       },
       "data": [
        {
         "alignmentgroup": "True",
         "bingroup": "x",
         "hovertemplate": "mvliking=%{x}<br>count=%{y}<extra></extra>",
         "legendgroup": "",
         "marker": {
          "color": "#636efa",
          "pattern": {
           "shape": ""
          }
         },
         "name": "",
         "offsetgroup": "",
         "orientation": "v",
         "showlegend": false,
         "type": "histogram",
         "x": [
          4,
          3,
          4,
          3,
          1,
          4,
          1,
          3,
          7,
          1,
          5,
          1,
          1,
          9,
          2,
          4,
          1,
          2,
          1,
          6,
          1,
          4,
          4,
          1,
          1,
          4,
          2,
          6,
          1,
          8,
          3,
          5,
          1,
          2,
          3,
          1,
          2,
          1,
          6,
          7,
          2,
          1,
          5,
          2,
          4,
          9,
          1,
          2,
          9,
          4,
          8,
          6,
          1,
          1,
          9,
          5,
          7,
          4,
          4,
          6,
          1,
          5,
          3,
          5,
          8,
          9,
          5,
          7,
          3,
          4,
          3,
          4,
          3,
          4,
          2,
          6,
          1,
          1,
          2,
          1,
          1,
          7,
          3,
          1,
          3,
          1,
          9,
          4,
          2,
          2,
          7,
          9,
          6,
          4,
          3,
          4,
          2,
          7,
          3,
          5,
          8,
          1,
          7,
          1,
          2,
          3,
          8,
          5,
          4,
          3,
          9,
          5,
          6,
          6,
          5,
          5,
          8,
          1,
          6,
          1,
          4,
          9,
          2,
          5,
          7,
          1,
          9,
          4,
          4,
          3,
          1,
          1,
          3,
          3,
          7,
          1,
          6,
          1,
          6,
          5,
          1,
          9,
          2,
          5,
          4,
          1,
          6,
          4,
          1,
          3,
          4,
          3,
          6,
          4,
          1,
          4,
          6,
          1,
          5
         ],
         "xaxis": "x",
         "yaxis": "y"
        }
       ],
       "layout": {
        "barmode": "relative",
        "legend": {
         "tracegroupgap": 0
        },
        "margin": {
         "t": 60
        },
        "template": {
         "data": {
          "bar": [
           {
            "error_x": {
             "color": "#2a3f5f"
            },
            "error_y": {
             "color": "#2a3f5f"
            },
            "marker": {
             "line": {
              "color": "#E5ECF6",
              "width": 0.5
             },
             "pattern": {
              "fillmode": "overlay",
              "size": 10,
              "solidity": 0.2
             }
            },
            "type": "bar"
           }
          ],
          "barpolar": [
           {
            "marker": {
             "line": {
              "color": "#E5ECF6",
              "width": 0.5
             },
             "pattern": {
              "fillmode": "overlay",
              "size": 10,
              "solidity": 0.2
             }
            },
            "type": "barpolar"
           }
          ],
          "carpet": [
           {
            "aaxis": {
             "endlinecolor": "#2a3f5f",
             "gridcolor": "white",
             "linecolor": "white",
             "minorgridcolor": "white",
             "startlinecolor": "#2a3f5f"
            },
            "baxis": {
             "endlinecolor": "#2a3f5f",
             "gridcolor": "white",
             "linecolor": "white",
             "minorgridcolor": "white",
             "startlinecolor": "#2a3f5f"
            },
            "type": "carpet"
           }
          ],
          "choropleth": [
           {
            "colorbar": {
             "outlinewidth": 0,
             "ticks": ""
            },
            "type": "choropleth"
           }
          ],
          "contour": [
           {
            "colorbar": {
             "outlinewidth": 0,
             "ticks": ""
            },
            "colorscale": [
             [
              0,
              "#0d0887"
             ],
             [
              0.1111111111111111,
              "#46039f"
             ],
             [
              0.2222222222222222,
              "#7201a8"
             ],
             [
              0.3333333333333333,
              "#9c179e"
             ],
             [
              0.4444444444444444,
              "#bd3786"
             ],
             [
              0.5555555555555556,
              "#d8576b"
             ],
             [
              0.6666666666666666,
              "#ed7953"
             ],
             [
              0.7777777777777778,
              "#fb9f3a"
             ],
             [
              0.8888888888888888,
              "#fdca26"
             ],
             [
              1,
              "#f0f921"
             ]
            ],
            "type": "contour"
           }
          ],
          "contourcarpet": [
           {
            "colorbar": {
             "outlinewidth": 0,
             "ticks": ""
            },
            "type": "contourcarpet"
           }
          ],
          "heatmap": [
           {
            "colorbar": {
             "outlinewidth": 0,
             "ticks": ""
            },
            "colorscale": [
             [
              0,
              "#0d0887"
             ],
             [
              0.1111111111111111,
              "#46039f"
             ],
             [
              0.2222222222222222,
              "#7201a8"
             ],
             [
              0.3333333333333333,
              "#9c179e"
             ],
             [
              0.4444444444444444,
              "#bd3786"
             ],
             [
              0.5555555555555556,
              "#d8576b"
             ],
             [
              0.6666666666666666,
              "#ed7953"
             ],
             [
              0.7777777777777778,
              "#fb9f3a"
             ],
             [
              0.8888888888888888,
              "#fdca26"
             ],
             [
              1,
              "#f0f921"
             ]
            ],
            "type": "heatmap"
           }
          ],
          "heatmapgl": [
           {
            "colorbar": {
             "outlinewidth": 0,
             "ticks": ""
            },
            "colorscale": [
             [
              0,
              "#0d0887"
             ],
             [
              0.1111111111111111,
              "#46039f"
             ],
             [
              0.2222222222222222,
              "#7201a8"
             ],
             [
              0.3333333333333333,
              "#9c179e"
             ],
             [
              0.4444444444444444,
              "#bd3786"
             ],
             [
              0.5555555555555556,
              "#d8576b"
             ],
             [
              0.6666666666666666,
              "#ed7953"
             ],
             [
              0.7777777777777778,
              "#fb9f3a"
             ],
             [
              0.8888888888888888,
              "#fdca26"
             ],
             [
              1,
              "#f0f921"
             ]
            ],
            "type": "heatmapgl"
           }
          ],
          "histogram": [
           {
            "marker": {
             "pattern": {
              "fillmode": "overlay",
              "size": 10,
              "solidity": 0.2
             }
            },
            "type": "histogram"
           }
          ],
          "histogram2d": [
           {
            "colorbar": {
             "outlinewidth": 0,
             "ticks": ""
            },
            "colorscale": [
             [
              0,
              "#0d0887"
             ],
             [
              0.1111111111111111,
              "#46039f"
             ],
             [
              0.2222222222222222,
              "#7201a8"
             ],
             [
              0.3333333333333333,
              "#9c179e"
             ],
             [
              0.4444444444444444,
              "#bd3786"
             ],
             [
              0.5555555555555556,
              "#d8576b"
             ],
             [
              0.6666666666666666,
              "#ed7953"
             ],
             [
              0.7777777777777778,
              "#fb9f3a"
             ],
             [
              0.8888888888888888,
              "#fdca26"
             ],
             [
              1,
              "#f0f921"
             ]
            ],
            "type": "histogram2d"
           }
          ],
          "histogram2dcontour": [
           {
            "colorbar": {
             "outlinewidth": 0,
             "ticks": ""
            },
            "colorscale": [
             [
              0,
              "#0d0887"
             ],
             [
              0.1111111111111111,
              "#46039f"
             ],
             [
              0.2222222222222222,
              "#7201a8"
             ],
             [
              0.3333333333333333,
              "#9c179e"
             ],
             [
              0.4444444444444444,
              "#bd3786"
             ],
             [
              0.5555555555555556,
              "#d8576b"
             ],
             [
              0.6666666666666666,
              "#ed7953"
             ],
             [
              0.7777777777777778,
              "#fb9f3a"
             ],
             [
              0.8888888888888888,
              "#fdca26"
             ],
             [
              1,
              "#f0f921"
             ]
            ],
            "type": "histogram2dcontour"
           }
          ],
          "mesh3d": [
           {
            "colorbar": {
             "outlinewidth": 0,
             "ticks": ""
            },
            "type": "mesh3d"
           }
          ],
          "parcoords": [
           {
            "line": {
             "colorbar": {
              "outlinewidth": 0,
              "ticks": ""
             }
            },
            "type": "parcoords"
           }
          ],
          "pie": [
           {
            "automargin": true,
            "type": "pie"
           }
          ],
          "scatter": [
           {
            "fillpattern": {
             "fillmode": "overlay",
             "size": 10,
             "solidity": 0.2
            },
            "type": "scatter"
           }
          ],
          "scatter3d": [
           {
            "line": {
             "colorbar": {
              "outlinewidth": 0,
              "ticks": ""
             }
            },
            "marker": {
             "colorbar": {
              "outlinewidth": 0,
              "ticks": ""
             }
            },
            "type": "scatter3d"
           }
          ],
          "scattercarpet": [
           {
            "marker": {
             "colorbar": {
              "outlinewidth": 0,
              "ticks": ""
             }
            },
            "type": "scattercarpet"
           }
          ],
          "scattergeo": [
           {
            "marker": {
             "colorbar": {
              "outlinewidth": 0,
              "ticks": ""
             }
            },
            "type": "scattergeo"
           }
          ],
          "scattergl": [
           {
            "marker": {
             "colorbar": {
              "outlinewidth": 0,
              "ticks": ""
             }
            },
            "type": "scattergl"
           }
          ],
          "scattermapbox": [
           {
            "marker": {
             "colorbar": {
              "outlinewidth": 0,
              "ticks": ""
             }
            },
            "type": "scattermapbox"
           }
          ],
          "scatterpolar": [
           {
            "marker": {
             "colorbar": {
              "outlinewidth": 0,
              "ticks": ""
             }
            },
            "type": "scatterpolar"
           }
          ],
          "scatterpolargl": [
           {
            "marker": {
             "colorbar": {
              "outlinewidth": 0,
              "ticks": ""
             }
            },
            "type": "scatterpolargl"
           }
          ],
          "scatterternary": [
           {
            "marker": {
             "colorbar": {
              "outlinewidth": 0,
              "ticks": ""
             }
            },
            "type": "scatterternary"
           }
          ],
          "surface": [
           {
            "colorbar": {
             "outlinewidth": 0,
             "ticks": ""
            },
            "colorscale": [
             [
              0,
              "#0d0887"
             ],
             [
              0.1111111111111111,
              "#46039f"
             ],
             [
              0.2222222222222222,
              "#7201a8"
             ],
             [
              0.3333333333333333,
              "#9c179e"
             ],
             [
              0.4444444444444444,
              "#bd3786"
             ],
             [
              0.5555555555555556,
              "#d8576b"
             ],
             [
              0.6666666666666666,
              "#ed7953"
             ],
             [
              0.7777777777777778,
              "#fb9f3a"
             ],
             [
              0.8888888888888888,
              "#fdca26"
             ],
             [
              1,
              "#f0f921"
             ]
            ],
            "type": "surface"
           }
          ],
          "table": [
           {
            "cells": {
             "fill": {
              "color": "#EBF0F8"
             },
             "line": {
              "color": "white"
             }
            },
            "header": {
             "fill": {
              "color": "#C8D4E3"
             },
             "line": {
              "color": "white"
             }
            },
            "type": "table"
           }
          ]
         },
         "layout": {
          "annotationdefaults": {
           "arrowcolor": "#2a3f5f",
           "arrowhead": 0,
           "arrowwidth": 1
          },
          "autotypenumbers": "strict",
          "coloraxis": {
           "colorbar": {
            "outlinewidth": 0,
            "ticks": ""
           }
          },
          "colorscale": {
           "diverging": [
            [
             0,
             "#8e0152"
            ],
            [
             0.1,
             "#c51b7d"
            ],
            [
             0.2,
             "#de77ae"
            ],
            [
             0.3,
             "#f1b6da"
            ],
            [
             0.4,
             "#fde0ef"
            ],
            [
             0.5,
             "#f7f7f7"
            ],
            [
             0.6,
             "#e6f5d0"
            ],
            [
             0.7,
             "#b8e186"
            ],
            [
             0.8,
             "#7fbc41"
            ],
            [
             0.9,
             "#4d9221"
            ],
            [
             1,
             "#276419"
            ]
           ],
           "sequential": [
            [
             0,
             "#0d0887"
            ],
            [
             0.1111111111111111,
             "#46039f"
            ],
            [
             0.2222222222222222,
             "#7201a8"
            ],
            [
             0.3333333333333333,
             "#9c179e"
            ],
            [
             0.4444444444444444,
             "#bd3786"
            ],
            [
             0.5555555555555556,
             "#d8576b"
            ],
            [
             0.6666666666666666,
             "#ed7953"
            ],
            [
             0.7777777777777778,
             "#fb9f3a"
            ],
            [
             0.8888888888888888,
             "#fdca26"
            ],
            [
             1,
             "#f0f921"
            ]
           ],
           "sequentialminus": [
            [
             0,
             "#0d0887"
            ],
            [
             0.1111111111111111,
             "#46039f"
            ],
            [
             0.2222222222222222,
             "#7201a8"
            ],
            [
             0.3333333333333333,
             "#9c179e"
            ],
            [
             0.4444444444444444,
             "#bd3786"
            ],
            [
             0.5555555555555556,
             "#d8576b"
            ],
            [
             0.6666666666666666,
             "#ed7953"
            ],
            [
             0.7777777777777778,
             "#fb9f3a"
            ],
            [
             0.8888888888888888,
             "#fdca26"
            ],
            [
             1,
             "#f0f921"
            ]
           ]
          },
          "colorway": [
           "#636efa",
           "#EF553B",
           "#00cc96",
           "#ab63fa",
           "#FFA15A",
           "#19d3f3",
           "#FF6692",
           "#B6E880",
           "#FF97FF",
           "#FECB52"
          ],
          "font": {
           "color": "#2a3f5f"
          },
          "geo": {
           "bgcolor": "white",
           "lakecolor": "white",
           "landcolor": "#E5ECF6",
           "showlakes": true,
           "showland": true,
           "subunitcolor": "white"
          },
          "hoverlabel": {
           "align": "left"
          },
          "hovermode": "closest",
          "mapbox": {
           "style": "light"
          },
          "paper_bgcolor": "white",
          "plot_bgcolor": "#E5ECF6",
          "polar": {
           "angularaxis": {
            "gridcolor": "white",
            "linecolor": "white",
            "ticks": ""
           },
           "bgcolor": "#E5ECF6",
           "radialaxis": {
            "gridcolor": "white",
            "linecolor": "white",
            "ticks": ""
           }
          },
          "scene": {
           "xaxis": {
            "backgroundcolor": "#E5ECF6",
            "gridcolor": "white",
            "gridwidth": 2,
            "linecolor": "white",
            "showbackground": true,
            "ticks": "",
            "zerolinecolor": "white"
           },
           "yaxis": {
            "backgroundcolor": "#E5ECF6",
            "gridcolor": "white",
            "gridwidth": 2,
            "linecolor": "white",
            "showbackground": true,
            "ticks": "",
            "zerolinecolor": "white"
           },
           "zaxis": {
            "backgroundcolor": "#E5ECF6",
            "gridcolor": "white",
            "gridwidth": 2,
            "linecolor": "white",
            "showbackground": true,
            "ticks": "",
            "zerolinecolor": "white"
           }
          },
          "shapedefaults": {
           "line": {
            "color": "#2a3f5f"
           }
          },
          "ternary": {
           "aaxis": {
            "gridcolor": "white",
            "linecolor": "white",
            "ticks": ""
           },
           "baxis": {
            "gridcolor": "white",
            "linecolor": "white",
            "ticks": ""
           },
           "bgcolor": "#E5ECF6",
           "caxis": {
            "gridcolor": "white",
            "linecolor": "white",
            "ticks": ""
           }
          },
          "title": {
           "x": 0.05
          },
          "xaxis": {
           "automargin": true,
           "gridcolor": "white",
           "linecolor": "white",
           "ticks": "",
           "title": {
            "standoff": 15
           },
           "zerolinecolor": "white",
           "zerolinewidth": 2
          },
          "yaxis": {
           "automargin": true,
           "gridcolor": "white",
           "linecolor": "white",
           "ticks": "",
           "title": {
            "standoff": 15
           },
           "zerolinecolor": "white",
           "zerolinewidth": 2
          }
         }
        },
        "xaxis": {
         "anchor": "y",
         "domain": [
          0,
          1
         ],
         "title": {
          "text": "mvliking"
         }
        },
        "yaxis": {
         "anchor": "x",
         "domain": [
          0,
          1
         ],
         "title": {
          "text": "count"
         }
        }
       }
      }
     },
     "metadata": {},
     "output_type": "display_data"
    }
   ],
   "source": [
    "# Checking the distribution of interest in the new vehicle for cluster 0\n",
    "fig = px.histogram(data_frame=cluster0, x=\"mvliking\")\n",
    "fig.show()"
   ]
  },
  {
   "cell_type": "code",
   "execution_count": 34,
   "metadata": {},
   "outputs": [
    {
     "data": {
      "application/vnd.plotly.v1+json": {
       "config": {
        "plotlyServerURL": "https://plot.ly"
       },
       "data": [
        {
         "alignmentgroup": "True",
         "bingroup": "x",
         "hovertemplate": "mvliking=%{x}<br>count=%{y}<extra></extra>",
         "legendgroup": "",
         "marker": {
          "color": "#636efa",
          "pattern": {
           "shape": ""
          }
         },
         "name": "",
         "offsetgroup": "",
         "orientation": "v",
         "showlegend": false,
         "type": "histogram",
         "x": [
          3,
          1,
          2,
          5,
          3,
          7,
          2,
          1,
          1,
          3,
          6,
          7,
          9,
          3,
          1,
          5,
          9,
          6,
          3,
          5,
          7,
          1,
          5,
          4,
          1,
          4,
          9,
          4,
          5,
          1,
          5,
          3,
          8,
          7,
          6,
          5,
          4,
          2,
          3,
          4,
          1,
          7,
          9,
          1,
          9,
          5,
          5,
          5,
          1,
          7,
          7,
          4,
          6,
          9,
          5,
          5,
          4,
          1,
          3,
          1,
          3,
          1,
          6,
          1,
          8,
          1,
          1,
          9,
          3,
          7,
          6,
          8,
          2,
          5,
          5,
          4,
          1,
          3,
          6,
          6,
          8,
          5,
          5,
          4,
          3,
          1,
          5,
          5,
          3,
          5,
          9,
          5,
          3,
          2,
          4,
          2,
          4,
          7,
          5,
          2,
          4,
          1,
          3,
          4,
          8,
          1,
          9,
          1,
          1,
          4,
          1,
          1,
          4,
          6,
          9,
          1,
          6,
          3,
          9,
          4,
          7,
          1,
          3,
          8,
          4,
          7,
          9
         ],
         "xaxis": "x",
         "yaxis": "y"
        }
       ],
       "layout": {
        "barmode": "relative",
        "legend": {
         "tracegroupgap": 0
        },
        "margin": {
         "t": 60
        },
        "template": {
         "data": {
          "bar": [
           {
            "error_x": {
             "color": "#2a3f5f"
            },
            "error_y": {
             "color": "#2a3f5f"
            },
            "marker": {
             "line": {
              "color": "#E5ECF6",
              "width": 0.5
             },
             "pattern": {
              "fillmode": "overlay",
              "size": 10,
              "solidity": 0.2
             }
            },
            "type": "bar"
           }
          ],
          "barpolar": [
           {
            "marker": {
             "line": {
              "color": "#E5ECF6",
              "width": 0.5
             },
             "pattern": {
              "fillmode": "overlay",
              "size": 10,
              "solidity": 0.2
             }
            },
            "type": "barpolar"
           }
          ],
          "carpet": [
           {
            "aaxis": {
             "endlinecolor": "#2a3f5f",
             "gridcolor": "white",
             "linecolor": "white",
             "minorgridcolor": "white",
             "startlinecolor": "#2a3f5f"
            },
            "baxis": {
             "endlinecolor": "#2a3f5f",
             "gridcolor": "white",
             "linecolor": "white",
             "minorgridcolor": "white",
             "startlinecolor": "#2a3f5f"
            },
            "type": "carpet"
           }
          ],
          "choropleth": [
           {
            "colorbar": {
             "outlinewidth": 0,
             "ticks": ""
            },
            "type": "choropleth"
           }
          ],
          "contour": [
           {
            "colorbar": {
             "outlinewidth": 0,
             "ticks": ""
            },
            "colorscale": [
             [
              0,
              "#0d0887"
             ],
             [
              0.1111111111111111,
              "#46039f"
             ],
             [
              0.2222222222222222,
              "#7201a8"
             ],
             [
              0.3333333333333333,
              "#9c179e"
             ],
             [
              0.4444444444444444,
              "#bd3786"
             ],
             [
              0.5555555555555556,
              "#d8576b"
             ],
             [
              0.6666666666666666,
              "#ed7953"
             ],
             [
              0.7777777777777778,
              "#fb9f3a"
             ],
             [
              0.8888888888888888,
              "#fdca26"
             ],
             [
              1,
              "#f0f921"
             ]
            ],
            "type": "contour"
           }
          ],
          "contourcarpet": [
           {
            "colorbar": {
             "outlinewidth": 0,
             "ticks": ""
            },
            "type": "contourcarpet"
           }
          ],
          "heatmap": [
           {
            "colorbar": {
             "outlinewidth": 0,
             "ticks": ""
            },
            "colorscale": [
             [
              0,
              "#0d0887"
             ],
             [
              0.1111111111111111,
              "#46039f"
             ],
             [
              0.2222222222222222,
              "#7201a8"
             ],
             [
              0.3333333333333333,
              "#9c179e"
             ],
             [
              0.4444444444444444,
              "#bd3786"
             ],
             [
              0.5555555555555556,
              "#d8576b"
             ],
             [
              0.6666666666666666,
              "#ed7953"
             ],
             [
              0.7777777777777778,
              "#fb9f3a"
             ],
             [
              0.8888888888888888,
              "#fdca26"
             ],
             [
              1,
              "#f0f921"
             ]
            ],
            "type": "heatmap"
           }
          ],
          "heatmapgl": [
           {
            "colorbar": {
             "outlinewidth": 0,
             "ticks": ""
            },
            "colorscale": [
             [
              0,
              "#0d0887"
             ],
             [
              0.1111111111111111,
              "#46039f"
             ],
             [
              0.2222222222222222,
              "#7201a8"
             ],
             [
              0.3333333333333333,
              "#9c179e"
             ],
             [
              0.4444444444444444,
              "#bd3786"
             ],
             [
              0.5555555555555556,
              "#d8576b"
             ],
             [
              0.6666666666666666,
              "#ed7953"
             ],
             [
              0.7777777777777778,
              "#fb9f3a"
             ],
             [
              0.8888888888888888,
              "#fdca26"
             ],
             [
              1,
              "#f0f921"
             ]
            ],
            "type": "heatmapgl"
           }
          ],
          "histogram": [
           {
            "marker": {
             "pattern": {
              "fillmode": "overlay",
              "size": 10,
              "solidity": 0.2
             }
            },
            "type": "histogram"
           }
          ],
          "histogram2d": [
           {
            "colorbar": {
             "outlinewidth": 0,
             "ticks": ""
            },
            "colorscale": [
             [
              0,
              "#0d0887"
             ],
             [
              0.1111111111111111,
              "#46039f"
             ],
             [
              0.2222222222222222,
              "#7201a8"
             ],
             [
              0.3333333333333333,
              "#9c179e"
             ],
             [
              0.4444444444444444,
              "#bd3786"
             ],
             [
              0.5555555555555556,
              "#d8576b"
             ],
             [
              0.6666666666666666,
              "#ed7953"
             ],
             [
              0.7777777777777778,
              "#fb9f3a"
             ],
             [
              0.8888888888888888,
              "#fdca26"
             ],
             [
              1,
              "#f0f921"
             ]
            ],
            "type": "histogram2d"
           }
          ],
          "histogram2dcontour": [
           {
            "colorbar": {
             "outlinewidth": 0,
             "ticks": ""
            },
            "colorscale": [
             [
              0,
              "#0d0887"
             ],
             [
              0.1111111111111111,
              "#46039f"
             ],
             [
              0.2222222222222222,
              "#7201a8"
             ],
             [
              0.3333333333333333,
              "#9c179e"
             ],
             [
              0.4444444444444444,
              "#bd3786"
             ],
             [
              0.5555555555555556,
              "#d8576b"
             ],
             [
              0.6666666666666666,
              "#ed7953"
             ],
             [
              0.7777777777777778,
              "#fb9f3a"
             ],
             [
              0.8888888888888888,
              "#fdca26"
             ],
             [
              1,
              "#f0f921"
             ]
            ],
            "type": "histogram2dcontour"
           }
          ],
          "mesh3d": [
           {
            "colorbar": {
             "outlinewidth": 0,
             "ticks": ""
            },
            "type": "mesh3d"
           }
          ],
          "parcoords": [
           {
            "line": {
             "colorbar": {
              "outlinewidth": 0,
              "ticks": ""
             }
            },
            "type": "parcoords"
           }
          ],
          "pie": [
           {
            "automargin": true,
            "type": "pie"
           }
          ],
          "scatter": [
           {
            "fillpattern": {
             "fillmode": "overlay",
             "size": 10,
             "solidity": 0.2
            },
            "type": "scatter"
           }
          ],
          "scatter3d": [
           {
            "line": {
             "colorbar": {
              "outlinewidth": 0,
              "ticks": ""
             }
            },
            "marker": {
             "colorbar": {
              "outlinewidth": 0,
              "ticks": ""
             }
            },
            "type": "scatter3d"
           }
          ],
          "scattercarpet": [
           {
            "marker": {
             "colorbar": {
              "outlinewidth": 0,
              "ticks": ""
             }
            },
            "type": "scattercarpet"
           }
          ],
          "scattergeo": [
           {
            "marker": {
             "colorbar": {
              "outlinewidth": 0,
              "ticks": ""
             }
            },
            "type": "scattergeo"
           }
          ],
          "scattergl": [
           {
            "marker": {
             "colorbar": {
              "outlinewidth": 0,
              "ticks": ""
             }
            },
            "type": "scattergl"
           }
          ],
          "scattermapbox": [
           {
            "marker": {
             "colorbar": {
              "outlinewidth": 0,
              "ticks": ""
             }
            },
            "type": "scattermapbox"
           }
          ],
          "scatterpolar": [
           {
            "marker": {
             "colorbar": {
              "outlinewidth": 0,
              "ticks": ""
             }
            },
            "type": "scatterpolar"
           }
          ],
          "scatterpolargl": [
           {
            "marker": {
             "colorbar": {
              "outlinewidth": 0,
              "ticks": ""
             }
            },
            "type": "scatterpolargl"
           }
          ],
          "scatterternary": [
           {
            "marker": {
             "colorbar": {
              "outlinewidth": 0,
              "ticks": ""
             }
            },
            "type": "scatterternary"
           }
          ],
          "surface": [
           {
            "colorbar": {
             "outlinewidth": 0,
             "ticks": ""
            },
            "colorscale": [
             [
              0,
              "#0d0887"
             ],
             [
              0.1111111111111111,
              "#46039f"
             ],
             [
              0.2222222222222222,
              "#7201a8"
             ],
             [
              0.3333333333333333,
              "#9c179e"
             ],
             [
              0.4444444444444444,
              "#bd3786"
             ],
             [
              0.5555555555555556,
              "#d8576b"
             ],
             [
              0.6666666666666666,
              "#ed7953"
             ],
             [
              0.7777777777777778,
              "#fb9f3a"
             ],
             [
              0.8888888888888888,
              "#fdca26"
             ],
             [
              1,
              "#f0f921"
             ]
            ],
            "type": "surface"
           }
          ],
          "table": [
           {
            "cells": {
             "fill": {
              "color": "#EBF0F8"
             },
             "line": {
              "color": "white"
             }
            },
            "header": {
             "fill": {
              "color": "#C8D4E3"
             },
             "line": {
              "color": "white"
             }
            },
            "type": "table"
           }
          ]
         },
         "layout": {
          "annotationdefaults": {
           "arrowcolor": "#2a3f5f",
           "arrowhead": 0,
           "arrowwidth": 1
          },
          "autotypenumbers": "strict",
          "coloraxis": {
           "colorbar": {
            "outlinewidth": 0,
            "ticks": ""
           }
          },
          "colorscale": {
           "diverging": [
            [
             0,
             "#8e0152"
            ],
            [
             0.1,
             "#c51b7d"
            ],
            [
             0.2,
             "#de77ae"
            ],
            [
             0.3,
             "#f1b6da"
            ],
            [
             0.4,
             "#fde0ef"
            ],
            [
             0.5,
             "#f7f7f7"
            ],
            [
             0.6,
             "#e6f5d0"
            ],
            [
             0.7,
             "#b8e186"
            ],
            [
             0.8,
             "#7fbc41"
            ],
            [
             0.9,
             "#4d9221"
            ],
            [
             1,
             "#276419"
            ]
           ],
           "sequential": [
            [
             0,
             "#0d0887"
            ],
            [
             0.1111111111111111,
             "#46039f"
            ],
            [
             0.2222222222222222,
             "#7201a8"
            ],
            [
             0.3333333333333333,
             "#9c179e"
            ],
            [
             0.4444444444444444,
             "#bd3786"
            ],
            [
             0.5555555555555556,
             "#d8576b"
            ],
            [
             0.6666666666666666,
             "#ed7953"
            ],
            [
             0.7777777777777778,
             "#fb9f3a"
            ],
            [
             0.8888888888888888,
             "#fdca26"
            ],
            [
             1,
             "#f0f921"
            ]
           ],
           "sequentialminus": [
            [
             0,
             "#0d0887"
            ],
            [
             0.1111111111111111,
             "#46039f"
            ],
            [
             0.2222222222222222,
             "#7201a8"
            ],
            [
             0.3333333333333333,
             "#9c179e"
            ],
            [
             0.4444444444444444,
             "#bd3786"
            ],
            [
             0.5555555555555556,
             "#d8576b"
            ],
            [
             0.6666666666666666,
             "#ed7953"
            ],
            [
             0.7777777777777778,
             "#fb9f3a"
            ],
            [
             0.8888888888888888,
             "#fdca26"
            ],
            [
             1,
             "#f0f921"
            ]
           ]
          },
          "colorway": [
           "#636efa",
           "#EF553B",
           "#00cc96",
           "#ab63fa",
           "#FFA15A",
           "#19d3f3",
           "#FF6692",
           "#B6E880",
           "#FF97FF",
           "#FECB52"
          ],
          "font": {
           "color": "#2a3f5f"
          },
          "geo": {
           "bgcolor": "white",
           "lakecolor": "white",
           "landcolor": "#E5ECF6",
           "showlakes": true,
           "showland": true,
           "subunitcolor": "white"
          },
          "hoverlabel": {
           "align": "left"
          },
          "hovermode": "closest",
          "mapbox": {
           "style": "light"
          },
          "paper_bgcolor": "white",
          "plot_bgcolor": "#E5ECF6",
          "polar": {
           "angularaxis": {
            "gridcolor": "white",
            "linecolor": "white",
            "ticks": ""
           },
           "bgcolor": "#E5ECF6",
           "radialaxis": {
            "gridcolor": "white",
            "linecolor": "white",
            "ticks": ""
           }
          },
          "scene": {
           "xaxis": {
            "backgroundcolor": "#E5ECF6",
            "gridcolor": "white",
            "gridwidth": 2,
            "linecolor": "white",
            "showbackground": true,
            "ticks": "",
            "zerolinecolor": "white"
           },
           "yaxis": {
            "backgroundcolor": "#E5ECF6",
            "gridcolor": "white",
            "gridwidth": 2,
            "linecolor": "white",
            "showbackground": true,
            "ticks": "",
            "zerolinecolor": "white"
           },
           "zaxis": {
            "backgroundcolor": "#E5ECF6",
            "gridcolor": "white",
            "gridwidth": 2,
            "linecolor": "white",
            "showbackground": true,
            "ticks": "",
            "zerolinecolor": "white"
           }
          },
          "shapedefaults": {
           "line": {
            "color": "#2a3f5f"
           }
          },
          "ternary": {
           "aaxis": {
            "gridcolor": "white",
            "linecolor": "white",
            "ticks": ""
           },
           "baxis": {
            "gridcolor": "white",
            "linecolor": "white",
            "ticks": ""
           },
           "bgcolor": "#E5ECF6",
           "caxis": {
            "gridcolor": "white",
            "linecolor": "white",
            "ticks": ""
           }
          },
          "title": {
           "x": 0.05
          },
          "xaxis": {
           "automargin": true,
           "gridcolor": "white",
           "linecolor": "white",
           "ticks": "",
           "title": {
            "standoff": 15
           },
           "zerolinecolor": "white",
           "zerolinewidth": 2
          },
          "yaxis": {
           "automargin": true,
           "gridcolor": "white",
           "linecolor": "white",
           "ticks": "",
           "title": {
            "standoff": 15
           },
           "zerolinecolor": "white",
           "zerolinewidth": 2
          }
         }
        },
        "xaxis": {
         "anchor": "y",
         "domain": [
          0,
          1
         ],
         "title": {
          "text": "mvliking"
         }
        },
        "yaxis": {
         "anchor": "x",
         "domain": [
          0,
          1
         ],
         "title": {
          "text": "count"
         }
        }
       }
      }
     },
     "metadata": {},
     "output_type": "display_data"
    }
   ],
   "source": [
    "# Checking the distribution of interest in the new vehicle for cluster 1\n",
    "fig = px.histogram(data_frame=cluster1, x=\"mvliking\")\n",
    "fig.show()"
   ]
  },
  {
   "cell_type": "code",
   "execution_count": 35,
   "metadata": {},
   "outputs": [
    {
     "data": {
      "application/vnd.plotly.v1+json": {
       "config": {
        "plotlyServerURL": "https://plot.ly"
       },
       "data": [
        {
         "alignmentgroup": "True",
         "bingroup": "x",
         "hovertemplate": "mvliking=%{x}<br>count=%{y}<extra></extra>",
         "legendgroup": "",
         "marker": {
          "color": "#636efa",
          "pattern": {
           "shape": ""
          }
         },
         "name": "",
         "offsetgroup": "",
         "orientation": "v",
         "showlegend": false,
         "type": "histogram",
         "x": [
          6,
          8,
          6,
          6,
          9,
          4,
          7,
          9,
          6,
          4,
          6,
          6,
          5,
          7,
          5,
          8,
          9,
          4,
          4,
          9,
          6,
          5,
          5,
          6,
          3,
          8,
          8,
          6,
          6,
          7,
          1,
          1,
          9,
          6,
          9,
          7,
          9,
          6,
          8,
          9,
          9,
          9,
          7,
          7,
          9,
          9,
          9,
          6,
          9,
          8,
          1,
          5,
          2,
          2,
          7,
          9,
          8,
          9,
          8,
          8,
          6,
          8,
          3,
          8,
          7,
          8,
          6,
          7,
          9,
          9,
          3,
          9,
          9,
          7,
          5,
          8,
          7,
          8,
          9,
          9,
          8,
          5,
          8,
          6,
          7,
          2,
          9,
          9,
          9,
          5,
          1,
          3,
          5,
          8,
          6,
          9,
          5,
          9,
          8,
          5,
          9,
          8,
          5,
          3,
          4,
          4,
          9,
          5,
          5,
          9,
          5,
          8,
          9,
          9
         ],
         "xaxis": "x",
         "yaxis": "y"
        }
       ],
       "layout": {
        "barmode": "relative",
        "legend": {
         "tracegroupgap": 0
        },
        "margin": {
         "t": 60
        },
        "template": {
         "data": {
          "bar": [
           {
            "error_x": {
             "color": "#2a3f5f"
            },
            "error_y": {
             "color": "#2a3f5f"
            },
            "marker": {
             "line": {
              "color": "#E5ECF6",
              "width": 0.5
             },
             "pattern": {
              "fillmode": "overlay",
              "size": 10,
              "solidity": 0.2
             }
            },
            "type": "bar"
           }
          ],
          "barpolar": [
           {
            "marker": {
             "line": {
              "color": "#E5ECF6",
              "width": 0.5
             },
             "pattern": {
              "fillmode": "overlay",
              "size": 10,
              "solidity": 0.2
             }
            },
            "type": "barpolar"
           }
          ],
          "carpet": [
           {
            "aaxis": {
             "endlinecolor": "#2a3f5f",
             "gridcolor": "white",
             "linecolor": "white",
             "minorgridcolor": "white",
             "startlinecolor": "#2a3f5f"
            },
            "baxis": {
             "endlinecolor": "#2a3f5f",
             "gridcolor": "white",
             "linecolor": "white",
             "minorgridcolor": "white",
             "startlinecolor": "#2a3f5f"
            },
            "type": "carpet"
           }
          ],
          "choropleth": [
           {
            "colorbar": {
             "outlinewidth": 0,
             "ticks": ""
            },
            "type": "choropleth"
           }
          ],
          "contour": [
           {
            "colorbar": {
             "outlinewidth": 0,
             "ticks": ""
            },
            "colorscale": [
             [
              0,
              "#0d0887"
             ],
             [
              0.1111111111111111,
              "#46039f"
             ],
             [
              0.2222222222222222,
              "#7201a8"
             ],
             [
              0.3333333333333333,
              "#9c179e"
             ],
             [
              0.4444444444444444,
              "#bd3786"
             ],
             [
              0.5555555555555556,
              "#d8576b"
             ],
             [
              0.6666666666666666,
              "#ed7953"
             ],
             [
              0.7777777777777778,
              "#fb9f3a"
             ],
             [
              0.8888888888888888,
              "#fdca26"
             ],
             [
              1,
              "#f0f921"
             ]
            ],
            "type": "contour"
           }
          ],
          "contourcarpet": [
           {
            "colorbar": {
             "outlinewidth": 0,
             "ticks": ""
            },
            "type": "contourcarpet"
           }
          ],
          "heatmap": [
           {
            "colorbar": {
             "outlinewidth": 0,
             "ticks": ""
            },
            "colorscale": [
             [
              0,
              "#0d0887"
             ],
             [
              0.1111111111111111,
              "#46039f"
             ],
             [
              0.2222222222222222,
              "#7201a8"
             ],
             [
              0.3333333333333333,
              "#9c179e"
             ],
             [
              0.4444444444444444,
              "#bd3786"
             ],
             [
              0.5555555555555556,
              "#d8576b"
             ],
             [
              0.6666666666666666,
              "#ed7953"
             ],
             [
              0.7777777777777778,
              "#fb9f3a"
             ],
             [
              0.8888888888888888,
              "#fdca26"
             ],
             [
              1,
              "#f0f921"
             ]
            ],
            "type": "heatmap"
           }
          ],
          "heatmapgl": [
           {
            "colorbar": {
             "outlinewidth": 0,
             "ticks": ""
            },
            "colorscale": [
             [
              0,
              "#0d0887"
             ],
             [
              0.1111111111111111,
              "#46039f"
             ],
             [
              0.2222222222222222,
              "#7201a8"
             ],
             [
              0.3333333333333333,
              "#9c179e"
             ],
             [
              0.4444444444444444,
              "#bd3786"
             ],
             [
              0.5555555555555556,
              "#d8576b"
             ],
             [
              0.6666666666666666,
              "#ed7953"
             ],
             [
              0.7777777777777778,
              "#fb9f3a"
             ],
             [
              0.8888888888888888,
              "#fdca26"
             ],
             [
              1,
              "#f0f921"
             ]
            ],
            "type": "heatmapgl"
           }
          ],
          "histogram": [
           {
            "marker": {
             "pattern": {
              "fillmode": "overlay",
              "size": 10,
              "solidity": 0.2
             }
            },
            "type": "histogram"
           }
          ],
          "histogram2d": [
           {
            "colorbar": {
             "outlinewidth": 0,
             "ticks": ""
            },
            "colorscale": [
             [
              0,
              "#0d0887"
             ],
             [
              0.1111111111111111,
              "#46039f"
             ],
             [
              0.2222222222222222,
              "#7201a8"
             ],
             [
              0.3333333333333333,
              "#9c179e"
             ],
             [
              0.4444444444444444,
              "#bd3786"
             ],
             [
              0.5555555555555556,
              "#d8576b"
             ],
             [
              0.6666666666666666,
              "#ed7953"
             ],
             [
              0.7777777777777778,
              "#fb9f3a"
             ],
             [
              0.8888888888888888,
              "#fdca26"
             ],
             [
              1,
              "#f0f921"
             ]
            ],
            "type": "histogram2d"
           }
          ],
          "histogram2dcontour": [
           {
            "colorbar": {
             "outlinewidth": 0,
             "ticks": ""
            },
            "colorscale": [
             [
              0,
              "#0d0887"
             ],
             [
              0.1111111111111111,
              "#46039f"
             ],
             [
              0.2222222222222222,
              "#7201a8"
             ],
             [
              0.3333333333333333,
              "#9c179e"
             ],
             [
              0.4444444444444444,
              "#bd3786"
             ],
             [
              0.5555555555555556,
              "#d8576b"
             ],
             [
              0.6666666666666666,
              "#ed7953"
             ],
             [
              0.7777777777777778,
              "#fb9f3a"
             ],
             [
              0.8888888888888888,
              "#fdca26"
             ],
             [
              1,
              "#f0f921"
             ]
            ],
            "type": "histogram2dcontour"
           }
          ],
          "mesh3d": [
           {
            "colorbar": {
             "outlinewidth": 0,
             "ticks": ""
            },
            "type": "mesh3d"
           }
          ],
          "parcoords": [
           {
            "line": {
             "colorbar": {
              "outlinewidth": 0,
              "ticks": ""
             }
            },
            "type": "parcoords"
           }
          ],
          "pie": [
           {
            "automargin": true,
            "type": "pie"
           }
          ],
          "scatter": [
           {
            "fillpattern": {
             "fillmode": "overlay",
             "size": 10,
             "solidity": 0.2
            },
            "type": "scatter"
           }
          ],
          "scatter3d": [
           {
            "line": {
             "colorbar": {
              "outlinewidth": 0,
              "ticks": ""
             }
            },
            "marker": {
             "colorbar": {
              "outlinewidth": 0,
              "ticks": ""
             }
            },
            "type": "scatter3d"
           }
          ],
          "scattercarpet": [
           {
            "marker": {
             "colorbar": {
              "outlinewidth": 0,
              "ticks": ""
             }
            },
            "type": "scattercarpet"
           }
          ],
          "scattergeo": [
           {
            "marker": {
             "colorbar": {
              "outlinewidth": 0,
              "ticks": ""
             }
            },
            "type": "scattergeo"
           }
          ],
          "scattergl": [
           {
            "marker": {
             "colorbar": {
              "outlinewidth": 0,
              "ticks": ""
             }
            },
            "type": "scattergl"
           }
          ],
          "scattermapbox": [
           {
            "marker": {
             "colorbar": {
              "outlinewidth": 0,
              "ticks": ""
             }
            },
            "type": "scattermapbox"
           }
          ],
          "scatterpolar": [
           {
            "marker": {
             "colorbar": {
              "outlinewidth": 0,
              "ticks": ""
             }
            },
            "type": "scatterpolar"
           }
          ],
          "scatterpolargl": [
           {
            "marker": {
             "colorbar": {
              "outlinewidth": 0,
              "ticks": ""
             }
            },
            "type": "scatterpolargl"
           }
          ],
          "scatterternary": [
           {
            "marker": {
             "colorbar": {
              "outlinewidth": 0,
              "ticks": ""
             }
            },
            "type": "scatterternary"
           }
          ],
          "surface": [
           {
            "colorbar": {
             "outlinewidth": 0,
             "ticks": ""
            },
            "colorscale": [
             [
              0,
              "#0d0887"
             ],
             [
              0.1111111111111111,
              "#46039f"
             ],
             [
              0.2222222222222222,
              "#7201a8"
             ],
             [
              0.3333333333333333,
              "#9c179e"
             ],
             [
              0.4444444444444444,
              "#bd3786"
             ],
             [
              0.5555555555555556,
              "#d8576b"
             ],
             [
              0.6666666666666666,
              "#ed7953"
             ],
             [
              0.7777777777777778,
              "#fb9f3a"
             ],
             [
              0.8888888888888888,
              "#fdca26"
             ],
             [
              1,
              "#f0f921"
             ]
            ],
            "type": "surface"
           }
          ],
          "table": [
           {
            "cells": {
             "fill": {
              "color": "#EBF0F8"
             },
             "line": {
              "color": "white"
             }
            },
            "header": {
             "fill": {
              "color": "#C8D4E3"
             },
             "line": {
              "color": "white"
             }
            },
            "type": "table"
           }
          ]
         },
         "layout": {
          "annotationdefaults": {
           "arrowcolor": "#2a3f5f",
           "arrowhead": 0,
           "arrowwidth": 1
          },
          "autotypenumbers": "strict",
          "coloraxis": {
           "colorbar": {
            "outlinewidth": 0,
            "ticks": ""
           }
          },
          "colorscale": {
           "diverging": [
            [
             0,
             "#8e0152"
            ],
            [
             0.1,
             "#c51b7d"
            ],
            [
             0.2,
             "#de77ae"
            ],
            [
             0.3,
             "#f1b6da"
            ],
            [
             0.4,
             "#fde0ef"
            ],
            [
             0.5,
             "#f7f7f7"
            ],
            [
             0.6,
             "#e6f5d0"
            ],
            [
             0.7,
             "#b8e186"
            ],
            [
             0.8,
             "#7fbc41"
            ],
            [
             0.9,
             "#4d9221"
            ],
            [
             1,
             "#276419"
            ]
           ],
           "sequential": [
            [
             0,
             "#0d0887"
            ],
            [
             0.1111111111111111,
             "#46039f"
            ],
            [
             0.2222222222222222,
             "#7201a8"
            ],
            [
             0.3333333333333333,
             "#9c179e"
            ],
            [
             0.4444444444444444,
             "#bd3786"
            ],
            [
             0.5555555555555556,
             "#d8576b"
            ],
            [
             0.6666666666666666,
             "#ed7953"
            ],
            [
             0.7777777777777778,
             "#fb9f3a"
            ],
            [
             0.8888888888888888,
             "#fdca26"
            ],
            [
             1,
             "#f0f921"
            ]
           ],
           "sequentialminus": [
            [
             0,
             "#0d0887"
            ],
            [
             0.1111111111111111,
             "#46039f"
            ],
            [
             0.2222222222222222,
             "#7201a8"
            ],
            [
             0.3333333333333333,
             "#9c179e"
            ],
            [
             0.4444444444444444,
             "#bd3786"
            ],
            [
             0.5555555555555556,
             "#d8576b"
            ],
            [
             0.6666666666666666,
             "#ed7953"
            ],
            [
             0.7777777777777778,
             "#fb9f3a"
            ],
            [
             0.8888888888888888,
             "#fdca26"
            ],
            [
             1,
             "#f0f921"
            ]
           ]
          },
          "colorway": [
           "#636efa",
           "#EF553B",
           "#00cc96",
           "#ab63fa",
           "#FFA15A",
           "#19d3f3",
           "#FF6692",
           "#B6E880",
           "#FF97FF",
           "#FECB52"
          ],
          "font": {
           "color": "#2a3f5f"
          },
          "geo": {
           "bgcolor": "white",
           "lakecolor": "white",
           "landcolor": "#E5ECF6",
           "showlakes": true,
           "showland": true,
           "subunitcolor": "white"
          },
          "hoverlabel": {
           "align": "left"
          },
          "hovermode": "closest",
          "mapbox": {
           "style": "light"
          },
          "paper_bgcolor": "white",
          "plot_bgcolor": "#E5ECF6",
          "polar": {
           "angularaxis": {
            "gridcolor": "white",
            "linecolor": "white",
            "ticks": ""
           },
           "bgcolor": "#E5ECF6",
           "radialaxis": {
            "gridcolor": "white",
            "linecolor": "white",
            "ticks": ""
           }
          },
          "scene": {
           "xaxis": {
            "backgroundcolor": "#E5ECF6",
            "gridcolor": "white",
            "gridwidth": 2,
            "linecolor": "white",
            "showbackground": true,
            "ticks": "",
            "zerolinecolor": "white"
           },
           "yaxis": {
            "backgroundcolor": "#E5ECF6",
            "gridcolor": "white",
            "gridwidth": 2,
            "linecolor": "white",
            "showbackground": true,
            "ticks": "",
            "zerolinecolor": "white"
           },
           "zaxis": {
            "backgroundcolor": "#E5ECF6",
            "gridcolor": "white",
            "gridwidth": 2,
            "linecolor": "white",
            "showbackground": true,
            "ticks": "",
            "zerolinecolor": "white"
           }
          },
          "shapedefaults": {
           "line": {
            "color": "#2a3f5f"
           }
          },
          "ternary": {
           "aaxis": {
            "gridcolor": "white",
            "linecolor": "white",
            "ticks": ""
           },
           "baxis": {
            "gridcolor": "white",
            "linecolor": "white",
            "ticks": ""
           },
           "bgcolor": "#E5ECF6",
           "caxis": {
            "gridcolor": "white",
            "linecolor": "white",
            "ticks": ""
           }
          },
          "title": {
           "x": 0.05
          },
          "xaxis": {
           "automargin": true,
           "gridcolor": "white",
           "linecolor": "white",
           "ticks": "",
           "title": {
            "standoff": 15
           },
           "zerolinecolor": "white",
           "zerolinewidth": 2
          },
          "yaxis": {
           "automargin": true,
           "gridcolor": "white",
           "linecolor": "white",
           "ticks": "",
           "title": {
            "standoff": 15
           },
           "zerolinecolor": "white",
           "zerolinewidth": 2
          }
         }
        },
        "xaxis": {
         "anchor": "y",
         "domain": [
          0,
          1
         ],
         "title": {
          "text": "mvliking"
         }
        },
        "yaxis": {
         "anchor": "x",
         "domain": [
          0,
          1
         ],
         "title": {
          "text": "count"
         }
        }
       }
      }
     },
     "metadata": {},
     "output_type": "display_data"
    }
   ],
   "source": [
    "# Checking the distribution of interest in the new vehicle for cluster 2\n",
    "fig = px.histogram(data_frame=cluster2, x=\"mvliking\")\n",
    "fig.show()"
   ]
  },
  {
   "cell_type": "code",
   "execution_count": 39,
   "metadata": {},
   "outputs": [
    {
     "data": {
      "application/vnd.plotly.v1+json": {
       "config": {
        "plotlyServerURL": "https://plot.ly"
       },
       "data": [
        {
         "alignmentgroup": "True",
         "hovertemplate": "cluster=%{x}<br>mvliking=%{y}<extra></extra>",
         "legendgroup": "0",
         "marker": {
          "color": "#636efa"
         },
         "name": "0",
         "notched": false,
         "offsetgroup": "0",
         "orientation": "v",
         "showlegend": true,
         "type": "box",
         "x": [
          0,
          0,
          0,
          0,
          0,
          0,
          0,
          0,
          0,
          0,
          0,
          0,
          0,
          0,
          0,
          0,
          0,
          0,
          0,
          0,
          0,
          0,
          0,
          0,
          0,
          0,
          0,
          0,
          0,
          0,
          0,
          0,
          0,
          0,
          0,
          0,
          0,
          0,
          0,
          0,
          0,
          0,
          0,
          0,
          0,
          0,
          0,
          0,
          0,
          0,
          0,
          0,
          0,
          0,
          0,
          0,
          0,
          0,
          0,
          0,
          0,
          0,
          0,
          0,
          0,
          0,
          0,
          0,
          0,
          0,
          0,
          0,
          0,
          0,
          0,
          0,
          0,
          0,
          0,
          0,
          0,
          0,
          0,
          0,
          0,
          0,
          0,
          0,
          0,
          0,
          0,
          0,
          0,
          0,
          0,
          0,
          0,
          0,
          0,
          0,
          0,
          0,
          0,
          0,
          0,
          0,
          0,
          0,
          0,
          0,
          0,
          0,
          0,
          0,
          0,
          0,
          0,
          0,
          0,
          0,
          0,
          0,
          0,
          0,
          0,
          0,
          0,
          0,
          0,
          0,
          0,
          0,
          0,
          0,
          0,
          0,
          0,
          0,
          0,
          0,
          0,
          0,
          0,
          0,
          0,
          0,
          0,
          0,
          0,
          0,
          0,
          0,
          0,
          0,
          0,
          0,
          0,
          0,
          0
         ],
         "x0": " ",
         "xaxis": "x",
         "y": [
          4,
          3,
          4,
          3,
          1,
          4,
          1,
          3,
          7,
          1,
          5,
          1,
          1,
          9,
          2,
          4,
          1,
          2,
          1,
          6,
          1,
          4,
          4,
          1,
          1,
          4,
          2,
          6,
          1,
          8,
          3,
          5,
          1,
          2,
          3,
          1,
          2,
          1,
          6,
          7,
          2,
          1,
          5,
          2,
          4,
          9,
          1,
          2,
          9,
          4,
          8,
          6,
          1,
          1,
          9,
          5,
          7,
          4,
          4,
          6,
          1,
          5,
          3,
          5,
          8,
          9,
          5,
          7,
          3,
          4,
          3,
          4,
          3,
          4,
          2,
          6,
          1,
          1,
          2,
          1,
          1,
          7,
          3,
          1,
          3,
          1,
          9,
          4,
          2,
          2,
          7,
          9,
          6,
          4,
          3,
          4,
          2,
          7,
          3,
          5,
          8,
          1,
          7,
          1,
          2,
          3,
          8,
          5,
          4,
          3,
          9,
          5,
          6,
          6,
          5,
          5,
          8,
          1,
          6,
          1,
          4,
          9,
          2,
          5,
          7,
          1,
          9,
          4,
          4,
          3,
          1,
          1,
          3,
          3,
          7,
          1,
          6,
          1,
          6,
          5,
          1,
          9,
          2,
          5,
          4,
          1,
          6,
          4,
          1,
          3,
          4,
          3,
          6,
          4,
          1,
          4,
          6,
          1,
          5
         ],
         "y0": " ",
         "yaxis": "y"
        },
        {
         "alignmentgroup": "True",
         "hovertemplate": "cluster=%{x}<br>mvliking=%{y}<extra></extra>",
         "legendgroup": "2",
         "marker": {
          "color": "#EF553B"
         },
         "name": "2",
         "notched": false,
         "offsetgroup": "2",
         "orientation": "v",
         "showlegend": true,
         "type": "box",
         "x": [
          2,
          2,
          2,
          2,
          2,
          2,
          2,
          2,
          2,
          2,
          2,
          2,
          2,
          2,
          2,
          2,
          2,
          2,
          2,
          2,
          2,
          2,
          2,
          2,
          2,
          2,
          2,
          2,
          2,
          2,
          2,
          2,
          2,
          2,
          2,
          2,
          2,
          2,
          2,
          2,
          2,
          2,
          2,
          2,
          2,
          2,
          2,
          2,
          2,
          2,
          2,
          2,
          2,
          2,
          2,
          2,
          2,
          2,
          2,
          2,
          2,
          2,
          2,
          2,
          2,
          2,
          2,
          2,
          2,
          2,
          2,
          2,
          2,
          2,
          2,
          2,
          2,
          2,
          2,
          2,
          2,
          2,
          2,
          2,
          2,
          2,
          2,
          2,
          2,
          2,
          2,
          2,
          2,
          2,
          2,
          2,
          2,
          2,
          2,
          2,
          2,
          2,
          2,
          2,
          2,
          2,
          2,
          2,
          2,
          2,
          2,
          2,
          2,
          2
         ],
         "x0": " ",
         "xaxis": "x",
         "y": [
          6,
          8,
          6,
          6,
          9,
          4,
          7,
          9,
          6,
          4,
          6,
          6,
          5,
          7,
          5,
          8,
          9,
          4,
          4,
          9,
          6,
          5,
          5,
          6,
          3,
          8,
          8,
          6,
          6,
          7,
          1,
          1,
          9,
          6,
          9,
          7,
          9,
          6,
          8,
          9,
          9,
          9,
          7,
          7,
          9,
          9,
          9,
          6,
          9,
          8,
          1,
          5,
          2,
          2,
          7,
          9,
          8,
          9,
          8,
          8,
          6,
          8,
          3,
          8,
          7,
          8,
          6,
          7,
          9,
          9,
          3,
          9,
          9,
          7,
          5,
          8,
          7,
          8,
          9,
          9,
          8,
          5,
          8,
          6,
          7,
          2,
          9,
          9,
          9,
          5,
          1,
          3,
          5,
          8,
          6,
          9,
          5,
          9,
          8,
          5,
          9,
          8,
          5,
          3,
          4,
          4,
          9,
          5,
          5,
          9,
          5,
          8,
          9,
          9
         ],
         "y0": " ",
         "yaxis": "y"
        },
        {
         "alignmentgroup": "True",
         "hovertemplate": "cluster=%{x}<br>mvliking=%{y}<extra></extra>",
         "legendgroup": "1",
         "marker": {
          "color": "#00cc96"
         },
         "name": "1",
         "notched": false,
         "offsetgroup": "1",
         "orientation": "v",
         "showlegend": true,
         "type": "box",
         "x": [
          1,
          1,
          1,
          1,
          1,
          1,
          1,
          1,
          1,
          1,
          1,
          1,
          1,
          1,
          1,
          1,
          1,
          1,
          1,
          1,
          1,
          1,
          1,
          1,
          1,
          1,
          1,
          1,
          1,
          1,
          1,
          1,
          1,
          1,
          1,
          1,
          1,
          1,
          1,
          1,
          1,
          1,
          1,
          1,
          1,
          1,
          1,
          1,
          1,
          1,
          1,
          1,
          1,
          1,
          1,
          1,
          1,
          1,
          1,
          1,
          1,
          1,
          1,
          1,
          1,
          1,
          1,
          1,
          1,
          1,
          1,
          1,
          1,
          1,
          1,
          1,
          1,
          1,
          1,
          1,
          1,
          1,
          1,
          1,
          1,
          1,
          1,
          1,
          1,
          1,
          1,
          1,
          1,
          1,
          1,
          1,
          1,
          1,
          1,
          1,
          1,
          1,
          1,
          1,
          1,
          1,
          1,
          1,
          1,
          1,
          1,
          1,
          1,
          1,
          1,
          1,
          1,
          1,
          1,
          1,
          1,
          1,
          1,
          1,
          1,
          1,
          1
         ],
         "x0": " ",
         "xaxis": "x",
         "y": [
          3,
          1,
          2,
          5,
          3,
          7,
          2,
          1,
          1,
          3,
          6,
          7,
          9,
          3,
          1,
          5,
          9,
          6,
          3,
          5,
          7,
          1,
          5,
          4,
          1,
          4,
          9,
          4,
          5,
          1,
          5,
          3,
          8,
          7,
          6,
          5,
          4,
          2,
          3,
          4,
          1,
          7,
          9,
          1,
          9,
          5,
          5,
          5,
          1,
          7,
          7,
          4,
          6,
          9,
          5,
          5,
          4,
          1,
          3,
          1,
          3,
          1,
          6,
          1,
          8,
          1,
          1,
          9,
          3,
          7,
          6,
          8,
          2,
          5,
          5,
          4,
          1,
          3,
          6,
          6,
          8,
          5,
          5,
          4,
          3,
          1,
          5,
          5,
          3,
          5,
          9,
          5,
          3,
          2,
          4,
          2,
          4,
          7,
          5,
          2,
          4,
          1,
          3,
          4,
          8,
          1,
          9,
          1,
          1,
          4,
          1,
          1,
          4,
          6,
          9,
          1,
          6,
          3,
          9,
          4,
          7,
          1,
          3,
          8,
          4,
          7,
          9
         ],
         "y0": " ",
         "yaxis": "y"
        }
       ],
       "layout": {
        "boxmode": "overlay",
        "legend": {
         "title": {
          "text": "cluster"
         },
         "tracegroupgap": 0
        },
        "margin": {
         "t": 60
        },
        "template": {
         "data": {
          "bar": [
           {
            "error_x": {
             "color": "#2a3f5f"
            },
            "error_y": {
             "color": "#2a3f5f"
            },
            "marker": {
             "line": {
              "color": "#E5ECF6",
              "width": 0.5
             },
             "pattern": {
              "fillmode": "overlay",
              "size": 10,
              "solidity": 0.2
             }
            },
            "type": "bar"
           }
          ],
          "barpolar": [
           {
            "marker": {
             "line": {
              "color": "#E5ECF6",
              "width": 0.5
             },
             "pattern": {
              "fillmode": "overlay",
              "size": 10,
              "solidity": 0.2
             }
            },
            "type": "barpolar"
           }
          ],
          "carpet": [
           {
            "aaxis": {
             "endlinecolor": "#2a3f5f",
             "gridcolor": "white",
             "linecolor": "white",
             "minorgridcolor": "white",
             "startlinecolor": "#2a3f5f"
            },
            "baxis": {
             "endlinecolor": "#2a3f5f",
             "gridcolor": "white",
             "linecolor": "white",
             "minorgridcolor": "white",
             "startlinecolor": "#2a3f5f"
            },
            "type": "carpet"
           }
          ],
          "choropleth": [
           {
            "colorbar": {
             "outlinewidth": 0,
             "ticks": ""
            },
            "type": "choropleth"
           }
          ],
          "contour": [
           {
            "colorbar": {
             "outlinewidth": 0,
             "ticks": ""
            },
            "colorscale": [
             [
              0,
              "#0d0887"
             ],
             [
              0.1111111111111111,
              "#46039f"
             ],
             [
              0.2222222222222222,
              "#7201a8"
             ],
             [
              0.3333333333333333,
              "#9c179e"
             ],
             [
              0.4444444444444444,
              "#bd3786"
             ],
             [
              0.5555555555555556,
              "#d8576b"
             ],
             [
              0.6666666666666666,
              "#ed7953"
             ],
             [
              0.7777777777777778,
              "#fb9f3a"
             ],
             [
              0.8888888888888888,
              "#fdca26"
             ],
             [
              1,
              "#f0f921"
             ]
            ],
            "type": "contour"
           }
          ],
          "contourcarpet": [
           {
            "colorbar": {
             "outlinewidth": 0,
             "ticks": ""
            },
            "type": "contourcarpet"
           }
          ],
          "heatmap": [
           {
            "colorbar": {
             "outlinewidth": 0,
             "ticks": ""
            },
            "colorscale": [
             [
              0,
              "#0d0887"
             ],
             [
              0.1111111111111111,
              "#46039f"
             ],
             [
              0.2222222222222222,
              "#7201a8"
             ],
             [
              0.3333333333333333,
              "#9c179e"
             ],
             [
              0.4444444444444444,
              "#bd3786"
             ],
             [
              0.5555555555555556,
              "#d8576b"
             ],
             [
              0.6666666666666666,
              "#ed7953"
             ],
             [
              0.7777777777777778,
              "#fb9f3a"
             ],
             [
              0.8888888888888888,
              "#fdca26"
             ],
             [
              1,
              "#f0f921"
             ]
            ],
            "type": "heatmap"
           }
          ],
          "heatmapgl": [
           {
            "colorbar": {
             "outlinewidth": 0,
             "ticks": ""
            },
            "colorscale": [
             [
              0,
              "#0d0887"
             ],
             [
              0.1111111111111111,
              "#46039f"
             ],
             [
              0.2222222222222222,
              "#7201a8"
             ],
             [
              0.3333333333333333,
              "#9c179e"
             ],
             [
              0.4444444444444444,
              "#bd3786"
             ],
             [
              0.5555555555555556,
              "#d8576b"
             ],
             [
              0.6666666666666666,
              "#ed7953"
             ],
             [
              0.7777777777777778,
              "#fb9f3a"
             ],
             [
              0.8888888888888888,
              "#fdca26"
             ],
             [
              1,
              "#f0f921"
             ]
            ],
            "type": "heatmapgl"
           }
          ],
          "histogram": [
           {
            "marker": {
             "pattern": {
              "fillmode": "overlay",
              "size": 10,
              "solidity": 0.2
             }
            },
            "type": "histogram"
           }
          ],
          "histogram2d": [
           {
            "colorbar": {
             "outlinewidth": 0,
             "ticks": ""
            },
            "colorscale": [
             [
              0,
              "#0d0887"
             ],
             [
              0.1111111111111111,
              "#46039f"
             ],
             [
              0.2222222222222222,
              "#7201a8"
             ],
             [
              0.3333333333333333,
              "#9c179e"
             ],
             [
              0.4444444444444444,
              "#bd3786"
             ],
             [
              0.5555555555555556,
              "#d8576b"
             ],
             [
              0.6666666666666666,
              "#ed7953"
             ],
             [
              0.7777777777777778,
              "#fb9f3a"
             ],
             [
              0.8888888888888888,
              "#fdca26"
             ],
             [
              1,
              "#f0f921"
             ]
            ],
            "type": "histogram2d"
           }
          ],
          "histogram2dcontour": [
           {
            "colorbar": {
             "outlinewidth": 0,
             "ticks": ""
            },
            "colorscale": [
             [
              0,
              "#0d0887"
             ],
             [
              0.1111111111111111,
              "#46039f"
             ],
             [
              0.2222222222222222,
              "#7201a8"
             ],
             [
              0.3333333333333333,
              "#9c179e"
             ],
             [
              0.4444444444444444,
              "#bd3786"
             ],
             [
              0.5555555555555556,
              "#d8576b"
             ],
             [
              0.6666666666666666,
              "#ed7953"
             ],
             [
              0.7777777777777778,
              "#fb9f3a"
             ],
             [
              0.8888888888888888,
              "#fdca26"
             ],
             [
              1,
              "#f0f921"
             ]
            ],
            "type": "histogram2dcontour"
           }
          ],
          "mesh3d": [
           {
            "colorbar": {
             "outlinewidth": 0,
             "ticks": ""
            },
            "type": "mesh3d"
           }
          ],
          "parcoords": [
           {
            "line": {
             "colorbar": {
              "outlinewidth": 0,
              "ticks": ""
             }
            },
            "type": "parcoords"
           }
          ],
          "pie": [
           {
            "automargin": true,
            "type": "pie"
           }
          ],
          "scatter": [
           {
            "fillpattern": {
             "fillmode": "overlay",
             "size": 10,
             "solidity": 0.2
            },
            "type": "scatter"
           }
          ],
          "scatter3d": [
           {
            "line": {
             "colorbar": {
              "outlinewidth": 0,
              "ticks": ""
             }
            },
            "marker": {
             "colorbar": {
              "outlinewidth": 0,
              "ticks": ""
             }
            },
            "type": "scatter3d"
           }
          ],
          "scattercarpet": [
           {
            "marker": {
             "colorbar": {
              "outlinewidth": 0,
              "ticks": ""
             }
            },
            "type": "scattercarpet"
           }
          ],
          "scattergeo": [
           {
            "marker": {
             "colorbar": {
              "outlinewidth": 0,
              "ticks": ""
             }
            },
            "type": "scattergeo"
           }
          ],
          "scattergl": [
           {
            "marker": {
             "colorbar": {
              "outlinewidth": 0,
              "ticks": ""
             }
            },
            "type": "scattergl"
           }
          ],
          "scattermapbox": [
           {
            "marker": {
             "colorbar": {
              "outlinewidth": 0,
              "ticks": ""
             }
            },
            "type": "scattermapbox"
           }
          ],
          "scatterpolar": [
           {
            "marker": {
             "colorbar": {
              "outlinewidth": 0,
              "ticks": ""
             }
            },
            "type": "scatterpolar"
           }
          ],
          "scatterpolargl": [
           {
            "marker": {
             "colorbar": {
              "outlinewidth": 0,
              "ticks": ""
             }
            },
            "type": "scatterpolargl"
           }
          ],
          "scatterternary": [
           {
            "marker": {
             "colorbar": {
              "outlinewidth": 0,
              "ticks": ""
             }
            },
            "type": "scatterternary"
           }
          ],
          "surface": [
           {
            "colorbar": {
             "outlinewidth": 0,
             "ticks": ""
            },
            "colorscale": [
             [
              0,
              "#0d0887"
             ],
             [
              0.1111111111111111,
              "#46039f"
             ],
             [
              0.2222222222222222,
              "#7201a8"
             ],
             [
              0.3333333333333333,
              "#9c179e"
             ],
             [
              0.4444444444444444,
              "#bd3786"
             ],
             [
              0.5555555555555556,
              "#d8576b"
             ],
             [
              0.6666666666666666,
              "#ed7953"
             ],
             [
              0.7777777777777778,
              "#fb9f3a"
             ],
             [
              0.8888888888888888,
              "#fdca26"
             ],
             [
              1,
              "#f0f921"
             ]
            ],
            "type": "surface"
           }
          ],
          "table": [
           {
            "cells": {
             "fill": {
              "color": "#EBF0F8"
             },
             "line": {
              "color": "white"
             }
            },
            "header": {
             "fill": {
              "color": "#C8D4E3"
             },
             "line": {
              "color": "white"
             }
            },
            "type": "table"
           }
          ]
         },
         "layout": {
          "annotationdefaults": {
           "arrowcolor": "#2a3f5f",
           "arrowhead": 0,
           "arrowwidth": 1
          },
          "autotypenumbers": "strict",
          "coloraxis": {
           "colorbar": {
            "outlinewidth": 0,
            "ticks": ""
           }
          },
          "colorscale": {
           "diverging": [
            [
             0,
             "#8e0152"
            ],
            [
             0.1,
             "#c51b7d"
            ],
            [
             0.2,
             "#de77ae"
            ],
            [
             0.3,
             "#f1b6da"
            ],
            [
             0.4,
             "#fde0ef"
            ],
            [
             0.5,
             "#f7f7f7"
            ],
            [
             0.6,
             "#e6f5d0"
            ],
            [
             0.7,
             "#b8e186"
            ],
            [
             0.8,
             "#7fbc41"
            ],
            [
             0.9,
             "#4d9221"
            ],
            [
             1,
             "#276419"
            ]
           ],
           "sequential": [
            [
             0,
             "#0d0887"
            ],
            [
             0.1111111111111111,
             "#46039f"
            ],
            [
             0.2222222222222222,
             "#7201a8"
            ],
            [
             0.3333333333333333,
             "#9c179e"
            ],
            [
             0.4444444444444444,
             "#bd3786"
            ],
            [
             0.5555555555555556,
             "#d8576b"
            ],
            [
             0.6666666666666666,
             "#ed7953"
            ],
            [
             0.7777777777777778,
             "#fb9f3a"
            ],
            [
             0.8888888888888888,
             "#fdca26"
            ],
            [
             1,
             "#f0f921"
            ]
           ],
           "sequentialminus": [
            [
             0,
             "#0d0887"
            ],
            [
             0.1111111111111111,
             "#46039f"
            ],
            [
             0.2222222222222222,
             "#7201a8"
            ],
            [
             0.3333333333333333,
             "#9c179e"
            ],
            [
             0.4444444444444444,
             "#bd3786"
            ],
            [
             0.5555555555555556,
             "#d8576b"
            ],
            [
             0.6666666666666666,
             "#ed7953"
            ],
            [
             0.7777777777777778,
             "#fb9f3a"
            ],
            [
             0.8888888888888888,
             "#fdca26"
            ],
            [
             1,
             "#f0f921"
            ]
           ]
          },
          "colorway": [
           "#636efa",
           "#EF553B",
           "#00cc96",
           "#ab63fa",
           "#FFA15A",
           "#19d3f3",
           "#FF6692",
           "#B6E880",
           "#FF97FF",
           "#FECB52"
          ],
          "font": {
           "color": "#2a3f5f"
          },
          "geo": {
           "bgcolor": "white",
           "lakecolor": "white",
           "landcolor": "#E5ECF6",
           "showlakes": true,
           "showland": true,
           "subunitcolor": "white"
          },
          "hoverlabel": {
           "align": "left"
          },
          "hovermode": "closest",
          "mapbox": {
           "style": "light"
          },
          "paper_bgcolor": "white",
          "plot_bgcolor": "#E5ECF6",
          "polar": {
           "angularaxis": {
            "gridcolor": "white",
            "linecolor": "white",
            "ticks": ""
           },
           "bgcolor": "#E5ECF6",
           "radialaxis": {
            "gridcolor": "white",
            "linecolor": "white",
            "ticks": ""
           }
          },
          "scene": {
           "xaxis": {
            "backgroundcolor": "#E5ECF6",
            "gridcolor": "white",
            "gridwidth": 2,
            "linecolor": "white",
            "showbackground": true,
            "ticks": "",
            "zerolinecolor": "white"
           },
           "yaxis": {
            "backgroundcolor": "#E5ECF6",
            "gridcolor": "white",
            "gridwidth": 2,
            "linecolor": "white",
            "showbackground": true,
            "ticks": "",
            "zerolinecolor": "white"
           },
           "zaxis": {
            "backgroundcolor": "#E5ECF6",
            "gridcolor": "white",
            "gridwidth": 2,
            "linecolor": "white",
            "showbackground": true,
            "ticks": "",
            "zerolinecolor": "white"
           }
          },
          "shapedefaults": {
           "line": {
            "color": "#2a3f5f"
           }
          },
          "ternary": {
           "aaxis": {
            "gridcolor": "white",
            "linecolor": "white",
            "ticks": ""
           },
           "baxis": {
            "gridcolor": "white",
            "linecolor": "white",
            "ticks": ""
           },
           "bgcolor": "#E5ECF6",
           "caxis": {
            "gridcolor": "white",
            "linecolor": "white",
            "ticks": ""
           }
          },
          "title": {
           "x": 0.05
          },
          "xaxis": {
           "automargin": true,
           "gridcolor": "white",
           "linecolor": "white",
           "ticks": "",
           "title": {
            "standoff": 15
           },
           "zerolinecolor": "white",
           "zerolinewidth": 2
          },
          "yaxis": {
           "automargin": true,
           "gridcolor": "white",
           "linecolor": "white",
           "ticks": "",
           "title": {
            "standoff": 15
           },
           "zerolinecolor": "white",
           "zerolinewidth": 2
          }
         }
        },
        "xaxis": {
         "anchor": "y",
         "categoryarray": [
          0,
          2,
          1
         ],
         "categoryorder": "array",
         "domain": [
          0,
          1
         ],
         "title": {
          "text": "cluster"
         }
        },
        "yaxis": {
         "anchor": "x",
         "domain": [
          0,
          1
         ],
         "title": {
          "text": "mvliking"
         }
        }
       }
      }
     },
     "metadata": {},
     "output_type": "display_data"
    }
   ],
   "source": [
    "# Checking the boxplot of all clusters\n",
    "fig = px.box(data_frame=dfcomp, x=\"cluster\", y=\"mvliking\", color=\"cluster\")\n",
    "fig.show()"
   ]
  },
  {
   "cell_type": "markdown",
   "metadata": {},
   "source": [
    "<h3 style=\"color:cornflowerblue\">Demographic Visualization</h3>\n"
   ]
  },
  {
   "cell_type": "code",
   "execution_count": 40,
   "metadata": {},
   "outputs": [
    {
     "data": {
      "text/plain": [
       "Index(['VacationlessCheapskate', 'Small&New', 'FamilyGuy', 'FastnFurious',\n",
       "       'HighEnd', 'age', 'income', 'miles', 'numkids', 'female', 'educ',\n",
       "       'recycle', 'mvliking', 'cluster'],\n",
       "      dtype='object')"
      ]
     },
     "execution_count": 40,
     "metadata": {},
     "output_type": "execute_result"
    }
   ],
   "source": [
    "# Complete DataFrame columns\n",
    "dfcomp.columns"
   ]
  },
  {
   "cell_type": "code",
   "execution_count": 44,
   "metadata": {},
   "outputs": [
    {
     "data": {
      "text/html": [
       "<div>\n",
       "<style scoped>\n",
       "    .dataframe tbody tr th:only-of-type {\n",
       "        vertical-align: middle;\n",
       "    }\n",
       "\n",
       "    .dataframe tbody tr th {\n",
       "        vertical-align: top;\n",
       "    }\n",
       "\n",
       "    .dataframe thead th {\n",
       "        text-align: right;\n",
       "    }\n",
       "</style>\n",
       "<table border=\"1\" class=\"dataframe\">\n",
       "  <thead>\n",
       "    <tr style=\"text-align: right;\">\n",
       "      <th></th>\n",
       "      <th>age</th>\n",
       "      <th>income</th>\n",
       "      <th>miles</th>\n",
       "      <th>numkids</th>\n",
       "      <th>female</th>\n",
       "      <th>educ</th>\n",
       "      <th>recycle</th>\n",
       "      <th>mvliking</th>\n",
       "    </tr>\n",
       "    <tr>\n",
       "      <th>subjnumb</th>\n",
       "      <th></th>\n",
       "      <th></th>\n",
       "      <th></th>\n",
       "      <th></th>\n",
       "      <th></th>\n",
       "      <th></th>\n",
       "      <th></th>\n",
       "      <th></th>\n",
       "    </tr>\n",
       "  </thead>\n",
       "  <tbody>\n",
       "    <tr>\n",
       "      <th>1</th>\n",
       "      <td>34</td>\n",
       "      <td>59</td>\n",
       "      <td>14</td>\n",
       "      <td>1</td>\n",
       "      <td>0</td>\n",
       "      <td>1</td>\n",
       "      <td>3</td>\n",
       "      <td>4</td>\n",
       "    </tr>\n",
       "    <tr>\n",
       "      <th>2</th>\n",
       "      <td>36</td>\n",
       "      <td>79</td>\n",
       "      <td>16</td>\n",
       "      <td>1</td>\n",
       "      <td>0</td>\n",
       "      <td>3</td>\n",
       "      <td>4</td>\n",
       "      <td>6</td>\n",
       "    </tr>\n",
       "    <tr>\n",
       "      <th>3</th>\n",
       "      <td>51</td>\n",
       "      <td>72</td>\n",
       "      <td>22</td>\n",
       "      <td>2</td>\n",
       "      <td>1</td>\n",
       "      <td>3</td>\n",
       "      <td>3</td>\n",
       "      <td>3</td>\n",
       "    </tr>\n",
       "    <tr>\n",
       "      <th>4</th>\n",
       "      <td>32</td>\n",
       "      <td>42</td>\n",
       "      <td>12</td>\n",
       "      <td>0</td>\n",
       "      <td>0</td>\n",
       "      <td>3</td>\n",
       "      <td>2</td>\n",
       "      <td>3</td>\n",
       "    </tr>\n",
       "    <tr>\n",
       "      <th>5</th>\n",
       "      <td>40</td>\n",
       "      <td>75</td>\n",
       "      <td>17</td>\n",
       "      <td>1</td>\n",
       "      <td>1</td>\n",
       "      <td>3</td>\n",
       "      <td>4</td>\n",
       "      <td>1</td>\n",
       "    </tr>\n",
       "  </tbody>\n",
       "</table>\n",
       "</div>"
      ],
      "text/plain": [
       "          age  income  miles  numkids  female  educ  recycle  mvliking\n",
       "subjnumb                                                              \n",
       "1          34      59     14        1       0     1        3         4\n",
       "2          36      79     16        1       0     3        4         6\n",
       "3          51      72     22        2       1     3        3         3\n",
       "4          32      42     12        0       0     3        2         3\n",
       "5          40      75     17        1       1     3        4         1"
      ]
     },
     "execution_count": 44,
     "metadata": {},
     "output_type": "execute_result"
    }
   ],
   "source": [
    "# Demographic dataframe\n",
    "df_demog = dfcomp.iloc[:, 5:13]\n",
    "df_demog.head()"
   ]
  },
  {
   "cell_type": "code",
   "execution_count": 46,
   "metadata": {},
   "outputs": [
    {
     "data": {
      "text/html": [
       "<div>\n",
       "<style scoped>\n",
       "    .dataframe tbody tr th:only-of-type {\n",
       "        vertical-align: middle;\n",
       "    }\n",
       "\n",
       "    .dataframe tbody tr th {\n",
       "        vertical-align: top;\n",
       "    }\n",
       "\n",
       "    .dataframe thead th {\n",
       "        text-align: right;\n",
       "    }\n",
       "</style>\n",
       "<table border=\"1\" class=\"dataframe\">\n",
       "  <thead>\n",
       "    <tr style=\"text-align: right;\">\n",
       "      <th></th>\n",
       "      <th>age</th>\n",
       "      <th>income</th>\n",
       "      <th>miles</th>\n",
       "      <th>numkids</th>\n",
       "      <th>female</th>\n",
       "      <th>educ</th>\n",
       "      <th>recycle</th>\n",
       "      <th>mvliking</th>\n",
       "    </tr>\n",
       "  </thead>\n",
       "  <tbody>\n",
       "    <tr>\n",
       "      <th>age</th>\n",
       "      <td>1.00</td>\n",
       "      <td>0.74</td>\n",
       "      <td>0.53</td>\n",
       "      <td>0.37</td>\n",
       "      <td>0.12</td>\n",
       "      <td>0.64</td>\n",
       "      <td>-0.14</td>\n",
       "      <td>0.33</td>\n",
       "    </tr>\n",
       "    <tr>\n",
       "      <th>income</th>\n",
       "      <td>0.74</td>\n",
       "      <td>1.00</td>\n",
       "      <td>0.34</td>\n",
       "      <td>0.21</td>\n",
       "      <td>-0.02</td>\n",
       "      <td>0.49</td>\n",
       "      <td>-0.12</td>\n",
       "      <td>0.22</td>\n",
       "    </tr>\n",
       "    <tr>\n",
       "      <th>miles</th>\n",
       "      <td>0.53</td>\n",
       "      <td>0.34</td>\n",
       "      <td>1.00</td>\n",
       "      <td>0.73</td>\n",
       "      <td>0.41</td>\n",
       "      <td>0.44</td>\n",
       "      <td>-0.10</td>\n",
       "      <td>0.21</td>\n",
       "    </tr>\n",
       "    <tr>\n",
       "      <th>numkids</th>\n",
       "      <td>0.37</td>\n",
       "      <td>0.21</td>\n",
       "      <td>0.73</td>\n",
       "      <td>1.00</td>\n",
       "      <td>0.34</td>\n",
       "      <td>0.18</td>\n",
       "      <td>-0.26</td>\n",
       "      <td>0.20</td>\n",
       "    </tr>\n",
       "    <tr>\n",
       "      <th>female</th>\n",
       "      <td>0.12</td>\n",
       "      <td>-0.02</td>\n",
       "      <td>0.41</td>\n",
       "      <td>0.34</td>\n",
       "      <td>1.00</td>\n",
       "      <td>0.22</td>\n",
       "      <td>-0.04</td>\n",
       "      <td>-0.25</td>\n",
       "    </tr>\n",
       "  </tbody>\n",
       "</table>\n",
       "</div>"
      ],
      "text/plain": [
       "         age  income  miles  numkids  female  educ  recycle  mvliking\n",
       "age     1.00    0.74   0.53     0.37    0.12  0.64    -0.14      0.33\n",
       "income  0.74    1.00   0.34     0.21   -0.02  0.49    -0.12      0.22\n",
       "miles   0.53    0.34   1.00     0.73    0.41  0.44    -0.10      0.21\n",
       "numkids 0.37    0.21   0.73     1.00    0.34  0.18    -0.26      0.20\n",
       "female  0.12   -0.02   0.41     0.34    1.00  0.22    -0.04     -0.25"
      ]
     },
     "execution_count": 46,
     "metadata": {},
     "output_type": "execute_result"
    }
   ],
   "source": [
    "# Demographic DataFrame Correlations\n",
    "dem_corr = df_demog.corr()\n",
    "dem_corr.head()"
   ]
  },
  {
   "cell_type": "code",
   "execution_count": 49,
   "metadata": {},
   "outputs": [
    {
     "data": {
      "text/html": [
       "<div>\n",
       "<style scoped>\n",
       "    .dataframe tbody tr th:only-of-type {\n",
       "        vertical-align: middle;\n",
       "    }\n",
       "\n",
       "    .dataframe tbody tr th {\n",
       "        vertical-align: top;\n",
       "    }\n",
       "\n",
       "    .dataframe thead th {\n",
       "        text-align: right;\n",
       "    }\n",
       "</style>\n",
       "<table border=\"1\" class=\"dataframe\">\n",
       "  <thead>\n",
       "    <tr style=\"text-align: right;\">\n",
       "      <th></th>\n",
       "      <th>feature_x</th>\n",
       "      <th>feature_y</th>\n",
       "      <th>correlation</th>\n",
       "      <th>abs_correlation</th>\n",
       "    </tr>\n",
       "  </thead>\n",
       "  <tbody>\n",
       "    <tr>\n",
       "      <th>0</th>\n",
       "      <td>age</td>\n",
       "      <td>age</td>\n",
       "      <td>1.00</td>\n",
       "      <td>1.00</td>\n",
       "    </tr>\n",
       "    <tr>\n",
       "      <th>1</th>\n",
       "      <td>age</td>\n",
       "      <td>income</td>\n",
       "      <td>0.74</td>\n",
       "      <td>0.74</td>\n",
       "    </tr>\n",
       "    <tr>\n",
       "      <th>2</th>\n",
       "      <td>age</td>\n",
       "      <td>miles</td>\n",
       "      <td>0.53</td>\n",
       "      <td>0.53</td>\n",
       "    </tr>\n",
       "    <tr>\n",
       "      <th>3</th>\n",
       "      <td>age</td>\n",
       "      <td>numkids</td>\n",
       "      <td>0.37</td>\n",
       "      <td>0.37</td>\n",
       "    </tr>\n",
       "    <tr>\n",
       "      <th>4</th>\n",
       "      <td>age</td>\n",
       "      <td>female</td>\n",
       "      <td>0.12</td>\n",
       "      <td>0.12</td>\n",
       "    </tr>\n",
       "  </tbody>\n",
       "</table>\n",
       "</div>"
      ],
      "text/plain": [
       "  feature_x feature_y  correlation  abs_correlation\n",
       "0       age       age         1.00             1.00\n",
       "1       age    income         0.74             0.74\n",
       "2       age     miles         0.53             0.53\n",
       "3       age   numkids         0.37             0.37\n",
       "4       age    female         0.12             0.12"
      ]
     },
     "execution_count": 49,
     "metadata": {},
     "output_type": "execute_result"
    }
   ],
   "source": [
    "# Dataframe for heatmap of the demographic correlation\n",
    "dem_corr_HM = dem_corr.stack().reset_index()\n",
    "dem_corr_HM.columns=[\"feature_x\", \"feature_y\", \"correlation\"]\n",
    "\n",
    "dem_corr_HM[\"abs_correlation\"] = abs(dem_corr_HM[\"correlation\"])\n",
    "dem_corr_HM.head()"
   ]
  },
  {
   "cell_type": "code",
   "execution_count": 56,
   "metadata": {},
   "outputs": [
    {
     "name": "stderr",
     "output_type": "stream",
     "text": [
      "C:\\Users\\nicol\\AppData\\Local\\Temp\\ipykernel_10420\\2995563133.py:13: UserWarning:\n",
      "\n",
      "set_ticklabels() should only be used with a fixed number of ticks, i.e. after set_ticks() or using a FixedLocator.\n",
      "\n"
     ]
    },
    {
     "data": {
      "image/png": "[encoded data removed]",
      "text/plain": [
       "<Figure size 1159.62x500 with 1 Axes>"
      ]
     },
     "metadata": {},
     "output_type": "display_data"
    }
   ],
   "source": [
    "# Heatmap for graphic analysis of Principal Components\n",
    "sns.set_theme(style=\"whitegrid\")\n",
    "heatm = sns.relplot(data=dem_corr_HM,\n",
    "    x=\"feature_x\", y=\"feature_y\", hue=\"correlation\", size=\"abs_correlation\",\n",
    "    palette=\"coolwarm_r\", hue_norm=(-1,1), edgecolor=\".7\", height=5, aspect=2,\n",
    "    sizes=(0,500),\n",
    "    )\n",
    "\n",
    "heatm.set(xlabel=\"\", ylabel=\"\", )\n",
    "heatm.despine(left=True, bottom=True)\n",
    "for i in heatm.axes.flat:\n",
    "    i.set_xticklabels(i.get_xticklabels(), rotation=90)"
   ]
  },
  {
   "cell_type": "code",
   "execution_count": 64,
   "metadata": {},
   "outputs": [
    {
     "data": {
      "text/plain": [
       "<Axes: >"
      ]
     },
     "execution_count": 64,
     "metadata": {},
     "output_type": "execute_result"
    },
    {
     "data": {
      "image/png": "[encoded data removed]",
      "text/plain": [
       "<Figure size 1600x600 with 2 Axes>"
      ]
     },
     "metadata": {},
     "output_type": "display_data"
    }
   ],
   "source": [
    "# Same Heatmap, with a different design\n",
    "plt.figure(figsize=(16,6))\n",
    "sns.heatmap(data=dem_corr, annot=True)"
   ]
  },
  {
   "cell_type": "code",
   "execution_count": 51,
   "metadata": {},
   "outputs": [
    {
     "data": {
      "application/vnd.plotly.v1+json": {
       "config": {
        "plotlyServerURL": "https://plot.ly"
       },
       "data": [
        {
         "alignmentgroup": "True",
         "hovertemplate": "age=%{x}<extra></extra>",
         "legendgroup": "",
         "marker": {
          "color": "#636efa"
         },
         "name": "",
         "notched": false,
         "offsetgroup": "",
         "orientation": "h",
         "showlegend": false,
         "type": "box",
         "x": [
          34,
          36,
          51,
          32,
          40,
          43,
          47,
          29,
          38,
          26,
          31,
          43,
          37,
          46,
          52,
          39,
          43,
          36,
          48,
          35,
          28,
          28,
          58,
          41,
          36,
          50,
          23,
          50,
          44,
          44,
          27,
          56,
          36,
          51,
          52,
          49,
          41,
          38,
          50,
          55,
          46,
          35,
          46,
          34,
          37,
          48,
          30,
          48,
          44,
          33,
          47,
          51,
          25,
          43,
          37,
          41,
          36,
          50,
          40,
          36,
          46,
          35,
          28,
          23,
          35,
          28,
          40,
          44,
          38,
          37,
          54,
          23,
          34,
          53,
          43,
          33,
          31,
          38,
          31,
          36,
          42,
          22,
          38,
          32,
          39,
          40,
          30,
          46,
          42,
          30,
          52,
          40,
          29,
          48,
          35,
          47,
          46,
          24,
          35,
          33,
          35,
          50,
          27,
          35,
          41,
          37,
          41,
          43,
          43,
          46,
          45,
          52,
          26,
          42,
          34,
          36,
          44,
          33,
          38,
          24,
          39,
          30,
          45,
          43,
          39,
          41,
          32,
          36,
          54,
          32,
          43,
          42,
          50,
          42,
          46,
          31,
          46,
          56,
          31,
          43,
          37,
          46,
          28,
          34,
          47,
          34,
          43,
          47,
          39,
          33,
          44,
          23,
          53,
          38,
          42,
          24,
          50,
          26,
          45,
          56,
          40,
          42,
          42,
          31,
          41,
          30,
          54,
          44,
          31,
          53,
          55,
          35,
          30,
          50,
          49,
          46,
          55,
          42,
          53,
          55,
          40,
          19,
          36,
          35,
          39,
          31,
          40,
          28,
          23,
          52,
          44,
          35,
          30,
          37,
          45,
          28,
          28,
          39,
          53,
          41,
          41,
          28,
          47,
          28,
          51,
          54,
          37,
          46,
          32,
          36,
          41,
          44,
          27,
          45,
          51,
          36,
          53,
          47,
          35,
          38,
          44,
          34,
          47,
          29,
          57,
          28,
          38,
          24,
          37,
          31,
          34,
          45,
          42,
          52,
          49,
          41,
          60,
          46,
          40,
          41,
          37,
          48,
          47,
          30,
          57,
          30,
          40,
          48,
          32,
          31,
          40,
          30,
          45,
          43,
          47,
          32,
          52,
          27,
          35,
          37,
          52,
          41,
          55,
          33,
          44,
          50,
          29,
          25,
          58,
          38,
          39,
          40,
          43,
          36,
          41,
          49,
          48,
          39,
          36,
          44,
          38,
          38,
          46,
          47,
          53,
          33,
          29,
          45,
          47,
          35,
          49,
          36,
          39,
          36,
          43,
          32,
          45,
          48,
          47,
          46,
          48,
          30,
          42,
          50,
          26,
          43,
          39,
          52,
          47,
          37,
          33,
          35,
          21,
          37,
          30,
          46,
          32,
          39,
          43,
          43,
          28,
          43,
          24,
          52,
          41,
          48,
          29,
          41,
          29,
          56,
          53,
          26,
          60,
          37,
          46,
          37,
          31,
          37,
          46,
          29,
          41,
          45,
          49,
          46,
          52,
          41,
          35,
          45,
          46,
          30,
          46,
          26,
          37,
          27,
          54,
          33,
          36,
          46,
          47,
          44,
          45,
          42,
          37,
          44,
          32,
          32,
          29,
          37,
          43,
          34,
          50,
          48,
          42,
          47,
          38,
          55,
          44,
          28,
          36,
          39,
          50,
          53,
          36,
          53,
          43,
          31,
          51,
          27,
          47,
          30,
          39,
          35,
          43,
          46,
          56,
          32,
          23,
          50,
          43,
          31
         ],
         "x0": " ",
         "xaxis": "x",
         "y0": " ",
         "yaxis": "y"
        }
       ],
       "layout": {
        "boxmode": "group",
        "legend": {
         "tracegroupgap": 0
        },
        "margin": {
         "t": 60
        },
        "template": {
         "data": {
          "bar": [
           {
            "error_x": {
             "color": "#2a3f5f"
            },
            "error_y": {
             "color": "#2a3f5f"
            },
            "marker": {
             "line": {
              "color": "#E5ECF6",
              "width": 0.5
             },
             "pattern": {
              "fillmode": "overlay",
              "size": 10,
              "solidity": 0.2
             }
            },
            "type": "bar"
           }
          ],
          "barpolar": [
           {
            "marker": {
             "line": {
              "color": "#E5ECF6",
              "width": 0.5
             },
             "pattern": {
              "fillmode": "overlay",
              "size": 10,
              "solidity": 0.2
             }
            },
            "type": "barpolar"
           }
          ],
          "carpet": [
           {
            "aaxis": {
             "endlinecolor": "#2a3f5f",
             "gridcolor": "white",
             "linecolor": "white",
             "minorgridcolor": "white",
             "startlinecolor": "#2a3f5f"
            },
            "baxis": {
             "endlinecolor": "#2a3f5f",
             "gridcolor": "white",
             "linecolor": "white",
             "minorgridcolor": "white",
             "startlinecolor": "#2a3f5f"
            },
            "type": "carpet"
           }
          ],
          "choropleth": [
           {
            "colorbar": {
             "outlinewidth": 0,
             "ticks": ""
            },
            "type": "choropleth"
           }
          ],
          "contour": [
           {
            "colorbar": {
             "outlinewidth": 0,
             "ticks": ""
            },
            "colorscale": [
             [
              0,
              "#0d0887"
             ],
             [
              0.1111111111111111,
              "#46039f"
             ],
             [
              0.2222222222222222,
              "#7201a8"
             ],
             [
              0.3333333333333333,
              "#9c179e"
             ],
             [
              0.4444444444444444,
              "#bd3786"
             ],
             [
              0.5555555555555556,
              "#d8576b"
             ],
             [
              0.6666666666666666,
              "#ed7953"
             ],
             [
              0.7777777777777778,
              "#fb9f3a"
             ],
             [
              0.8888888888888888,
              "#fdca26"
             ],
             [
              1,
              "#f0f921"
             ]
            ],
            "type": "contour"
           }
          ],
          "contourcarpet": [
           {
            "colorbar": {
             "outlinewidth": 0,
             "ticks": ""
            },
            "type": "contourcarpet"
           }
          ],
          "heatmap": [
           {
            "colorbar": {
             "outlinewidth": 0,
             "ticks": ""
            },
            "colorscale": [
             [
              0,
              "#0d0887"
             ],
             [
              0.1111111111111111,
              "#46039f"
             ],
             [
              0.2222222222222222,
              "#7201a8"
             ],
             [
              0.3333333333333333,
              "#9c179e"
             ],
             [
              0.4444444444444444,
              "#bd3786"
             ],
             [
              0.5555555555555556,
              "#d8576b"
             ],
             [
              0.6666666666666666,
              "#ed7953"
             ],
             [
              0.7777777777777778,
              "#fb9f3a"
             ],
             [
              0.8888888888888888,
              "#fdca26"
             ],
             [
              1,
              "#f0f921"
             ]
            ],
            "type": "heatmap"
           }
          ],
          "heatmapgl": [
           {
            "colorbar": {
             "outlinewidth": 0,
             "ticks": ""
            },
            "colorscale": [
             [
              0,
              "#0d0887"
             ],
             [
              0.1111111111111111,
              "#46039f"
             ],
             [
              0.2222222222222222,
              "#7201a8"
             ],
             [
              0.3333333333333333,
              "#9c179e"
             ],
             [
              0.4444444444444444,
              "#bd3786"
             ],
             [
              0.5555555555555556,
              "#d8576b"
             ],
             [
              0.6666666666666666,
              "#ed7953"
             ],
             [
              0.7777777777777778,
              "#fb9f3a"
             ],
             [
              0.8888888888888888,
              "#fdca26"
             ],
             [
              1,
              "#f0f921"
             ]
            ],
            "type": "heatmapgl"
           }
          ],
          "histogram": [
           {
            "marker": {
             "pattern": {
              "fillmode": "overlay",
              "size": 10,
              "solidity": 0.2
             }
            },
            "type": "histogram"
           }
          ],
          "histogram2d": [
           {
            "colorbar": {
             "outlinewidth": 0,
             "ticks": ""
            },
            "colorscale": [
             [
              0,
              "#0d0887"
             ],
             [
              0.1111111111111111,
              "#46039f"
             ],
             [
              0.2222222222222222,
              "#7201a8"
             ],
             [
              0.3333333333333333,
              "#9c179e"
             ],
             [
              0.4444444444444444,
              "#bd3786"
             ],
             [
              0.5555555555555556,
              "#d8576b"
             ],
             [
              0.6666666666666666,
              "#ed7953"
             ],
             [
              0.7777777777777778,
              "#fb9f3a"
             ],
             [
              0.8888888888888888,
              "#fdca26"
             ],
             [
              1,
              "#f0f921"
             ]
            ],
            "type": "histogram2d"
           }
          ],
          "histogram2dcontour": [
           {
            "colorbar": {
             "outlinewidth": 0,
             "ticks": ""
            },
            "colorscale": [
             [
              0,
              "#0d0887"
             ],
             [
              0.1111111111111111,
              "#46039f"
             ],
             [
              0.2222222222222222,
              "#7201a8"
             ],
             [
              0.3333333333333333,
              "#9c179e"
             ],
             [
              0.4444444444444444,
              "#bd3786"
             ],
             [
              0.5555555555555556,
              "#d8576b"
             ],
             [
              0.6666666666666666,
              "#ed7953"
             ],
             [
              0.7777777777777778,
              "#fb9f3a"
             ],
             [
              0.8888888888888888,
              "#fdca26"
             ],
             [
              1,
              "#f0f921"
             ]
            ],
            "type": "histogram2dcontour"
           }
          ],
          "mesh3d": [
           {
            "colorbar": {
             "outlinewidth": 0,
             "ticks": ""
            },
            "type": "mesh3d"
           }
          ],
          "parcoords": [
           {
            "line": {
             "colorbar": {
              "outlinewidth": 0,
              "ticks": ""
             }
            },
            "type": "parcoords"
           }
          ],
          "pie": [
           {
            "automargin": true,
            "type": "pie"
           }
          ],
          "scatter": [
           {
            "fillpattern": {
             "fillmode": "overlay",
             "size": 10,
             "solidity": 0.2
            },
            "type": "scatter"
           }
          ],
          "scatter3d": [
           {
            "line": {
             "colorbar": {
              "outlinewidth": 0,
              "ticks": ""
             }
            },
            "marker": {
             "colorbar": {
              "outlinewidth": 0,
              "ticks": ""
             }
            },
            "type": "scatter3d"
           }
          ],
          "scattercarpet": [
           {
            "marker": {
             "colorbar": {
              "outlinewidth": 0,
              "ticks": ""
             }
            },
            "type": "scattercarpet"
           }
          ],
          "scattergeo": [
           {
            "marker": {
             "colorbar": {
              "outlinewidth": 0,
              "ticks": ""
             }
            },
            "type": "scattergeo"
           }
          ],
          "scattergl": [
           {
            "marker": {
             "colorbar": {
              "outlinewidth": 0,
              "ticks": ""
             }
            },
            "type": "scattergl"
           }
          ],
          "scattermapbox": [
           {
            "marker": {
             "colorbar": {
              "outlinewidth": 0,
              "ticks": ""
             }
            },
            "type": "scattermapbox"
           }
          ],
          "scatterpolar": [
           {
            "marker": {
             "colorbar": {
              "outlinewidth": 0,
              "ticks": ""
             }
            },
            "type": "scatterpolar"
           }
          ],
          "scatterpolargl": [
           {
            "marker": {
             "colorbar": {
              "outlinewidth": 0,
              "ticks": ""
             }
            },
            "type": "scatterpolargl"
           }
          ],
          "scatterternary": [
           {
            "marker": {
             "colorbar": {
              "outlinewidth": 0,
              "ticks": ""
             }
            },
            "type": "scatterternary"
           }
          ],
          "surface": [
           {
            "colorbar": {
             "outlinewidth": 0,
             "ticks": ""
            },
            "colorscale": [
             [
              0,
              "#0d0887"
             ],
             [
              0.1111111111111111,
              "#46039f"
             ],
             [
              0.2222222222222222,
              "#7201a8"
             ],
             [
              0.3333333333333333,
              "#9c179e"
             ],
             [
              0.4444444444444444,
              "#bd3786"
             ],
             [
              0.5555555555555556,
              "#d8576b"
             ],
             [
              0.6666666666666666,
              "#ed7953"
             ],
             [
              0.7777777777777778,
              "#fb9f3a"
             ],
             [
              0.8888888888888888,
              "#fdca26"
             ],
             [
              1,
              "#f0f921"
             ]
            ],
            "type": "surface"
           }
          ],
          "table": [
           {
            "cells": {
             "fill": {
              "color": "#EBF0F8"
             },
             "line": {
              "color": "white"
             }
            },
            "header": {
             "fill": {
              "color": "#C8D4E3"
             },
             "line": {
              "color": "white"
             }
            },
            "type": "table"
           }
          ]
         },
         "layout": {
          "annotationdefaults": {
           "arrowcolor": "#2a3f5f",
           "arrowhead": 0,
           "arrowwidth": 1
          },
          "autotypenumbers": "strict",
          "coloraxis": {
           "colorbar": {
            "outlinewidth": 0,
            "ticks": ""
           }
          },
          "colorscale": {
           "diverging": [
            [
             0,
             "#8e0152"
            ],
            [
             0.1,
             "#c51b7d"
            ],
            [
             0.2,
             "#de77ae"
            ],
            [
             0.3,
             "#f1b6da"
            ],
            [
             0.4,
             "#fde0ef"
            ],
            [
             0.5,
             "#f7f7f7"
            ],
            [
             0.6,
             "#e6f5d0"
            ],
            [
             0.7,
             "#b8e186"
            ],
            [
             0.8,
             "#7fbc41"
            ],
            [
             0.9,
             "#4d9221"
            ],
            [
             1,
             "#276419"
            ]
           ],
           "sequential": [
            [
             0,
             "#0d0887"
            ],
            [
             0.1111111111111111,
             "#46039f"
            ],
            [
             0.2222222222222222,
             "#7201a8"
            ],
            [
             0.3333333333333333,
             "#9c179e"
            ],
            [
             0.4444444444444444,
             "#bd3786"
            ],
            [
             0.5555555555555556,
             "#d8576b"
            ],
            [
             0.6666666666666666,
             "#ed7953"
            ],
            [
             0.7777777777777778,
             "#fb9f3a"
            ],
            [
             0.8888888888888888,
             "#fdca26"
            ],
            [
             1,
             "#f0f921"
            ]
           ],
           "sequentialminus": [
            [
             0,
             "#0d0887"
            ],
            [
             0.1111111111111111,
             "#46039f"
            ],
            [
             0.2222222222222222,
             "#7201a8"
            ],
            [
             0.3333333333333333,
             "#9c179e"
            ],
            [
             0.4444444444444444,
             "#bd3786"
            ],
            [
             0.5555555555555556,
             "#d8576b"
            ],
            [
             0.6666666666666666,
             "#ed7953"
            ],
            [
             0.7777777777777778,
             "#fb9f3a"
            ],
            [
             0.8888888888888888,
             "#fdca26"
            ],
            [
             1,
             "#f0f921"
            ]
           ]
          },
          "colorway": [
           "#636efa",
           "#EF553B",
           "#00cc96",
           "#ab63fa",
           "#FFA15A",
           "#19d3f3",
           "#FF6692",
           "#B6E880",
           "#FF97FF",
           "#FECB52"
          ],
          "font": {
           "color": "#2a3f5f"
          },
          "geo": {
           "bgcolor": "white",
           "lakecolor": "white",
           "landcolor": "#E5ECF6",
           "showlakes": true,
           "showland": true,
           "subunitcolor": "white"
          },
          "hoverlabel": {
           "align": "left"
          },
          "hovermode": "closest",
          "mapbox": {
           "style": "light"
          },
          "paper_bgcolor": "white",
          "plot_bgcolor": "#E5ECF6",
          "polar": {
           "angularaxis": {
            "gridcolor": "white",
            "linecolor": "white",
            "ticks": ""
           },
           "bgcolor": "#E5ECF6",
           "radialaxis": {
            "gridcolor": "white",
            "linecolor": "white",
            "ticks": ""
           }
          },
          "scene": {
           "xaxis": {
            "backgroundcolor": "#E5ECF6",
            "gridcolor": "white",
            "gridwidth": 2,
            "linecolor": "white",
            "showbackground": true,
            "ticks": "",
            "zerolinecolor": "white"
           },
           "yaxis": {
            "backgroundcolor": "#E5ECF6",
            "gridcolor": "white",
            "gridwidth": 2,
            "linecolor": "white",
            "showbackground": true,
            "ticks": "",
            "zerolinecolor": "white"
           },
           "zaxis": {
            "backgroundcolor": "#E5ECF6",
            "gridcolor": "white",
            "gridwidth": 2,
            "linecolor": "white",
            "showbackground": true,
            "ticks": "",
            "zerolinecolor": "white"
           }
          },
          "shapedefaults": {
           "line": {
            "color": "#2a3f5f"
           }
          },
          "ternary": {
           "aaxis": {
            "gridcolor": "white",
            "linecolor": "white",
            "ticks": ""
           },
           "baxis": {
            "gridcolor": "white",
            "linecolor": "white",
            "ticks": ""
           },
           "bgcolor": "#E5ECF6",
           "caxis": {
            "gridcolor": "white",
            "linecolor": "white",
            "ticks": ""
           }
          },
          "title": {
           "x": 0.05
          },
          "xaxis": {
           "automargin": true,
           "gridcolor": "white",
           "linecolor": "white",
           "ticks": "",
           "title": {
            "standoff": 15
           },
           "zerolinecolor": "white",
           "zerolinewidth": 2
          },
          "yaxis": {
           "automargin": true,
           "gridcolor": "white",
           "linecolor": "white",
           "ticks": "",
           "title": {
            "standoff": 15
           },
           "zerolinecolor": "white",
           "zerolinewidth": 2
          }
         }
        },
        "xaxis": {
         "anchor": "y",
         "domain": [
          0,
          1
         ],
         "title": {
          "text": "age"
         }
        },
        "yaxis": {
         "anchor": "x",
         "domain": [
          0,
          1
         ]
        }
       }
      }
     },
     "metadata": {},
     "output_type": "display_data"
    }
   ],
   "source": [
    "# From the mvliking column, the \"age\" feature has the greatest correlation\n",
    "# Checking the age data division in the dataframe\n",
    "fig = px.box(data_frame=df_demog, x=\"age\")\n",
    "fig.show()"
   ]
  },
  {
   "cell_type": "code",
   "execution_count": 65,
   "metadata": {},
   "outputs": [
    {
     "data": {
      "application/vnd.plotly.v1+json": {
       "config": {
        "plotlyServerURL": "https://plot.ly"
       },
       "data": [
        {
         "alignmentgroup": "True",
         "hovertemplate": "cluster=%{x}<br>mvliking=%{y}<extra></extra>",
         "legendgroup": "1",
         "marker": {
          "color": "#636efa"
         },
         "name": "1",
         "notched": false,
         "offsetgroup": "1",
         "orientation": "v",
         "showlegend": true,
         "type": "box",
         "x": [
          1,
          1,
          1,
          1,
          1,
          1,
          1,
          1,
          1,
          1,
          1,
          1,
          1,
          1,
          1,
          1,
          1,
          1,
          1,
          1,
          1,
          1,
          1,
          1,
          1,
          1,
          1,
          1,
          1,
          1,
          1,
          1,
          1,
          1,
          1,
          1,
          1,
          1,
          1,
          1,
          1,
          1,
          1,
          1,
          1,
          1,
          1
         ],
         "x0": " ",
         "xaxis": "x",
         "y": [
          2,
          3,
          2,
          5,
          3,
          5,
          1,
          9,
          4,
          8,
          7,
          6,
          2,
          4,
          9,
          9,
          5,
          7,
          7,
          4,
          6,
          9,
          5,
          1,
          9,
          7,
          6,
          8,
          5,
          5,
          1,
          8,
          9,
          5,
          4,
          2,
          4,
          5,
          3,
          9,
          4,
          1,
          1,
          6,
          4,
          8,
          7
         ],
         "y0": " ",
         "yaxis": "y"
        },
        {
         "alignmentgroup": "True",
         "hovertemplate": "cluster=%{x}<br>mvliking=%{y}<extra></extra>",
         "legendgroup": "2",
         "marker": {
          "color": "#EF553B"
         },
         "name": "2",
         "notched": false,
         "offsetgroup": "2",
         "orientation": "v",
         "showlegend": true,
         "type": "box",
         "x": [
          2,
          2,
          2,
          2,
          2,
          2,
          2,
          2,
          2,
          2,
          2,
          2,
          2,
          2,
          2,
          2,
          2,
          2,
          2,
          2,
          2,
          2,
          2,
          2,
          2,
          2,
          2,
          2,
          2,
          2,
          2,
          2,
          2,
          2
         ],
         "x0": " ",
         "xaxis": "x",
         "y": [
          9,
          9,
          5,
          6,
          7,
          9,
          7,
          9,
          8,
          9,
          9,
          9,
          8,
          2,
          9,
          8,
          8,
          8,
          6,
          9,
          9,
          8,
          9,
          7,
          9,
          5,
          5,
          8,
          9,
          5,
          4,
          9,
          9,
          9
         ],
         "y0": " ",
         "yaxis": "y"
        },
        {
         "alignmentgroup": "True",
         "hovertemplate": "cluster=%{x}<br>mvliking=%{y}<extra></extra>",
         "legendgroup": "0",
         "marker": {
          "color": "#00cc96"
         },
         "name": "0",
         "notched": false,
         "offsetgroup": "0",
         "orientation": "v",
         "showlegend": true,
         "type": "box",
         "x": [
          0,
          0,
          0,
          0,
          0,
          0,
          0,
          0
         ],
         "x0": " ",
         "xaxis": "x",
         "y": [
          4,
          6,
          8,
          8,
          9,
          3,
          7,
          9
         ],
         "y0": " ",
         "yaxis": "y"
        }
       ],
       "layout": {
        "boxmode": "overlay",
        "legend": {
         "title": {
          "text": "cluster"
         },
         "tracegroupgap": 0
        },
        "margin": {
         "t": 60
        },
        "template": {
         "data": {
          "bar": [
           {
            "error_x": {
             "color": "#2a3f5f"
            },
            "error_y": {
             "color": "#2a3f5f"
            },
            "marker": {
             "line": {
              "color": "#E5ECF6",
              "width": 0.5
             },
             "pattern": {
              "fillmode": "overlay",
              "size": 10,
              "solidity": 0.2
             }
            },
            "type": "bar"
           }
          ],
          "barpolar": [
           {
            "marker": {
             "line": {
              "color": "#E5ECF6",
              "width": 0.5
             },
             "pattern": {
              "fillmode": "overlay",
              "size": 10,
              "solidity": 0.2
             }
            },
            "type": "barpolar"
           }
          ],
          "carpet": [
           {
            "aaxis": {
             "endlinecolor": "#2a3f5f",
             "gridcolor": "white",
             "linecolor": "white",
             "minorgridcolor": "white",
             "startlinecolor": "#2a3f5f"
            },
            "baxis": {
             "endlinecolor": "#2a3f5f",
             "gridcolor": "white",
             "linecolor": "white",
             "minorgridcolor": "white",
             "startlinecolor": "#2a3f5f"
            },
            "type": "carpet"
           }
          ],
          "choropleth": [
           {
            "colorbar": {
             "outlinewidth": 0,
             "ticks": ""
            },
            "type": "choropleth"
           }
          ],
          "contour": [
           {
            "colorbar": {
             "outlinewidth": 0,
             "ticks": ""
            },
            "colorscale": [
             [
              0,
              "#0d0887"
             ],
             [
              0.1111111111111111,
              "#46039f"
             ],
             [
              0.2222222222222222,
              "#7201a8"
             ],
             [
              0.3333333333333333,
              "#9c179e"
             ],
             [
              0.4444444444444444,
              "#bd3786"
             ],
             [
              0.5555555555555556,
              "#d8576b"
             ],
             [
              0.6666666666666666,
              "#ed7953"
             ],
             [
              0.7777777777777778,
              "#fb9f3a"
             ],
             [
              0.8888888888888888,
              "#fdca26"
             ],
             [
              1,
              "#f0f921"
             ]
            ],
            "type": "contour"
           }
          ],
          "contourcarpet": [
           {
            "colorbar": {
             "outlinewidth": 0,
             "ticks": ""
            },
            "type": "contourcarpet"
           }
          ],
          "heatmap": [
           {
            "colorbar": {
             "outlinewidth": 0,
             "ticks": ""
            },
            "colorscale": [
             [
              0,
              "#0d0887"
             ],
             [
              0.1111111111111111,
              "#46039f"
             ],
             [
              0.2222222222222222,
              "#7201a8"
             ],
             [
              0.3333333333333333,
              "#9c179e"
             ],
             [
              0.4444444444444444,
              "#bd3786"
             ],
             [
              0.5555555555555556,
              "#d8576b"
             ],
             [
              0.6666666666666666,
              "#ed7953"
             ],
             [
              0.7777777777777778,
              "#fb9f3a"
             ],
             [
              0.8888888888888888,
              "#fdca26"
             ],
             [
              1,
              "#f0f921"
             ]
            ],
            "type": "heatmap"
           }
          ],
          "heatmapgl": [
           {
            "colorbar": {
             "outlinewidth": 0,
             "ticks": ""
            },
            "colorscale": [
             [
              0,
              "#0d0887"
             ],
             [
              0.1111111111111111,
              "#46039f"
             ],
             [
              0.2222222222222222,
              "#7201a8"
             ],
             [
              0.3333333333333333,
              "#9c179e"
             ],
             [
              0.4444444444444444,
              "#bd3786"
             ],
             [
              0.5555555555555556,
              "#d8576b"
             ],
             [
              0.6666666666666666,
              "#ed7953"
             ],
             [
              0.7777777777777778,
              "#fb9f3a"
             ],
             [
              0.8888888888888888,
              "#fdca26"
             ],
             [
              1,
              "#f0f921"
             ]
            ],
            "type": "heatmapgl"
           }
          ],
          "histogram": [
           {
            "marker": {
             "pattern": {
              "fillmode": "overlay",
              "size": 10,
              "solidity": 0.2
             }
            },
            "type": "histogram"
           }
          ],
          "histogram2d": [
           {
            "colorbar": {
             "outlinewidth": 0,
             "ticks": ""
            },
            "colorscale": [
             [
              0,
              "#0d0887"
             ],
             [
              0.1111111111111111,
              "#46039f"
             ],
             [
              0.2222222222222222,
              "#7201a8"
             ],
             [
              0.3333333333333333,
              "#9c179e"
             ],
             [
              0.4444444444444444,
              "#bd3786"
             ],
             [
              0.5555555555555556,
              "#d8576b"
             ],
             [
              0.6666666666666666,
              "#ed7953"
             ],
             [
              0.7777777777777778,
              "#fb9f3a"
             ],
             [
              0.8888888888888888,
              "#fdca26"
             ],
             [
              1,
              "#f0f921"
             ]
            ],
            "type": "histogram2d"
           }
          ],
          "histogram2dcontour": [
           {
            "colorbar": {
             "outlinewidth": 0,
             "ticks": ""
            },
            "colorscale": [
             [
              0,
              "#0d0887"
             ],
             [
              0.1111111111111111,
              "#46039f"
             ],
             [
              0.2222222222222222,
              "#7201a8"
             ],
             [
              0.3333333333333333,
              "#9c179e"
             ],
             [
              0.4444444444444444,
              "#bd3786"
             ],
             [
              0.5555555555555556,
              "#d8576b"
             ],
             [
              0.6666666666666666,
              "#ed7953"
             ],
             [
              0.7777777777777778,
              "#fb9f3a"
             ],
             [
              0.8888888888888888,
              "#fdca26"
             ],
             [
              1,
              "#f0f921"
             ]
            ],
            "type": "histogram2dcontour"
           }
          ],
          "mesh3d": [
           {
            "colorbar": {
             "outlinewidth": 0,
             "ticks": ""
            },
            "type": "mesh3d"
           }
          ],
          "parcoords": [
           {
            "line": {
             "colorbar": {
              "outlinewidth": 0,
              "ticks": ""
             }
            },
            "type": "parcoords"
           }
          ],
          "pie": [
           {
            "automargin": true,
            "type": "pie"
           }
          ],
          "scatter": [
           {
            "fillpattern": {
             "fillmode": "overlay",
             "size": 10,
             "solidity": 0.2
            },
            "type": "scatter"
           }
          ],
          "scatter3d": [
           {
            "line": {
             "colorbar": {
              "outlinewidth": 0,
              "ticks": ""
             }
            },
            "marker": {
             "colorbar": {
              "outlinewidth": 0,
              "ticks": ""
             }
            },
            "type": "scatter3d"
           }
          ],
          "scattercarpet": [
           {
            "marker": {
             "colorbar": {
              "outlinewidth": 0,
              "ticks": ""
             }
            },
            "type": "scattercarpet"
           }
          ],
          "scattergeo": [
           {
            "marker": {
             "colorbar": {
              "outlinewidth": 0,
              "ticks": ""
             }
            },
            "type": "scattergeo"
           }
          ],
          "scattergl": [
           {
            "marker": {
             "colorbar": {
              "outlinewidth": 0,
              "ticks": ""
             }
            },
            "type": "scattergl"
           }
          ],
          "scattermapbox": [
           {
            "marker": {
             "colorbar": {
              "outlinewidth": 0,
              "ticks": ""
             }
            },
            "type": "scattermapbox"
           }
          ],
          "scatterpolar": [
           {
            "marker": {
             "colorbar": {
              "outlinewidth": 0,
              "ticks": ""
             }
            },
            "type": "scatterpolar"
           }
          ],
          "scatterpolargl": [
           {
            "marker": {
             "colorbar": {
              "outlinewidth": 0,
              "ticks": ""
             }
            },
            "type": "scatterpolargl"
           }
          ],
          "scatterternary": [
           {
            "marker": {
             "colorbar": {
              "outlinewidth": 0,
              "ticks": ""
             }
            },
            "type": "scatterternary"
           }
          ],
          "surface": [
           {
            "colorbar": {
             "outlinewidth": 0,
             "ticks": ""
            },
            "colorscale": [
             [
              0,
              "#0d0887"
             ],
             [
              0.1111111111111111,
              "#46039f"
             ],
             [
              0.2222222222222222,
              "#7201a8"
             ],
             [
              0.3333333333333333,
              "#9c179e"
             ],
             [
              0.4444444444444444,
              "#bd3786"
             ],
             [
              0.5555555555555556,
              "#d8576b"
             ],
             [
              0.6666666666666666,
              "#ed7953"
             ],
             [
              0.7777777777777778,
              "#fb9f3a"
             ],
             [
              0.8888888888888888,
              "#fdca26"
             ],
             [
              1,
              "#f0f921"
             ]
            ],
            "type": "surface"
           }
          ],
          "table": [
           {
            "cells": {
             "fill": {
              "color": "#EBF0F8"
             },
             "line": {
              "color": "white"
             }
            },
            "header": {
             "fill": {
              "color": "#C8D4E3"
             },
             "line": {
              "color": "white"
             }
            },
            "type": "table"
           }
          ]
         },
         "layout": {
          "annotationdefaults": {
           "arrowcolor": "#2a3f5f",
           "arrowhead": 0,
           "arrowwidth": 1
          },
          "autotypenumbers": "strict",
          "coloraxis": {
           "colorbar": {
            "outlinewidth": 0,
            "ticks": ""
           }
          },
          "colorscale": {
           "diverging": [
            [
             0,
             "#8e0152"
            ],
            [
             0.1,
             "#c51b7d"
            ],
            [
             0.2,
             "#de77ae"
            ],
            [
             0.3,
             "#f1b6da"
            ],
            [
             0.4,
             "#fde0ef"
            ],
            [
             0.5,
             "#f7f7f7"
            ],
            [
             0.6,
             "#e6f5d0"
            ],
            [
             0.7,
             "#b8e186"
            ],
            [
             0.8,
             "#7fbc41"
            ],
            [
             0.9,
             "#4d9221"
            ],
            [
             1,
             "#276419"
            ]
           ],
           "sequential": [
            [
             0,
             "#0d0887"
            ],
            [
             0.1111111111111111,
             "#46039f"
            ],
            [
             0.2222222222222222,
             "#7201a8"
            ],
            [
             0.3333333333333333,
             "#9c179e"
            ],
            [
             0.4444444444444444,
             "#bd3786"
            ],
            [
             0.5555555555555556,
             "#d8576b"
            ],
            [
             0.6666666666666666,
             "#ed7953"
            ],
            [
             0.7777777777777778,
             "#fb9f3a"
            ],
            [
             0.8888888888888888,
             "#fdca26"
            ],
            [
             1,
             "#f0f921"
            ]
           ],
           "sequentialminus": [
            [
             0,
             "#0d0887"
            ],
            [
             0.1111111111111111,
             "#46039f"
            ],
            [
             0.2222222222222222,
             "#7201a8"
            ],
            [
             0.3333333333333333,
             "#9c179e"
            ],
            [
             0.4444444444444444,
             "#bd3786"
            ],
            [
             0.5555555555555556,
             "#d8576b"
            ],
            [
             0.6666666666666666,
             "#ed7953"
            ],
            [
             0.7777777777777778,
             "#fb9f3a"
            ],
            [
             0.8888888888888888,
             "#fdca26"
            ],
            [
             1,
             "#f0f921"
            ]
           ]
          },
          "colorway": [
           "#636efa",
           "#EF553B",
           "#00cc96",
           "#ab63fa",
           "#FFA15A",
           "#19d3f3",
           "#FF6692",
           "#B6E880",
           "#FF97FF",
           "#FECB52"
          ],
          "font": {
           "color": "#2a3f5f"
          },
          "geo": {
           "bgcolor": "white",
           "lakecolor": "white",
           "landcolor": "#E5ECF6",
           "showlakes": true,
           "showland": true,
           "subunitcolor": "white"
          },
          "hoverlabel": {
           "align": "left"
          },
          "hovermode": "closest",
          "mapbox": {
           "style": "light"
          },
          "paper_bgcolor": "white",
          "plot_bgcolor": "#E5ECF6",
          "polar": {
           "angularaxis": {
            "gridcolor": "white",
            "linecolor": "white",
            "ticks": ""
           },
           "bgcolor": "#E5ECF6",
           "radialaxis": {
            "gridcolor": "white",
            "linecolor": "white",
            "ticks": ""
           }
          },
          "scene": {
           "xaxis": {
            "backgroundcolor": "#E5ECF6",
            "gridcolor": "white",
            "gridwidth": 2,
            "linecolor": "white",
            "showbackground": true,
            "ticks": "",
            "zerolinecolor": "white"
           },
           "yaxis": {
            "backgroundcolor": "#E5ECF6",
            "gridcolor": "white",
            "gridwidth": 2,
            "linecolor": "white",
            "showbackground": true,
            "ticks": "",
            "zerolinecolor": "white"
           },
           "zaxis": {
            "backgroundcolor": "#E5ECF6",
            "gridcolor": "white",
            "gridwidth": 2,
            "linecolor": "white",
            "showbackground": true,
            "ticks": "",
            "zerolinecolor": "white"
           }
          },
          "shapedefaults": {
           "line": {
            "color": "#2a3f5f"
           }
          },
          "ternary": {
           "aaxis": {
            "gridcolor": "white",
            "linecolor": "white",
            "ticks": ""
           },
           "baxis": {
            "gridcolor": "white",
            "linecolor": "white",
            "ticks": ""
           },
           "bgcolor": "#E5ECF6",
           "caxis": {
            "gridcolor": "white",
            "linecolor": "white",
            "ticks": ""
           }
          },
          "title": {
           "x": 0.05
          },
          "xaxis": {
           "automargin": true,
           "gridcolor": "white",
           "linecolor": "white",
           "ticks": "",
           "title": {
            "standoff": 15
           },
           "zerolinecolor": "white",
           "zerolinewidth": 2
          },
          "yaxis": {
           "automargin": true,
           "gridcolor": "white",
           "linecolor": "white",
           "ticks": "",
           "title": {
            "standoff": 15
           },
           "zerolinecolor": "white",
           "zerolinewidth": 2
          }
         }
        },
        "xaxis": {
         "anchor": "y",
         "categoryarray": [
          1,
          2,
          0
         ],
         "categoryorder": "array",
         "domain": [
          0,
          1
         ],
         "title": {
          "text": "cluster"
         }
        },
        "yaxis": {
         "anchor": "x",
         "domain": [
          0,
          1
         ],
         "title": {
          "text": "mvliking"
         }
        }
       }
      }
     },
     "metadata": {},
     "output_type": "display_data"
    }
   ],
   "source": [
    "# From the mvliking column, the \"female\" feature has the second greatest correlation\n",
    "# Checking the data distribution once both \"female\" and age are filtered\n",
    "fig = px.box(data_frame=dfcomp.loc[(dfcomp[\"age\"] >= 40) & (dfcomp[\"female\"] == False), :], \n",
    "             x=\"cluster\",\n",
    "             y=\"mvliking\",\n",
    "             color=\"cluster\")\n",
    "fig.show()"
   ]
  },
  {
   "cell_type": "code",
   "execution_count": 68,
   "metadata": {},
   "outputs": [
    {
     "data": {
      "text/plain": [
       "8.5"
      ]
     },
     "execution_count": 68,
     "metadata": {},
     "output_type": "execute_result"
    }
   ],
   "source": [
    " # % Of male customers above the age of 40\n",
    "100 * len(dfcomp.loc[(dfcomp[\"age\"] >= 40) & (dfcomp[\"female\"]==0) & (dfcomp[\"cluster\"]==2)]) / len(dfcomp)"
   ]
  },
  {
   "cell_type": "code",
   "execution_count": 69,
   "metadata": {},
   "outputs": [
    {
     "data": {
      "text/html": [
       "<div>\n",
       "<style scoped>\n",
       "    .dataframe tbody tr th:only-of-type {\n",
       "        vertical-align: middle;\n",
       "    }\n",
       "\n",
       "    .dataframe tbody tr th {\n",
       "        vertical-align: top;\n",
       "    }\n",
       "\n",
       "    .dataframe thead th {\n",
       "        text-align: right;\n",
       "    }\n",
       "</style>\n",
       "<table border=\"1\" class=\"dataframe\">\n",
       "  <thead>\n",
       "    <tr style=\"text-align: right;\">\n",
       "      <th></th>\n",
       "      <th>VacationlessCheapskate</th>\n",
       "      <th>Small&amp;New</th>\n",
       "      <th>FamilyGuy</th>\n",
       "      <th>FastnFurious</th>\n",
       "      <th>HighEnd</th>\n",
       "    </tr>\n",
       "  </thead>\n",
       "  <tbody>\n",
       "    <tr>\n",
       "      <th>0</th>\n",
       "      <td>4.82</td>\n",
       "      <td>-0.17</td>\n",
       "      <td>0.26</td>\n",
       "      <td>-0.08</td>\n",
       "      <td>-0.04</td>\n",
       "    </tr>\n",
       "    <tr>\n",
       "      <th>1</th>\n",
       "      <td>-2.91</td>\n",
       "      <td>3.73</td>\n",
       "      <td>-0.33</td>\n",
       "      <td>0.13</td>\n",
       "      <td>0.14</td>\n",
       "    </tr>\n",
       "    <tr>\n",
       "      <th>2</th>\n",
       "      <td>-3.49</td>\n",
       "      <td>-3.91</td>\n",
       "      <td>0.00</td>\n",
       "      <td>-0.03</td>\n",
       "      <td>-0.10</td>\n",
       "    </tr>\n",
       "  </tbody>\n",
       "</table>\n",
       "</div>"
      ],
      "text/plain": [
       "   VacationlessCheapskate  Small&New  FamilyGuy  FastnFurious  HighEnd\n",
       "0                    4.82      -0.17       0.26         -0.08    -0.04\n",
       "1                   -2.91       3.73      -0.33          0.13     0.14\n",
       "2                   -3.49      -3.91       0.00         -0.03    -0.10"
      ]
     },
     "execution_count": 69,
     "metadata": {},
     "output_type": "execute_result"
    }
   ],
   "source": [
    "df_kcentroid"
   ]
  },
  {
   "cell_type": "markdown",
   "metadata": {},
   "source": [
    "<h1 style=\"color:cornflowerblue\">Conclusion</h1>\n",
    "<p>Using PCA the number of features decreased, allowing to simplify the questions needed to be answered.</p>\n",
    "<p>It was possible to separate the customer base in clusters and identify witch was more inclined to buy the new vehicle.</p>\n",
    "<p>By uniting that and the demographic information, it is possible to understand that marketing campaigns mus be focused on the male customers, with age of 40/45, that is not exactaly worried about the money spent, and rather have a bigger car.</p>"
   ]
  },
  {
   "cell_type": "code",
   "execution_count": null,
   "metadata": {},
   "outputs": [],
   "source": []
  }
 ],
 "metadata": {
  "kernelspec": {
   "display_name": "Python 3",
   "language": "python",
   "name": "python3"
  },
  "language_info": {
   "codemirror_mode": {
    "name": "ipython",
    "version": 3
   },
   "file_extension": ".py",
   "mimetype": "text/x-python",
   "name": "python",
   "nbconvert_exporter": "python",
   "pygments_lexer": "ipython3",
   "version": "3.11.6"
  }
 },
 "nbformat": 4,
 "nbformat_minor": 2
}
