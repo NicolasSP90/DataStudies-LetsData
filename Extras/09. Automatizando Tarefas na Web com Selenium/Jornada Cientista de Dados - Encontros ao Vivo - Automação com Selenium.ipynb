{
 "cells": [
  {
   "cell_type": "markdown",
   "id": "bed588cf",
   "metadata": {},
   "source": [
    "# <a>JORNADA CIENTISTA DE DADOS - Automação com Selenium</a>\n",
    "\n"
   ]
  },
  {
   "cell_type": "code",
   "execution_count": null,
   "id": "6437b744",
   "metadata": {},
   "outputs": [],
   "source": [
    "# Se estiver fora do notebook. Instalar também \"notebook\"\n",
    "# !pip install selenium notebook pandas lxml"
   ]
  },
  {
   "cell_type": "markdown",
   "id": "a95693b6",
   "metadata": {},
   "source": [
    "# Preparação\n",
    "\n",
    "Para que o selenium funcione, ele precisa de um driver de algum navegador. Lembrando que ele simula um usuário navegando na página e você pode até visualizar o funcionamento!\n",
    "\n",
    "A aplicação prática é muito grande! Principalmente quando não conseguimos simular as requsições como fazemos com beautiful soup (se não viu a aula, corre pra ver depois dessa que tem informações importantes sobre webscraping!)\n",
    "\n",
    "Vamos utilizar nesse tutorial o Microsoft Edge. Para baixar os drivers do Edge basta acessar essa [página](https://developer.microsoft.com/en-us/microsoft-edge/tools/webdriver/#downloads), mas normalmente já funciona porque o driver está no PATH do Windows.\n",
    "\n",
    "Tem drivers também pra outros navegadores, escolha o que tiver mais fácil pra você utilizar."
   ]
  },
  {
   "cell_type": "markdown",
   "id": "8e9dc544",
   "metadata": {},
   "source": [
    "## Com o driver no PATH não tem muita preparação, chama o driver do browser e bora navegar!"
   ]
  },
  {
   "cell_type": "code",
   "execution_count": 1,
   "id": "d618683e",
   "metadata": {},
   "outputs": [],
   "source": [
    "from selenium import webdriver\n",
    "from selenium.webdriver.common.keys import Keys\n",
    "from selenium.webdriver.common.by import By"
   ]
  },
  {
   "cell_type": "code",
   "execution_count": 2,
   "id": "7656e58e",
   "metadata": {},
   "outputs": [],
   "source": [
    "navegador_robozao_master_plus = webdriver.Edge()"
   ]
  },
  {
   "cell_type": "code",
   "execution_count": 3,
   "id": "10d96adb",
   "metadata": {},
   "outputs": [],
   "source": [
    "navegador_robozao_master_plus.get('http://letsdata.ai')"
   ]
  },
  {
   "cell_type": "markdown",
   "id": "8b42af2d",
   "metadata": {},
   "source": [
    "## Vamos simular downloads e buscas de indicadores no site do IBGE"
   ]
  },
  {
   "cell_type": "code",
   "execution_count": 4,
   "id": "0376ac2c",
   "metadata": {},
   "outputs": [],
   "source": [
    "from selenium.webdriver.support.ui import WebDriverWait\n",
    "\n",
    "from selenium.webdriver.support import expected_conditions as EC\n",
    "\n",
    "\n",
    "navegador_robozao_master_plus.get('https://www.ibge.gov.br/pt/inicio.html')\n",
    "\n",
    "# Algumas páginas ficar em carregamento infinito! Para evitar isso, coloque um timeout até\n",
    "# que alguma condição aconteça (expected condition)\n",
    "# No nosso caso, se vier \"IBGE\" no título já será suficiente\n",
    "espera = WebDriverWait(navegador_robozao_master_plus, 15)\n",
    "carregou_pagina = espera.until(EC.title_contains(\"IBGE\"))"
   ]
  },
  {
   "cell_type": "code",
   "execution_count": 5,
   "id": "f79558cf",
   "metadata": {},
   "outputs": [
    {
     "data": {
      "text/plain": [
       "True"
      ]
     },
     "execution_count": 5,
     "metadata": {},
     "output_type": "execute_result"
    }
   ],
   "source": [
    "carregou_pagina"
   ]
  },
  {
   "cell_type": "code",
   "execution_count": 6,
   "id": "539fed24",
   "metadata": {},
   "outputs": [],
   "source": [
    "# Testa se carregou a página\n",
    "if carregou_pagina:\n",
    "    botao_outros_indicadores = navegador_robozao_master_plus.find_element(By.CLASS_NAME, 'btn-outros-indicadores')\n",
    "else:\n",
    "    print(\"Página não carregou!\")"
   ]
  },
  {
   "cell_type": "code",
   "execution_count": 7,
   "id": "b3b4900b",
   "metadata": {},
   "outputs": [
    {
     "data": {
      "text/plain": [
       "<selenium.webdriver.remote.webelement.WebElement (session=\"bb4546c8f61966a33f170856119d0f70\", element=\"3fd24c3c-48f7-4fa3-954d-7ba19065dc33\")>"
      ]
     },
     "execution_count": 7,
     "metadata": {},
     "output_type": "execute_result"
    }
   ],
   "source": [
    "botao_outros_indicadores"
   ]
  },
  {
   "cell_type": "code",
   "execution_count": 13,
   "id": "ac8dcc8a",
   "metadata": {},
   "outputs": [],
   "source": [
    "# Scroll, só porque... é legal (e pq o Michael pediu)\n",
    "navegador_robozao_master_plus.execute_script('window.scrollBy(0,250)')"
   ]
  },
  {
   "cell_type": "code",
   "execution_count": 14,
   "id": "632926ab",
   "metadata": {},
   "outputs": [],
   "source": [
    "botao_outros_indicadores.send_keys(Keys.RETURN)"
   ]
  },
  {
   "cell_type": "code",
   "execution_count": null,
   "id": "47699c6f",
   "metadata": {},
   "outputs": [],
   "source": [
    "espera = WebDriverWait(navegador_robozao_master_plus, 5)\n",
    "carregou_pagina = espera.until(EC.title_contains(\"Painel de Indicadores\"))"
   ]
  },
  {
   "cell_type": "code",
   "execution_count": 21,
   "id": "120a80ba",
   "metadata": {},
   "outputs": [],
   "source": [
    "# Verificar se está na página certa\n",
    "assert \"Painel de Indicadores\" in navegador_robozao_master_plus.title"
   ]
  },
  {
   "cell_type": "code",
   "execution_count": 22,
   "id": "455b0b10",
   "metadata": {},
   "outputs": [
    {
     "data": {
      "text/plain": [
       "<selenium.webdriver.remote.webelement.WebElement (session=\"bb4546c8f61966a33f170856119d0f70\", element=\"fa2dfa6c-27ad-4152-8c40-1321523bf97e\")>"
      ]
     },
     "execution_count": 22,
     "metadata": {},
     "output_type": "execute_result"
    }
   ],
   "source": [
    "# Buscar o HTML da tabela de indicadores para jogar no pandas!\n",
    "tabela_indicadores = navegador_robozao_master_plus.find_element(By.CLASS_NAME, \"indicadores-tabela\")\n",
    "\n",
    "tabela_indicadores\n"
   ]
  },
  {
   "cell_type": "code",
   "execution_count": 23,
   "id": "bcdaf656",
   "metadata": {},
   "outputs": [
    {
     "data": {
      "text/plain": [
       "'<table data-group=\"indicadores-economicos\" class=\"indicadores-tabela indicadores-economicos\">\\n                        <thead>\\n                            <tr>\\n                                <th class=\"ultimo\">Indicadores econômicos</th>\\n                                <th>Último</th>\\n                                <th class=\"desktop-tablet-only anterior\">Anterior</th>\\n                                <th class=\"desktop-tablet-only dozemeses\">12 meses</th>\\n                                <th class=\"desktop-tablet-only ano\">No ano</th>\\n                            </tr>\\n                        </thead>\\n                        <tbody>\\n                                    \\n                    <tr id=\"indicador-ipca\" class=\"table-accordion ipca\" data-loaded=\"false\" data-function=\"loadIndicadorData\" data-tabela=\"1737\" data-args=\"ipca\" data-categoria=\"63\" data-divulgacao=\"9256\" data-sidra=\"https://servicodados.ibge.gov.br/api/v3/agregados/1737/periodos/-12/variaveis/63?&amp;localidades=N1\" data-grafico-titulo=\"Variação mensal - Brasil\" data-fonte=\"Fonte: Índice Nacional de Preços ao Consumidor Amplo\">\\n                        <th>\\n                            <span class=\"icon-tag sprite\"></span>\\n                            <span class=\"nonsprite\">\\n                                IPCA <small>(%)</small>\\n                            </span> \\n                        </th>\\n                        <td class=\"ultimo\">\\n                            <span class=\"print-label\">Último</span>\\n                            0,47 <small>mai 2022</small>                        </td>\\n                        <td class=\"desktop-tablet-only anterior\">\\n                            <span class=\"print-label\">Anterior</span>\\n                            1,06 <small>abr 2022</small>                        </td>\\n                        <td class=\"desktop-tablet-only dozemeses\">\\n                            <span class=\"print-label\">12 meses</span>\\n                            11,73                        </td>\\n                        <td class=\"desktop-tablet-only ano\">\\n                            <span class=\"print-label\">No ano</span>\\n                            4,78                        </td>\\n                    </tr>\\n                    <tr class=\"table-accordion-panel  ipca-details\">\\n                        <td colspan=\"5\">\\n                            <div class=\"panel\">\\n                                <div class=\"indicadores-dados-container\">\\n                                    <div class=\"indicador-metadado\" data-unidade=\"%\">\\n                                        <p class=\"metadado-topico\">Periodicidade:</p>\\n                                        <p class=\"data-periodicidade\" data-periodicidade-grafico=\"Mensal\">\\n                                            Mensal                                        </p>\\n                                        <div class=\"data-divulgacao\"></div>\\n                                        <p class=\"metadado-topico\">Abrangência:</p>\\n                                        <p>Brasil, Regiôes Metropolitanas, Brasília, Rio Branco, São Luís, Aracaju, Campo Grande e Goiânia</p>\\n                                    </div>\\n                                    <div class=\"indicador-grafico\">\\n                                        <div class=\"container-grafico\">\\n                                            <div class=\"spinner\"></div>\\n                                        </div>                                    \\n                                    </div>                                \\n                                    <div class=\"indicador-saibamais\">\\n                                        <p>O IPCA - Índice Nacional de Preços ao Consumidor Amplo - aponta a variação do custo de vida médio de famílias com renda mensal de 1 e 40 salários mínimos.</p>\\n                                        <ul>\\n                                         \\n                                            <li>\\n                                                <a href=\"/estatisticas/economicas/precos-e-custos/9256-indice-nacional-de-precos-ao-consumidor-amplo.html?=&amp;t=resultados\">\\n                                                    IPCA - Pesquisa completa                                                </a>\\n                                            </li>\\n                                         \\n                                            <li>\\n                                                <a target=\"_blank\" href=\"https://sidra.ibge.gov.br/pesquisa/snipc/ipca\">\\n                                                    Sidra - Tabelas de resultados                                                </a>\\n                                            </li>\\n                                         \\n                                            <li>\\n                                                <a target=\"_blank\" href=\"https://www.ibge.gov.br/explica/inflacao.php\">\\n                                                    IBGE Explica - Inflação                                                </a>\\n                                            </li>\\n                                         \\n                                            <li>\\n                                                <a href=\"/estatisticas/economicas/precos-e-custos/9256-indice-nacional-de-precos-ao-consumidor-amplo.html?=&amp;t=calculadora-do-ipca\">\\n                                                    Calculadora do IPCA                                                </a>\\n                                            </li>\\n                                         \\n                                        </ul>\\n                                    </div>\\n                                </div>\\n                            </div>\\n                        </td>\\n                    </tr>\\n                \\n                \\n                                    \\n                    <tr id=\"indicador-inpc\" class=\"table-accordion inpc\" data-loaded=\"false\" data-function=\"loadIndicadorData\" data-tabela=\"1736\" data-args=\"inpc\" data-categoria=\"44\" data-divulgacao=\"9258\" data-sidra=\"https://servicodados.ibge.gov.br/api/v3/agregados/1736/periodos/-12/variaveis/44?&amp;localidades=N1\" data-grafico-titulo=\"Variação mensal - Brasil\" data-fonte=\"Fonte: Índice Nacional de Preços ao Consumidor\">\\n                        <th>\\n                            <span class=\"icon-tag sprite\"></span>\\n                            <span class=\"nonsprite\">\\n                                INPC <small>(%)</small>\\n                            </span> \\n                        </th>\\n                        <td class=\"ultimo\">\\n                            <span class=\"print-label\">Último</span>\\n                            0,45 <small>mai 2022</small>                        </td>\\n                        <td class=\"desktop-tablet-only anterior\">\\n                            <span class=\"print-label\">Anterior</span>\\n                            1,04 <small>abr 2022</small>                        </td>\\n                        <td class=\"desktop-tablet-only dozemeses\">\\n                            <span class=\"print-label\">12 meses</span>\\n                            11,90                        </td>\\n                        <td class=\"desktop-tablet-only ano\">\\n                            <span class=\"print-label\">No ano</span>\\n                            4,96                        </td>\\n                    </tr>\\n                    <tr class=\"table-accordion-panel  inpc-details\">\\n                        <td colspan=\"5\">\\n                            <div class=\"panel\">\\n                                <div class=\"indicadores-dados-container\">\\n                                    <div class=\"indicador-metadado\" data-unidade=\"%\">\\n                                        <p class=\"metadado-topico\">Periodicidade:</p>\\n                                        <p class=\"data-periodicidade\" data-periodicidade-grafico=\"Mensal\">\\n                                            Mensal                                        </p>\\n                                        <div class=\"data-divulgacao\"></div>\\n                                        <p class=\"metadado-topico\">Abrangência:</p>\\n                                        <p>Brasil, Regiôes Metropolitanas, Brasília, Rio Branco, São Luís, Aracaju, Campo Grande e Goiânia</p>\\n                                    </div>\\n                                    <div class=\"indicador-grafico\">\\n                                        <div class=\"container-grafico\">\\n                                            <div class=\"spinner\"></div>\\n                                        </div>                                    \\n                                    </div>                                \\n                                    <div class=\"indicador-saibamais\">\\n                                        <p>O INPC - Índice Nacional de Preços ao Consumidor - verifica a variação apenas para famílias com entre 1 e 5 salários mínimos de renda. São grupos mais sensíveis às variações de preço, pois tendem a gastar todo o seu rendimento em itens básicos, como alimentação, medicamentos, transporte, etc.</p>\\n                                        <ul>\\n                                         \\n                                            <li>\\n                                                <a href=\"/estatisticas/economicas/precos-e-custos/9258-indice-nacional-de-precos-ao-consumidor.html?=&amp;t=resultados\">\\n                                                    INPC - Pesquisa completa                                                </a>\\n                                            </li>\\n                                         \\n                                            <li>\\n                                                <a href=\"https://sidra.ibge.gov.br/pesquisa/snipc/inpc\">\\n                                                    Sidra - Tabelas de resultados                                                </a>\\n                                            </li>\\n                                         \\n                                            <li>\\n                                                <a target=\"_blank\" href=\"https://www.ibge.gov.br/explica/inflacao.php\">\\n                                                    IBGE Explica - Inflação                                                </a>\\n                                            </li>\\n                                         \\n                                        </ul>\\n                                    </div>\\n                                </div>\\n                            </div>\\n                        </td>\\n                    </tr>\\n                \\n                \\n                                    \\n                    <tr id=\"indicador-ipca-15\" class=\"table-accordion ipca-15\" data-loaded=\"false\" data-function=\"loadIndicadorData\" data-tabela=\"3065\" data-args=\"ipca-15\" data-categoria=\"355\" data-divulgacao=\"9260\" data-sidra=\"https://servicodados.ibge.gov.br/api/v3/agregados/3065/periodos/-12/variaveis/355?&amp;localidades=N1\" data-grafico-titulo=\"Variação mensal - Brasil\" data-fonte=\"Fonte: Índice Nacional de Preços ao Consumidor Amplo 15\">\\n                        <th>\\n                            <span class=\"icon-tag sprite\"></span>\\n                            <span class=\"nonsprite\">\\n                                IPCA-15 <small>(%)</small>\\n                            </span> \\n                        </th>\\n                        <td class=\"ultimo\">\\n                            <span class=\"print-label\">Último</span>\\n                            0,69 <small>jun 2022</small>                        </td>\\n                        <td class=\"desktop-tablet-only anterior\">\\n                            <span class=\"print-label\">Anterior</span>\\n                            0,59 <small>mai 2022</small>                        </td>\\n                        <td class=\"desktop-tablet-only dozemeses\">\\n                            <span class=\"print-label\">12 meses</span>\\n                            12,04                        </td>\\n                        <td class=\"desktop-tablet-only ano\">\\n                            <span class=\"print-label\">No ano</span>\\n                            5,65                        </td>\\n                    </tr>\\n                    <tr class=\"table-accordion-panel  ipca-15-details\">\\n                        <td colspan=\"5\">\\n                            <div class=\"panel\">\\n                                <div class=\"indicadores-dados-container\">\\n                                    <div class=\"indicador-metadado\" data-unidade=\"%\">\\n                                        <p class=\"metadado-topico\">Periodicidade:</p>\\n                                        <p class=\"data-periodicidade\" data-periodicidade-grafico=\"Mensal\">\\n                                            Mensal                                        </p>\\n                                        <div class=\"data-divulgacao\"></div>\\n                                        <p class=\"metadado-topico\">Abrangência:</p>\\n                                        <p>Brasil, Regiôes Metropolitanas, Brasília e Goiânia</p>\\n                                    </div>\\n                                    <div class=\"indicador-grafico\">\\n                                        <div class=\"container-grafico\">\\n                                            <div class=\"spinner\"></div>\\n                                        </div>                                    \\n                                    </div>                                \\n                                    <div class=\"indicador-saibamais\">\\n                                        <p>O IPCA-15 difere do IPCA na abrangência geográfica e no período de coleta, que começa no dia 16 do mês anterior. Funciona como uma prévia do IPCA.</p>\\n                                        <ul>\\n                                         \\n                                            <li>\\n                                                <a href=\"/estatisticas/economicas/precos-e-custos/9260-indice-nacional-de-precos-ao-consumidor-amplo-15.html?=&amp;t=resultados\">\\n                                                    IPCA-15 - Pesquisa completa                                                </a>\\n                                            </li>\\n                                         \\n                                            <li>\\n                                                <a href=\"https://sidra.ibge.gov.br/pesquisa/snipc/ipca15/\">\\n                                                    Sidra - Tabelas de resultados                                                </a>\\n                                            </li>\\n                                         \\n                                            <li>\\n                                                <a target=\"_blank\" href=\"https://www.ibge.gov.br/explica/inflacao.php\">\\n                                                    IBGE Explica - Inflação                                                </a>\\n                                            </li>\\n                                         \\n                                        </ul>\\n                                    </div>\\n                                </div>\\n                            </div>\\n                        </td>\\n                    </tr>\\n                \\n                \\n                                    \\n                    <tr id=\"indicador-ipp\" class=\"table-accordion ipp\" data-loaded=\"false\" data-function=\"loadIndicadorData\" data-tabela=\"6903\" data-args=\"ipp\" data-categoria=\"1396\" data-divulgacao=\"9282\" data-sidra=\"https://servicodados.ibge.gov.br/api/v3/agregados/6903/periodos/-12/variaveis/1396?classificacao=842[46608]&amp;localidades=N1\" data-grafico-titulo=\"Variação mensal - Brasil\" data-fonte=\"Fonte: Índice de Preços ao Produtor\">\\n                        <th>\\n                            <span class=\"icon-tag sprite\"></span>\\n                            <span class=\"nonsprite\">\\n                                IPP <small>(%)</small>\\n                            </span> \\n                        </th>\\n                        <td class=\"ultimo\">\\n                            <span class=\"print-label\">Último</span>\\n                            1,83 <small>mai 2022</small>                        </td>\\n                        <td class=\"desktop-tablet-only anterior\">\\n                            <span class=\"print-label\">Anterior</span>\\n                            2,08 <small>abr 2022</small>                        </td>\\n                        <td class=\"desktop-tablet-only dozemeses\">\\n                            <span class=\"print-label\">12 meses</span>\\n                            19,15                        </td>\\n                        <td class=\"desktop-tablet-only ano\">\\n                            <span class=\"print-label\">No ano</span>\\n                            9,06                        </td>\\n                    </tr>\\n                    <tr class=\"table-accordion-panel  ipp-details\">\\n                        <td colspan=\"5\">\\n                            <div class=\"panel\">\\n                                <div class=\"indicadores-dados-container\">\\n                                    <div class=\"indicador-metadado\" data-unidade=\"%\">\\n                                        <p class=\"metadado-topico\">Periodicidade:</p>\\n                                        <p class=\"data-periodicidade\" data-periodicidade-grafico=\"Mensal\">\\n                                            Mensal                                        </p>\\n                                        <div class=\"data-divulgacao\"></div>\\n                                        <p class=\"metadado-topico\">Abrangência:</p>\\n                                        <p>Brasil</p>\\n                                    </div>\\n                                    <div class=\"indicador-grafico\">\\n                                        <div class=\"container-grafico\">\\n                                            <div class=\"spinner\"></div>\\n                                        </div>                                    \\n                                    </div>                                \\n                                    <div class=\"indicador-saibamais\">\\n                                        <p>O IPP - Índice de Preços ao Produtor - é voltado para a indústria e mede a variação de preços de venda recebidos pelos produtores de bens e serviços.</p>\\n                                        <ul>\\n                                         \\n                                            <li>\\n                                                <a href=\"/estatisticas/economicas/precos-e-custos/9282-indice-de-precos-ao-produtor-industrias-extrativas-e-de-transformacao.html?=&amp;t=resultados\">\\n                                                    IPP - Pesquisa completa                                                </a>\\n                                            </li>\\n                                         \\n                                            <li>\\n                                                <a href=\"https://sidra.ibge.gov.br/pesquisa/ipp/\">\\n                                                    Sidra - Tabelas de resultados                                                </a>\\n                                            </li>\\n                                         \\n                                            <li>\\n                                                <a target=\"_blank\" href=\"https://www.ibge.gov.br/explica/inflacao.php\">\\n                                                    IBGE Explica - Inflação                                                </a>\\n                                            </li>\\n                                         \\n                                        </ul>\\n                                    </div>\\n                                </div>\\n                            </div>\\n                        </td>\\n                    </tr>\\n                \\n                \\n                                    \\n                    <tr id=\"indicador-custo-do-m\" class=\"table-accordion custo-do-m\" data-loaded=\"false\" data-function=\"loadIndicadorData\" data-tabela=\"2296\" data-args=\"custo-do-m\" data-categoria=\"1196\" data-divulgacao=\"9270\" data-sidra=\"https://servicodados.ibge.gov.br/api/v3/agregados/2296/periodos/-12/variaveis/1196?localidades=N1\" data-grafico-titulo=\"Variação mensal - Brasil\" data-fonte=\"Fonte: Sistema Nacional de Pesquisa de Custos e Índices da Construção Civil\">\\n                        <th>\\n                            <span class=\"icon-brick sprite\"></span>\\n                            <span class=\"nonsprite\">\\n                                Custo do m² <small>(%)</small>\\n                            </span> \\n                        </th>\\n                        <td class=\"ultimo\">\\n                            <span class=\"print-label\">Último</span>\\n                            2,17 <small>mai 2022</small>                        </td>\\n                        <td class=\"desktop-tablet-only anterior\">\\n                            <span class=\"print-label\">Anterior</span>\\n                            1,21 <small>abr 2022</small>                        </td>\\n                        <td class=\"desktop-tablet-only dozemeses\">\\n                            <span class=\"print-label\">12 meses</span>\\n                            15,44                        </td>\\n                        <td class=\"desktop-tablet-only ano\">\\n                            <span class=\"print-label\">No ano</span>\\n                            5,77                        </td>\\n                    </tr>\\n                    <tr class=\"table-accordion-panel  custo-do-m-details\">\\n                        <td colspan=\"5\">\\n                            <div class=\"panel\">\\n                                <div class=\"indicadores-dados-container\">\\n                                    <div class=\"indicador-metadado\" data-unidade=\"%\">\\n                                        <p class=\"metadado-topico\">Periodicidade:</p>\\n                                        <p class=\"data-periodicidade\" data-periodicidade-grafico=\"Mensal\">\\n                                            Mensal                                        </p>\\n                                        <div class=\"data-divulgacao\"></div>\\n                                        <p class=\"metadado-topico\">Abrangência:</p>\\n                                        <p>Brasil, Grandes Regiões e Unidades da Federação</p>\\n                                    </div>\\n                                    <div class=\"indicador-grafico\">\\n                                        <div class=\"container-grafico\">\\n                                            <div class=\"spinner\"></div>\\n                                        </div>                                    \\n                                    </div>                                \\n                                    <div class=\"indicador-saibamais\">\\n                                        <p>As séries mensais de custos e índices de custos referem-se ao valor do metro quadrado de uma construção no canteiro de obras. São medidas pela SINAPI - Sistema Nacional de Pesquisa de Custos e Índices da Construção Civil.</p>\\n                                        <ul>\\n                                         \\n                                            <li>\\n                                                <a href=\"/estatisticas/economicas/precos-e-custos/9270-sistema-nacional-de-pesquisa-de-custos-e-indices-da-construcao-civil.html?=&amp;t=resultados\">\\n                                                    SINAPI - Pesquisa completa                                                </a>\\n                                            </li>\\n                                         \\n                                            <li>\\n                                                <a href=\"https://sidra.ibge.gov.br/pesquisa/sinapi\">\\n                                                    Sidra - Tabelas de resultados                                                </a>\\n                                            </li>\\n                                         \\n                                            <li>\\n                                                <a target=\"_blank\" href=\"https://www.ibge.gov.br/explica/inflacao.php\">\\n                                                    IBGE Explica - Inflação                                                </a>\\n                                            </li>\\n                                         \\n                                        </ul>\\n                                    </div>\\n                                </div>\\n                            </div>\\n                        </td>\\n                    </tr>\\n                \\n                \\n                                    \\n                    <tr id=\"indicador-variacao-do-pib\" class=\"table-accordion variacao-do-pib\" data-loaded=\"false\" data-function=\"loadIndicadorData\" data-tabela=\"5932\" data-args=\"variacao-do-pib\" data-categoria=\"6561\" data-divulgacao=\"9300\" data-sidra=\"https://servicodados.ibge.gov.br/api/v3/agregados/5932/periodos/-12/variaveis/6561?classificacao=11255[90707]&amp;localidades=N1\" data-grafico-titulo=\"Variação trimestral - Brasil\" data-fonte=\"Fonte: Sistema de Contas Nacionais Trimestrais\">\\n                        <th>\\n                            <span class=\"icon-money sprite\"></span>\\n                            <span class=\"nonsprite\">\\n                                Variação do PIB <small>(%)</small>\\n                            </span> \\n                        </th>\\n                        <td class=\"ultimo\">\\n                            <span class=\"print-label\">Último</span>\\n                            1,7 <small>1º tri 2022</small>                        </td>\\n                        <td class=\"desktop-tablet-only anterior\">\\n                            <span class=\"print-label\">Anterior</span>\\n                            1,6 <small>4º tri 2021</small>                        </td>\\n                        <td class=\"desktop-tablet-only dozemeses\">\\n                            <span class=\"print-label\">12 meses</span>\\n                            4,7                        </td>\\n                        <td class=\"desktop-tablet-only ano\">\\n                            <span class=\"print-label\">No ano</span>\\n                            1,7                        </td>\\n                    </tr>\\n                    <tr class=\"table-accordion-panel  variacao-do-pib-details\">\\n                        <td colspan=\"5\">\\n                            <div class=\"panel\">\\n                                <div class=\"indicadores-dados-container\">\\n                                    <div class=\"indicador-metadado\" data-unidade=\"%\">\\n                                        <p class=\"metadado-topico\">Periodicidade:</p>\\n                                        <p class=\"data-periodicidade\" data-periodicidade-grafico=\"Trimestral\">\\n                                            Trimestral                                        </p>\\n                                        <div class=\"data-divulgacao\"></div>\\n                                        <p class=\"metadado-topico\">Abrangência:</p>\\n                                        <p>Brasil</p>\\n                                    </div>\\n                                    <div class=\"indicador-grafico\">\\n                                        <div class=\"container-grafico\">\\n                                            <div class=\"spinner\"></div>\\n                                        </div>                                    \\n                                    </div>                                \\n                                    <div class=\"indicador-saibamais\">\\n                                        <p>A variação do PIB, medida pelo SCNT - Sistema de Contas Nacionais Trimestrais - traz a evolução do PIB no tempo, comparando seu desempenho trimestre a trimestre e ano a ano.</p>\\n                                        <ul>\\n                                         \\n                                            <li>\\n                                                <a href=\"/estatisticas/economicas/contas-nacionais/9300-contas-nacionais-trimestrais.html?=&amp;t=resultados\">\\n                                                    SCNT - Pesquisa completa                                                </a>\\n                                            </li>\\n                                         \\n                                            <li>\\n                                                <a href=\"https://sidra.ibge.gov.br/pesquisa/cnt\">\\n                                                    Sidra - Tabelas de resultados                                                </a>\\n                                            </li>\\n                                         \\n                                            <li>\\n                                                <a target=\"_blank\" href=\"https://www.ibge.gov.br/explica/pib.php\">\\n                                                    IBGE Explica - PIB                                                </a>\\n                                            </li>\\n                                         \\n                                        </ul>\\n                                    </div>\\n                                </div>\\n                            </div>\\n                        </td>\\n                    </tr>\\n                \\n                \\n                                    \\n                    <tr id=\"indicador-pib-per-capita\" class=\"table-accordion pib-per-capita\" data-loaded=\"false\" data-function=\"loadIndicadorData\" data-tabela=\"6784\" data-args=\"pib-per-capita\" data-categoria=\"9812\" data-divulgacao=\"9088\" data-sidra=\"https://servicodados.ibge.gov.br/api/v3/agregados/6784/periodos/-12/variaveis/9812?classificacao=&amp;localidades=N1\" data-grafico-titulo=\"Evolução anual - Brasil\" data-fonte=\"Fonte: Sistema de Contas Nacionais\">\\n                        <th>\\n                            <span class=\"icon-money sprite\"></span>\\n                            <span class=\"nonsprite\">\\n                                PIB per capita <small>(R$)</small>\\n                            </span> \\n                        </th>\\n                        <td class=\"ultimo\">\\n                            <span class=\"print-label\">Último</span>\\n                            35.161,70 <small> 2019</small>                        </td>\\n                        <td class=\"desktop-tablet-only anterior\">\\n                            <span class=\"print-label\">Anterior</span>\\n                            33.593,82 <small> 2018</small>                        </td>\\n                        <td class=\"desktop-tablet-only dozemeses\">\\n                            <span class=\"print-label\">12 meses</span>\\n                            -                        </td>\\n                        <td class=\"desktop-tablet-only ano\">\\n                            <span class=\"print-label\">No ano</span>\\n                            -                        </td>\\n                    </tr>\\n                    <tr class=\"table-accordion-panel  pib-per-capita-details\">\\n                        <td colspan=\"5\">\\n                            <div class=\"panel\">\\n                                <div class=\"indicadores-dados-container\">\\n                                    <div class=\"indicador-metadado\" data-unidade=\"R$\">\\n                                        <p class=\"metadado-topico\">Periodicidade:</p>\\n                                        <p class=\"data-periodicidade\" data-periodicidade-grafico=\"Anual\">\\n                                            Anual                                        </p>\\n                                        <div class=\"data-divulgacao\"></div>\\n                                        <p class=\"metadado-topico\">Abrangência:</p>\\n                                        <p>Brasil</p>\\n                                    </div>\\n                                    <div class=\"indicador-grafico\">\\n                                        <div class=\"container-grafico\">\\n                                            <div class=\"spinner\"></div>\\n                                        </div>                                    \\n                                    </div>                                \\n                                    <div class=\"indicador-saibamais\">\\n                                        <p>O PIB per capita é a divisão do PIB pelo número de habitantes. Ele mede quanto do PIB caberia a cada indivíduo de um país se todos recebessem partes iguais, entre outros estudos. É calculado pelo SCN - Sistema de Contas Nacionais.</p>\\n                                        <ul>\\n                                         \\n                                            <li>\\n                                                <a href=\"/estatisticas/economicas/contas-nacionais/9052-sistema-de-contas-nacionais-brasil.html?=&amp;t=resultados\">\\n                                                    SCN - Pesquisa completa                                                </a>\\n                                            </li>\\n                                         \\n                                            <li>\\n                                                <a target=\"_blank\" href=\"https://www.ibge.gov.br/explica/pib.php\">\\n                                                    IBGE Explica - PIB                                                </a>\\n                                            </li>\\n                                         \\n                                        </ul>\\n                                    </div>\\n                                </div>\\n                            </div>\\n                        </td>\\n                    </tr>\\n                \\n                \\n                                    \\n                    <tr id=\"indicador-industria\" class=\"table-accordion industria\" data-loaded=\"false\" data-function=\"loadIndicadorData\" data-tabela=\"8159\" data-args=\"industria\" data-categoria=\"11601\" data-divulgacao=\"9296\" data-sidra=\"https://servicodados.ibge.gov.br/api/v3/agregados/8159/periodos/-12/variaveis/11601?classificacao=544[129314]&amp;localidades=N1\" data-grafico-titulo=\"Variação mensal - Brasil\" data-fonte=\"Fonte: Pesquisa Industrial Mensal Produção Física\">\\n                        <th>\\n                            <span class=\"icon-industry sprite\"></span>\\n                            <span class=\"nonsprite\">\\n                                Indústria <small>(%)</small>\\n                            </span> \\n                        </th>\\n                        <td class=\"ultimo\">\\n                            <span class=\"print-label\">Último</span>\\n                            0,3 <small>mai 2022</small>                        </td>\\n                        <td class=\"desktop-tablet-only anterior\">\\n                            <span class=\"print-label\">Anterior</span>\\n                            0,2 <small>abr 2022</small>                        </td>\\n                        <td class=\"desktop-tablet-only dozemeses\">\\n                            <span class=\"print-label\">12 meses</span>\\n                            -1,9                        </td>\\n                        <td class=\"desktop-tablet-only ano\">\\n                            <span class=\"print-label\">No ano</span>\\n                            -2,6                        </td>\\n                    </tr>\\n                    <tr class=\"table-accordion-panel  industria-details\">\\n                        <td colspan=\"5\">\\n                            <div class=\"panel\">\\n                                <div class=\"indicadores-dados-container\">\\n                                    <div class=\"indicador-metadado\" data-unidade=\"%\">\\n                                        <p class=\"metadado-topico\">Periodicidade:</p>\\n                                        <p class=\"data-periodicidade\" data-periodicidade-grafico=\"Mensal\">\\n                                            Mensal                                        </p>\\n                                        <div class=\"data-divulgacao\"></div>\\n                                        <p class=\"metadado-topico\">Abrangência:</p>\\n                                        <p>Brasil, Nordeste e Unidades da Federação</p>\\n                                    </div>\\n                                    <div class=\"indicador-grafico\">\\n                                        <div class=\"container-grafico\">\\n                                            <div class=\"spinner\"></div>\\n                                        </div>                                    \\n                                    </div>                                \\n                                    <div class=\"indicador-saibamais\">\\n                                        <p>A produção da indústria é calculada pela PIM-PF - Pesquisa Industrial Mensal Produção Física - e reflete as alterações das quantidades de bens e serviços produzidos pela indústria ao longo do tempo.</p>\\n                                        <ul>\\n                                         \\n                                            <li>\\n                                                <a href=\"/estatisticas/economicas/industria/9296-pesquisa-industrial-mensal-producao-fisica-regional.html?=&amp;t=resultados\">\\n                                                    PIM-PF - Pesquisa completa                                                </a>\\n                                            </li>\\n                                         \\n                                            <li>\\n                                                <a href=\"https://sidra.ibge.gov.br/pesquisa/pim-pf-brasil\">\\n                                                    Sidra - Tabelas de resultados                                                </a>\\n                                            </li>\\n                                         \\n                                        </ul>\\n                                    </div>\\n                                </div>\\n                            </div>\\n                        </td>\\n                    </tr>\\n                \\n                \\n                                    \\n                    <tr id=\"indicador-comercio\" class=\"table-accordion comercio\" data-loaded=\"false\" data-function=\"loadIndicadorData\" data-tabela=\"8185\" data-args=\"comercio\" data-categoria=\"11708\" data-divulgacao=\"9227\" data-sidra=\"https://servicodados.ibge.gov.br/api/v3/agregados/8185/periodos/-12/variaveis/11708?classificacao=11046[56734]&amp;localidades=N1\" data-grafico-titulo=\"Variação mês / mês anterior com ajuste sazonal - Brasil\" data-fonte=\"Fonte: Pesquisa Mensal do Comércio\">\\n                        <th>\\n                            <span class=\"icon-cart sprite\"></span>\\n                            <span class=\"nonsprite\">\\n                                Comércio <small>(%)</small>\\n                            </span> \\n                        </th>\\n                        <td class=\"ultimo\">\\n                            <span class=\"print-label\">Último</span>\\n                            0,9 <small>abr 2022</small>                        </td>\\n                        <td class=\"desktop-tablet-only anterior\">\\n                            <span class=\"print-label\">Anterior</span>\\n                            1,4 <small>mar 2022</small>                        </td>\\n                        <td class=\"desktop-tablet-only dozemeses\">\\n                            <span class=\"print-label\">12 meses</span>\\n                            0,8                        </td>\\n                        <td class=\"desktop-tablet-only ano\">\\n                            <span class=\"print-label\">No ano</span>\\n                            2,3                        </td>\\n                    </tr>\\n                    <tr class=\"table-accordion-panel  comercio-details\">\\n                        <td colspan=\"5\">\\n                            <div class=\"panel\">\\n                                <div class=\"indicadores-dados-container\">\\n                                    <div class=\"indicador-metadado\" data-unidade=\"%\">\\n                                        <p class=\"metadado-topico\">Periodicidade:</p>\\n                                        <p class=\"data-periodicidade\" data-periodicidade-grafico=\"Mensal\">\\n                                            Mensal                                        </p>\\n                                        <div class=\"data-divulgacao\"></div>\\n                                        <p class=\"metadado-topico\">Abrangência:</p>\\n                                        <p>Brasil e Unidades da Federação</p>\\n                                    </div>\\n                                    <div class=\"indicador-grafico\">\\n                                        <div class=\"container-grafico\">\\n                                            <div class=\"spinner\"></div>\\n                                        </div>                                    \\n                                    </div>                                \\n                                    <div class=\"indicador-saibamais\">\\n                                        <p>A variação do índice de volume de vendas do comércio varejista é calculada pela PMC - Pesquisa Mensal do Comércio.</p>\\n                                        <ul>\\n                                         \\n                                            <li>\\n                                                <a href=\"/estatisticas/economicas/comercio/9227-pesquisa-mensal-de-comercio.html?=&amp;t=resultados\">\\n                                                    PMC - Pesquisa completa                                                </a>\\n                                            </li>\\n                                         \\n                                            <li>\\n                                                <a href=\"https://sidra.ibge.gov.br/pesquisa/pmc\">\\n                                                    Sidra - Tabelas de resultados                                                </a>\\n                                            </li>\\n                                         \\n                                        </ul>\\n                                    </div>\\n                                </div>\\n                            </div>\\n                        </td>\\n                    </tr>\\n                \\n                \\n                                    \\n                    <tr id=\"indicador-servicos\" class=\"table-accordion servicos\" data-loaded=\"false\" data-function=\"loadIndicadorData\" data-tabela=\"8161\" data-args=\"servicos\" data-categoria=\"11623\" data-divulgacao=\"9229\" data-sidra=\"https://servicodados.ibge.gov.br/api/v3/agregados/8161/periodos/-12/variaveis/11623?classificacao=11046[56726]&amp;localidades=N1\" data-grafico-titulo=\"Variação mês / mês anterior com ajuste sazonal - Brasil\" data-fonte=\"Fonte: Pesquisa Mensal de Serviços\">\\n                        <th>\\n                            <span class=\"icon-service sprite\"></span>\\n                            <span class=\"nonsprite\">\\n                                Serviços <small>(%)</small>\\n                            </span> \\n                        </th>\\n                        <td class=\"ultimo\">\\n                            <span class=\"print-label\">Último</span>\\n                            0,2 <small>abr 2022</small>                        </td>\\n                        <td class=\"desktop-tablet-only anterior\">\\n                            <span class=\"print-label\">Anterior</span>\\n                            1,4 <small>mar 2022</small>                        </td>\\n                        <td class=\"desktop-tablet-only dozemeses\">\\n                            <span class=\"print-label\">12 meses</span>\\n                            12,8                        </td>\\n                        <td class=\"desktop-tablet-only ano\">\\n                            <span class=\"print-label\">No ano</span>\\n                            9,5                        </td>\\n                    </tr>\\n                    <tr class=\"table-accordion-panel  servicos-details\">\\n                        <td colspan=\"5\">\\n                            <div class=\"panel\">\\n                                <div class=\"indicadores-dados-container\">\\n                                    <div class=\"indicador-metadado\" data-unidade=\"%\">\\n                                        <p class=\"metadado-topico\">Periodicidade:</p>\\n                                        <p class=\"data-periodicidade\" data-periodicidade-grafico=\"Mensal\">\\n                                            Mensal                                        </p>\\n                                        <div class=\"data-divulgacao\"></div>\\n                                        <p class=\"metadado-topico\">Abrangência:</p>\\n                                        <p>Brasil e Unidades da Federação</p>\\n                                    </div>\\n                                    <div class=\"indicador-grafico\">\\n                                        <div class=\"container-grafico\">\\n                                            <div class=\"spinner\"></div>\\n                                        </div>                                    \\n                                    </div>                                \\n                                    <div class=\"indicador-saibamais\">\\n                                        <p>A variação do índice do volume de serviços é calculada pela PMS - Pesquisa Mensal de Serviços e permite acompanhar o comportamento conjuntural deste setor no País.</p>\\n                                        <ul>\\n                                         \\n                                            <li>\\n                                                <a href=\"/estatisticas/economicas/servicos/9229-pesquisa-mensal-de-servicos.html?=&amp;t=resultados\">\\n                                                    PMS - Pesquisa completa                                                </a>\\n                                            </li>\\n                                         \\n                                            <li>\\n                                                <a href=\"https://sidra.ibge.gov.br/pesquisa/pms\">\\n                                                    Sidra - Tabelas de resultados                                                </a>\\n                                            </li>\\n                                         \\n                                        </ul>\\n                                    </div>\\n                                </div>\\n                            </div>\\n                        </td>\\n                    </tr>\\n                \\n                \\n                  \\n\\n                      \\n                            </tbody>\\n                        </table>'"
      ]
     },
     "execution_count": 23,
     "metadata": {},
     "output_type": "execute_result"
    }
   ],
   "source": [
    "# Buscando HTML da tabela. Ainda estamos no selenium\n",
    "html_tabela = tabela_indicadores.get_attribute('outerHTML')\n",
    "\n",
    "html_tabela"
   ]
  },
  {
   "cell_type": "code",
   "execution_count": 24,
   "id": "82c062a8",
   "metadata": {},
   "outputs": [],
   "source": [
    "import pandas as pd\n",
    "\n",
    "dataframes_html = pd.read_html(html_tabela)"
   ]
  },
  {
   "cell_type": "code",
   "execution_count": 25,
   "id": "1aa098cd",
   "metadata": {},
   "outputs": [
    {
     "data": {
      "text/plain": [
       "1"
      ]
     },
     "execution_count": 25,
     "metadata": {},
     "output_type": "execute_result"
    }
   ],
   "source": [
    "len(dataframes_html)"
   ]
  },
  {
   "cell_type": "code",
   "execution_count": 33,
   "id": "0194a222",
   "metadata": {},
   "outputs": [
    {
     "data": {
      "text/html": [
       "<div>\n",
       "<style scoped>\n",
       "    .dataframe tbody tr th:only-of-type {\n",
       "        vertical-align: middle;\n",
       "    }\n",
       "\n",
       "    .dataframe tbody tr th {\n",
       "        vertical-align: top;\n",
       "    }\n",
       "\n",
       "    .dataframe thead th {\n",
       "        text-align: right;\n",
       "    }\n",
       "</style>\n",
       "<table border=\"1\" class=\"dataframe\">\n",
       "  <thead>\n",
       "    <tr style=\"text-align: right;\">\n",
       "      <th></th>\n",
       "      <th>Indicadores econômicos</th>\n",
       "      <th>Último</th>\n",
       "      <th>Anterior</th>\n",
       "      <th>12 meses</th>\n",
       "      <th>No ano</th>\n",
       "    </tr>\n",
       "  </thead>\n",
       "  <tbody>\n",
       "    <tr>\n",
       "      <th>0</th>\n",
       "      <td>IPCA (%)</td>\n",
       "      <td>Último  0,47 mai 2022</td>\n",
       "      <td>Anterior  1,06 abr 2022</td>\n",
       "      <td>12 meses  11,73</td>\n",
       "      <td>No ano  4,78</td>\n",
       "    </tr>\n",
       "    <tr>\n",
       "      <th>1</th>\n",
       "      <td>Periodicidade:  Mensal Abrangência:  Brasil, R...</td>\n",
       "      <td>Periodicidade:  Mensal Abrangência:  Brasil, R...</td>\n",
       "      <td>Periodicidade:  Mensal Abrangência:  Brasil, R...</td>\n",
       "      <td>Periodicidade:  Mensal Abrangência:  Brasil, R...</td>\n",
       "      <td>Periodicidade:  Mensal Abrangência:  Brasil, R...</td>\n",
       "    </tr>\n",
       "    <tr>\n",
       "      <th>2</th>\n",
       "      <td>INPC (%)</td>\n",
       "      <td>Último  0,45 mai 2022</td>\n",
       "      <td>Anterior  1,04 abr 2022</td>\n",
       "      <td>12 meses  11,90</td>\n",
       "      <td>No ano  4,96</td>\n",
       "    </tr>\n",
       "    <tr>\n",
       "      <th>3</th>\n",
       "      <td>Periodicidade:  Mensal Abrangência:  Brasil, R...</td>\n",
       "      <td>Periodicidade:  Mensal Abrangência:  Brasil, R...</td>\n",
       "      <td>Periodicidade:  Mensal Abrangência:  Brasil, R...</td>\n",
       "      <td>Periodicidade:  Mensal Abrangência:  Brasil, R...</td>\n",
       "      <td>Periodicidade:  Mensal Abrangência:  Brasil, R...</td>\n",
       "    </tr>\n",
       "    <tr>\n",
       "      <th>4</th>\n",
       "      <td>IPCA-15 (%)</td>\n",
       "      <td>Último  0,69 jun 2022</td>\n",
       "      <td>Anterior  0,59 mai 2022</td>\n",
       "      <td>12 meses  12,04</td>\n",
       "      <td>No ano  5,65</td>\n",
       "    </tr>\n",
       "    <tr>\n",
       "      <th>5</th>\n",
       "      <td>Periodicidade:  Mensal Abrangência:  Brasil, R...</td>\n",
       "      <td>Periodicidade:  Mensal Abrangência:  Brasil, R...</td>\n",
       "      <td>Periodicidade:  Mensal Abrangência:  Brasil, R...</td>\n",
       "      <td>Periodicidade:  Mensal Abrangência:  Brasil, R...</td>\n",
       "      <td>Periodicidade:  Mensal Abrangência:  Brasil, R...</td>\n",
       "    </tr>\n",
       "    <tr>\n",
       "      <th>6</th>\n",
       "      <td>IPP (%)</td>\n",
       "      <td>Último  1,83 mai 2022</td>\n",
       "      <td>Anterior  2,08 abr 2022</td>\n",
       "      <td>12 meses  19,15</td>\n",
       "      <td>No ano  9,06</td>\n",
       "    </tr>\n",
       "    <tr>\n",
       "      <th>7</th>\n",
       "      <td>Periodicidade:  Mensal Abrangência:  Brasil  O...</td>\n",
       "      <td>Periodicidade:  Mensal Abrangência:  Brasil  O...</td>\n",
       "      <td>Periodicidade:  Mensal Abrangência:  Brasil  O...</td>\n",
       "      <td>Periodicidade:  Mensal Abrangência:  Brasil  O...</td>\n",
       "      <td>Periodicidade:  Mensal Abrangência:  Brasil  O...</td>\n",
       "    </tr>\n",
       "    <tr>\n",
       "      <th>8</th>\n",
       "      <td>Custo do m² (%)</td>\n",
       "      <td>Último  2,17 mai 2022</td>\n",
       "      <td>Anterior  1,21 abr 2022</td>\n",
       "      <td>12 meses  15,44</td>\n",
       "      <td>No ano  5,77</td>\n",
       "    </tr>\n",
       "    <tr>\n",
       "      <th>9</th>\n",
       "      <td>Periodicidade:  Mensal Abrangência:  Brasil, G...</td>\n",
       "      <td>Periodicidade:  Mensal Abrangência:  Brasil, G...</td>\n",
       "      <td>Periodicidade:  Mensal Abrangência:  Brasil, G...</td>\n",
       "      <td>Periodicidade:  Mensal Abrangência:  Brasil, G...</td>\n",
       "      <td>Periodicidade:  Mensal Abrangência:  Brasil, G...</td>\n",
       "    </tr>\n",
       "    <tr>\n",
       "      <th>10</th>\n",
       "      <td>Variação do PIB (%)</td>\n",
       "      <td>Último  1,7 1º tri 2022</td>\n",
       "      <td>Anterior  1,6 4º tri 2021</td>\n",
       "      <td>12 meses  4,7</td>\n",
       "      <td>No ano  1,7</td>\n",
       "    </tr>\n",
       "    <tr>\n",
       "      <th>11</th>\n",
       "      <td>Periodicidade:  Trimestral Abrangência:  Brasi...</td>\n",
       "      <td>Periodicidade:  Trimestral Abrangência:  Brasi...</td>\n",
       "      <td>Periodicidade:  Trimestral Abrangência:  Brasi...</td>\n",
       "      <td>Periodicidade:  Trimestral Abrangência:  Brasi...</td>\n",
       "      <td>Periodicidade:  Trimestral Abrangência:  Brasi...</td>\n",
       "    </tr>\n",
       "    <tr>\n",
       "      <th>12</th>\n",
       "      <td>PIB per capita (R$)</td>\n",
       "      <td>Último  35.161,70 2019</td>\n",
       "      <td>Anterior  33.593,82 2018</td>\n",
       "      <td>12 meses  -</td>\n",
       "      <td>No ano  -</td>\n",
       "    </tr>\n",
       "    <tr>\n",
       "      <th>13</th>\n",
       "      <td>Periodicidade:  Anual Abrangência:  Brasil  O ...</td>\n",
       "      <td>Periodicidade:  Anual Abrangência:  Brasil  O ...</td>\n",
       "      <td>Periodicidade:  Anual Abrangência:  Brasil  O ...</td>\n",
       "      <td>Periodicidade:  Anual Abrangência:  Brasil  O ...</td>\n",
       "      <td>Periodicidade:  Anual Abrangência:  Brasil  O ...</td>\n",
       "    </tr>\n",
       "    <tr>\n",
       "      <th>14</th>\n",
       "      <td>Indústria (%)</td>\n",
       "      <td>Último  0,3 mai 2022</td>\n",
       "      <td>Anterior  0,2 abr 2022</td>\n",
       "      <td>12 meses  -1,9</td>\n",
       "      <td>No ano  -2,6</td>\n",
       "    </tr>\n",
       "    <tr>\n",
       "      <th>15</th>\n",
       "      <td>Periodicidade:  Mensal Abrangência:  Brasil, N...</td>\n",
       "      <td>Periodicidade:  Mensal Abrangência:  Brasil, N...</td>\n",
       "      <td>Periodicidade:  Mensal Abrangência:  Brasil, N...</td>\n",
       "      <td>Periodicidade:  Mensal Abrangência:  Brasil, N...</td>\n",
       "      <td>Periodicidade:  Mensal Abrangência:  Brasil, N...</td>\n",
       "    </tr>\n",
       "    <tr>\n",
       "      <th>16</th>\n",
       "      <td>Comércio (%)</td>\n",
       "      <td>Último  0,9 abr 2022</td>\n",
       "      <td>Anterior  1,4 mar 2022</td>\n",
       "      <td>12 meses  0,8</td>\n",
       "      <td>No ano  2,3</td>\n",
       "    </tr>\n",
       "    <tr>\n",
       "      <th>17</th>\n",
       "      <td>Periodicidade:  Mensal Abrangência:  Brasil e ...</td>\n",
       "      <td>Periodicidade:  Mensal Abrangência:  Brasil e ...</td>\n",
       "      <td>Periodicidade:  Mensal Abrangência:  Brasil e ...</td>\n",
       "      <td>Periodicidade:  Mensal Abrangência:  Brasil e ...</td>\n",
       "      <td>Periodicidade:  Mensal Abrangência:  Brasil e ...</td>\n",
       "    </tr>\n",
       "    <tr>\n",
       "      <th>18</th>\n",
       "      <td>Serviços (%)</td>\n",
       "      <td>Último  0,2 abr 2022</td>\n",
       "      <td>Anterior  1,4 mar 2022</td>\n",
       "      <td>12 meses  12,8</td>\n",
       "      <td>No ano  9,5</td>\n",
       "    </tr>\n",
       "    <tr>\n",
       "      <th>19</th>\n",
       "      <td>Periodicidade:  Mensal Abrangência:  Brasil e ...</td>\n",
       "      <td>Periodicidade:  Mensal Abrangência:  Brasil e ...</td>\n",
       "      <td>Periodicidade:  Mensal Abrangência:  Brasil e ...</td>\n",
       "      <td>Periodicidade:  Mensal Abrangência:  Brasil e ...</td>\n",
       "      <td>Periodicidade:  Mensal Abrangência:  Brasil e ...</td>\n",
       "    </tr>\n",
       "  </tbody>\n",
       "</table>\n",
       "</div>"
      ],
      "text/plain": [
       "                               Indicadores econômicos  \\\n",
       "0                                            IPCA (%)   \n",
       "1   Periodicidade:  Mensal Abrangência:  Brasil, R...   \n",
       "2                                            INPC (%)   \n",
       "3   Periodicidade:  Mensal Abrangência:  Brasil, R...   \n",
       "4                                         IPCA-15 (%)   \n",
       "5   Periodicidade:  Mensal Abrangência:  Brasil, R...   \n",
       "6                                             IPP (%)   \n",
       "7   Periodicidade:  Mensal Abrangência:  Brasil  O...   \n",
       "8                                     Custo do m² (%)   \n",
       "9   Periodicidade:  Mensal Abrangência:  Brasil, G...   \n",
       "10                                Variação do PIB (%)   \n",
       "11  Periodicidade:  Trimestral Abrangência:  Brasi...   \n",
       "12                                PIB per capita (R$)   \n",
       "13  Periodicidade:  Anual Abrangência:  Brasil  O ...   \n",
       "14                                      Indústria (%)   \n",
       "15  Periodicidade:  Mensal Abrangência:  Brasil, N...   \n",
       "16                                       Comércio (%)   \n",
       "17  Periodicidade:  Mensal Abrangência:  Brasil e ...   \n",
       "18                                       Serviços (%)   \n",
       "19  Periodicidade:  Mensal Abrangência:  Brasil e ...   \n",
       "\n",
       "                                               Último  \\\n",
       "0                               Último  0,47 mai 2022   \n",
       "1   Periodicidade:  Mensal Abrangência:  Brasil, R...   \n",
       "2                               Último  0,45 mai 2022   \n",
       "3   Periodicidade:  Mensal Abrangência:  Brasil, R...   \n",
       "4                               Último  0,69 jun 2022   \n",
       "5   Periodicidade:  Mensal Abrangência:  Brasil, R...   \n",
       "6                               Último  1,83 mai 2022   \n",
       "7   Periodicidade:  Mensal Abrangência:  Brasil  O...   \n",
       "8                               Último  2,17 mai 2022   \n",
       "9   Periodicidade:  Mensal Abrangência:  Brasil, G...   \n",
       "10                            Último  1,7 1º tri 2022   \n",
       "11  Periodicidade:  Trimestral Abrangência:  Brasi...   \n",
       "12                             Último  35.161,70 2019   \n",
       "13  Periodicidade:  Anual Abrangência:  Brasil  O ...   \n",
       "14                               Último  0,3 mai 2022   \n",
       "15  Periodicidade:  Mensal Abrangência:  Brasil, N...   \n",
       "16                               Último  0,9 abr 2022   \n",
       "17  Periodicidade:  Mensal Abrangência:  Brasil e ...   \n",
       "18                               Último  0,2 abr 2022   \n",
       "19  Periodicidade:  Mensal Abrangência:  Brasil e ...   \n",
       "\n",
       "                                             Anterior  \\\n",
       "0                             Anterior  1,06 abr 2022   \n",
       "1   Periodicidade:  Mensal Abrangência:  Brasil, R...   \n",
       "2                             Anterior  1,04 abr 2022   \n",
       "3   Periodicidade:  Mensal Abrangência:  Brasil, R...   \n",
       "4                             Anterior  0,59 mai 2022   \n",
       "5   Periodicidade:  Mensal Abrangência:  Brasil, R...   \n",
       "6                             Anterior  2,08 abr 2022   \n",
       "7   Periodicidade:  Mensal Abrangência:  Brasil  O...   \n",
       "8                             Anterior  1,21 abr 2022   \n",
       "9   Periodicidade:  Mensal Abrangência:  Brasil, G...   \n",
       "10                          Anterior  1,6 4º tri 2021   \n",
       "11  Periodicidade:  Trimestral Abrangência:  Brasi...   \n",
       "12                           Anterior  33.593,82 2018   \n",
       "13  Periodicidade:  Anual Abrangência:  Brasil  O ...   \n",
       "14                             Anterior  0,2 abr 2022   \n",
       "15  Periodicidade:  Mensal Abrangência:  Brasil, N...   \n",
       "16                             Anterior  1,4 mar 2022   \n",
       "17  Periodicidade:  Mensal Abrangência:  Brasil e ...   \n",
       "18                             Anterior  1,4 mar 2022   \n",
       "19  Periodicidade:  Mensal Abrangência:  Brasil e ...   \n",
       "\n",
       "                                             12 meses  \\\n",
       "0                                     12 meses  11,73   \n",
       "1   Periodicidade:  Mensal Abrangência:  Brasil, R...   \n",
       "2                                     12 meses  11,90   \n",
       "3   Periodicidade:  Mensal Abrangência:  Brasil, R...   \n",
       "4                                     12 meses  12,04   \n",
       "5   Periodicidade:  Mensal Abrangência:  Brasil, R...   \n",
       "6                                     12 meses  19,15   \n",
       "7   Periodicidade:  Mensal Abrangência:  Brasil  O...   \n",
       "8                                     12 meses  15,44   \n",
       "9   Periodicidade:  Mensal Abrangência:  Brasil, G...   \n",
       "10                                      12 meses  4,7   \n",
       "11  Periodicidade:  Trimestral Abrangência:  Brasi...   \n",
       "12                                        12 meses  -   \n",
       "13  Periodicidade:  Anual Abrangência:  Brasil  O ...   \n",
       "14                                     12 meses  -1,9   \n",
       "15  Periodicidade:  Mensal Abrangência:  Brasil, N...   \n",
       "16                                      12 meses  0,8   \n",
       "17  Periodicidade:  Mensal Abrangência:  Brasil e ...   \n",
       "18                                     12 meses  12,8   \n",
       "19  Periodicidade:  Mensal Abrangência:  Brasil e ...   \n",
       "\n",
       "                                               No ano  \n",
       "0                                        No ano  4,78  \n",
       "1   Periodicidade:  Mensal Abrangência:  Brasil, R...  \n",
       "2                                        No ano  4,96  \n",
       "3   Periodicidade:  Mensal Abrangência:  Brasil, R...  \n",
       "4                                        No ano  5,65  \n",
       "5   Periodicidade:  Mensal Abrangência:  Brasil, R...  \n",
       "6                                        No ano  9,06  \n",
       "7   Periodicidade:  Mensal Abrangência:  Brasil  O...  \n",
       "8                                        No ano  5,77  \n",
       "9   Periodicidade:  Mensal Abrangência:  Brasil, G...  \n",
       "10                                        No ano  1,7  \n",
       "11  Periodicidade:  Trimestral Abrangência:  Brasi...  \n",
       "12                                          No ano  -  \n",
       "13  Periodicidade:  Anual Abrangência:  Brasil  O ...  \n",
       "14                                       No ano  -2,6  \n",
       "15  Periodicidade:  Mensal Abrangência:  Brasil, N...  \n",
       "16                                        No ano  2,3  \n",
       "17  Periodicidade:  Mensal Abrangência:  Brasil e ...  \n",
       "18                                        No ano  9,5  \n",
       "19  Periodicidade:  Mensal Abrangência:  Brasil e ...  "
      ]
     },
     "execution_count": 33,
     "metadata": {},
     "output_type": "execute_result"
    }
   ],
   "source": [
    "df_indicadores = dataframes_html[0]\n",
    "\n",
    "df_indicadores"
   ]
  },
  {
   "cell_type": "code",
   "execution_count": 34,
   "id": "cc055e32",
   "metadata": {},
   "outputs": [
    {
     "data": {
      "text/html": [
       "<div>\n",
       "<style scoped>\n",
       "    .dataframe tbody tr th:only-of-type {\n",
       "        vertical-align: middle;\n",
       "    }\n",
       "\n",
       "    .dataframe tbody tr th {\n",
       "        vertical-align: top;\n",
       "    }\n",
       "\n",
       "    .dataframe thead th {\n",
       "        text-align: right;\n",
       "    }\n",
       "</style>\n",
       "<table border=\"1\" class=\"dataframe\">\n",
       "  <thead>\n",
       "    <tr style=\"text-align: right;\">\n",
       "      <th></th>\n",
       "      <th>Indicadores econômicos</th>\n",
       "      <th>Último</th>\n",
       "      <th>Anterior</th>\n",
       "      <th>12 meses</th>\n",
       "      <th>No ano</th>\n",
       "    </tr>\n",
       "  </thead>\n",
       "  <tbody>\n",
       "    <tr>\n",
       "      <th>1</th>\n",
       "      <td>Periodicidade:  Mensal Abrangência:  Brasil, R...</td>\n",
       "      <td>Periodicidade:  Mensal Abrangência:  Brasil, R...</td>\n",
       "      <td>Periodicidade:  Mensal Abrangência:  Brasil, R...</td>\n",
       "      <td>Periodicidade:  Mensal Abrangência:  Brasil, R...</td>\n",
       "      <td>Periodicidade:  Mensal Abrangência:  Brasil, R...</td>\n",
       "    </tr>\n",
       "    <tr>\n",
       "      <th>3</th>\n",
       "      <td>Periodicidade:  Mensal Abrangência:  Brasil, R...</td>\n",
       "      <td>Periodicidade:  Mensal Abrangência:  Brasil, R...</td>\n",
       "      <td>Periodicidade:  Mensal Abrangência:  Brasil, R...</td>\n",
       "      <td>Periodicidade:  Mensal Abrangência:  Brasil, R...</td>\n",
       "      <td>Periodicidade:  Mensal Abrangência:  Brasil, R...</td>\n",
       "    </tr>\n",
       "    <tr>\n",
       "      <th>5</th>\n",
       "      <td>Periodicidade:  Mensal Abrangência:  Brasil, R...</td>\n",
       "      <td>Periodicidade:  Mensal Abrangência:  Brasil, R...</td>\n",
       "      <td>Periodicidade:  Mensal Abrangência:  Brasil, R...</td>\n",
       "      <td>Periodicidade:  Mensal Abrangência:  Brasil, R...</td>\n",
       "      <td>Periodicidade:  Mensal Abrangência:  Brasil, R...</td>\n",
       "    </tr>\n",
       "    <tr>\n",
       "      <th>7</th>\n",
       "      <td>Periodicidade:  Mensal Abrangência:  Brasil  O...</td>\n",
       "      <td>Periodicidade:  Mensal Abrangência:  Brasil  O...</td>\n",
       "      <td>Periodicidade:  Mensal Abrangência:  Brasil  O...</td>\n",
       "      <td>Periodicidade:  Mensal Abrangência:  Brasil  O...</td>\n",
       "      <td>Periodicidade:  Mensal Abrangência:  Brasil  O...</td>\n",
       "    </tr>\n",
       "    <tr>\n",
       "      <th>9</th>\n",
       "      <td>Periodicidade:  Mensal Abrangência:  Brasil, G...</td>\n",
       "      <td>Periodicidade:  Mensal Abrangência:  Brasil, G...</td>\n",
       "      <td>Periodicidade:  Mensal Abrangência:  Brasil, G...</td>\n",
       "      <td>Periodicidade:  Mensal Abrangência:  Brasil, G...</td>\n",
       "      <td>Periodicidade:  Mensal Abrangência:  Brasil, G...</td>\n",
       "    </tr>\n",
       "    <tr>\n",
       "      <th>11</th>\n",
       "      <td>Periodicidade:  Trimestral Abrangência:  Brasi...</td>\n",
       "      <td>Periodicidade:  Trimestral Abrangência:  Brasi...</td>\n",
       "      <td>Periodicidade:  Trimestral Abrangência:  Brasi...</td>\n",
       "      <td>Periodicidade:  Trimestral Abrangência:  Brasi...</td>\n",
       "      <td>Periodicidade:  Trimestral Abrangência:  Brasi...</td>\n",
       "    </tr>\n",
       "    <tr>\n",
       "      <th>13</th>\n",
       "      <td>Periodicidade:  Anual Abrangência:  Brasil  O ...</td>\n",
       "      <td>Periodicidade:  Anual Abrangência:  Brasil  O ...</td>\n",
       "      <td>Periodicidade:  Anual Abrangência:  Brasil  O ...</td>\n",
       "      <td>Periodicidade:  Anual Abrangência:  Brasil  O ...</td>\n",
       "      <td>Periodicidade:  Anual Abrangência:  Brasil  O ...</td>\n",
       "    </tr>\n",
       "    <tr>\n",
       "      <th>15</th>\n",
       "      <td>Periodicidade:  Mensal Abrangência:  Brasil, N...</td>\n",
       "      <td>Periodicidade:  Mensal Abrangência:  Brasil, N...</td>\n",
       "      <td>Periodicidade:  Mensal Abrangência:  Brasil, N...</td>\n",
       "      <td>Periodicidade:  Mensal Abrangência:  Brasil, N...</td>\n",
       "      <td>Periodicidade:  Mensal Abrangência:  Brasil, N...</td>\n",
       "    </tr>\n",
       "    <tr>\n",
       "      <th>17</th>\n",
       "      <td>Periodicidade:  Mensal Abrangência:  Brasil e ...</td>\n",
       "      <td>Periodicidade:  Mensal Abrangência:  Brasil e ...</td>\n",
       "      <td>Periodicidade:  Mensal Abrangência:  Brasil e ...</td>\n",
       "      <td>Periodicidade:  Mensal Abrangência:  Brasil e ...</td>\n",
       "      <td>Periodicidade:  Mensal Abrangência:  Brasil e ...</td>\n",
       "    </tr>\n",
       "    <tr>\n",
       "      <th>19</th>\n",
       "      <td>Periodicidade:  Mensal Abrangência:  Brasil e ...</td>\n",
       "      <td>Periodicidade:  Mensal Abrangência:  Brasil e ...</td>\n",
       "      <td>Periodicidade:  Mensal Abrangência:  Brasil e ...</td>\n",
       "      <td>Periodicidade:  Mensal Abrangência:  Brasil e ...</td>\n",
       "      <td>Periodicidade:  Mensal Abrangência:  Brasil e ...</td>\n",
       "    </tr>\n",
       "  </tbody>\n",
       "</table>\n",
       "</div>"
      ],
      "text/plain": [
       "                               Indicadores econômicos  \\\n",
       "1   Periodicidade:  Mensal Abrangência:  Brasil, R...   \n",
       "3   Periodicidade:  Mensal Abrangência:  Brasil, R...   \n",
       "5   Periodicidade:  Mensal Abrangência:  Brasil, R...   \n",
       "7   Periodicidade:  Mensal Abrangência:  Brasil  O...   \n",
       "9   Periodicidade:  Mensal Abrangência:  Brasil, G...   \n",
       "11  Periodicidade:  Trimestral Abrangência:  Brasi...   \n",
       "13  Periodicidade:  Anual Abrangência:  Brasil  O ...   \n",
       "15  Periodicidade:  Mensal Abrangência:  Brasil, N...   \n",
       "17  Periodicidade:  Mensal Abrangência:  Brasil e ...   \n",
       "19  Periodicidade:  Mensal Abrangência:  Brasil e ...   \n",
       "\n",
       "                                               Último  \\\n",
       "1   Periodicidade:  Mensal Abrangência:  Brasil, R...   \n",
       "3   Periodicidade:  Mensal Abrangência:  Brasil, R...   \n",
       "5   Periodicidade:  Mensal Abrangência:  Brasil, R...   \n",
       "7   Periodicidade:  Mensal Abrangência:  Brasil  O...   \n",
       "9   Periodicidade:  Mensal Abrangência:  Brasil, G...   \n",
       "11  Periodicidade:  Trimestral Abrangência:  Brasi...   \n",
       "13  Periodicidade:  Anual Abrangência:  Brasil  O ...   \n",
       "15  Periodicidade:  Mensal Abrangência:  Brasil, N...   \n",
       "17  Periodicidade:  Mensal Abrangência:  Brasil e ...   \n",
       "19  Periodicidade:  Mensal Abrangência:  Brasil e ...   \n",
       "\n",
       "                                             Anterior  \\\n",
       "1   Periodicidade:  Mensal Abrangência:  Brasil, R...   \n",
       "3   Periodicidade:  Mensal Abrangência:  Brasil, R...   \n",
       "5   Periodicidade:  Mensal Abrangência:  Brasil, R...   \n",
       "7   Periodicidade:  Mensal Abrangência:  Brasil  O...   \n",
       "9   Periodicidade:  Mensal Abrangência:  Brasil, G...   \n",
       "11  Periodicidade:  Trimestral Abrangência:  Brasi...   \n",
       "13  Periodicidade:  Anual Abrangência:  Brasil  O ...   \n",
       "15  Periodicidade:  Mensal Abrangência:  Brasil, N...   \n",
       "17  Periodicidade:  Mensal Abrangência:  Brasil e ...   \n",
       "19  Periodicidade:  Mensal Abrangência:  Brasil e ...   \n",
       "\n",
       "                                             12 meses  \\\n",
       "1   Periodicidade:  Mensal Abrangência:  Brasil, R...   \n",
       "3   Periodicidade:  Mensal Abrangência:  Brasil, R...   \n",
       "5   Periodicidade:  Mensal Abrangência:  Brasil, R...   \n",
       "7   Periodicidade:  Mensal Abrangência:  Brasil  O...   \n",
       "9   Periodicidade:  Mensal Abrangência:  Brasil, G...   \n",
       "11  Periodicidade:  Trimestral Abrangência:  Brasi...   \n",
       "13  Periodicidade:  Anual Abrangência:  Brasil  O ...   \n",
       "15  Periodicidade:  Mensal Abrangência:  Brasil, N...   \n",
       "17  Periodicidade:  Mensal Abrangência:  Brasil e ...   \n",
       "19  Periodicidade:  Mensal Abrangência:  Brasil e ...   \n",
       "\n",
       "                                               No ano  \n",
       "1   Periodicidade:  Mensal Abrangência:  Brasil, R...  \n",
       "3   Periodicidade:  Mensal Abrangência:  Brasil, R...  \n",
       "5   Periodicidade:  Mensal Abrangência:  Brasil, R...  \n",
       "7   Periodicidade:  Mensal Abrangência:  Brasil  O...  \n",
       "9   Periodicidade:  Mensal Abrangência:  Brasil, G...  \n",
       "11  Periodicidade:  Trimestral Abrangência:  Brasi...  \n",
       "13  Periodicidade:  Anual Abrangência:  Brasil  O ...  \n",
       "15  Periodicidade:  Mensal Abrangência:  Brasil, N...  \n",
       "17  Periodicidade:  Mensal Abrangência:  Brasil e ...  \n",
       "19  Periodicidade:  Mensal Abrangência:  Brasil e ...  "
      ]
     },
     "execution_count": 34,
     "metadata": {},
     "output_type": "execute_result"
    }
   ],
   "source": [
    "df_indicadores.iloc[1:20:2]"
   ]
  },
  {
   "cell_type": "code",
   "execution_count": 35,
   "id": "5c76ec57",
   "metadata": {},
   "outputs": [
    {
     "data": {
      "text/plain": [
       "RangeIndex(start=1, stop=20, step=2)"
      ]
     },
     "execution_count": 35,
     "metadata": {},
     "output_type": "execute_result"
    }
   ],
   "source": [
    "df_indicadores.iloc[1:20:2].index"
   ]
  },
  {
   "cell_type": "code",
   "execution_count": 36,
   "id": "0dfc026f",
   "metadata": {},
   "outputs": [
    {
     "data": {
      "text/html": [
       "<div>\n",
       "<style scoped>\n",
       "    .dataframe tbody tr th:only-of-type {\n",
       "        vertical-align: middle;\n",
       "    }\n",
       "\n",
       "    .dataframe tbody tr th {\n",
       "        vertical-align: top;\n",
       "    }\n",
       "\n",
       "    .dataframe thead th {\n",
       "        text-align: right;\n",
       "    }\n",
       "</style>\n",
       "<table border=\"1\" class=\"dataframe\">\n",
       "  <thead>\n",
       "    <tr style=\"text-align: right;\">\n",
       "      <th></th>\n",
       "      <th>Indicadores econômicos</th>\n",
       "      <th>Último</th>\n",
       "      <th>Anterior</th>\n",
       "      <th>12 meses</th>\n",
       "      <th>No ano</th>\n",
       "    </tr>\n",
       "  </thead>\n",
       "  <tbody>\n",
       "    <tr>\n",
       "      <th>0</th>\n",
       "      <td>IPCA (%)</td>\n",
       "      <td>Último  0,47 mai 2022</td>\n",
       "      <td>Anterior  1,06 abr 2022</td>\n",
       "      <td>12 meses  11,73</td>\n",
       "      <td>No ano  4,78</td>\n",
       "    </tr>\n",
       "    <tr>\n",
       "      <th>2</th>\n",
       "      <td>INPC (%)</td>\n",
       "      <td>Último  0,45 mai 2022</td>\n",
       "      <td>Anterior  1,04 abr 2022</td>\n",
       "      <td>12 meses  11,90</td>\n",
       "      <td>No ano  4,96</td>\n",
       "    </tr>\n",
       "    <tr>\n",
       "      <th>4</th>\n",
       "      <td>IPCA-15 (%)</td>\n",
       "      <td>Último  0,69 jun 2022</td>\n",
       "      <td>Anterior  0,59 mai 2022</td>\n",
       "      <td>12 meses  12,04</td>\n",
       "      <td>No ano  5,65</td>\n",
       "    </tr>\n",
       "    <tr>\n",
       "      <th>6</th>\n",
       "      <td>IPP (%)</td>\n",
       "      <td>Último  1,83 mai 2022</td>\n",
       "      <td>Anterior  2,08 abr 2022</td>\n",
       "      <td>12 meses  19,15</td>\n",
       "      <td>No ano  9,06</td>\n",
       "    </tr>\n",
       "    <tr>\n",
       "      <th>8</th>\n",
       "      <td>Custo do m² (%)</td>\n",
       "      <td>Último  2,17 mai 2022</td>\n",
       "      <td>Anterior  1,21 abr 2022</td>\n",
       "      <td>12 meses  15,44</td>\n",
       "      <td>No ano  5,77</td>\n",
       "    </tr>\n",
       "    <tr>\n",
       "      <th>10</th>\n",
       "      <td>Variação do PIB (%)</td>\n",
       "      <td>Último  1,7 1º tri 2022</td>\n",
       "      <td>Anterior  1,6 4º tri 2021</td>\n",
       "      <td>12 meses  4,7</td>\n",
       "      <td>No ano  1,7</td>\n",
       "    </tr>\n",
       "    <tr>\n",
       "      <th>12</th>\n",
       "      <td>PIB per capita (R$)</td>\n",
       "      <td>Último  35.161,70 2019</td>\n",
       "      <td>Anterior  33.593,82 2018</td>\n",
       "      <td>12 meses  -</td>\n",
       "      <td>No ano  -</td>\n",
       "    </tr>\n",
       "    <tr>\n",
       "      <th>14</th>\n",
       "      <td>Indústria (%)</td>\n",
       "      <td>Último  0,3 mai 2022</td>\n",
       "      <td>Anterior  0,2 abr 2022</td>\n",
       "      <td>12 meses  -1,9</td>\n",
       "      <td>No ano  -2,6</td>\n",
       "    </tr>\n",
       "    <tr>\n",
       "      <th>16</th>\n",
       "      <td>Comércio (%)</td>\n",
       "      <td>Último  0,9 abr 2022</td>\n",
       "      <td>Anterior  1,4 mar 2022</td>\n",
       "      <td>12 meses  0,8</td>\n",
       "      <td>No ano  2,3</td>\n",
       "    </tr>\n",
       "    <tr>\n",
       "      <th>18</th>\n",
       "      <td>Serviços (%)</td>\n",
       "      <td>Último  0,2 abr 2022</td>\n",
       "      <td>Anterior  1,4 mar 2022</td>\n",
       "      <td>12 meses  12,8</td>\n",
       "      <td>No ano  9,5</td>\n",
       "    </tr>\n",
       "  </tbody>\n",
       "</table>\n",
       "</div>"
      ],
      "text/plain": [
       "   Indicadores econômicos                   Último                   Anterior  \\\n",
       "0                IPCA (%)    Último  0,47 mai 2022    Anterior  1,06 abr 2022   \n",
       "2                INPC (%)    Último  0,45 mai 2022    Anterior  1,04 abr 2022   \n",
       "4             IPCA-15 (%)    Último  0,69 jun 2022    Anterior  0,59 mai 2022   \n",
       "6                 IPP (%)    Último  1,83 mai 2022    Anterior  2,08 abr 2022   \n",
       "8         Custo do m² (%)    Último  2,17 mai 2022    Anterior  1,21 abr 2022   \n",
       "10    Variação do PIB (%)  Último  1,7 1º tri 2022  Anterior  1,6 4º tri 2021   \n",
       "12    PIB per capita (R$)   Último  35.161,70 2019   Anterior  33.593,82 2018   \n",
       "14          Indústria (%)     Último  0,3 mai 2022     Anterior  0,2 abr 2022   \n",
       "16           Comércio (%)     Último  0,9 abr 2022     Anterior  1,4 mar 2022   \n",
       "18           Serviços (%)     Último  0,2 abr 2022     Anterior  1,4 mar 2022   \n",
       "\n",
       "           12 meses        No ano  \n",
       "0   12 meses  11,73  No ano  4,78  \n",
       "2   12 meses  11,90  No ano  4,96  \n",
       "4   12 meses  12,04  No ano  5,65  \n",
       "6   12 meses  19,15  No ano  9,06  \n",
       "8   12 meses  15,44  No ano  5,77  \n",
       "10    12 meses  4,7   No ano  1,7  \n",
       "12      12 meses  -     No ano  -  \n",
       "14   12 meses  -1,9  No ano  -2,6  \n",
       "16    12 meses  0,8   No ano  2,3  \n",
       "18   12 meses  12,8   No ano  9,5  "
      ]
     },
     "execution_count": 36,
     "metadata": {},
     "output_type": "execute_result"
    }
   ],
   "source": [
    "df_indicadores.drop(df_indicadores.iloc[1:20:2].index)"
   ]
  },
  {
   "cell_type": "code",
   "execution_count": 37,
   "id": "d1c4e479",
   "metadata": {},
   "outputs": [
    {
     "data": {
      "text/html": [
       "<div>\n",
       "<style scoped>\n",
       "    .dataframe tbody tr th:only-of-type {\n",
       "        vertical-align: middle;\n",
       "    }\n",
       "\n",
       "    .dataframe tbody tr th {\n",
       "        vertical-align: top;\n",
       "    }\n",
       "\n",
       "    .dataframe thead th {\n",
       "        text-align: right;\n",
       "    }\n",
       "</style>\n",
       "<table border=\"1\" class=\"dataframe\">\n",
       "  <thead>\n",
       "    <tr style=\"text-align: right;\">\n",
       "      <th></th>\n",
       "      <th>Indicadores econômicos</th>\n",
       "      <th>Último</th>\n",
       "      <th>Anterior</th>\n",
       "      <th>12 meses</th>\n",
       "      <th>No ano</th>\n",
       "    </tr>\n",
       "  </thead>\n",
       "  <tbody>\n",
       "    <tr>\n",
       "      <th>0</th>\n",
       "      <td>IPCA (%)</td>\n",
       "      <td>Último  0,47 mai 2022</td>\n",
       "      <td>Anterior  1,06 abr 2022</td>\n",
       "      <td>12 meses  11,73</td>\n",
       "      <td>No ano  4,78</td>\n",
       "    </tr>\n",
       "    <tr>\n",
       "      <th>2</th>\n",
       "      <td>INPC (%)</td>\n",
       "      <td>Último  0,45 mai 2022</td>\n",
       "      <td>Anterior  1,04 abr 2022</td>\n",
       "      <td>12 meses  11,90</td>\n",
       "      <td>No ano  4,96</td>\n",
       "    </tr>\n",
       "    <tr>\n",
       "      <th>4</th>\n",
       "      <td>IPCA-15 (%)</td>\n",
       "      <td>Último  0,69 jun 2022</td>\n",
       "      <td>Anterior  0,59 mai 2022</td>\n",
       "      <td>12 meses  12,04</td>\n",
       "      <td>No ano  5,65</td>\n",
       "    </tr>\n",
       "    <tr>\n",
       "      <th>6</th>\n",
       "      <td>IPP (%)</td>\n",
       "      <td>Último  1,83 mai 2022</td>\n",
       "      <td>Anterior  2,08 abr 2022</td>\n",
       "      <td>12 meses  19,15</td>\n",
       "      <td>No ano  9,06</td>\n",
       "    </tr>\n",
       "    <tr>\n",
       "      <th>8</th>\n",
       "      <td>Custo do m² (%)</td>\n",
       "      <td>Último  2,17 mai 2022</td>\n",
       "      <td>Anterior  1,21 abr 2022</td>\n",
       "      <td>12 meses  15,44</td>\n",
       "      <td>No ano  5,77</td>\n",
       "    </tr>\n",
       "    <tr>\n",
       "      <th>10</th>\n",
       "      <td>Variação do PIB (%)</td>\n",
       "      <td>Último  1,7 1º tri 2022</td>\n",
       "      <td>Anterior  1,6 4º tri 2021</td>\n",
       "      <td>12 meses  4,7</td>\n",
       "      <td>No ano  1,7</td>\n",
       "    </tr>\n",
       "    <tr>\n",
       "      <th>12</th>\n",
       "      <td>PIB per capita (R$)</td>\n",
       "      <td>Último  35.161,70 2019</td>\n",
       "      <td>Anterior  33.593,82 2018</td>\n",
       "      <td>12 meses  -</td>\n",
       "      <td>No ano  -</td>\n",
       "    </tr>\n",
       "    <tr>\n",
       "      <th>14</th>\n",
       "      <td>Indústria (%)</td>\n",
       "      <td>Último  0,3 mai 2022</td>\n",
       "      <td>Anterior  0,2 abr 2022</td>\n",
       "      <td>12 meses  -1,9</td>\n",
       "      <td>No ano  -2,6</td>\n",
       "    </tr>\n",
       "    <tr>\n",
       "      <th>16</th>\n",
       "      <td>Comércio (%)</td>\n",
       "      <td>Último  0,9 abr 2022</td>\n",
       "      <td>Anterior  1,4 mar 2022</td>\n",
       "      <td>12 meses  0,8</td>\n",
       "      <td>No ano  2,3</td>\n",
       "    </tr>\n",
       "    <tr>\n",
       "      <th>18</th>\n",
       "      <td>Serviços (%)</td>\n",
       "      <td>Último  0,2 abr 2022</td>\n",
       "      <td>Anterior  1,4 mar 2022</td>\n",
       "      <td>12 meses  12,8</td>\n",
       "      <td>No ano  9,5</td>\n",
       "    </tr>\n",
       "  </tbody>\n",
       "</table>\n",
       "</div>"
      ],
      "text/plain": [
       "   Indicadores econômicos                   Último                   Anterior  \\\n",
       "0                IPCA (%)    Último  0,47 mai 2022    Anterior  1,06 abr 2022   \n",
       "2                INPC (%)    Último  0,45 mai 2022    Anterior  1,04 abr 2022   \n",
       "4             IPCA-15 (%)    Último  0,69 jun 2022    Anterior  0,59 mai 2022   \n",
       "6                 IPP (%)    Último  1,83 mai 2022    Anterior  2,08 abr 2022   \n",
       "8         Custo do m² (%)    Último  2,17 mai 2022    Anterior  1,21 abr 2022   \n",
       "10    Variação do PIB (%)  Último  1,7 1º tri 2022  Anterior  1,6 4º tri 2021   \n",
       "12    PIB per capita (R$)   Último  35.161,70 2019   Anterior  33.593,82 2018   \n",
       "14          Indústria (%)     Último  0,3 mai 2022     Anterior  0,2 abr 2022   \n",
       "16           Comércio (%)     Último  0,9 abr 2022     Anterior  1,4 mar 2022   \n",
       "18           Serviços (%)     Último  0,2 abr 2022     Anterior  1,4 mar 2022   \n",
       "\n",
       "           12 meses        No ano  \n",
       "0   12 meses  11,73  No ano  4,78  \n",
       "2   12 meses  11,90  No ano  4,96  \n",
       "4   12 meses  12,04  No ano  5,65  \n",
       "6   12 meses  19,15  No ano  9,06  \n",
       "8   12 meses  15,44  No ano  5,77  \n",
       "10    12 meses  4,7   No ano  1,7  \n",
       "12      12 meses  -     No ano  -  \n",
       "14   12 meses  -1,9  No ano  -2,6  \n",
       "16    12 meses  0,8   No ano  2,3  \n",
       "18   12 meses  12,8   No ano  9,5  "
      ]
     },
     "execution_count": 37,
     "metadata": {},
     "output_type": "execute_result"
    }
   ],
   "source": [
    "df_indicadores = df_indicadores.drop(df_indicadores.iloc[1:20:2].index)\n",
    "\n",
    "df_indicadores"
   ]
  },
  {
   "cell_type": "code",
   "execution_count": 38,
   "id": "40003e8d",
   "metadata": {},
   "outputs": [
    {
     "data": {
      "text/html": [
       "<div>\n",
       "<style scoped>\n",
       "    .dataframe tbody tr th:only-of-type {\n",
       "        vertical-align: middle;\n",
       "    }\n",
       "\n",
       "    .dataframe tbody tr th {\n",
       "        vertical-align: top;\n",
       "    }\n",
       "\n",
       "    .dataframe thead th {\n",
       "        text-align: right;\n",
       "    }\n",
       "</style>\n",
       "<table border=\"1\" class=\"dataframe\">\n",
       "  <thead>\n",
       "    <tr style=\"text-align: right;\">\n",
       "      <th></th>\n",
       "      <th>Indicadores econômicos</th>\n",
       "      <th>Último</th>\n",
       "      <th>Anterior</th>\n",
       "      <th>12 meses</th>\n",
       "      <th>No ano</th>\n",
       "    </tr>\n",
       "  </thead>\n",
       "  <tbody>\n",
       "    <tr>\n",
       "      <th>0</th>\n",
       "      <td>IPCA (%)</td>\n",
       "      <td>Último  0,47 mai 2022</td>\n",
       "      <td>Anterior  1,06 abr 2022</td>\n",
       "      <td>12 meses  11,73</td>\n",
       "      <td>No ano  4,78</td>\n",
       "    </tr>\n",
       "    <tr>\n",
       "      <th>1</th>\n",
       "      <td>INPC (%)</td>\n",
       "      <td>Último  0,45 mai 2022</td>\n",
       "      <td>Anterior  1,04 abr 2022</td>\n",
       "      <td>12 meses  11,90</td>\n",
       "      <td>No ano  4,96</td>\n",
       "    </tr>\n",
       "    <tr>\n",
       "      <th>2</th>\n",
       "      <td>IPCA-15 (%)</td>\n",
       "      <td>Último  0,69 jun 2022</td>\n",
       "      <td>Anterior  0,59 mai 2022</td>\n",
       "      <td>12 meses  12,04</td>\n",
       "      <td>No ano  5,65</td>\n",
       "    </tr>\n",
       "    <tr>\n",
       "      <th>3</th>\n",
       "      <td>IPP (%)</td>\n",
       "      <td>Último  1,83 mai 2022</td>\n",
       "      <td>Anterior  2,08 abr 2022</td>\n",
       "      <td>12 meses  19,15</td>\n",
       "      <td>No ano  9,06</td>\n",
       "    </tr>\n",
       "    <tr>\n",
       "      <th>4</th>\n",
       "      <td>Custo do m² (%)</td>\n",
       "      <td>Último  2,17 mai 2022</td>\n",
       "      <td>Anterior  1,21 abr 2022</td>\n",
       "      <td>12 meses  15,44</td>\n",
       "      <td>No ano  5,77</td>\n",
       "    </tr>\n",
       "    <tr>\n",
       "      <th>5</th>\n",
       "      <td>Variação do PIB (%)</td>\n",
       "      <td>Último  1,7 1º tri 2022</td>\n",
       "      <td>Anterior  1,6 4º tri 2021</td>\n",
       "      <td>12 meses  4,7</td>\n",
       "      <td>No ano  1,7</td>\n",
       "    </tr>\n",
       "    <tr>\n",
       "      <th>6</th>\n",
       "      <td>PIB per capita (R$)</td>\n",
       "      <td>Último  35.161,70 2019</td>\n",
       "      <td>Anterior  33.593,82 2018</td>\n",
       "      <td>12 meses  -</td>\n",
       "      <td>No ano  -</td>\n",
       "    </tr>\n",
       "    <tr>\n",
       "      <th>7</th>\n",
       "      <td>Indústria (%)</td>\n",
       "      <td>Último  0,3 mai 2022</td>\n",
       "      <td>Anterior  0,2 abr 2022</td>\n",
       "      <td>12 meses  -1,9</td>\n",
       "      <td>No ano  -2,6</td>\n",
       "    </tr>\n",
       "    <tr>\n",
       "      <th>8</th>\n",
       "      <td>Comércio (%)</td>\n",
       "      <td>Último  0,9 abr 2022</td>\n",
       "      <td>Anterior  1,4 mar 2022</td>\n",
       "      <td>12 meses  0,8</td>\n",
       "      <td>No ano  2,3</td>\n",
       "    </tr>\n",
       "    <tr>\n",
       "      <th>9</th>\n",
       "      <td>Serviços (%)</td>\n",
       "      <td>Último  0,2 abr 2022</td>\n",
       "      <td>Anterior  1,4 mar 2022</td>\n",
       "      <td>12 meses  12,8</td>\n",
       "      <td>No ano  9,5</td>\n",
       "    </tr>\n",
       "  </tbody>\n",
       "</table>\n",
       "</div>"
      ],
      "text/plain": [
       "  Indicadores econômicos                   Último                   Anterior  \\\n",
       "0               IPCA (%)    Último  0,47 mai 2022    Anterior  1,06 abr 2022   \n",
       "1               INPC (%)    Último  0,45 mai 2022    Anterior  1,04 abr 2022   \n",
       "2            IPCA-15 (%)    Último  0,69 jun 2022    Anterior  0,59 mai 2022   \n",
       "3                IPP (%)    Último  1,83 mai 2022    Anterior  2,08 abr 2022   \n",
       "4        Custo do m² (%)    Último  2,17 mai 2022    Anterior  1,21 abr 2022   \n",
       "5    Variação do PIB (%)  Último  1,7 1º tri 2022  Anterior  1,6 4º tri 2021   \n",
       "6    PIB per capita (R$)   Último  35.161,70 2019   Anterior  33.593,82 2018   \n",
       "7          Indústria (%)     Último  0,3 mai 2022     Anterior  0,2 abr 2022   \n",
       "8           Comércio (%)     Último  0,9 abr 2022     Anterior  1,4 mar 2022   \n",
       "9           Serviços (%)     Último  0,2 abr 2022     Anterior  1,4 mar 2022   \n",
       "\n",
       "          12 meses        No ano  \n",
       "0  12 meses  11,73  No ano  4,78  \n",
       "1  12 meses  11,90  No ano  4,96  \n",
       "2  12 meses  12,04  No ano  5,65  \n",
       "3  12 meses  19,15  No ano  9,06  \n",
       "4  12 meses  15,44  No ano  5,77  \n",
       "5    12 meses  4,7   No ano  1,7  \n",
       "6      12 meses  -     No ano  -  \n",
       "7   12 meses  -1,9  No ano  -2,6  \n",
       "8    12 meses  0,8   No ano  2,3  \n",
       "9   12 meses  12,8   No ano  9,5  "
      ]
     },
     "execution_count": 38,
     "metadata": {},
     "output_type": "execute_result"
    }
   ],
   "source": [
    "df_indicadores = df_indicadores.reset_index(drop=True)\n",
    "df_indicadores"
   ]
  },
  {
   "cell_type": "code",
   "execution_count": 39,
   "id": "6b56a77f",
   "metadata": {
    "scrolled": true
   },
   "outputs": [
    {
     "data": {
      "text/plain": [
       "27"
      ]
     },
     "execution_count": 39,
     "metadata": {},
     "output_type": "execute_result"
    }
   ],
   "source": [
    "# Buscar mais detalhes do IPCA-15\n",
    "elementos_non_sprite = navegador_robozao_master_plus.find_elements(By.CLASS_NAME, 'nonsprite')\n",
    "\n",
    "len(elementos_non_sprite)"
   ]
  },
  {
   "cell_type": "code",
   "execution_count": 42,
   "id": "95a5f414",
   "metadata": {},
   "outputs": [
    {
     "data": {
      "text/plain": [
       "'\\n                                IPCA-15 <small>(%)</small>\\n                            '"
      ]
     },
     "execution_count": 42,
     "metadata": {},
     "output_type": "execute_result"
    }
   ],
   "source": [
    "elementos_non_sprite[2].get_attribute('innerHTML')"
   ]
  },
  {
   "cell_type": "code",
   "execution_count": 43,
   "id": "b8db9d14",
   "metadata": {},
   "outputs": [
    {
     "data": {
      "text/plain": [
       "'\\n                                IPCA-15 <small>(%)</small>\\n                            '"
      ]
     },
     "execution_count": 43,
     "metadata": {},
     "output_type": "execute_result"
    }
   ],
   "source": [
    "for elemento in elementos_non_sprite:\n",
    "    if \"IPCA-15\" in elemento.get_attribute(\"innerHTML\"):\n",
    "        break\n",
    "\n",
    "elemento.get_attribute('innerHTML')    "
   ]
  },
  {
   "cell_type": "code",
   "execution_count": 44,
   "id": "2e4c5396",
   "metadata": {},
   "outputs": [],
   "source": [
    "# Simulando um clique no elemento!\n",
    "elemento.click()"
   ]
  },
  {
   "cell_type": "code",
   "execution_count": 45,
   "id": "0453f993",
   "metadata": {},
   "outputs": [
    {
     "data": {
      "text/plain": [
       "<selenium.webdriver.remote.webelement.WebElement (session=\"bb4546c8f61966a33f170856119d0f70\", element=\"942d5e73-0f5e-46ec-ad4d-6208991e68ec\")>"
      ]
     },
     "execution_count": 45,
     "metadata": {},
     "output_type": "execute_result"
    }
   ],
   "source": [
    "link_sidra = navegador_robozao_master_plus.find_element(By.PARTIAL_LINK_TEXT, \"Sidra - Tabelas de resultados\")\n",
    "\n",
    "link_sidra"
   ]
  },
  {
   "cell_type": "code",
   "execution_count": 46,
   "id": "99d087fa",
   "metadata": {},
   "outputs": [],
   "source": [
    "link_sidra.click()"
   ]
  },
  {
   "cell_type": "code",
   "execution_count": 47,
   "id": "a3d19c02",
   "metadata": {},
   "outputs": [],
   "source": [
    "# Verificar se está na página certa\n",
    "assert \"SIDRA\" in navegador_robozao_master_plus.title"
   ]
  },
  {
   "cell_type": "code",
   "execution_count": 48,
   "id": "6168d8cf",
   "metadata": {},
   "outputs": [
    {
     "data": {
      "text/plain": [
       "<selenium.webdriver.remote.webelement.WebElement (session=\"bb4546c8f61966a33f170856119d0f70\", element=\"29fbc5d6-4eb5-4395-963b-064bb889bc4e\")>"
      ]
     },
     "execution_count": 48,
     "metadata": {},
     "output_type": "execute_result"
    }
   ],
   "source": [
    "seta = navegador_robozao_master_plus.find_element(By.CLASS_NAME, \"glyphicon-download\")\n",
    "\n",
    "seta"
   ]
  },
  {
   "cell_type": "code",
   "execution_count": 49,
   "id": "843cbc2f",
   "metadata": {},
   "outputs": [],
   "source": [
    "seta.click()"
   ]
  },
  {
   "cell_type": "code",
   "execution_count": 50,
   "id": "8079cfca",
   "metadata": {},
   "outputs": [
    {
     "data": {
      "text/plain": [
       "<selenium.webdriver.remote.webelement.WebElement (session=\"bb4546c8f61966a33f170856119d0f70\", element=\"51ed06bb-1af0-4a79-ac70-891290e52cfe\")>"
      ]
     },
     "execution_count": 50,
     "metadata": {},
     "output_type": "execute_result"
    }
   ],
   "source": [
    "link_xlsx = navegador_robozao_master_plus.find_element(By.XPATH, \"//a[@title='Exportar em XLSX']\")\n",
    "\n",
    "link_xlsx"
   ]
  },
  {
   "cell_type": "code",
   "execution_count": 51,
   "id": "8c2077c1",
   "metadata": {},
   "outputs": [],
   "source": [
    "link_xlsx.click()"
   ]
  },
  {
   "cell_type": "code",
   "execution_count": 56,
   "id": "dc9e0d7e",
   "metadata": {},
   "outputs": [],
   "source": [
    "navegador_robozao_master_plus.back()"
   ]
  },
  {
   "cell_type": "code",
   "execution_count": 58,
   "id": "c530466c",
   "metadata": {},
   "outputs": [
    {
     "data": {
      "text/plain": [
       "<selenium.webdriver.remote.webelement.WebElement (session=\"bb4546c8f61966a33f170856119d0f70\", element=\"7e80bc23-e150-44a4-8165-a837597abe14\")>"
      ]
     },
     "execution_count": 58,
     "metadata": {},
     "output_type": "execute_result"
    }
   ],
   "source": [
    "# Vamos fazer uma pesquisa textual no site\n",
    "caixa_pesquisa = navegador_robozao_master_plus.find_element(By.NAME, 'searchword')\n",
    "\n",
    "caixa_pesquisa"
   ]
  },
  {
   "cell_type": "code",
   "execution_count": 67,
   "id": "98380ed9",
   "metadata": {},
   "outputs": [],
   "source": [
    "caixa_pesquisa.send_keys(\"IGPM\")"
   ]
  },
  {
   "cell_type": "code",
   "execution_count": 68,
   "id": "ff4c4cd9",
   "metadata": {},
   "outputs": [],
   "source": [
    "caixa_pesquisa.send_keys(Keys.RETURN)"
   ]
  },
  {
   "cell_type": "code",
   "execution_count": null,
   "id": "23a0a4e6",
   "metadata": {},
   "outputs": [],
   "source": []
  },
  {
   "cell_type": "code",
   "execution_count": null,
   "id": "6241a17d",
   "metadata": {},
   "outputs": [],
   "source": []
  }
 ],
 "metadata": {
  "kernelspec": {
   "display_name": "Python 3 (ipykernel)",
   "language": "python",
   "name": "python3"
  },
  "language_info": {
   "codemirror_mode": {
    "name": "ipython",
    "version": 3
   },
   "file_extension": ".py",
   "mimetype": "text/x-python",
   "name": "python",
   "nbconvert_exporter": "python",
   "pygments_lexer": "ipython3",
   "version": "3.9.0"
  }
 },
 "nbformat": 4,
 "nbformat_minor": 5
}
