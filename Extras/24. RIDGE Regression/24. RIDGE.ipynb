{
 "cells": [
  {
   "cell_type": "code",
   "execution_count": 1,
   "id": "3d5be21d",
   "metadata": {},
   "outputs": [],
   "source": [
    "# Importing libraries\n",
    "import pandas as pd\n",
    "import seaborn as sns\n",
    "from sklearn.model_selection import train_test_split\n",
    "from sklearn.linear_model import LinearRegression, Ridge # Ridge L2 Coefficient (Square), LASSO L1 Coefficient (Absolute)\n",
    "from sklearn.metrics import mean_squared_error\n",
    "from sklearn.preprocessing import StandardScaler"
   ]
  },
  {
   "cell_type": "code",
   "execution_count": 2,
   "id": "f729aee3",
   "metadata": {},
   "outputs": [],
   "source": [
    "# Loading Dataset\n",
    "miles_per_gallon = sns.load_dataset(name=\"mpg\")\n",
    "\n",
    "miles_per_gallon.head()"
   ]
  },
  {
   "cell_type": "code",
   "execution_count": null,
   "id": "08b054ab",
   "metadata": {},
   "outputs": [],
   "source": [
    "# Removing columns\n",
    "miles_per_gallon = miles_per_gallon.drop(['origin', 'name'], axis=1)\n",
    "\n",
    "miles_per_gallon.head()"
   ]
  },
  {
   "cell_type": "code",
   "execution_count": null,
   "id": "b0fa226d",
   "metadata": {},
   "outputs": [],
   "source": [
    "# Removing NA and dataframe shape\n",
    "miles_per_gallon = miles_per_gallon.dropna()\n",
    "\n",
    "miles_per_gallon.shape"
   ]
  },
  {
   "cell_type": "code",
   "execution_count": null,
   "id": "f028afd2",
   "metadata": {},
   "outputs": [],
   "source": [
    "# Information on the dataframe\n",
    "miles_per_gallon.info()"
   ]
  },
  {
   "cell_type": "code",
   "execution_count": null,
   "id": "7461f1b7",
   "metadata": {},
   "outputs": [],
   "source": [
    "# Separating feature (X) and Target (y) variables\n",
    "X = miles_per_gallon.drop(['mpg'], axis=1)\n",
    "\n",
    "y = miles_per_gallon['mpg']"
   ]
  },
  {
   "cell_type": "code",
   "execution_count": null,
   "id": "ad9a6d40",
   "metadata": {},
   "outputs": [],
   "source": [
    "X.shape"
   ]
  },
  {
   "cell_type": "code",
   "execution_count": null,
   "id": "a2177bee",
   "metadata": {},
   "outputs": [],
   "source": [
    "# Separating train and test dataframes\n",
    "X_train, X_test, y_train, y_test = train_test_split(X, y, test_size=0.3, random_state=42)"
   ]
  },
  {
   "cell_type": "code",
   "execution_count": null,
   "id": "163b89ee",
   "metadata": {},
   "outputs": [],
   "source": [
    "X_train.shape"
   ]
  },
  {
   "cell_type": "code",
   "execution_count": null,
   "id": "a5caf5ef",
   "metadata": {},
   "outputs": [],
   "source": [
    "# Normalizing the data\n",
    "scaler = StandardScaler()\n",
    "X_train = scaler.fit_transform(X_train)\n",
    "X_test = scaler.transform(X_test)"
   ]
  },
  {
   "cell_type": "code",
   "execution_count": null,
   "id": "c8ae216a",
   "metadata": {},
   "outputs": [],
   "source": [
    "X_train"
   ]
  },
  {
   "cell_type": "code",
   "execution_count": null,
   "id": "4830c2a9",
   "metadata": {},
   "outputs": [],
   "source": [
    "# Linear Regression\n",
    "linear_model = LinearRegression()\n",
    "\n",
    "# Training the model without penalties\n",
    "linear_model.fit(X_train, y_train)\n",
    "\n",
    "# Predictions (THIS IS ONLY AN EXAMPLE TO UNDERSTAND RIDGE REGRESSION. THIS IS NOT THE PROPER WAY FOR A REAL PROJECT).\n",
    "y_pred_linear = linear_model.predict(X_test)\n",
    "\n",
    "# Prediction error (MSE)\n",
    "mse_linear = mean_squared_error(y_test, y_pred_linear)\n",
    "\n",
    "print(f'Mean Squared Error (Linear Regression): {mse_linear}')"
   ]
  },
  {
   "cell_type": "code",
   "execution_count": null,
   "id": "3af26936",
   "metadata": {},
   "outputs": [],
   "source": [
    "# Ridge Regression - alpha is the regularization coefficient\n",
    "ridge_model = Ridge(alpha=0.1, random_state=42)\n",
    "\n",
    "# Training the model\n",
    "ridge_model.fit(X_train, y_train)\n",
    "\n",
    "# Predictions (THIS IS ONLY AN EXAMPLE TO UNDERSTAND RIDGE REGRESSION. THIS IS NOT THE PROPER WAY FOR A REAL PROJECT).\n",
    "y_pred_ridge = ridge_model.predict(X_test)\n",
    "\n",
    "# Prediction error (MSE)\n",
    "mse_ridge = mean_squared_error(y_test, y_pred_ridge)\n",
    "\n",
    "print(f'Mean Squared Error (Ridge Regression): {mse_ridge}')"
   ]
  },
  {
   "cell_type": "code",
   "execution_count": null,
   "id": "7422bcac",
   "metadata": {},
   "outputs": [],
   "source": [
    "# Ridge Regression Heavy Penalty\n",
    "ridge_model_heavy = Ridge(alpha=1, random_state=42)\n",
    "\n",
    "# Training the model\n",
    "ridge_model_heavy.fit(X_train, y_train)\n",
    "\n",
    "# Predictions (THIS IS ONLY AN EXAMPLE TO UNDERSTAND RIDGE REGRESSION. THIS IS NOT THE PROPER WAY FOR A REAL PROJECT).\n",
    "y_pred_ridge_heavy = ridge_model_heavy.predict(X_test)\n",
    "\n",
    "# Prediction error (MSE)\n",
    "mse_ridge_heavy = mean_squared_error(y_test, y_pred_ridge_heavy)\n",
    "print(f'Mean Squared Error (Ridge Regression Heavy Penalty): {mse_ridge_heavy}')"
   ]
  },
  {
   "cell_type": "code",
   "execution_count": null,
   "id": "596df51f",
   "metadata": {},
   "outputs": [],
   "source": [
    "# Comparing coefficients\n",
    "coef_linear = pd.DataFrame(data=linear_model.coef_, index=X.columns, columns=['Linear Regression Coefficient'])\n",
    "\n",
    "coef_ridge = pd.DataFrame(data=ridge_model.coef_, index=X.columns, columns=['Ridge Regression Coefficient'])\n",
    "\n",
    "coef_ridge_heavy = pd.DataFrame(data=ridge_model_heavy.coef_, index=X.columns, columns=['Ridge Regression Heavy Penalty Coefficient'])\n",
    "\n",
    "coef_comparison = pd.concat([coef_linear, coef_ridge, coef_ridge_heavy], axis=1)\n",
    "\n",
    "coef_comparison"
   ]
  },
  {
   "cell_type": "code",
   "execution_count": null,
   "id": "f83af991",
   "metadata": {},
   "outputs": [],
   "source": []
  }
 ],
 "metadata": {
  "kernelspec": {
   "display_name": "Python 3 (ipykernel)",
   "language": "python",
   "name": "python3"
  },
  "language_info": {
   "codemirror_mode": {
    "name": "ipython",
    "version": 3
   },
   "file_extension": ".py",
   "mimetype": "text/x-python",
   "name": "python",
   "nbconvert_exporter": "python",
   "pygments_lexer": "ipython3",
   "version": "3.11.7"
  }
 },
 "nbformat": 4,
 "nbformat_minor": 5
}
