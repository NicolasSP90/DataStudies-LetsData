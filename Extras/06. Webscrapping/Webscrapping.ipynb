{
 "cells": [
  {
   "cell_type": "markdown",
   "metadata": {},
   "source": [
    "<h1 style=\"color:cornflowerblue\">Webscraping for Data Science</h1>"
   ]
  },
  {
   "cell_type": "code",
   "execution_count": null,
   "metadata": {},
   "outputs": [],
   "source": [
    "# Importing Libraries\n",
    "\n",
    "# Scrappng\n",
    "from bs4 import BeautifulSoup\n",
    "\n",
    "# Data Manipulation\n",
    "import pandas as pd\n",
    "\n",
    "# Other Libraies\n",
    "import re\n",
    "import requests"
   ]
  },
  {
   "cell_type": "code",
   "execution_count": null,
   "metadata": {},
   "outputs": [],
   "source": [
    "# Target URL\n",
    "url = \"https://www.glassdoor.com/Salaries/data-scientist-salary-SRCH_KO0,14.htm\""
   ]
  },
  {
   "cell_type": "code",
   "execution_count": null,
   "metadata": {},
   "outputs": [],
   "source": [
    "# Requisition\n",
    "req = requests.get(url , headers={\"User-Agent\": \"Opera\"})\n",
    "req"
   ]
  },
  {
   "cell_type": "code",
   "execution_count": null,
   "metadata": {},
   "outputs": [],
   "source": [
    "page = req.text\n",
    "page"
   ]
  },
  {
   "cell_type": "code",
   "execution_count": null,
   "metadata": {},
   "outputs": [],
   "source": [
    "soup = BeautifulSoup(page, 'html.parser')\n",
    "soup"
   ]
  },
  {
   "cell_type": "markdown",
   "metadata": {},
   "source": [
    "<h1 style=\"color:cornflowerblue\">Extracting </h1>\n",
    "<p>HTML for company name and salary:\n",
    "    <ul type=\"disc\">\n",
    "    <li>Company:\n",
    "        <ul type=\"circle\">\n",
    "        <li>h3 class=\"m-0 css-16zrpia el6ke054\" data-test=\"salaries-list-item-0-employer-name\"\n",
    "        <li>a href=\"LINK REMOVED\" class=\"css-pmokl e1aj7ssy3\"\n",
    "        </ul>\n",
    "    <li>Salary:\n",
    "        <ul type=\"circle\">\n",
    "        <li>div class=\"d-flex align-items-baseline\" data-test=\"salaries-list-item-0-salary-info\"\n",
    "        <li>h3 class=\"m-0 css-16zrpia el6ke054\"\n",
    "        </ul>\n",
    "    </ul></p>\n",
    "<p>For both, the element \"item-0\" can be replaced with a different number for other companies."
   ]
  },
  {
   "cell_type": "code",
   "execution_count": null,
   "metadata": {},
   "outputs": [],
   "source": [
    "# Extracting Companies Names\n",
    "tags_h3 = soup.find_all(\"p\", {\"class\": re.compile(r\"p-margin\")})\n",
    "tags_h3"
   ]
  },
  {
   "cell_type": "code",
   "execution_count": null,
   "metadata": {},
   "outputs": [],
   "source": [
    "tags_h3[0]"
   ]
  },
  {
   "cell_type": "code",
   "execution_count": null,
   "metadata": {},
   "outputs": [],
   "source": [
    "len(tags_h3)"
   ]
  },
  {
   "cell_type": "code",
   "execution_count": null,
   "metadata": {},
   "outputs": [],
   "source": [
    "# Extracting Companies Names\n",
    "tags_div = soup.find_all(\"div\", {\"data-test\": re.compile(r\"salaries-list-item-.*-salary-info\")})\n",
    "tags_div"
   ]
  },
  {
   "cell_type": "code",
   "execution_count": null,
   "metadata": {},
   "outputs": [],
   "source": [
    "tags_div[0]"
   ]
  },
  {
   "cell_type": "code",
   "execution_count": null,
   "metadata": {},
   "outputs": [],
   "source": [
    "len(tags_div)"
   ]
  },
  {
   "cell_type": "code",
   "execution_count": null,
   "metadata": {},
   "outputs": [],
   "source": [
    "# Names and Salary\n",
    "comp_salary = []\n",
    "\n",
    "for company, salary in zip(tags_h3, tags_div):\n",
    "    company = company.find(\"a\").text\n",
    "    salary = salary.contents[0].text.replace(\"R$\\xa0\", \"\").replace(\".\", \"\")\n",
    "    comp_salary.append((company, salary))\n",
    "\n",
    "print(comp_salary)"
   ]
  },
  {
   "cell_type": "code",
   "execution_count": null,
   "metadata": {},
   "outputs": [],
   "source": [
    "salary_df = pd.DataFrame(comp_salary, columns=[\"Company\", \"Salary\"])\n",
    "salary_df.head()"
   ]
  },
  {
   "cell_type": "code",
   "execution_count": null,
   "metadata": {},
   "outputs": [],
   "source": [
    "salary_df.dtypes"
   ]
  },
  {
   "cell_type": "code",
   "execution_count": null,
   "metadata": {},
   "outputs": [],
   "source": [
    "salary_df[\"Salary\"] = salary_df[\"Salary\"].astype(float)\n",
    "salary_df"
   ]
  },
  {
   "cell_type": "code",
   "execution_count": null,
   "metadata": {},
   "outputs": [],
   "source": [
    "salary_df.describe()"
   ]
  },
  {
   "cell_type": "code",
   "execution_count": null,
   "metadata": {},
   "outputs": [],
   "source": [
    "def search_salary_glassdoor(page_url):\n",
    "    url = page_url\n",
    "    req = requests.get(url, headres={\"User-Agent\": \"Mozilla/5.0\"})\n",
    "\n",
    "    page = req.text\n",
    "\n",
    "    soup = BeautifulSoup(page, \"html.parser\")\n",
    "\n",
    "    tags_h3 = soup.find_all(\"h3\", {\"data-test\": re.compile(r\"salaries-list-item.*employer-name\")})\n",
    "    tags_div = soup.find_all(\"div\", {\"data-test\": re.compile(r\"salaries-list-item-.*-salary-info\")})\n",
    "\n",
    "    comp_salary = []\n",
    "\n",
    "    for company, salary in zip(tags_h3, tags_div):\n",
    "        company = company.find(\"a\").text\n",
    "        salary = salary.contents[0].text.replace(\"R$\\xa0\", \"\").replace(\".\", \"\")\n",
    "        comp_salary.append((company, salary))\n",
    "\n",
    "    salary_df = pd.DataFrame(comp_salary, columns=[\"Company\", \"Salary\"])\n",
    "    salary_df[\"Salary\"] = salary_df[\"Salary\"].astype(float)\n",
    "\n",
    "    return salary_df\n"
   ]
  }
 ],
 "metadata": {
  "kernelspec": {
   "display_name": "Python 3",
   "language": "python",
   "name": "python3"
  },
  "language_info": {
   "codemirror_mode": {
    "name": "ipython",
    "version": 3
   },
   "file_extension": ".py",
   "mimetype": "text/x-python",
   "name": "python",
   "nbconvert_exporter": "python",
   "pygments_lexer": "ipython3",
   "version": "3.12.1"
  }
 },
 "nbformat": 4,
 "nbformat_minor": 2
}
