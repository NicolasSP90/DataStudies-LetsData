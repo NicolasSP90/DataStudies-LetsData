{
 "cells": [
  {
   "cell_type": "markdown",
   "metadata": {},
   "source": [
    "<h1 style= 'color: cornflowerblue'>SQL Exercises</h1>\n",
    "\n",
    "<p>For the exercises below, access the SQL training environment from W3Schools: W3Schools SQL Training</p>\n",
    "<a href = \"https://www.w3schools.com/sql/trysql.asp?filename=trysql_select_distinct2\">SQL-Try</a>"
   ]
  },
  {
   "cell_type": "markdown",
   "metadata": {},
   "source": [
    "<h2 style= 'color: cornflowerblue'>01</h2>\n",
    "<p>Retrieve all customers with all columns (Customers table).</p>"
   ]
  },
  {
   "cell_type": "code",
   "execution_count": null,
   "metadata": {},
   "outputs": [],
   "source": [
    "\"\"\"\n",
    "SELECT * \n",
    "FROM Customers;\n",
    "\"\"\""
   ]
  },
  {
   "cell_type": "markdown",
   "metadata": {},
   "source": [
    "<h2 style= 'color: cornflowerblue'>02</h2>\n",
    "<p>Retrieve all products with all columns (Products table).</p>"
   ]
  },
  {
   "cell_type": "code",
   "execution_count": null,
   "metadata": {},
   "outputs": [],
   "source": [
    "\"\"\"\n",
    "SELECT *\n",
    "FROM Products;\n",
    "\"\"\""
   ]
  },
  {
   "cell_type": "markdown",
   "metadata": {},
   "source": [
    "<h2 style= 'color: cornflowerblue'>03</h2>\n",
    "<p>Retrieve all customers with CustomerID, CustomerName, and Country (Customers table).</p>\n",
    "<p></p>"
   ]
  },
  {
   "cell_type": "code",
   "execution_count": null,
   "metadata": {},
   "outputs": [],
   "source": [
    "\"\"\"\n",
    "SELECT CustomerID, CustomerName, Country\n",
    "FROM Customers;\n",
    "\"\"\""
   ]
  },
  {
   "cell_type": "markdown",
   "metadata": {},
   "source": [
    "<h2 style= 'color: cornflowerblue'>04</h2>\n",
    "<p>Retrieve all customers from the city of São Paulo with all columns (Customers table).</p>"
   ]
  },
  {
   "cell_type": "code",
   "execution_count": null,
   "metadata": {},
   "outputs": [],
   "source": [
    "\"\"\"\n",
    "SELECT *\n",
    "FROM Customers\n",
    "WHERE City = 'São Paulo;'\n",
    "\"\"\""
   ]
  },
  {
   "cell_type": "markdown",
   "metadata": {},
   "source": [
    "<h2 style= 'color: cornflowerblue'>05</h2>\n",
    "<p>Retrieve products that have \"Guaraná\" in the description with all columns (Products table).</p>"
   ]
  },
  {
   "cell_type": "code",
   "execution_count": null,
   "metadata": {},
   "outputs": [],
   "source": [
    "\"\"\"\n",
    "SELECT * \n",
    "FROM Products\n",
    "WHERE ProductName LIKE \"%Guaraná%\";\n",
    "\"\"\""
   ]
  },
  {
   "cell_type": "markdown",
   "metadata": {},
   "source": [
    "<h2 style= 'color: cornflowerblue'>06</h2>\n",
    "<p>Retrieve all customers from the city of São Paulo who have contact with a name 'Pedro' (Customers table).</p>"
   ]
  },
  {
   "cell_type": "code",
   "execution_count": null,
   "metadata": {},
   "outputs": [],
   "source": [
    "\"\"\"\n",
    "SELECT *\n",
    "FROM Customers\n",
    "WHERE City = \"São Paulo\" AND ContactName LIKE \"%Pedro%\";\n",
    "\"\"\""
   ]
  },
  {
   "cell_type": "markdown",
   "metadata": {},
   "source": [
    "<h2 style= 'color: cornflowerblue'>07</h2>\n",
    "<p>Retrieve all customers with CustomerID, CustomerName, and Country, ordering ascending by country.</p>"
   ]
  },
  {
   "cell_type": "code",
   "execution_count": null,
   "metadata": {},
   "outputs": [],
   "source": [
    "\"\"\"\n",
    "SELECT CustomerID, CustomerName, Country\n",
    "FROM Customers\n",
    "ORDER BY Country;\n",
    "\"\"\""
   ]
  },
  {
   "cell_type": "markdown",
   "metadata": {},
   "source": [
    "<h2 style= 'color: cornflowerblue'>08</h2>\n",
    "<p>Retrieve all customers with CustomerID, CustomerName, and Country, ordering descending by country.</p>"
   ]
  },
  {
   "cell_type": "code",
   "execution_count": null,
   "metadata": {},
   "outputs": [],
   "source": [
    "\"\"\"\n",
    "SELECT CustomerID, CustomerName, Country\n",
    "FROM Customers\n",
    "ORDER BY Country DESC;\n",
    "\"\"\""
   ]
  },
  {
   "cell_type": "markdown",
   "metadata": {},
   "source": [
    "<h2 style= 'color: cornflowerblue'>09</h2>\n",
    "<p>Retrieve the number of customers from each country. The result should have the country name and the quantity of customers (Customers table).</p>"
   ]
  },
  {
   "cell_type": "code",
   "execution_count": null,
   "metadata": {},
   "outputs": [],
   "source": [
    "\"\"\"\n",
    "SELECT Country, COUNT(*) as CountryCount\n",
    "FROM Customers\n",
    "GROUP BY Country;\n",
    "\"\"\""
   ]
  },
  {
   "cell_type": "markdown",
   "metadata": {},
   "source": [
    "<h2 style= 'color: cornflowerblue'>10</h2>\n",
    "<p>Retrieve the number of customers from each country. The result should have the country name and the quantity of customers in descending order of the number of customers (Customers table).</p>"
   ]
  },
  {
   "cell_type": "code",
   "execution_count": null,
   "metadata": {},
   "outputs": [],
   "source": [
    "\"\"\"\n",
    "SELECT Country, COUNT(*) as CountryCount\n",
    "FROM Customers\n",
    "GROUP BY Country\n",
    "ORDER BY COUNT(*) DESC;\n",
    "\"\"\""
   ]
  },
  {
   "cell_type": "markdown",
   "metadata": {},
   "source": [
    "<h2 style= 'color: cornflowerblue'>11</h2>\n",
    "<p>Retrieve the number of customers from each country for countries with at least 4 customers. The result should have the country name and the quantity of customers in descending order of the number of customers (Customers table).</p>"
   ]
  },
  {
   "cell_type": "code",
   "execution_count": null,
   "metadata": {},
   "outputs": [],
   "source": [
    "\"\"\"\n",
    "SELECT Country, COUNT(*) as CountryCount\n",
    "FROM Customers\n",
    "GROUP BY Country\n",
    "HAVING COUNT(*) >= 4\n",
    "ORDER BY COUNT(*) DESC;\n",
    "\"\"\""
   ]
  },
  {
   "cell_type": "markdown",
   "metadata": {},
   "source": [
    "<h2 style= 'color: cornflowerblue'>12</h2>\n",
    "<p>Retrieve customers whose countries start with the letter A (Customers table).</p>"
   ]
  },
  {
   "cell_type": "code",
   "execution_count": null,
   "metadata": {},
   "outputs": [],
   "source": [
    "\"\"\"\n",
    "SELECT CustomerName, Country\n",
    "FROM Customers\n",
    "WHERE Country LIKE \"A%\";\n",
    "\"\"\""
   ]
  },
  {
   "cell_type": "markdown",
   "metadata": {},
   "source": [
    "<h2 style= 'color: cornflowerblue'>13</h2>\n",
    "<p>Retrieve customers whose countries have the second letter A (Customers table).</p>"
   ]
  },
  {
   "cell_type": "code",
   "execution_count": null,
   "metadata": {},
   "outputs": [],
   "source": [
    "\"\"\"\n",
    "SELECT CustomerName, Country\n",
    "FROM Customers\n",
    "WHERE Country LIKE \"_A%\";\n",
    "\"\"\""
   ]
  },
  {
   "cell_type": "markdown",
   "metadata": {},
   "source": [
    "<h2 style= 'color: cornflowerblue'>14</h2>\n",
    "<p>Retrieve customers whose countries start with the letter A, B, or C (Customers table).</p>"
   ]
  },
  {
   "cell_type": "code",
   "execution_count": null,
   "metadata": {},
   "outputs": [],
   "source": [
    "\"\"\"\n",
    "SELECT * \n",
    "FROM Customers\n",
    "WHERE Country LIKE \"[ABC]%\";\n",
    "\"\"\""
   ]
  },
  {
   "cell_type": "markdown",
   "metadata": {},
   "source": [
    "<h2 style= 'color: cornflowerblue'>15</h2>\n",
    "<p>Retrieve order numbers, first and last names of employees who made each order (Employees and Orders tables).</p>"
   ]
  },
  {
   "cell_type": "code",
   "execution_count": null,
   "metadata": {},
   "outputs": [],
   "source": [
    "\"\"\"\n",
    "SELECT OrderId, FirstName, LastName\n",
    "FROM Orders LEFT JOIN Employees ON \n",
    "    Orders.EmployeeID = Employees.EmployeeID\n",
    "ORDER BY FirstName;\n",
    "\"\"\""
   ]
  },
  {
   "cell_type": "markdown",
   "metadata": {},
   "source": [
    "<h2 style= 'color: cornflowerblue'>16</h2>\n",
    "<p>Retrieve names of all products and their respective categories (Products and Categories tables).</p>"
   ]
  },
  {
   "cell_type": "code",
   "execution_count": null,
   "metadata": {},
   "outputs": [],
   "source": [
    "\"\"\"\n",
    "SELECT ProductName, CategoryName\n",
    "FROM Products LEFT JOIN Categories ON\n",
    "\tProducts.CategoryID = Categories.CategoryID;\n",
    "\"\"\""
   ]
  },
  {
   "cell_type": "markdown",
   "metadata": {},
   "source": [
    "<h2 style= 'color: cornflowerblue'>17</h2>\n",
    "<p>Retrieve order IDs with the names and phones of shippers (Orders and Shippers tables).</p>"
   ]
  },
  {
   "cell_type": "code",
   "execution_count": null,
   "metadata": {},
   "outputs": [],
   "source": [
    "\"\"\"\n",
    "SELECT OrderID, ShipperName, Phone\n",
    "FROM Orders LEFT JOIN Shippers ON\n",
    "\tOrders.ShipperID = Shippers.ShipperID;\n",
    "\"\"\""
   ]
  },
  {
   "cell_type": "markdown",
   "metadata": {},
   "source": [
    "<h2 style= 'color: cornflowerblue'>18</h2>\n",
    "<p>Retrieve the quantity of orders for each of the employees. The result should have the employee's name and the quantity of orders. Even employees with no orders should be in the result (Orders and Employees tables).</p>"
   ]
  },
  {
   "cell_type": "code",
   "execution_count": null,
   "metadata": {},
   "outputs": [],
   "source": [
    "\"\"\"\n",
    "SELECT FirstName, COUNT(Orders.EmployeeID) as OrderCount\n",
    "FROM Employees LEFT JOIN Orders ON\n",
    "\tEmployees.EmployeeID = Orders.EmployeeID\n",
    "GROUP BY FirstName;\n",
    "\"\"\""
   ]
  },
  {
   "cell_type": "markdown",
   "metadata": {},
   "source": [
    "<h2 style= 'color: cornflowerblue'>19</h2>\n",
    "<p>Retrieve names of products that never had any orders (Products and OrderDetails tables).</p>"
   ]
  },
  {
   "cell_type": "code",
   "execution_count": null,
   "metadata": {},
   "outputs": [],
   "source": [
    "\"\"\"\n",
    "SELECT ProductName, COUNT(OrderDetails.ProductID) as OrderCount\n",
    "FROM Products LEFT JOIN OrderDetails ON\n",
    "\tProducts.ProductID = OrderDetails.ProductID\n",
    "GROUP BY ProductName\n",
    "HAVING COUNT(OrderDetails.ProductID) = 0;\n",
    "\"\"\""
   ]
  },
  {
   "cell_type": "markdown",
   "metadata": {},
   "source": [
    "<h2 style= 'color: cornflowerblue'>20</h2>\n",
    "<p>Retrieve the quantity of customers in the customers table (Customers table).</p>"
   ]
  },
  {
   "cell_type": "code",
   "execution_count": null,
   "metadata": {},
   "outputs": [],
   "source": [
    "\"\"\"\n",
    "SELECT COUNT(*) as CustomerCount\n",
    "FROM Customers;\n",
    "\"\"\""
   ]
  },
  {
   "cell_type": "markdown",
   "metadata": {},
   "source": [
    "<h2 style= 'color: cornflowerblue'>21</h2>\n",
    "<p>Retrieve the quantity of countries in the customers table (Customers table).</p>"
   ]
  },
  {
   "cell_type": "code",
   "execution_count": null,
   "metadata": {},
   "outputs": [],
   "source": [
    "\"\"\"\n",
    "SELECT COUNT(Country) as CountryCount\n",
    "FROM (\n",
    "    SELECT DISTINCT (Country) \n",
    "    FROM Customers\n",
    "    );\n",
    "\"\"\""
   ]
  },
  {
   "cell_type": "markdown",
   "metadata": {},
   "source": [
    "<h2 style= 'color: cornflowerblue'>22</h2>\n",
    "<p>Calculate the average of product prices (Products table).</p>"
   ]
  },
  {
   "cell_type": "code",
   "execution_count": null,
   "metadata": {},
   "outputs": [],
   "source": [
    "\"\"\"\n",
    "SELECT AVG(Price) as AveragePrice\n",
    "FROM Products;\n",
    "\"\"\""
   ]
  },
  {
   "cell_type": "markdown",
   "metadata": {},
   "source": [
    "<h2 style= 'color: cornflowerblue'>23</h2>\n",
    "<p>Retrieve the highest and lowest product prices.</p>"
   ]
  },
  {
   "cell_type": "code",
   "execution_count": null,
   "metadata": {},
   "outputs": [],
   "source": [
    "\"\"\"\n",
    "SELECT MAX(Price) as MaxPrice, MIN(Price) as MinPrice\n",
    "FROM Products;\n",
    "\"\"\""
   ]
  },
  {
   "cell_type": "markdown",
   "metadata": {},
   "source": [
    "<h2 style= 'color: cornflowerblue'>24</h2>\n",
    "<p>Retrieve the number of customers from each country. The result should have the country name and the quantity of customers in descending order of the number of customers (Customers table).</p>"
   ]
  },
  {
   "cell_type": "code",
   "execution_count": null,
   "metadata": {},
   "outputs": [],
   "source": [
    "\"\"\"\n",
    "SELECT Country, COUNT(*) as NumberCustomers\n",
    "FROM Customers\n",
    "GROUP BY Country\n",
    "ORDER BY COUNT(*) DESC;\n",
    "\"\"\""
   ]
  },
  {
   "cell_type": "markdown",
   "metadata": {},
   "source": [
    "<h2 style= 'color: cornflowerblue'>25</h2>\n",
    "<p>Retrieve the number of customers from each country for countries with at least 4 customers. The result should have the country name and the quantity of customers in descending order of the number of customers (Customers table).</p>"
   ]
  },
  {
   "cell_type": "code",
   "execution_count": null,
   "metadata": {},
   "outputs": [],
   "source": [
    "\"\"\"\n",
    "SELECT Country, COUNT(*) as NumberCustomers\n",
    "FROM Customers\n",
    "GROUP BY Country\n",
    "HAVING COUNT(*) >= 4\n",
    "ORDER BY COUNT(*) DESC;\n",
    "\"\"\""
   ]
  },
  {
   "cell_type": "markdown",
   "metadata": {},
   "source": [
    "<h2 style= 'color: cornflowerblue'>26</h2>\n",
    "<p>Retrieve order numbers, first and last names of employees who made each order (Employees and Orders tables).</p>"
   ]
  },
  {
   "cell_type": "code",
   "execution_count": null,
   "metadata": {},
   "outputs": [],
   "source": [
    "\"\"\"\n",
    "SELECT OrderID, FirstName, LastName\n",
    "FROM Orders LEFT JOIN Employees ON\n",
    "\tOrders.EmployeeID = Employees.EmployeeID;\n",
    "\"\"\""
   ]
  },
  {
   "cell_type": "markdown",
   "metadata": {},
   "source": [
    "<h2 style= 'color: cornflowerblue'>27</h2>\n",
    "<p>Retrieve names of all products and their respective categories (Products and Categories tables).</p>"
   ]
  },
  {
   "cell_type": "code",
   "execution_count": null,
   "metadata": {},
   "outputs": [],
   "source": [
    "\"\"\"\n",
    "SELECT ProductName, CategoryName\n",
    "FROM Products INNER JOIN Categories ON\n",
    "\tProducts.CategoryID = Categories.CategoryID;\n",
    "\"\"\""
   ]
  },
  {
   "cell_type": "markdown",
   "metadata": {},
   "source": [
    "<h2 style= 'color: cornflowerblue'>28</h2>\n",
    "<p>Retrieve order IDs with the names and phones of shippers (Orders and Shippers tables).</p>"
   ]
  },
  {
   "cell_type": "code",
   "execution_count": null,
   "metadata": {},
   "outputs": [],
   "source": [
    "\"\"\"\n",
    "SELECT OrderID, ShipperName, Phone\n",
    "FROM Orders INNER JOIN Shippers ON\n",
    "\tOrders.ShipperID = Shippers.ShipperID;\n",
    "\"\"\""
   ]
  },
  {
   "cell_type": "markdown",
   "metadata": {},
   "source": [
    "<h2 style= 'color: cornflowerblue'>29</h2>\n",
    "<p>Retrieve the quantity of orders for each of the employees. The result should have the employee's name and the quantity of orders. Even employees with no orders should be in the result (Orders and Employees tables).</p>"
   ]
  },
  {
   "cell_type": "code",
   "execution_count": null,
   "metadata": {},
   "outputs": [],
   "source": [
    "\"\"\"\n",
    "SELECT FirstName, COUNT(OrderID) as OrderCount\n",
    "FROM Employees LEFT JOIN Orders ON\n",
    "\tEmployees.EmployeeID = Orders.EmployeeID\n",
    "GROUP BY FirstName;\n",
    "\"\"\""
   ]
  },
  {
   "cell_type": "markdown",
   "metadata": {},
   "source": [
    "<h2 style= 'color: cornflowerblue'>30</h2>\n",
    "<p>Retrieve order numbers, first and last names of employees whose names start with 'A'. Use a subquery as the employees table with the letter A (Employees and Orders tables).</p>"
   ]
  },
  {
   "cell_type": "code",
   "execution_count": null,
   "metadata": {},
   "outputs": [],
   "source": [
    "\"\"\"\n",
    "SELECT OrderID, Firstname, LastName\n",
    "FROM\t(\n",
    "\t\tSELECT * \n",
    "\t\tFROM Employees \n",
    "        WHERE FirstName LIKE \"A%\"\n",
    "        )\n",
    "        Employees LEFT JOIN Orders ON \n",
    "        \tEmployees.EmployeeID = Orders.EmployeeID;\n",
    "\"\"\""
   ]
  },
  {
   "cell_type": "markdown",
   "metadata": {},
   "source": [
    "<h2 style= 'color: cornflowerblue'>31</h2>\n",
    "<p>Retrieve order numbers, first and last names of employees whose names start with 'A'. Use the WITH command as a temporary table of employees with the letter A (Employees and Orders tables).</p>"
   ]
  },
  {
   "cell_type": "code",
   "execution_count": null,
   "metadata": {},
   "outputs": [],
   "source": [
    "\"\"\"\n",
    "WITH EmployeesA AS (SELECT * FROM Employees WHERE FirstName LIKE \"A%\")\n",
    "\n",
    "SELECT OrderID, FirstName, LastName\n",
    "FROM EmployeesA LEFT JOIN Orders ON\n",
    "\tEmployeesA.EmployeeID = Orders.EmployeeID;\n",
    "\"\"\""
   ]
  }
 ],
 "metadata": {
  "kernelspec": {
   "display_name": "Python 3",
   "language": "python",
   "name": "python3"
  },
  "language_info": {
   "codemirror_mode": {
    "name": "ipython",
    "version": 3
   },
   "file_extension": ".py",
   "mimetype": "text/x-python",
   "name": "python",
   "nbconvert_exporter": "python",
   "pygments_lexer": "ipython3",
   "version": "3.11.6"
  }
 },
 "nbformat": 4,
 "nbformat_minor": 2
}
