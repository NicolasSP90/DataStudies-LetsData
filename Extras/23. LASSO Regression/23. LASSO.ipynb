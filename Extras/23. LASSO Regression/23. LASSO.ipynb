{
 "cells": [
  {
   "cell_type": "code",
   "execution_count": 1,
   "id": "3d5be21d",
   "metadata": {},
   "outputs": [],
   "source": [
    "# Importing libraries\n",
    "import pandas as pd\n",
    "from sklearn.datasets import load_diabetes\n",
    "from sklearn.model_selection import train_test_split\n",
    "from sklearn.linear_model import LinearRegression, Lasso\n",
    "from sklearn.metrics import mean_squared_error\n",
    "from sklearn.preprocessing import StandardScaler"
   ]
  },
  {
   "cell_type": "code",
   "execution_count": 2,
   "id": "7461f1b7",
   "metadata": {},
   "outputs": [],
   "source": [
    "# Loading dataset\n",
    "diabetes = load_diabetes()\n",
    "\n",
    "X = diabetes.data\n",
    "y = diabetes.target"
   ]
  },
  {
   "cell_type": "code",
   "execution_count": 3,
   "id": "d15d8289",
   "metadata": {},
   "outputs": [
    {
     "data": {
      "text/plain": [
       "array([[ 0.03807591,  0.05068012,  0.06169621, ..., -0.00259226,\n",
       "         0.01990749, -0.01764613],\n",
       "       [-0.00188202, -0.04464164, -0.05147406, ..., -0.03949338,\n",
       "        -0.06833155, -0.09220405],\n",
       "       [ 0.08529891,  0.05068012,  0.04445121, ..., -0.00259226,\n",
       "         0.00286131, -0.02593034],\n",
       "       ...,\n",
       "       [ 0.04170844,  0.05068012, -0.01590626, ..., -0.01107952,\n",
       "        -0.04688253,  0.01549073],\n",
       "       [-0.04547248, -0.04464164,  0.03906215, ...,  0.02655962,\n",
       "         0.04452873, -0.02593034],\n",
       "       [-0.04547248, -0.04464164, -0.0730303 , ..., -0.03949338,\n",
       "        -0.00422151,  0.00306441]])"
      ]
     },
     "execution_count": 3,
     "metadata": {},
     "output_type": "execute_result"
    }
   ],
   "source": [
    "diabetes.data"
   ]
  },
  {
   "cell_type": "code",
   "execution_count": 4,
   "id": "ad9a6d40",
   "metadata": {},
   "outputs": [
    {
     "data": {
      "text/plain": [
       "(442, 10)"
      ]
     },
     "execution_count": 4,
     "metadata": {},
     "output_type": "execute_result"
    }
   ],
   "source": [
    "# Dataset shape\n",
    "X.shape"
   ]
  },
  {
   "cell_type": "code",
   "execution_count": 5,
   "id": "a2177bee",
   "metadata": {},
   "outputs": [],
   "source": [
    "# Splitting the dataset in train and test\n",
    "X_train, X_test, y_train, y_test = train_test_split(X, y, test_size=0.3, random_state=42)"
   ]
  },
  {
   "cell_type": "code",
   "execution_count": 6,
   "id": "163b89ee",
   "metadata": {},
   "outputs": [
    {
     "data": {
      "text/plain": [
       "(309, 10)"
      ]
     },
     "execution_count": 6,
     "metadata": {},
     "output_type": "execute_result"
    }
   ],
   "source": [
    "X_train.shape"
   ]
  },
  {
   "cell_type": "code",
   "execution_count": 7,
   "id": "a5caf5ef",
   "metadata": {},
   "outputs": [],
   "source": [
    "# Normalizing the data\n",
    "scaler = StandardScaler()\n",
    "\n",
    "X_train = scaler.fit_transform(X_train)\n",
    "X_test = scaler.transform(X_test)"
   ]
  },
  {
   "cell_type": "code",
   "execution_count": 8,
   "id": "4830c2a9",
   "metadata": {},
   "outputs": [
    {
     "name": "stdout",
     "output_type": "stream",
     "text": [
      "Mean Squared Error (Linear Regression): 2821.7509810013107\n"
     ]
    }
   ],
   "source": [
    "# Regular linear regression\n",
    "linear_model = LinearRegression()\n",
    "\n",
    "\n",
    "# Training the model without penalties\n",
    "linear_model.fit(X_train, y_train)\n",
    "\n",
    "\n",
    "# Predictions (THIS IS ONLY AN EXAMPLE TO UNDERSTAND LASSO REGRESSION. THIS IS NOT THE PROPER WAY FOR A REAL PROJECT).\n",
    "y_pred_linear = linear_model.predict(X_test)\n",
    "\n",
    "\n",
    "# Calculating the error (MSE) on the predictions\n",
    "mse_linear = mean_squared_error(y_test, y_pred_linear)\n",
    "\n",
    "print(f'Mean Squared Error (Linear Regression): {mse_linear}')"
   ]
  },
  {
   "cell_type": "code",
   "execution_count": 9,
   "id": "3af26936",
   "metadata": {},
   "outputs": [
    {
     "name": "stdout",
     "output_type": "stream",
     "text": [
      "Mean Squared Error (LASSO Regression): 2817.0876377470295\n"
     ]
    }
   ],
   "source": [
    "# LASSO Regression WITH penalties and constant 0.1\n",
    "lasso_model = Lasso(alpha=0.1, random_state=42)\n",
    "\n",
    "# Training the model \n",
    "lasso_model.fit(X_train, y_train)\n",
    "\n",
    "# Predictions (AGAIN: THIS IS ONLY AN EXAMPLE TO UNDERSTAND LASSO REGRESSION. THIS IS NOT THE PROPER WAY FOR A REAL PROJECT).\n",
    "y_pred_lasso = lasso_model.predict(X_test)\n",
    "\n",
    "# Calculating the error (MSE) on the predictions\n",
    "mse_lasso = mean_squared_error(y_test, y_pred_lasso)\n",
    "\n",
    "print(f'Mean Squared Error (LASSO Regression): {mse_lasso}')"
   ]
  },
  {
   "cell_type": "code",
   "execution_count": 13,
   "id": "7422bcac",
   "metadata": {},
   "outputs": [
    {
     "name": "stdout",
     "output_type": "stream",
     "text": [
      "Mean Squared Error (LASSO Regression - Heavy Penalty): 2784.334385980127\n"
     ]
    }
   ],
   "source": [
    "# LASSO Regression WITH penalties and constant 1\n",
    "lasso_model_heavy = Lasso(alpha=1, random_state=42)\n",
    "\n",
    "# Training the model \n",
    "lasso_model_heavy.fit(X_train, y_train)\n",
    "\n",
    "# Predictions (AGAIN: THIS IS ONLY AN EXAMPLE TO UNDERSTAND LASSO REGRESSION. THIS IS NOT THE PROPER WAY FOR A REAL PROJECT).\n",
    "y_pred_lasso_heavy = lasso_model_heavy.predict(X_test)\n",
    "\n",
    "# Calculating the error (MSE) on the predictions\n",
    "mse_lasso_heavy = mean_squared_error(y_test, y_pred_lasso_heavy)\n",
    "\n",
    "print(f'Mean Squared Error (LASSO Regression - Heavy Penalty): {mse_lasso_heavy}')"
   ]
  },
  {
   "cell_type": "code",
   "execution_count": 19,
   "id": "596df51f",
   "metadata": {},
   "outputs": [
    {
     "data": {
      "text/html": [
       "<div>\n",
       "<style scoped>\n",
       "    .dataframe tbody tr th:only-of-type {\n",
       "        vertical-align: middle;\n",
       "    }\n",
       "\n",
       "    .dataframe tbody tr th {\n",
       "        vertical-align: top;\n",
       "    }\n",
       "\n",
       "    .dataframe thead th {\n",
       "        text-align: right;\n",
       "    }\n",
       "</style>\n",
       "<table border=\"1\" class=\"dataframe\">\n",
       "  <thead>\n",
       "    <tr style=\"text-align: right;\">\n",
       "      <th></th>\n",
       "      <th>Linear Regression Coefficients</th>\n",
       "      <th>LASSO Regression Coefficients</th>\n",
       "      <th>LASSO Heavy (Heavy) Coefficients</th>\n",
       "    </tr>\n",
       "  </thead>\n",
       "  <tbody>\n",
       "    <tr>\n",
       "      <th>age</th>\n",
       "      <td>1.352467</td>\n",
       "      <td>1.364918</td>\n",
       "      <td>0.482876</td>\n",
       "    </tr>\n",
       "    <tr>\n",
       "      <th>sex</th>\n",
       "      <td>-12.454269</td>\n",
       "      <td>-12.215587</td>\n",
       "      <td>-10.236559</td>\n",
       "    </tr>\n",
       "    <tr>\n",
       "      <th>bmi</th>\n",
       "      <td>26.210046</td>\n",
       "      <td>26.451219</td>\n",
       "      <td>26.900556</td>\n",
       "    </tr>\n",
       "    <tr>\n",
       "      <th>bp</th>\n",
       "      <td>18.614433</td>\n",
       "      <td>18.409299</td>\n",
       "      <td>17.340156</td>\n",
       "    </tr>\n",
       "    <tr>\n",
       "      <th>s1</th>\n",
       "      <td>-43.260394</td>\n",
       "      <td>-30.541312</td>\n",
       "      <td>-7.592472</td>\n",
       "    </tr>\n",
       "    <tr>\n",
       "      <th>s2</th>\n",
       "      <td>24.255629</td>\n",
       "      <td>14.557200</td>\n",
       "      <td>-0.000000</td>\n",
       "    </tr>\n",
       "    <tr>\n",
       "      <th>s3</th>\n",
       "      <td>5.738626</td>\n",
       "      <td>0.000000</td>\n",
       "      <td>-10.590085</td>\n",
       "    </tr>\n",
       "    <tr>\n",
       "      <th>s4</th>\n",
       "      <td>13.963427</td>\n",
       "      <td>11.744861</td>\n",
       "      <td>4.286988</td>\n",
       "    </tr>\n",
       "    <tr>\n",
       "      <th>s5</th>\n",
       "      <td>31.575215</td>\n",
       "      <td>26.794414</td>\n",
       "      <td>19.082278</td>\n",
       "    </tr>\n",
       "    <tr>\n",
       "      <th>s6</th>\n",
       "      <td>1.983394</td>\n",
       "      <td>2.060551</td>\n",
       "      <td>1.877525</td>\n",
       "    </tr>\n",
       "  </tbody>\n",
       "</table>\n",
       "</div>"
      ],
      "text/plain": [
       "     Linear Regression Coefficients  LASSO Regression Coefficients  \\\n",
       "age                        1.352467                       1.364918   \n",
       "sex                      -12.454269                     -12.215587   \n",
       "bmi                       26.210046                      26.451219   \n",
       "bp                        18.614433                      18.409299   \n",
       "s1                       -43.260394                     -30.541312   \n",
       "s2                        24.255629                      14.557200   \n",
       "s3                         5.738626                       0.000000   \n",
       "s4                        13.963427                      11.744861   \n",
       "s5                        31.575215                      26.794414   \n",
       "s6                         1.983394                       2.060551   \n",
       "\n",
       "     LASSO Heavy (Heavy) Coefficients  \n",
       "age                          0.482876  \n",
       "sex                        -10.236559  \n",
       "bmi                         26.900556  \n",
       "bp                          17.340156  \n",
       "s1                          -7.592472  \n",
       "s2                          -0.000000  \n",
       "s3                         -10.590085  \n",
       "s4                           4.286988  \n",
       "s5                          19.082278  \n",
       "s6                           1.877525  "
      ]
     },
     "execution_count": 19,
     "metadata": {},
     "output_type": "execute_result"
    }
   ],
   "source": [
    "# Comparing coefficients\n",
    "coef_linear = pd.DataFrame(data=linear_model.coef_, index=diabetes.feature_names, columns=['Linear Regression Coefficients'])\n",
    "\n",
    "coef_lasso = pd.DataFrame(data=lasso_model.coef_, index=diabetes.feature_names, columns=['LASSO Regression Coefficients'])\n",
    "\n",
    "coef_lasso_heavy = pd.DataFrame(data=lasso_model_heavy.coef_, index=diabetes.feature_names, columns=['LASSO Heavy (Heavy) Coefficients'])\n",
    "\n",
    "coef_comparison = pd.concat([coef_linear, coef_lasso, coef_lasso_heavy], axis=1)\n",
    "\n",
    "coef_comparison"
   ]
  },
  {
   "cell_type": "code",
   "execution_count": null,
   "id": "8c902af5",
   "metadata": {},
   "outputs": [],
   "source": []
  }
 ],
 "metadata": {
  "kernelspec": {
   "display_name": "Python 3 (ipykernel)",
   "language": "python",
   "name": "python3"
  },
  "language_info": {
   "codemirror_mode": {
    "name": "ipython",
    "version": 3
   },
   "file_extension": ".py",
   "mimetype": "text/x-python",
   "name": "python",
   "nbconvert_exporter": "python",
   "pygments_lexer": "ipython3",
   "version": "3.11.7"
  }
 },
 "nbformat": 4,
 "nbformat_minor": 5
}
