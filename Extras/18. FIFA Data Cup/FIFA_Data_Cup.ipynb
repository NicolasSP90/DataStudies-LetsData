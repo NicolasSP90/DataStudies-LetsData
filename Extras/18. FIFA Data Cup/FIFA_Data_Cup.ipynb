{
 "cells": [
  {
   "cell_type": "markdown",
   "metadata": {},
   "source": [
    "<h1 style=\"color: cornflowerblue\">Objective</h1>\n",
    "<p>From the album cardboards of the FIFA World Cup 2022, extract the player statistics and image. The statistics do not show the player's Club or its value."
   ]
  },
  {
   "cell_type": "code",
   "execution_count": null,
   "metadata": {},
   "outputs": [],
   "source": []
  },
  {
   "cell_type": "code",
   "execution_count": null,
   "metadata": {},
   "outputs": [],
   "source": [
    "# Importing Libraies\n",
    "import cv2\n",
    "from easyocr import Reader\n",
    "import pandas as pd"
   ]
  }
 ],
 "metadata": {
  "language_info": {
   "name": "python"
  }
 },
 "nbformat": 4,
 "nbformat_minor": 2
}
